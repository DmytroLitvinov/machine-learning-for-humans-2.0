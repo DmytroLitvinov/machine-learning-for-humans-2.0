{
  "nbformat": 4,
  "nbformat_minor": 0,
  "metadata": {
    "colab": {
      "provenance": [],
      "gpuType": "T4"
    },
    "kernelspec": {
      "name": "python3",
      "display_name": "Python 3"
    },
    "language_info": {
      "name": "python"
    },
    "accelerator": "GPU"
  },
  "cells": [
    {
      "cell_type": "markdown",
      "source": [
        "В цьому домашньому завданні ми знову працюємо з даними з нашого змагання [\"Bank Customer Churn Prediction (DLU Course)\"](https://www.kaggle.com/t/7c080c5d8ec64364a93cf4e8f880b6a0).\n",
        "\n",
        "Тут ми побудуємо рішення задачі класифікації з використанням алгоритмів бустингу: XGBoost та LightGBM, а також використаємо бібліотеку HyperOpt для оптимізації гіперпараметрів."
      ],
      "metadata": {
        "id": "fDefDHQt8LXC"
      }
    },
    {
      "cell_type": "markdown",
      "source": [
        "0. Зчитайте дані `train.csv` в змінну `raw_df` та скористайтесь наведеним кодом нижче аби розділити дані на трнувальні та валідаційні і розділити дані на ознаки з матириці Х та цільову змінну. Назви змінних `train_inputs, train_targets, train_inputs, train_targets` можна змінити на ті, які Вам зручно.\n",
        "\n",
        "  Наведений скрипт - частина отриманого мною скрипта для обробки даних. Ми тут не викнуємо масштабування та обробку категоріальних змінних, бо хочемо це делегувати алгоритмам, які будемо використовувати. Якщо щось не розумієте в наведених скриптах, рекомендую розібратись: навичка читати код - важлива складова роботи в машинному навчанні."
      ],
      "metadata": {
        "id": "LhivzW9W8-Dz"
      }
    },
    {
      "cell_type": "code",
      "execution_count": null,
      "metadata": {
        "id": "m7-McIas51Zz"
      },
      "outputs": [],
      "source": [
        "import pandas as pd\n",
        "import numpy as np\n",
        "import seaborn as sns\n",
        "import matplotlib.pyplot as plt"
      ]
    },
    {
      "cell_type": "code",
      "source": [
        "raw_df = pd.read_csv('train.csv')"
      ],
      "metadata": {
        "id": "kKllDJTOEosp"
      },
      "execution_count": null,
      "outputs": []
    },
    {
      "cell_type": "code",
      "source": [
        "from sklearn.model_selection import train_test_split\n",
        "from typing import Tuple, Dict, Any\n",
        "\n",
        "\n",
        "def split_train_val(df: pd.DataFrame, target_col: str, test_size: float = 0.2, random_state: int = 42) -> Tuple[pd.DataFrame, pd.DataFrame]:\n",
        "    \"\"\"\n",
        "    Split the dataframe into training and validation sets.\n",
        "\n",
        "    Args:\n",
        "        df (pd.DataFrame): The raw dataframe.\n",
        "        target_col (str): The target column for stratification.\n",
        "        test_size (float): The proportion of the dataset to include in the validation split.\n",
        "        random_state (int): Random state for reproducibility.\n",
        "\n",
        "    Returns:\n",
        "        Tuple[pd.DataFrame, pd.DataFrame]: Training and validation dataframes.\n",
        "    \"\"\"\n",
        "    train_df, val_df = train_test_split(df, test_size=test_size, random_state=random_state, stratify=df[target_col])\n",
        "    return train_df, val_df\n",
        "\n",
        "\n",
        "def separate_inputs_targets(df: pd.DataFrame, input_cols: list, target_col: str) -> Tuple[pd.DataFrame, pd.Series]:\n",
        "    \"\"\"\n",
        "    Separate inputs and targets from the dataframe.\n",
        "\n",
        "    Args:\n",
        "        df (pd.DataFrame): The dataframe.\n",
        "        input_cols (list): List of input columns.\n",
        "        target_col (str): Target column.\n",
        "\n",
        "    Returns:\n",
        "        Tuple[pd.DataFrame, pd.Series]: DataFrame of inputs and Series of targets.\n",
        "    \"\"\"\n",
        "    inputs = df[input_cols].copy()\n",
        "    targets = df[target_col].copy()\n",
        "    return inputs, targets\n",
        "\n",
        "train_df, val_df = split_train_val(raw_df, 'Exited')\n",
        "\n",
        "# Define input and target columns\n",
        "input_cols = list(train_df.columns)[1:-1]\n",
        "input_cols.remove('Surname')\n",
        "target_col = 'Exited'\n",
        "\n",
        "# Separate inputs and targets\n",
        "X_train, train_targets = separate_inputs_targets(train_df, input_cols, target_col)\n",
        "X_val, val_targets = separate_inputs_targets(val_df, input_cols, target_col)"
      ],
      "metadata": {
        "id": "cKE8RTPf6CRD"
      },
      "execution_count": null,
      "outputs": []
    },
    {
      "cell_type": "markdown",
      "source": [
        "1. В тренувальному та валідаційному наборі перетворіть категоріальні ознаки на тип `category`. Можна це зробити двома способами:\n",
        " 1. `df[col_name].astype('category')`, як було продемонстровано в лекції\n",
        " 2. використовуючи метод `pd.Categorical(df[col_name])`"
      ],
      "metadata": {
        "id": "cq0JU7MqHgp_"
      }
    },
    {
      "cell_type": "code",
      "source": [
        "cat_features = X_train.select_dtypes(include='object').columns\n",
        "X_train[cat_features] = X_train[cat_features].astype('category')\n",
        "X_val[cat_features] = X_val[cat_features].astype('category')"
      ],
      "metadata": {
        "id": "QyUwJ-_5H51Z"
      },
      "execution_count": null,
      "outputs": []
    },
    {
      "cell_type": "markdown",
      "source": [
        "2. Навчіть на отриманих даних модель XGBoostClassifier. Параметри алгоритму встановіть на свій розсуд, ми далі будемо їх тюнити. Рекомендую тренувати не дуже складну модель.\n",
        "\n",
        "  Опис всіх конфігураційних параметрів XGBoostClassifier - тут https://xgboost.readthedocs.io/en/stable/parameter.html#global-config\n",
        "\n",
        "  **Важливо:** зробіть такі налаштування XGBoostClassifier аби він самостійно обробляв незаповнені значення в даних і обробляв категоріальні колонки.\n",
        "\n",
        "  Можна також, якщо працюєте в Google Colab, увімкнути можливість використання GPU (`Runtime -> Change runtime type -> T4 GPU`) і встановити параметр `device='cuda'` в `XGBoostClassifier` для пришвидшення тренування бустинг моделі.\n",
        "  \n",
        "  Після тренування моделі\n",
        "  1. Виміряйте точність з допомогою AUROC на тренувальному та валідаційному наборах.\n",
        "  2. Зробіть висновок про отриману модель: вона хороша/погана, чи є high bias/high variance?\n",
        "  3. Порівняйте якість цієї моделі з тою, що ви отрмали з використанням DecisionTrees раніше. Чи вийшло покращити якість?"
      ],
      "metadata": {
        "id": "_LxWkv4o-wMe"
      }
    },
    {
      "cell_type": "code",
      "source": [
        "from xgboost import XGBClassifier"
      ],
      "metadata": {
        "id": "7iXdw9KaFPY7"
      },
      "execution_count": null,
      "outputs": []
    },
    {
      "cell_type": "code",
      "source": [
        "from sklearn.metrics import roc_curve, auc\n",
        "\n",
        "def get_auroc(model, inputs, targets, dataset_name):\n",
        "    preds = model.predict_proba(inputs)[:, 1]\n",
        "    fpr, tpr, _ = roc_curve(targets, preds)\n",
        "    auroc = round(auc(fpr, tpr), 4)\n",
        "    print(f'{dataset_name} AUROC: {auroc:.4f}')\n",
        "    return auroc"
      ],
      "metadata": {
        "id": "YcYt3UZ07jWF"
      },
      "execution_count": null,
      "outputs": []
    },
    {
      "cell_type": "code",
      "source": [
        "xgb_clf = XGBClassifier(\n",
        "    max_depth=3,\n",
        "    n_estimators=10,\n",
        "    enable_categorical=True,  # для категорійних ознак\n",
        "    missing=np.nan,  # явне вказування пропущених значень\n",
        "    random_state=42,\n",
        "    device='cuda'\n",
        ")\n",
        "\n",
        "xgb_clf.fit(X_train, train_targets)\n",
        "\n",
        "get_auroc(xgb_clf, X_train, train_targets, 'Train')\n",
        "get_auroc(xgb_clf, X_val, val_targets, 'Val');"
      ],
      "metadata": {
        "colab": {
          "base_uri": "https://localhost:8080/"
        },
        "id": "6L6zRnob6RTy",
        "outputId": "9afea68f-899c-4be2-abee-30356cb8a9db"
      },
      "execution_count": null,
      "outputs": [
        {
          "output_type": "stream",
          "name": "stdout",
          "text": [
            "Train AUROC: 0.9344\n",
            "Val AUROC: 0.9334\n"
          ]
        }
      ]
    },
    {
      "cell_type": "markdown",
      "source": [
        "В мене з використанням дерев були метрики нижчі\n",
        "\n",
        "```\n",
        "Train AUROC: 0.9169\n",
        "Val AUROC: 0.9166\n",
        "```\n",
        "\n",
        "Тож, в даному випадку вже бачу поліпшення якості."
      ],
      "metadata": {
        "id": "GWr8m0XWJGV-"
      }
    },
    {
      "cell_type": "markdown",
      "source": [
        "3. Використовуючи бібліотеку `Hyperopt` і приклад пошуку гіперпараметрів для `XGBoostClassifier` з лекції знайдіть оптимальні значення гіперпараметрів `XGBoostClassifier` для нашої задачі. Задайте свою сітку гіперпараметрів виходячи з тих параметрів, які ви б хотіли перебрати. Поставте кількість раундів в підборі гіперпараметрів рівну 20.\n",
        "\n",
        "  **Увага!** Для того, аби скористатись hyperopt, нам треба задати функцію `objective`. В ній ми маємо задати loss - це може будь-яка метрика, але бажано використовувтаи ту, яка цільова в вашій задачі. Чим менший лосс - тим ліпша модель на думку hyperopt. Тож, тут нам треба задати loss - негативне значення AUROC. В лекції ми натомість використовували Accuracy.\n",
        "\n",
        "  Після успішного завершення пошуку оптимальних гіперпараметрів\n",
        "    - виведіть найкращі значення гіперпараметрів\n",
        "    - створіть в окремій зміній `final_clf` модель `XGBoostClassifier` з найкращими гіперпараметрами\n",
        "    - навчіть модель `final_clf`\n",
        "    - оцініть якість моделі `final_clf` на тренувальній і валідаційній вибірках з допомогою AUROC.\n",
        "    - зробіть висновок про якість моделі. Чи стала вона краще порівняно з попереднім пукнтом (1) цього завдання?"
      ],
      "metadata": {
        "id": "U4hm5qYs_f7x"
      }
    },
    {
      "cell_type": "code",
      "source": [
        "!pip install hyperopt --quiet"
      ],
      "metadata": {
        "id": "WFSCNW1HhZDw"
      },
      "execution_count": null,
      "outputs": []
    },
    {
      "cell_type": "code",
      "source": [
        "import xgboost as xgb\n",
        "from hyperopt import fmin, tpe, hp, STATUS_OK, Trials"
      ],
      "metadata": {
        "id": "ivgFfNoX6NBj"
      },
      "execution_count": null,
      "outputs": []
    },
    {
      "cell_type": "code",
      "source": [
        "def objective(params):\n",
        "    clf = xgb.XGBClassifier(\n",
        "      n_estimators=int(params['n_estimators']),\n",
        "        learning_rate=params['learning_rate'],\n",
        "        max_depth=int(params['max_depth']),\n",
        "        min_child_weight=params['min_child_weight'],  # Мінімальна сума ваг всіх вибірок, необхідна в кінцевому вузлі\n",
        "        subsample=params['subsample'],  # Частка вибірок, що використовуються для побудови кожного дерева\n",
        "        colsample_bytree=params['colsample_bytree'],  # Частка ознак, що використовуються при побудові кожного дерева\n",
        "        gamma=params['gamma'],  # Мінімальне зменшення втрат, необхідне для виконання поділу\n",
        "        reg_alpha=params['reg_alpha'],  # Параметр регуляризації L1 (Lasso)\n",
        "        reg_lambda=params['reg_lambda'],  # Параметр регуляризації L2 (Ridge)\n",
        "        enable_categorical=True,\n",
        "        use_label_encoder=False,\n",
        "        missing=np.nan,\n",
        "        device='cuda',\n",
        "        early_stopping_rounds=10\n",
        "    )\n",
        "\n",
        "    clf.fit(\n",
        "        X_train,\n",
        "        train_targets,\n",
        "        eval_set=[(X_val, val_targets)],\n",
        "        verbose=False)\n",
        "\n",
        "    preds = clf.predict_proba(X_val)[:, 1]\n",
        "    fpr, tpr, _ = roc_curve(val_targets, preds)\n",
        "    auroc = auc(fpr, tpr)\n",
        "\n",
        "    return {'loss': - auroc, 'status': STATUS_OK}\n",
        "\n",
        "# Простір гіперпараметрів\n",
        "space = {\n",
        "    'n_estimators': hp.quniform('n_estimators', 10, 500, 25),\n",
        "    'learning_rate': hp.uniform('learning_rate', 0.001, 0.3),\n",
        "    'max_depth': hp.quniform('max_depth', 1, 20, 1),\n",
        "    'min_child_weight': hp.quniform('min_child_weight', 1, 10, 1),\n",
        "    'subsample': hp.uniform('subsample', 0.5, 1.0),\n",
        "    'colsample_bytree': hp.uniform('colsample_bytree', 0.5, 1.0),\n",
        "    'gamma': hp.uniform('gamma', 0, 0.5),\n",
        "    'reg_alpha': hp.uniform('reg_alpha', 0, 1),\n",
        "    'reg_lambda': hp.uniform('reg_lambda', 0, 1)\n",
        "}\n",
        "\n",
        "# Оптимізація\n",
        "trials = Trials()\n",
        "best = fmin(fn=objective, space=space, algo=tpe.suggest, max_evals=20, trials=trials)\n",
        "\n",
        "# Перетворення значень гіперпараметрів у кінцеві типи\n",
        "best['n_estimators'] = int(best['n_estimators'])\n",
        "best['max_depth'] = int(best['max_depth'])\n",
        "best['min_child_weight'] = int(best['min_child_weight'])\n",
        "\n",
        "print(\"Найкращі гіперпараметри: \", best)\n",
        "\n",
        "# Навчання фінальної моделі з найкращими гіперпараметрами\n",
        "final_clf = xgb.XGBClassifier(\n",
        "    n_estimators=best['n_estimators'],\n",
        "    learning_rate=best['learning_rate'],\n",
        "    max_depth=best['max_depth'],\n",
        "    min_child_weight=best['min_child_weight'],\n",
        "    subsample=best['subsample'],\n",
        "    colsample_bytree=best['colsample_bytree'],\n",
        "    gamma=best['gamma'],\n",
        "    reg_alpha=best['reg_alpha'],\n",
        "    reg_lambda=best['reg_lambda'],\n",
        "    enable_categorical=True,\n",
        "    use_label_encoder=False,\n",
        "    missing=np.nan,\n",
        "    device='cuda',\n",
        ")\n",
        "\n",
        "final_clf.fit(X_train, train_targets)\n",
        "\n",
        "get_auroc(final_clf, X_train, train_targets, 'Train')\n",
        "get_auroc(final_clf, X_val, val_targets, 'Val');"
      ],
      "metadata": {
        "colab": {
          "base_uri": "https://localhost:8080/"
        },
        "id": "2K0H3mGy7-RA",
        "outputId": "69a660c7-94c3-4dac-fe09-c71db7b4e206"
      },
      "execution_count": null,
      "outputs": [
        {
          "output_type": "stream",
          "name": "stdout",
          "text": [
            "100%|██████████| 20/20 [00:11<00:00,  1.75trial/s, best loss: -0.9367027916866725]\n",
            "Найкращі гіперпараметри:  {'colsample_bytree': 0.7860838617144141, 'gamma': 0.2886084506303697, 'learning_rate': 0.03246650481894242, 'max_depth': 5, 'min_child_weight': 9, 'n_estimators': 400, 'reg_alpha': 0.3911499093600769, 'reg_lambda': 0.1158405816925745, 'subsample': 0.5637723034732453}\n",
            "Train AUROC: 0.9592\n",
            "Val AUROC: 0.9346\n"
          ]
        }
      ]
    },
    {
      "cell_type": "markdown",
      "source": [
        "До цього результат був\n",
        "```\n",
        "Train AUROC: 0.9344\n",
        "Val AUROC: 0.9334\n",
        "```\n",
        "\n",
        "Модель стала ніби трошки більше заоверфічена, але і точність на валідації нам вдалось дещо підняти, на 0.006 пунктів. В цій моделі стало дуже багато естіматорів, порівняно з попередньою. Я б для подальшого використання в бізнес задачі надала б перевагу першій моделі, але для кагл ця може бути краще - я б тестувала обидві, як зайдуть на прайват сеті."
      ],
      "metadata": {
        "id": "tpXf-nb1Aofi"
      }
    },
    {
      "cell_type": "markdown",
      "source": [
        "4. Навчіть на наших даних модель LightGBM. Параметри алгоритму встановіть на свій розсуд, ми далі будемо їх тюнити. Рекомендую тренувати не дуже складну модель.\n",
        "\n",
        "  Опис всіх конфігураційних параметрів LightGBM - тут https://lightgbm.readthedocs.io/en/latest/Parameters.html\n",
        "\n",
        "  **Важливо:** зробіть такі налаштування LightGBM аби він самостійно обробляв незаповнені значення в даних і обробляв категоріальні колонки.\n",
        "\n",
        "  Аби передати категоріальні колонки в LightGBM - необхідно виявити їх індекси і передати в параметрі `cat_feature=cat_feature_indexes`\n",
        "\n",
        "  Після тренування моделі\n",
        "  1. Виміряйте точність з допомогою AUROC на тренувальному та валідаційному наборах.\n",
        "  2. Зробіть висновок про отриману модель: вона хороша/погана, чи є high bias/high variance?\n",
        "  3. Порівняйте якість цієї моделі з тою, що ви отрмали з використанням XGBoostClassifier раніше. Чи вийшло покращити якість?"
      ],
      "metadata": {
        "id": "Vg77SVWrBBmU"
      }
    },
    {
      "cell_type": "code",
      "source": [
        "import lightgbm as lgb"
      ],
      "metadata": {
        "id": "Y-ZC56Z_81C9"
      },
      "execution_count": null,
      "outputs": []
    },
    {
      "cell_type": "code",
      "source": [
        "cat_feature_indexes = [X_train.columns.get_loc(col) for col in cat_features]"
      ],
      "metadata": {
        "id": "wcjP8QEVBSef"
      },
      "execution_count": null,
      "outputs": []
    },
    {
      "cell_type": "code",
      "source": [
        "lgb_clf = lgb.LGBMClassifier(\n",
        "    max_depth=3,\n",
        "    n_estimators=50,\n",
        "    learning_rate=0.1,\n",
        "    cat_feature=cat_feature_indexes,  # для автоматичного розпізнавання категорійних ознак\n",
        "    missing=np.nan,  # явне вказування пропущених значень\n",
        ")\n",
        "\n",
        "lgb_clf.fit(X_train, train_targets, eval_set=[(X_val, val_targets)])\n",
        "\n",
        "get_auroc(lgb_clf, X_train, train_targets, 'Train')\n",
        "get_auroc(lgb_clf, X_val, val_targets, 'Val');\n"
      ],
      "metadata": {
        "colab": {
          "base_uri": "https://localhost:8080/"
        },
        "id": "mbT5FYD4Dg91",
        "outputId": "4bfea12a-3ec8-4b75-971e-64356740c8e9"
      },
      "execution_count": null,
      "outputs": [
        {
          "output_type": "stream",
          "name": "stdout",
          "text": [
            "[LightGBM] [Warning] Unknown parameter: missing\n",
            "[LightGBM] [Warning] categorical_feature is set with cat_feature=2,3, categorical_column=2,3 will be ignored. Current value: categorical_feature=2,3\n",
            "[LightGBM] [Warning] Unknown parameter: missing\n",
            "[LightGBM] [Info] Number of positive: 2442, number of negative: 9558\n",
            "[LightGBM] [Info] Auto-choosing row-wise multi-threading, the overhead of testing was 0.001136 seconds.\n",
            "You can set `force_row_wise=true` to remove the overhead.\n",
            "And if memory is not enough, you can set `force_col_wise=true`.\n",
            "[LightGBM] [Info] Total Bins 1098\n",
            "[LightGBM] [Info] Number of data points in the train set: 12000, number of used features: 11\n",
            "[LightGBM] [Warning] Unknown parameter: missing\n",
            "[LightGBM] [Info] [binary:BoostFromScore]: pavg=0.203500 -> initscore=-1.364561\n",
            "[LightGBM] [Info] Start training from score -1.364561\n",
            "[LightGBM] [Warning] No further splits with positive gain, best gain: -inf\n",
            "[LightGBM] [Warning] No further splits with positive gain, best gain: -inf\n",
            "[LightGBM] [Warning] Unknown parameter: missing\n",
            "Train AUROC: 0.9392\n",
            "[LightGBM] [Warning] Unknown parameter: missing\n",
            "Val AUROC: 0.9357\n"
          ]
        }
      ]
    },
    {
      "cell_type": "markdown",
      "source": [
        "Цікаво, що на валідації результат став кращий! Спробуємо затюнити параметри."
      ],
      "metadata": {
        "id": "ZKV_gdbVzCBt"
      }
    },
    {
      "cell_type": "markdown",
      "source": [
        "5. Використовуючи бібліотеку `Hyperopt` і приклад пошуку гіперпараметрів для `LightGBM` з лекції знайдіть оптимальні значення гіперпараметрів `LightGBM` для нашої задачі. Задайте свою сітку гіперпараметрів виходячи з тих параметрів, які ви б хотіли перебрати. Поставте кількість раундів в підборі гіперпараметрів рівну **10**.\n",
        "\n",
        "  **Увага!** Для того, аби скористатись hyperopt, нам треба задати функцію `objective`. І тут ми також ставимо loss - негативне значення AUROC, як і при пошуці гіперпараметрів для XGBoost. До речі, можна спробувати написати код так, аби в objective передавати лише модель і не писати схожий код двічі :)\n",
        "\n",
        "  Після успішного завершення пошуку оптимальних гіперпараметрів\n",
        "    - виведіть найкращі значення гіперпараметрів\n",
        "    - створіть в окремій зміній `final_lgb_clf` модель `LightGBM` з найкращими гіперпараметрами\n",
        "    - навчіть модель `final_lgb_clf`\n",
        "    - оцініть якість моделі `final_lgb_clf` на тренувальній і валідаційній вибірках з допомогою AUROC.\n",
        "    - зробіть висновок про якість моделі. Чи стала вона краще порівняно з попереднім пунктом (4) цього завдання?"
      ],
      "metadata": {
        "id": "nCnkGD_sEW1i"
      }
    },
    {
      "cell_type": "code",
      "source": [
        "def objective(params):\n",
        "    clf = lgb.LGBMClassifier(\n",
        "        n_estimators=int(params['n_estimators']),  # Кількість дерев у ансамблі (кількість ітерацій бустингу)\n",
        "        learning_rate=params['learning_rate'],  # Коефіцієнт, на який зменшується внесок кожного доданого дерева\n",
        "        max_depth=int(params['max_depth']),  # Максимальна глибина кожного дерева\n",
        "        num_leaves=int(params['num_leaves']),  # Максимальна кількість листків, що дозволяємо кожному дереву мати.\n",
        "        min_child_weight=params['min_child_weight'],  # Мінімальна сума ваг всіх вибірок, необхідна в кінцевому вузлі\n",
        "        subsample=params['subsample'],  # Частка вибірок, що використовуються для побудови кожного дерева\n",
        "        colsample_bytree=params['colsample_bytree'],  # Частка ознак, що використовуються при побудові кожного дерева\n",
        "        reg_alpha=params['reg_alpha'],  # Параметр регуляризації L1 (Lasso)\n",
        "        reg_lambda=params['reg_lambda'],  # Параметр регуляризації L2 (Ridge)\n",
        "        min_split_gain=params['min_split_gain'],  # Мінімальне зменшення втрат, необхідне для виконання поділу\n",
        "        cat_feature=cat_feature_indexes,  # Індекси категорійних ознак\n",
        "        verbosity=-1\n",
        "    )\n",
        "\n",
        "    clf.fit(X_train, train_targets, eval_set=[(X_val, val_targets)])\n",
        "    preds = clf.predict_proba(X_val)[:, 1]\n",
        "    fpr, tpr, _ = roc_curve(val_targets, preds)\n",
        "    auroc = auc(fpr, tpr)\n",
        "\n",
        "    return {'loss': - auroc, 'status': STATUS_OK}\n",
        "\n",
        "# Простір гіперпараметрів\n",
        "space = {\n",
        "    'n_estimators': hp.quniform('n_estimators', 50, 500, 25),\n",
        "    'learning_rate': hp.uniform('learning_rate', 0.01, 0.3),\n",
        "    'max_depth': hp.quniform('max_depth', 3, 15, 1),\n",
        "    'num_leaves': hp.quniform('num_leaves', 20, 150, 1),\n",
        "    'min_child_weight': hp.quniform('min_child_weight', 1, 10, 1),\n",
        "    'subsample': hp.uniform('subsample', 0.5, 1.0),\n",
        "    'colsample_bytree': hp.uniform('colsample_bytree', 0.5, 1.0),\n",
        "    'reg_alpha': hp.uniform('reg_alpha', 0, 1),\n",
        "    'reg_lambda': hp.uniform('reg_lambda', 0, 1),\n",
        "    'min_split_gain': hp.uniform('min_split_gain', 0, 0.1)  # додано мінімальне зменшення втрат для поділу\n",
        "}\n",
        "\n",
        "# Оптимізація\n",
        "trials = Trials()\n",
        "best = fmin(fn=objective, space=space, algo=tpe.suggest, max_evals=10, trials=trials)\n",
        "\n",
        "# Перетворення значень гіперпараметрів у кінцеві типи\n",
        "best['n_estimators'] = int(best['n_estimators'])\n",
        "best['max_depth'] = int(best['max_depth'])\n",
        "best['num_leaves'] = int(best['num_leaves'])\n",
        "best['min_child_weight'] = int(best['min_child_weight'])\n",
        "\n",
        "print(\"Найкращі гіперпараметри: \", best)\n",
        "\n",
        "# Навчання фінальної моделі з найкращими гіперпараметрами\n",
        "final_lgb_clf = lgb.LGBMClassifier(\n",
        "    n_estimators=best['n_estimators'],\n",
        "    learning_rate=best['learning_rate'],\n",
        "    max_depth=best['max_depth'],\n",
        "    num_leaves=best['num_leaves'],\n",
        "    min_child_weight=best['min_child_weight'],\n",
        "    subsample=best['subsample'],\n",
        "    colsample_bytree=best['colsample_bytree'],\n",
        "    reg_alpha=best['reg_alpha'],\n",
        "    reg_lambda=best['reg_lambda'],\n",
        "    min_split_gain=best['min_split_gain'],\n",
        "    cat_feature=cat_feature_indexes,\n",
        "    verbosity=-1,\n",
        ")\n",
        "\n",
        "final_lgb_clf.fit(X_train, train_targets, eval_set=[(X_val, val_targets)])\n",
        "\n",
        "get_auroc(final_lgb_clf, X_train, train_targets, 'Train')\n",
        "get_auroc(final_lgb_clf, X_val, val_targets, 'Val');\n"
      ],
      "metadata": {
        "id": "KUhbkA38Dt13"
      },
      "execution_count": null,
      "outputs": []
    },
    {
      "cell_type": "code",
      "source": [
        "\n",
        "print(\"Найкращі гіперпараметри: \", best)\n",
        "get_auroc(final_lgb_clf, X_train, train_targets, 'Train')\n",
        "get_auroc(final_lgb_clf, X_val, val_targets, 'Val');"
      ],
      "metadata": {
        "colab": {
          "base_uri": "https://localhost:8080/"
        },
        "id": "l_RdHcIF2JDu",
        "outputId": "ecaf8b84-dc17-498a-821f-170eb0106bb4"
      },
      "execution_count": null,
      "outputs": [
        {
          "output_type": "stream",
          "name": "stdout",
          "text": [
            "Найкращі гіперпараметри:  {'colsample_bytree': 0.5779403102285333, 'learning_rate': 0.01305415926003563, 'max_depth': 4, 'min_child_weight': 5, 'min_split_gain': 0.012377273997003935, 'n_estimators': 175, 'num_leaves': 106, 'reg_alpha': 0.6913452302014026, 'reg_lambda': 0.48532497184488055, 'subsample': 0.6921470320270136}\n",
            "Train AUROC: 0.9387\n",
            "Val AUROC: 0.9351\n"
          ]
        }
      ]
    },
    {
      "cell_type": "markdown",
      "source": [
        "Вийшло\n",
        "\n",
        "```\n",
        "Train AUROC: 0.9387\n",
        "Val AUROC: 0.9351\n",
        "```\n",
        "\n",
        "Це трошки ліпше за XGBoostClassifier кращу модель, до того ж, ця модель виглядає менш заоверфіченою. Я буду використовувати її для нового сабмішену."
      ],
      "metadata": {
        "id": "AcvwXeWI1_eJ"
      }
    },
    {
      "cell_type": "markdown",
      "source": [
        "6. Оберіть модель з експериментів в цьому ДЗ і зробіть новий `submission` на Kaggle та додайте код для цього і скріншот скора на публічному лідерборді.\n",
        "  \n",
        "  **Напишіть коментар, чому ви обрали саме цю модель?**\n",
        "\n",
        "  І я вас вітаю - це останнє завдання з цим набором даних 💪 На цьому етапі корисно проаналізувати, які моделі показали себе найкраще і подумати, чому."
      ],
      "metadata": {
        "id": "XArADR2CG8VK"
      }
    },
    {
      "cell_type": "code",
      "source": [
        "X_test = pd.read_csv('test.csv')\n",
        "X_test[cat_features] = X_test[cat_features].astype('category')"
      ],
      "metadata": {
        "id": "vadJfLlMF_V3"
      },
      "execution_count": null,
      "outputs": []
    },
    {
      "cell_type": "code",
      "source": [
        "submission_df = pd.read_csv('sample_submission.csv')"
      ],
      "metadata": {
        "id": "VGxXVTku2cHQ"
      },
      "execution_count": null,
      "outputs": []
    },
    {
      "cell_type": "code",
      "source": [
        "submission_df.head()"
      ],
      "metadata": {
        "colab": {
          "base_uri": "https://localhost:8080/",
          "height": 206
        },
        "id": "7OnAaart2qxU",
        "outputId": "d5b0c434-7d05-4b57-b4f5-b73603b960a8"
      },
      "execution_count": null,
      "outputs": [
        {
          "output_type": "execute_result",
          "data": {
            "text/plain": [
              "      id  Exited\n",
              "0  15000     0.5\n",
              "1  15001     0.5\n",
              "2  15002     0.5\n",
              "3  15003     0.5\n",
              "4  15004     0.5"
            ],
            "text/html": [
              "\n",
              "  <div id=\"df-f7a0d7c8-31c2-4121-8a0b-c59220521880\" class=\"colab-df-container\">\n",
              "    <div>\n",
              "<style scoped>\n",
              "    .dataframe tbody tr th:only-of-type {\n",
              "        vertical-align: middle;\n",
              "    }\n",
              "\n",
              "    .dataframe tbody tr th {\n",
              "        vertical-align: top;\n",
              "    }\n",
              "\n",
              "    .dataframe thead th {\n",
              "        text-align: right;\n",
              "    }\n",
              "</style>\n",
              "<table border=\"1\" class=\"dataframe\">\n",
              "  <thead>\n",
              "    <tr style=\"text-align: right;\">\n",
              "      <th></th>\n",
              "      <th>id</th>\n",
              "      <th>Exited</th>\n",
              "    </tr>\n",
              "  </thead>\n",
              "  <tbody>\n",
              "    <tr>\n",
              "      <th>0</th>\n",
              "      <td>15000</td>\n",
              "      <td>0.5</td>\n",
              "    </tr>\n",
              "    <tr>\n",
              "      <th>1</th>\n",
              "      <td>15001</td>\n",
              "      <td>0.5</td>\n",
              "    </tr>\n",
              "    <tr>\n",
              "      <th>2</th>\n",
              "      <td>15002</td>\n",
              "      <td>0.5</td>\n",
              "    </tr>\n",
              "    <tr>\n",
              "      <th>3</th>\n",
              "      <td>15003</td>\n",
              "      <td>0.5</td>\n",
              "    </tr>\n",
              "    <tr>\n",
              "      <th>4</th>\n",
              "      <td>15004</td>\n",
              "      <td>0.5</td>\n",
              "    </tr>\n",
              "  </tbody>\n",
              "</table>\n",
              "</div>\n",
              "    <div class=\"colab-df-buttons\">\n",
              "\n",
              "  <div class=\"colab-df-container\">\n",
              "    <button class=\"colab-df-convert\" onclick=\"convertToInteractive('df-f7a0d7c8-31c2-4121-8a0b-c59220521880')\"\n",
              "            title=\"Convert this dataframe to an interactive table.\"\n",
              "            style=\"display:none;\">\n",
              "\n",
              "  <svg xmlns=\"http://www.w3.org/2000/svg\" height=\"24px\" viewBox=\"0 -960 960 960\">\n",
              "    <path d=\"M120-120v-720h720v720H120Zm60-500h600v-160H180v160Zm220 220h160v-160H400v160Zm0 220h160v-160H400v160ZM180-400h160v-160H180v160Zm440 0h160v-160H620v160ZM180-180h160v-160H180v160Zm440 0h160v-160H620v160Z\"/>\n",
              "  </svg>\n",
              "    </button>\n",
              "\n",
              "  <style>\n",
              "    .colab-df-container {\n",
              "      display:flex;\n",
              "      gap: 12px;\n",
              "    }\n",
              "\n",
              "    .colab-df-convert {\n",
              "      background-color: #E8F0FE;\n",
              "      border: none;\n",
              "      border-radius: 50%;\n",
              "      cursor: pointer;\n",
              "      display: none;\n",
              "      fill: #1967D2;\n",
              "      height: 32px;\n",
              "      padding: 0 0 0 0;\n",
              "      width: 32px;\n",
              "    }\n",
              "\n",
              "    .colab-df-convert:hover {\n",
              "      background-color: #E2EBFA;\n",
              "      box-shadow: 0px 1px 2px rgba(60, 64, 67, 0.3), 0px 1px 3px 1px rgba(60, 64, 67, 0.15);\n",
              "      fill: #174EA6;\n",
              "    }\n",
              "\n",
              "    .colab-df-buttons div {\n",
              "      margin-bottom: 4px;\n",
              "    }\n",
              "\n",
              "    [theme=dark] .colab-df-convert {\n",
              "      background-color: #3B4455;\n",
              "      fill: #D2E3FC;\n",
              "    }\n",
              "\n",
              "    [theme=dark] .colab-df-convert:hover {\n",
              "      background-color: #434B5C;\n",
              "      box-shadow: 0px 1px 3px 1px rgba(0, 0, 0, 0.15);\n",
              "      filter: drop-shadow(0px 1px 2px rgba(0, 0, 0, 0.3));\n",
              "      fill: #FFFFFF;\n",
              "    }\n",
              "  </style>\n",
              "\n",
              "    <script>\n",
              "      const buttonEl =\n",
              "        document.querySelector('#df-f7a0d7c8-31c2-4121-8a0b-c59220521880 button.colab-df-convert');\n",
              "      buttonEl.style.display =\n",
              "        google.colab.kernel.accessAllowed ? 'block' : 'none';\n",
              "\n",
              "      async function convertToInteractive(key) {\n",
              "        const element = document.querySelector('#df-f7a0d7c8-31c2-4121-8a0b-c59220521880');\n",
              "        const dataTable =\n",
              "          await google.colab.kernel.invokeFunction('convertToInteractive',\n",
              "                                                    [key], {});\n",
              "        if (!dataTable) return;\n",
              "\n",
              "        const docLinkHtml = 'Like what you see? Visit the ' +\n",
              "          '<a target=\"_blank\" href=https://colab.research.google.com/notebooks/data_table.ipynb>data table notebook</a>'\n",
              "          + ' to learn more about interactive tables.';\n",
              "        element.innerHTML = '';\n",
              "        dataTable['output_type'] = 'display_data';\n",
              "        await google.colab.output.renderOutput(dataTable, element);\n",
              "        const docLink = document.createElement('div');\n",
              "        docLink.innerHTML = docLinkHtml;\n",
              "        element.appendChild(docLink);\n",
              "      }\n",
              "    </script>\n",
              "  </div>\n",
              "\n",
              "\n",
              "<div id=\"df-023e0709-7635-4459-b8a6-3065ea56c671\">\n",
              "  <button class=\"colab-df-quickchart\" onclick=\"quickchart('df-023e0709-7635-4459-b8a6-3065ea56c671')\"\n",
              "            title=\"Suggest charts\"\n",
              "            style=\"display:none;\">\n",
              "\n",
              "<svg xmlns=\"http://www.w3.org/2000/svg\" height=\"24px\"viewBox=\"0 0 24 24\"\n",
              "     width=\"24px\">\n",
              "    <g>\n",
              "        <path d=\"M19 3H5c-1.1 0-2 .9-2 2v14c0 1.1.9 2 2 2h14c1.1 0 2-.9 2-2V5c0-1.1-.9-2-2-2zM9 17H7v-7h2v7zm4 0h-2V7h2v10zm4 0h-2v-4h2v4z\"/>\n",
              "    </g>\n",
              "</svg>\n",
              "  </button>\n",
              "\n",
              "<style>\n",
              "  .colab-df-quickchart {\n",
              "      --bg-color: #E8F0FE;\n",
              "      --fill-color: #1967D2;\n",
              "      --hover-bg-color: #E2EBFA;\n",
              "      --hover-fill-color: #174EA6;\n",
              "      --disabled-fill-color: #AAA;\n",
              "      --disabled-bg-color: #DDD;\n",
              "  }\n",
              "\n",
              "  [theme=dark] .colab-df-quickchart {\n",
              "      --bg-color: #3B4455;\n",
              "      --fill-color: #D2E3FC;\n",
              "      --hover-bg-color: #434B5C;\n",
              "      --hover-fill-color: #FFFFFF;\n",
              "      --disabled-bg-color: #3B4455;\n",
              "      --disabled-fill-color: #666;\n",
              "  }\n",
              "\n",
              "  .colab-df-quickchart {\n",
              "    background-color: var(--bg-color);\n",
              "    border: none;\n",
              "    border-radius: 50%;\n",
              "    cursor: pointer;\n",
              "    display: none;\n",
              "    fill: var(--fill-color);\n",
              "    height: 32px;\n",
              "    padding: 0;\n",
              "    width: 32px;\n",
              "  }\n",
              "\n",
              "  .colab-df-quickchart:hover {\n",
              "    background-color: var(--hover-bg-color);\n",
              "    box-shadow: 0 1px 2px rgba(60, 64, 67, 0.3), 0 1px 3px 1px rgba(60, 64, 67, 0.15);\n",
              "    fill: var(--button-hover-fill-color);\n",
              "  }\n",
              "\n",
              "  .colab-df-quickchart-complete:disabled,\n",
              "  .colab-df-quickchart-complete:disabled:hover {\n",
              "    background-color: var(--disabled-bg-color);\n",
              "    fill: var(--disabled-fill-color);\n",
              "    box-shadow: none;\n",
              "  }\n",
              "\n",
              "  .colab-df-spinner {\n",
              "    border: 2px solid var(--fill-color);\n",
              "    border-color: transparent;\n",
              "    border-bottom-color: var(--fill-color);\n",
              "    animation:\n",
              "      spin 1s steps(1) infinite;\n",
              "  }\n",
              "\n",
              "  @keyframes spin {\n",
              "    0% {\n",
              "      border-color: transparent;\n",
              "      border-bottom-color: var(--fill-color);\n",
              "      border-left-color: var(--fill-color);\n",
              "    }\n",
              "    20% {\n",
              "      border-color: transparent;\n",
              "      border-left-color: var(--fill-color);\n",
              "      border-top-color: var(--fill-color);\n",
              "    }\n",
              "    30% {\n",
              "      border-color: transparent;\n",
              "      border-left-color: var(--fill-color);\n",
              "      border-top-color: var(--fill-color);\n",
              "      border-right-color: var(--fill-color);\n",
              "    }\n",
              "    40% {\n",
              "      border-color: transparent;\n",
              "      border-right-color: var(--fill-color);\n",
              "      border-top-color: var(--fill-color);\n",
              "    }\n",
              "    60% {\n",
              "      border-color: transparent;\n",
              "      border-right-color: var(--fill-color);\n",
              "    }\n",
              "    80% {\n",
              "      border-color: transparent;\n",
              "      border-right-color: var(--fill-color);\n",
              "      border-bottom-color: var(--fill-color);\n",
              "    }\n",
              "    90% {\n",
              "      border-color: transparent;\n",
              "      border-bottom-color: var(--fill-color);\n",
              "    }\n",
              "  }\n",
              "</style>\n",
              "\n",
              "  <script>\n",
              "    async function quickchart(key) {\n",
              "      const quickchartButtonEl =\n",
              "        document.querySelector('#' + key + ' button');\n",
              "      quickchartButtonEl.disabled = true;  // To prevent multiple clicks.\n",
              "      quickchartButtonEl.classList.add('colab-df-spinner');\n",
              "      try {\n",
              "        const charts = await google.colab.kernel.invokeFunction(\n",
              "            'suggestCharts', [key], {});\n",
              "      } catch (error) {\n",
              "        console.error('Error during call to suggestCharts:', error);\n",
              "      }\n",
              "      quickchartButtonEl.classList.remove('colab-df-spinner');\n",
              "      quickchartButtonEl.classList.add('colab-df-quickchart-complete');\n",
              "    }\n",
              "    (() => {\n",
              "      let quickchartButtonEl =\n",
              "        document.querySelector('#df-023e0709-7635-4459-b8a6-3065ea56c671 button');\n",
              "      quickchartButtonEl.style.display =\n",
              "        google.colab.kernel.accessAllowed ? 'block' : 'none';\n",
              "    })();\n",
              "  </script>\n",
              "</div>\n",
              "\n",
              "    </div>\n",
              "  </div>\n"
            ],
            "application/vnd.google.colaboratory.intrinsic+json": {
              "type": "dataframe",
              "variable_name": "submission_df",
              "summary": "{\n  \"name\": \"submission_df\",\n  \"rows\": 10000,\n  \"fields\": [\n    {\n      \"column\": \"id\",\n      \"properties\": {\n        \"dtype\": \"number\",\n        \"std\": 2886,\n        \"min\": 15000,\n        \"max\": 24999,\n        \"num_unique_values\": 10000,\n        \"samples\": [\n          21252,\n          19684,\n          16731\n        ],\n        \"semantic_type\": \"\",\n        \"description\": \"\"\n      }\n    },\n    {\n      \"column\": \"Exited\",\n      \"properties\": {\n        \"dtype\": \"number\",\n        \"std\": 0.0,\n        \"min\": 0.5,\n        \"max\": 0.5,\n        \"num_unique_values\": 1,\n        \"samples\": [\n          0.5\n        ],\n        \"semantic_type\": \"\",\n        \"description\": \"\"\n      }\n    }\n  ]\n}"
            }
          },
          "metadata": {},
          "execution_count": 20
        }
      ]
    },
    {
      "cell_type": "code",
      "source": [
        "submission_df['Exited'] = final_lgb_clf.predict_proba(X_test[X_train.columns])[:,1]"
      ],
      "metadata": {
        "id": "71U10Ak52d9f"
      },
      "execution_count": null,
      "outputs": []
    },
    {
      "cell_type": "code",
      "source": [
        "submission_df.to_csv('lgb_best.csv', index=False)"
      ],
      "metadata": {
        "id": "jfUjg_NN2jAc"
      },
      "execution_count": null,
      "outputs": []
    },
    {
      "cell_type": "markdown",
      "source": [
        "![image.png](data:image/png;base64,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)"
      ],
      "metadata": {
        "id": "l3Cnzx4E4U53"
      }
    },
    {
      "cell_type": "markdown",
      "source": [
        "LGBM модель показала себе значно краще за Decision Tree."
      ],
      "metadata": {
        "id": "POAjOB5C4WeN"
      }
    },
    {
      "cell_type": "code",
      "source": [],
      "metadata": {
        "id": "Qjmrak2U4Vf6"
      },
      "execution_count": null,
      "outputs": []
    }
  ]
}