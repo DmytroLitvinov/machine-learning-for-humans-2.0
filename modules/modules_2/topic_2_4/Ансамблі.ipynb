{
 "cells": [
  {
   "cell_type": "markdown",
   "metadata": {
    "id": "e-9EKox09IBA"
   },
   "source": [
    "# Методи ансамблювання моделей"
   ]
  },
  {
   "cell_type": "code",
   "execution_count": null,
   "metadata": {
    "ExecuteTime": {
     "end_time": "2022-02-01T16:59:10.364888Z",
     "start_time": "2022-02-01T16:59:05.892301Z"
    },
    "scrolled": true,
    "id": "xx3K9YUw9IBL",
    "colab": {
     "base_uri": "https://localhost:8080/"
    },
    "outputId": "cbcc9420-1836-4c98-9dda-c858690efc10"
   },
   "outputs": [
    {
     "output_type": "stream",
     "name": "stdout",
     "text": [
      "Requirement already satisfied: mlxtend in /usr/local/lib/python3.10/dist-packages (0.22.0)\n",
      "Requirement already satisfied: scipy>=1.2.1 in /usr/local/lib/python3.10/dist-packages (from mlxtend) (1.11.4)\n",
      "Requirement already satisfied: numpy>=1.16.2 in /usr/local/lib/python3.10/dist-packages (from mlxtend) (1.25.2)\n",
      "Requirement already satisfied: pandas>=0.24.2 in /usr/local/lib/python3.10/dist-packages (from mlxtend) (2.0.3)\n",
      "Requirement already satisfied: scikit-learn>=1.0.2 in /usr/local/lib/python3.10/dist-packages (from mlxtend) (1.2.2)\n",
      "Requirement already satisfied: matplotlib>=3.0.0 in /usr/local/lib/python3.10/dist-packages (from mlxtend) (3.7.1)\n",
      "Requirement already satisfied: joblib>=0.13.2 in /usr/local/lib/python3.10/dist-packages (from mlxtend) (1.4.2)\n",
      "Requirement already satisfied: setuptools in /usr/local/lib/python3.10/dist-packages (from mlxtend) (67.7.2)\n",
      "Requirement already satisfied: contourpy>=1.0.1 in /usr/local/lib/python3.10/dist-packages (from matplotlib>=3.0.0->mlxtend) (1.2.1)\n",
      "Requirement already satisfied: cycler>=0.10 in /usr/local/lib/python3.10/dist-packages (from matplotlib>=3.0.0->mlxtend) (0.12.1)\n",
      "Requirement already satisfied: fonttools>=4.22.0 in /usr/local/lib/python3.10/dist-packages (from matplotlib>=3.0.0->mlxtend) (4.53.1)\n",
      "Requirement already satisfied: kiwisolver>=1.0.1 in /usr/local/lib/python3.10/dist-packages (from matplotlib>=3.0.0->mlxtend) (1.4.5)\n",
      "Requirement already satisfied: packaging>=20.0 in /usr/local/lib/python3.10/dist-packages (from matplotlib>=3.0.0->mlxtend) (24.1)\n",
      "Requirement already satisfied: pillow>=6.2.0 in /usr/local/lib/python3.10/dist-packages (from matplotlib>=3.0.0->mlxtend) (9.4.0)\n",
      "Requirement already satisfied: pyparsing>=2.3.1 in /usr/local/lib/python3.10/dist-packages (from matplotlib>=3.0.0->mlxtend) (3.1.2)\n",
      "Requirement already satisfied: python-dateutil>=2.7 in /usr/local/lib/python3.10/dist-packages (from matplotlib>=3.0.0->mlxtend) (2.8.2)\n",
      "Requirement already satisfied: pytz>=2020.1 in /usr/local/lib/python3.10/dist-packages (from pandas>=0.24.2->mlxtend) (2023.4)\n",
      "Requirement already satisfied: tzdata>=2022.1 in /usr/local/lib/python3.10/dist-packages (from pandas>=0.24.2->mlxtend) (2024.1)\n",
      "Requirement already satisfied: threadpoolctl>=2.0.0 in /usr/local/lib/python3.10/dist-packages (from scikit-learn>=1.0.2->mlxtend) (3.5.0)\n",
      "Requirement already satisfied: six>=1.5 in /usr/local/lib/python3.10/dist-packages (from python-dateutil>=2.7->matplotlib>=3.0.0->mlxtend) (1.16.0)\n"
     ]
    }
   ],
   "source": [
    "!pip install mlxtend"
   ]
  },
  {
   "cell_type": "code",
   "metadata": {
    "id": "NLg1k44b9IBM",
    "ExecuteTime": {
     "end_time": "2025-02-23T08:40:47.018195Z",
     "start_time": "2025-02-23T08:40:46.540302Z"
    }
   },
   "source": [
    "import numpy as np\n",
    "import pandas as pd\n",
    "import matplotlib.pyplot as plt\n",
    "\n",
    "from mlxtend.plotting import plot_decision_regions\n",
    "\n",
    "from sklearn.linear_model import LogisticRegression\n",
    "from sklearn.metrics import classification_report\n",
    "from sklearn.model_selection import GridSearchCV, train_test_split\n",
    "from sklearn.neighbors import KNeighborsClassifier\n",
    "from sklearn.tree import DecisionTreeClassifier"
   ],
   "outputs": [],
   "execution_count": 1
  },
  {
   "cell_type": "markdown",
   "metadata": {
    "id": "dYpv7q4w9IBM"
   },
   "source": [
    "# Імпорт даних"
   ]
  },
  {
   "cell_type": "code",
   "metadata": {
    "id": "u5COATms9IBN",
    "outputId": "b2a29e7c-2b39-4321-9b78-7462e01358a0",
    "colab": {
     "base_uri": "https://localhost:8080/",
     "height": 206
    },
    "ExecuteTime": {
     "end_time": "2025-02-23T08:40:47.273721Z",
     "start_time": "2025-02-23T08:40:47.173401Z"
    }
   },
   "source": [
    "df = pd.read_csv('diabetes.csv')\n",
    "\n",
    "df.head()"
   ],
   "outputs": [
    {
     "data": {
      "text/plain": [
       "   Pregnancies  Glucose  BloodPressure  SkinThickness  Insulin   BMI  \\\n",
       "0            6      148             72             35        0  33.6   \n",
       "1            1       85             66             29        0  26.6   \n",
       "2            8      183             64              0        0  23.3   \n",
       "3            1       89             66             23       94  28.1   \n",
       "4            0      137             40             35      168  43.1   \n",
       "\n",
       "   DiabetesPedigreeFunction  Age  Outcome  \n",
       "0                     0.627   50        1  \n",
       "1                     0.351   31        0  \n",
       "2                     0.672   32        1  \n",
       "3                     0.167   21        0  \n",
       "4                     2.288   33        1  "
      ],
      "text/html": [
       "<div>\n",
       "<style scoped>\n",
       "    .dataframe tbody tr th:only-of-type {\n",
       "        vertical-align: middle;\n",
       "    }\n",
       "\n",
       "    .dataframe tbody tr th {\n",
       "        vertical-align: top;\n",
       "    }\n",
       "\n",
       "    .dataframe thead th {\n",
       "        text-align: right;\n",
       "    }\n",
       "</style>\n",
       "<table border=\"1\" class=\"dataframe\">\n",
       "  <thead>\n",
       "    <tr style=\"text-align: right;\">\n",
       "      <th></th>\n",
       "      <th>Pregnancies</th>\n",
       "      <th>Glucose</th>\n",
       "      <th>BloodPressure</th>\n",
       "      <th>SkinThickness</th>\n",
       "      <th>Insulin</th>\n",
       "      <th>BMI</th>\n",
       "      <th>DiabetesPedigreeFunction</th>\n",
       "      <th>Age</th>\n",
       "      <th>Outcome</th>\n",
       "    </tr>\n",
       "  </thead>\n",
       "  <tbody>\n",
       "    <tr>\n",
       "      <th>0</th>\n",
       "      <td>6</td>\n",
       "      <td>148</td>\n",
       "      <td>72</td>\n",
       "      <td>35</td>\n",
       "      <td>0</td>\n",
       "      <td>33.6</td>\n",
       "      <td>0.627</td>\n",
       "      <td>50</td>\n",
       "      <td>1</td>\n",
       "    </tr>\n",
       "    <tr>\n",
       "      <th>1</th>\n",
       "      <td>1</td>\n",
       "      <td>85</td>\n",
       "      <td>66</td>\n",
       "      <td>29</td>\n",
       "      <td>0</td>\n",
       "      <td>26.6</td>\n",
       "      <td>0.351</td>\n",
       "      <td>31</td>\n",
       "      <td>0</td>\n",
       "    </tr>\n",
       "    <tr>\n",
       "      <th>2</th>\n",
       "      <td>8</td>\n",
       "      <td>183</td>\n",
       "      <td>64</td>\n",
       "      <td>0</td>\n",
       "      <td>0</td>\n",
       "      <td>23.3</td>\n",
       "      <td>0.672</td>\n",
       "      <td>32</td>\n",
       "      <td>1</td>\n",
       "    </tr>\n",
       "    <tr>\n",
       "      <th>3</th>\n",
       "      <td>1</td>\n",
       "      <td>89</td>\n",
       "      <td>66</td>\n",
       "      <td>23</td>\n",
       "      <td>94</td>\n",
       "      <td>28.1</td>\n",
       "      <td>0.167</td>\n",
       "      <td>21</td>\n",
       "      <td>0</td>\n",
       "    </tr>\n",
       "    <tr>\n",
       "      <th>4</th>\n",
       "      <td>0</td>\n",
       "      <td>137</td>\n",
       "      <td>40</td>\n",
       "      <td>35</td>\n",
       "      <td>168</td>\n",
       "      <td>43.1</td>\n",
       "      <td>2.288</td>\n",
       "      <td>33</td>\n",
       "      <td>1</td>\n",
       "    </tr>\n",
       "  </tbody>\n",
       "</table>\n",
       "</div>"
      ]
     },
     "execution_count": 2,
     "metadata": {},
     "output_type": "execute_result"
    }
   ],
   "execution_count": 2
  },
  {
   "cell_type": "code",
   "metadata": {
    "id": "FLhOP6n19IBP",
    "ExecuteTime": {
     "end_time": "2025-02-23T08:40:59.144486Z",
     "start_time": "2025-02-23T08:40:59.140230Z"
    }
   },
   "source": [
    "X = df[['Glucose', 'Age']]\n",
    "y = df['Outcome']"
   ],
   "outputs": [],
   "execution_count": 3
  },
  {
   "cell_type": "code",
   "metadata": {
    "id": "nvlWFIpL9IBP",
    "ExecuteTime": {
     "end_time": "2025-02-23T08:41:06.868563Z",
     "start_time": "2025-02-23T08:41:06.863619Z"
    }
   },
   "source": [
    "X_train, X_test, y_train, y_test = train_test_split(X, y, test_size=0.3, stratify=y, random_state=42)"
   ],
   "outputs": [],
   "execution_count": 4
  },
  {
   "cell_type": "code",
   "metadata": {
    "id": "f3nZTAhp9IBV",
    "ExecuteTime": {
     "end_time": "2025-02-23T08:41:12.535166Z",
     "start_time": "2025-02-23T08:41:12.533528Z"
    }
   },
   "source": [
    "def get_report(model, X_test, y_true):\n",
    "    y_pred = model.predict(X_test)\n",
    "    print(classification_report(y_true, y_pred, digits=4))"
   ],
   "outputs": [],
   "execution_count": 5
  },
  {
   "cell_type": "markdown",
   "metadata": {
    "id": "1SDLxj319IBP"
   },
   "source": [
    "# kNN (k-найближчі сусіди)"
   ]
  },
  {
   "cell_type": "code",
   "metadata": {
    "id": "6N2pCOAv9IBT",
    "outputId": "1115ca55-07b5-4736-e900-c3a940fa9126",
    "colab": {
     "base_uri": "https://localhost:8080/",
     "height": 74
    },
    "ExecuteTime": {
     "end_time": "2025-02-23T08:41:20.881310Z",
     "start_time": "2025-02-23T08:41:20.872427Z"
    }
   },
   "source": [
    "knn = KNeighborsClassifier(n_neighbors=8)\n",
    "knn.fit(X_train, y_train)"
   ],
   "outputs": [
    {
     "data": {
      "text/plain": [
       "KNeighborsClassifier(n_neighbors=8)"
      ],
      "text/html": [
       "<style>#sk-container-id-1 {\n",
       "  /* Definition of color scheme common for light and dark mode */\n",
       "  --sklearn-color-text: #000;\n",
       "  --sklearn-color-text-muted: #666;\n",
       "  --sklearn-color-line: gray;\n",
       "  /* Definition of color scheme for unfitted estimators */\n",
       "  --sklearn-color-unfitted-level-0: #fff5e6;\n",
       "  --sklearn-color-unfitted-level-1: #f6e4d2;\n",
       "  --sklearn-color-unfitted-level-2: #ffe0b3;\n",
       "  --sklearn-color-unfitted-level-3: chocolate;\n",
       "  /* Definition of color scheme for fitted estimators */\n",
       "  --sklearn-color-fitted-level-0: #f0f8ff;\n",
       "  --sklearn-color-fitted-level-1: #d4ebff;\n",
       "  --sklearn-color-fitted-level-2: #b3dbfd;\n",
       "  --sklearn-color-fitted-level-3: cornflowerblue;\n",
       "\n",
       "  /* Specific color for light theme */\n",
       "  --sklearn-color-text-on-default-background: var(--sg-text-color, var(--theme-code-foreground, var(--jp-content-font-color1, black)));\n",
       "  --sklearn-color-background: var(--sg-background-color, var(--theme-background, var(--jp-layout-color0, white)));\n",
       "  --sklearn-color-border-box: var(--sg-text-color, var(--theme-code-foreground, var(--jp-content-font-color1, black)));\n",
       "  --sklearn-color-icon: #696969;\n",
       "\n",
       "  @media (prefers-color-scheme: dark) {\n",
       "    /* Redefinition of color scheme for dark theme */\n",
       "    --sklearn-color-text-on-default-background: var(--sg-text-color, var(--theme-code-foreground, var(--jp-content-font-color1, white)));\n",
       "    --sklearn-color-background: var(--sg-background-color, var(--theme-background, var(--jp-layout-color0, #111)));\n",
       "    --sklearn-color-border-box: var(--sg-text-color, var(--theme-code-foreground, var(--jp-content-font-color1, white)));\n",
       "    --sklearn-color-icon: #878787;\n",
       "  }\n",
       "}\n",
       "\n",
       "#sk-container-id-1 {\n",
       "  color: var(--sklearn-color-text);\n",
       "}\n",
       "\n",
       "#sk-container-id-1 pre {\n",
       "  padding: 0;\n",
       "}\n",
       "\n",
       "#sk-container-id-1 input.sk-hidden--visually {\n",
       "  border: 0;\n",
       "  clip: rect(1px 1px 1px 1px);\n",
       "  clip: rect(1px, 1px, 1px, 1px);\n",
       "  height: 1px;\n",
       "  margin: -1px;\n",
       "  overflow: hidden;\n",
       "  padding: 0;\n",
       "  position: absolute;\n",
       "  width: 1px;\n",
       "}\n",
       "\n",
       "#sk-container-id-1 div.sk-dashed-wrapped {\n",
       "  border: 1px dashed var(--sklearn-color-line);\n",
       "  margin: 0 0.4em 0.5em 0.4em;\n",
       "  box-sizing: border-box;\n",
       "  padding-bottom: 0.4em;\n",
       "  background-color: var(--sklearn-color-background);\n",
       "}\n",
       "\n",
       "#sk-container-id-1 div.sk-container {\n",
       "  /* jupyter's `normalize.less` sets `[hidden] { display: none; }`\n",
       "     but bootstrap.min.css set `[hidden] { display: none !important; }`\n",
       "     so we also need the `!important` here to be able to override the\n",
       "     default hidden behavior on the sphinx rendered scikit-learn.org.\n",
       "     See: https://github.com/scikit-learn/scikit-learn/issues/21755 */\n",
       "  display: inline-block !important;\n",
       "  position: relative;\n",
       "}\n",
       "\n",
       "#sk-container-id-1 div.sk-text-repr-fallback {\n",
       "  display: none;\n",
       "}\n",
       "\n",
       "div.sk-parallel-item,\n",
       "div.sk-serial,\n",
       "div.sk-item {\n",
       "  /* draw centered vertical line to link estimators */\n",
       "  background-image: linear-gradient(var(--sklearn-color-text-on-default-background), var(--sklearn-color-text-on-default-background));\n",
       "  background-size: 2px 100%;\n",
       "  background-repeat: no-repeat;\n",
       "  background-position: center center;\n",
       "}\n",
       "\n",
       "/* Parallel-specific style estimator block */\n",
       "\n",
       "#sk-container-id-1 div.sk-parallel-item::after {\n",
       "  content: \"\";\n",
       "  width: 100%;\n",
       "  border-bottom: 2px solid var(--sklearn-color-text-on-default-background);\n",
       "  flex-grow: 1;\n",
       "}\n",
       "\n",
       "#sk-container-id-1 div.sk-parallel {\n",
       "  display: flex;\n",
       "  align-items: stretch;\n",
       "  justify-content: center;\n",
       "  background-color: var(--sklearn-color-background);\n",
       "  position: relative;\n",
       "}\n",
       "\n",
       "#sk-container-id-1 div.sk-parallel-item {\n",
       "  display: flex;\n",
       "  flex-direction: column;\n",
       "}\n",
       "\n",
       "#sk-container-id-1 div.sk-parallel-item:first-child::after {\n",
       "  align-self: flex-end;\n",
       "  width: 50%;\n",
       "}\n",
       "\n",
       "#sk-container-id-1 div.sk-parallel-item:last-child::after {\n",
       "  align-self: flex-start;\n",
       "  width: 50%;\n",
       "}\n",
       "\n",
       "#sk-container-id-1 div.sk-parallel-item:only-child::after {\n",
       "  width: 0;\n",
       "}\n",
       "\n",
       "/* Serial-specific style estimator block */\n",
       "\n",
       "#sk-container-id-1 div.sk-serial {\n",
       "  display: flex;\n",
       "  flex-direction: column;\n",
       "  align-items: center;\n",
       "  background-color: var(--sklearn-color-background);\n",
       "  padding-right: 1em;\n",
       "  padding-left: 1em;\n",
       "}\n",
       "\n",
       "\n",
       "/* Toggleable style: style used for estimator/Pipeline/ColumnTransformer box that is\n",
       "clickable and can be expanded/collapsed.\n",
       "- Pipeline and ColumnTransformer use this feature and define the default style\n",
       "- Estimators will overwrite some part of the style using the `sk-estimator` class\n",
       "*/\n",
       "\n",
       "/* Pipeline and ColumnTransformer style (default) */\n",
       "\n",
       "#sk-container-id-1 div.sk-toggleable {\n",
       "  /* Default theme specific background. It is overwritten whether we have a\n",
       "  specific estimator or a Pipeline/ColumnTransformer */\n",
       "  background-color: var(--sklearn-color-background);\n",
       "}\n",
       "\n",
       "/* Toggleable label */\n",
       "#sk-container-id-1 label.sk-toggleable__label {\n",
       "  cursor: pointer;\n",
       "  display: flex;\n",
       "  width: 100%;\n",
       "  margin-bottom: 0;\n",
       "  padding: 0.5em;\n",
       "  box-sizing: border-box;\n",
       "  text-align: center;\n",
       "  align-items: start;\n",
       "  justify-content: space-between;\n",
       "  gap: 0.5em;\n",
       "}\n",
       "\n",
       "#sk-container-id-1 label.sk-toggleable__label .caption {\n",
       "  font-size: 0.6rem;\n",
       "  font-weight: lighter;\n",
       "  color: var(--sklearn-color-text-muted);\n",
       "}\n",
       "\n",
       "#sk-container-id-1 label.sk-toggleable__label-arrow:before {\n",
       "  /* Arrow on the left of the label */\n",
       "  content: \"▸\";\n",
       "  float: left;\n",
       "  margin-right: 0.25em;\n",
       "  color: var(--sklearn-color-icon);\n",
       "}\n",
       "\n",
       "#sk-container-id-1 label.sk-toggleable__label-arrow:hover:before {\n",
       "  color: var(--sklearn-color-text);\n",
       "}\n",
       "\n",
       "/* Toggleable content - dropdown */\n",
       "\n",
       "#sk-container-id-1 div.sk-toggleable__content {\n",
       "  max-height: 0;\n",
       "  max-width: 0;\n",
       "  overflow: hidden;\n",
       "  text-align: left;\n",
       "  /* unfitted */\n",
       "  background-color: var(--sklearn-color-unfitted-level-0);\n",
       "}\n",
       "\n",
       "#sk-container-id-1 div.sk-toggleable__content.fitted {\n",
       "  /* fitted */\n",
       "  background-color: var(--sklearn-color-fitted-level-0);\n",
       "}\n",
       "\n",
       "#sk-container-id-1 div.sk-toggleable__content pre {\n",
       "  margin: 0.2em;\n",
       "  border-radius: 0.25em;\n",
       "  color: var(--sklearn-color-text);\n",
       "  /* unfitted */\n",
       "  background-color: var(--sklearn-color-unfitted-level-0);\n",
       "}\n",
       "\n",
       "#sk-container-id-1 div.sk-toggleable__content.fitted pre {\n",
       "  /* unfitted */\n",
       "  background-color: var(--sklearn-color-fitted-level-0);\n",
       "}\n",
       "\n",
       "#sk-container-id-1 input.sk-toggleable__control:checked~div.sk-toggleable__content {\n",
       "  /* Expand drop-down */\n",
       "  max-height: 200px;\n",
       "  max-width: 100%;\n",
       "  overflow: auto;\n",
       "}\n",
       "\n",
       "#sk-container-id-1 input.sk-toggleable__control:checked~label.sk-toggleable__label-arrow:before {\n",
       "  content: \"▾\";\n",
       "}\n",
       "\n",
       "/* Pipeline/ColumnTransformer-specific style */\n",
       "\n",
       "#sk-container-id-1 div.sk-label input.sk-toggleable__control:checked~label.sk-toggleable__label {\n",
       "  color: var(--sklearn-color-text);\n",
       "  background-color: var(--sklearn-color-unfitted-level-2);\n",
       "}\n",
       "\n",
       "#sk-container-id-1 div.sk-label.fitted input.sk-toggleable__control:checked~label.sk-toggleable__label {\n",
       "  background-color: var(--sklearn-color-fitted-level-2);\n",
       "}\n",
       "\n",
       "/* Estimator-specific style */\n",
       "\n",
       "/* Colorize estimator box */\n",
       "#sk-container-id-1 div.sk-estimator input.sk-toggleable__control:checked~label.sk-toggleable__label {\n",
       "  /* unfitted */\n",
       "  background-color: var(--sklearn-color-unfitted-level-2);\n",
       "}\n",
       "\n",
       "#sk-container-id-1 div.sk-estimator.fitted input.sk-toggleable__control:checked~label.sk-toggleable__label {\n",
       "  /* fitted */\n",
       "  background-color: var(--sklearn-color-fitted-level-2);\n",
       "}\n",
       "\n",
       "#sk-container-id-1 div.sk-label label.sk-toggleable__label,\n",
       "#sk-container-id-1 div.sk-label label {\n",
       "  /* The background is the default theme color */\n",
       "  color: var(--sklearn-color-text-on-default-background);\n",
       "}\n",
       "\n",
       "/* On hover, darken the color of the background */\n",
       "#sk-container-id-1 div.sk-label:hover label.sk-toggleable__label {\n",
       "  color: var(--sklearn-color-text);\n",
       "  background-color: var(--sklearn-color-unfitted-level-2);\n",
       "}\n",
       "\n",
       "/* Label box, darken color on hover, fitted */\n",
       "#sk-container-id-1 div.sk-label.fitted:hover label.sk-toggleable__label.fitted {\n",
       "  color: var(--sklearn-color-text);\n",
       "  background-color: var(--sklearn-color-fitted-level-2);\n",
       "}\n",
       "\n",
       "/* Estimator label */\n",
       "\n",
       "#sk-container-id-1 div.sk-label label {\n",
       "  font-family: monospace;\n",
       "  font-weight: bold;\n",
       "  display: inline-block;\n",
       "  line-height: 1.2em;\n",
       "}\n",
       "\n",
       "#sk-container-id-1 div.sk-label-container {\n",
       "  text-align: center;\n",
       "}\n",
       "\n",
       "/* Estimator-specific */\n",
       "#sk-container-id-1 div.sk-estimator {\n",
       "  font-family: monospace;\n",
       "  border: 1px dotted var(--sklearn-color-border-box);\n",
       "  border-radius: 0.25em;\n",
       "  box-sizing: border-box;\n",
       "  margin-bottom: 0.5em;\n",
       "  /* unfitted */\n",
       "  background-color: var(--sklearn-color-unfitted-level-0);\n",
       "}\n",
       "\n",
       "#sk-container-id-1 div.sk-estimator.fitted {\n",
       "  /* fitted */\n",
       "  background-color: var(--sklearn-color-fitted-level-0);\n",
       "}\n",
       "\n",
       "/* on hover */\n",
       "#sk-container-id-1 div.sk-estimator:hover {\n",
       "  /* unfitted */\n",
       "  background-color: var(--sklearn-color-unfitted-level-2);\n",
       "}\n",
       "\n",
       "#sk-container-id-1 div.sk-estimator.fitted:hover {\n",
       "  /* fitted */\n",
       "  background-color: var(--sklearn-color-fitted-level-2);\n",
       "}\n",
       "\n",
       "/* Specification for estimator info (e.g. \"i\" and \"?\") */\n",
       "\n",
       "/* Common style for \"i\" and \"?\" */\n",
       "\n",
       ".sk-estimator-doc-link,\n",
       "a:link.sk-estimator-doc-link,\n",
       "a:visited.sk-estimator-doc-link {\n",
       "  float: right;\n",
       "  font-size: smaller;\n",
       "  line-height: 1em;\n",
       "  font-family: monospace;\n",
       "  background-color: var(--sklearn-color-background);\n",
       "  border-radius: 1em;\n",
       "  height: 1em;\n",
       "  width: 1em;\n",
       "  text-decoration: none !important;\n",
       "  margin-left: 0.5em;\n",
       "  text-align: center;\n",
       "  /* unfitted */\n",
       "  border: var(--sklearn-color-unfitted-level-1) 1pt solid;\n",
       "  color: var(--sklearn-color-unfitted-level-1);\n",
       "}\n",
       "\n",
       ".sk-estimator-doc-link.fitted,\n",
       "a:link.sk-estimator-doc-link.fitted,\n",
       "a:visited.sk-estimator-doc-link.fitted {\n",
       "  /* fitted */\n",
       "  border: var(--sklearn-color-fitted-level-1) 1pt solid;\n",
       "  color: var(--sklearn-color-fitted-level-1);\n",
       "}\n",
       "\n",
       "/* On hover */\n",
       "div.sk-estimator:hover .sk-estimator-doc-link:hover,\n",
       ".sk-estimator-doc-link:hover,\n",
       "div.sk-label-container:hover .sk-estimator-doc-link:hover,\n",
       ".sk-estimator-doc-link:hover {\n",
       "  /* unfitted */\n",
       "  background-color: var(--sklearn-color-unfitted-level-3);\n",
       "  color: var(--sklearn-color-background);\n",
       "  text-decoration: none;\n",
       "}\n",
       "\n",
       "div.sk-estimator.fitted:hover .sk-estimator-doc-link.fitted:hover,\n",
       ".sk-estimator-doc-link.fitted:hover,\n",
       "div.sk-label-container:hover .sk-estimator-doc-link.fitted:hover,\n",
       ".sk-estimator-doc-link.fitted:hover {\n",
       "  /* fitted */\n",
       "  background-color: var(--sklearn-color-fitted-level-3);\n",
       "  color: var(--sklearn-color-background);\n",
       "  text-decoration: none;\n",
       "}\n",
       "\n",
       "/* Span, style for the box shown on hovering the info icon */\n",
       ".sk-estimator-doc-link span {\n",
       "  display: none;\n",
       "  z-index: 9999;\n",
       "  position: relative;\n",
       "  font-weight: normal;\n",
       "  right: .2ex;\n",
       "  padding: .5ex;\n",
       "  margin: .5ex;\n",
       "  width: min-content;\n",
       "  min-width: 20ex;\n",
       "  max-width: 50ex;\n",
       "  color: var(--sklearn-color-text);\n",
       "  box-shadow: 2pt 2pt 4pt #999;\n",
       "  /* unfitted */\n",
       "  background: var(--sklearn-color-unfitted-level-0);\n",
       "  border: .5pt solid var(--sklearn-color-unfitted-level-3);\n",
       "}\n",
       "\n",
       ".sk-estimator-doc-link.fitted span {\n",
       "  /* fitted */\n",
       "  background: var(--sklearn-color-fitted-level-0);\n",
       "  border: var(--sklearn-color-fitted-level-3);\n",
       "}\n",
       "\n",
       ".sk-estimator-doc-link:hover span {\n",
       "  display: block;\n",
       "}\n",
       "\n",
       "/* \"?\"-specific style due to the `<a>` HTML tag */\n",
       "\n",
       "#sk-container-id-1 a.estimator_doc_link {\n",
       "  float: right;\n",
       "  font-size: 1rem;\n",
       "  line-height: 1em;\n",
       "  font-family: monospace;\n",
       "  background-color: var(--sklearn-color-background);\n",
       "  border-radius: 1rem;\n",
       "  height: 1rem;\n",
       "  width: 1rem;\n",
       "  text-decoration: none;\n",
       "  /* unfitted */\n",
       "  color: var(--sklearn-color-unfitted-level-1);\n",
       "  border: var(--sklearn-color-unfitted-level-1) 1pt solid;\n",
       "}\n",
       "\n",
       "#sk-container-id-1 a.estimator_doc_link.fitted {\n",
       "  /* fitted */\n",
       "  border: var(--sklearn-color-fitted-level-1) 1pt solid;\n",
       "  color: var(--sklearn-color-fitted-level-1);\n",
       "}\n",
       "\n",
       "/* On hover */\n",
       "#sk-container-id-1 a.estimator_doc_link:hover {\n",
       "  /* unfitted */\n",
       "  background-color: var(--sklearn-color-unfitted-level-3);\n",
       "  color: var(--sklearn-color-background);\n",
       "  text-decoration: none;\n",
       "}\n",
       "\n",
       "#sk-container-id-1 a.estimator_doc_link.fitted:hover {\n",
       "  /* fitted */\n",
       "  background-color: var(--sklearn-color-fitted-level-3);\n",
       "}\n",
       "</style><div id=\"sk-container-id-1\" class=\"sk-top-container\"><div class=\"sk-text-repr-fallback\"><pre>KNeighborsClassifier(n_neighbors=8)</pre><b>In a Jupyter environment, please rerun this cell to show the HTML representation or trust the notebook. <br />On GitHub, the HTML representation is unable to render, please try loading this page with nbviewer.org.</b></div><div class=\"sk-container\" hidden><div class=\"sk-item\"><div class=\"sk-estimator fitted sk-toggleable\"><input class=\"sk-toggleable__control sk-hidden--visually\" id=\"sk-estimator-id-1\" type=\"checkbox\" checked><label for=\"sk-estimator-id-1\" class=\"sk-toggleable__label fitted sk-toggleable__label-arrow\"><div><div>KNeighborsClassifier</div></div><div><a class=\"sk-estimator-doc-link fitted\" rel=\"noreferrer\" target=\"_blank\" href=\"https://scikit-learn.org/1.6/modules/generated/sklearn.neighbors.KNeighborsClassifier.html\">?<span>Documentation for KNeighborsClassifier</span></a><span class=\"sk-estimator-doc-link fitted\">i<span>Fitted</span></span></div></label><div class=\"sk-toggleable__content fitted\"><pre>KNeighborsClassifier(n_neighbors=8)</pre></div> </div></div></div></div>"
      ]
     },
     "execution_count": 6,
     "metadata": {},
     "output_type": "execute_result"
    }
   ],
   "execution_count": 6
  },
  {
   "cell_type": "code",
   "metadata": {
    "id": "jZNpyYCm9IBW",
    "outputId": "928cc4cb-dfa1-4203-9834-1ddb42760fba",
    "colab": {
     "base_uri": "https://localhost:8080/"
    },
    "ExecuteTime": {
     "end_time": "2025-02-23T08:41:39.092852Z",
     "start_time": "2025-02-23T08:41:39.081062Z"
    }
   },
   "source": [
    "get_report(knn, X_test, y_test)"
   ],
   "outputs": [
    {
     "name": "stdout",
     "output_type": "stream",
     "text": [
      "              precision    recall  f1-score   support\n",
      "\n",
      "           0     0.7368    0.8400    0.7850       150\n",
      "           1     0.6000    0.4444    0.5106        81\n",
      "\n",
      "    accuracy                         0.7013       231\n",
      "   macro avg     0.6684    0.6422    0.6478       231\n",
      "weighted avg     0.6889    0.7013    0.6888       231\n",
      "\n"
     ]
    }
   ],
   "execution_count": 8
  },
  {
   "cell_type": "markdown",
   "metadata": {
    "id": "i5RJs2Q39IBW"
   },
   "source": [
    "# Дерево Рішень"
   ]
  },
  {
   "cell_type": "code",
   "metadata": {
    "id": "331OospP9IBW",
    "outputId": "a8fcc430-4072-4a5c-a9b2-99a26dd86d4b",
    "colab": {
     "base_uri": "https://localhost:8080/"
    },
    "ExecuteTime": {
     "end_time": "2025-02-23T08:41:40.917698Z",
     "start_time": "2025-02-23T08:41:40.909182Z"
    }
   },
   "source": [
    "dt = DecisionTreeClassifier()\n",
    "dt.fit(X_train, y_train)\n",
    "get_report(dt, X_test, y_test)"
   ],
   "outputs": [
    {
     "name": "stdout",
     "output_type": "stream",
     "text": [
      "              precision    recall  f1-score   support\n",
      "\n",
      "           0     0.7394    0.7000    0.7192       150\n",
      "           1     0.4944    0.5432    0.5176        81\n",
      "\n",
      "    accuracy                         0.6450       231\n",
      "   macro avg     0.6169    0.6216    0.6184       231\n",
      "weighted avg     0.6535    0.6450    0.6485       231\n",
      "\n"
     ]
    }
   ],
   "execution_count": 9
  },
  {
   "cell_type": "markdown",
   "metadata": {
    "ExecuteTime": {
     "end_time": "2021-10-31T20:21:29.548380Z",
     "start_time": "2021-10-31T20:21:29.546288Z"
    },
    "id": "EM5w49yz9IBW"
   },
   "source": [
    "# Логістична регресія"
   ]
  },
  {
   "cell_type": "code",
   "metadata": {
    "id": "PcxMO0jX9IBW",
    "outputId": "1609ae95-b25b-4107-d1fd-4c69e1edc207",
    "colab": {
     "base_uri": "https://localhost:8080/"
    },
    "ExecuteTime": {
     "end_time": "2025-02-23T08:42:16.322222Z",
     "start_time": "2025-02-23T08:42:16.305012Z"
    }
   },
   "source": [
    "log_reg = LogisticRegression(solver='lbfgs', max_iter = 1000)\n",
    "\n",
    "log_reg.fit(X_train, y_train)\n",
    "get_report(log_reg, X_test, y_test)"
   ],
   "outputs": [
    {
     "name": "stdout",
     "output_type": "stream",
     "text": [
      "              precision    recall  f1-score   support\n",
      "\n",
      "           0     0.7644    0.8867    0.8210       150\n",
      "           1     0.7018    0.4938    0.5797        81\n",
      "\n",
      "    accuracy                         0.7489       231\n",
      "   macro avg     0.7331    0.6902    0.7003       231\n",
      "weighted avg     0.7424    0.7489    0.7364       231\n",
      "\n"
     ]
    }
   ],
   "execution_count": 10
  },
  {
   "cell_type": "markdown",
   "metadata": {
    "id": "yDESv7O49IBX"
   },
   "source": [
    "# Ансамблювання: Голосування (Voting)"
   ]
  },
  {
   "cell_type": "code",
   "metadata": {
    "id": "BeEy_NB99IBX",
    "ExecuteTime": {
     "end_time": "2025-02-23T08:42:33.053516Z",
     "start_time": "2025-02-23T08:42:32.991368Z"
    }
   },
   "source": [
    "from sklearn.ensemble import VotingClassifier"
   ],
   "outputs": [],
   "execution_count": 11
  },
  {
   "cell_type": "markdown",
   "metadata": {
    "id": "Iv4NxdN69IBX"
   },
   "source": [
    "Для `VotingClassifier` нам не потрібно мати навчені моделі. Всередині, `VotingClassifier` створює копії моделей і навчає їх самостійно, а потім агрегує."
   ]
  },
  {
   "cell_type": "code",
   "metadata": {
    "id": "RzFa7n9E9IBX",
    "ExecuteTime": {
     "end_time": "2025-02-23T08:42:35.287007Z",
     "start_time": "2025-02-23T08:42:35.285165Z"
    }
   },
   "source": [
    "dt = DecisionTreeClassifier()\n",
    "knn_best = KNeighborsClassifier(n_neighbors=8)\n",
    "log_reg = LogisticRegression(solver='lbfgs')"
   ],
   "outputs": [],
   "execution_count": 12
  },
  {
   "cell_type": "markdown",
   "metadata": {
    "id": "I283tO1p9IBX"
   },
   "source": [
    "Модель не навчена, тому не може передбачати."
   ]
  },
  {
   "cell_type": "code",
   "execution_count": null,
   "metadata": {
    "ExecuteTime": {
     "end_time": "2022-02-01T20:30:49.105011Z",
     "start_time": "2022-02-01T20:30:49.095067Z"
    },
    "id": "dfFOOxBO9IBX"
   },
   "outputs": [],
   "source": [
    "# dt.predict(X_test)"
   ]
  },
  {
   "cell_type": "code",
   "metadata": {
    "id": "u5mLswsO9IBX",
    "outputId": "9d128480-60fc-42ef-e3f3-97b62acb4d2f",
    "colab": {
     "base_uri": "https://localhost:8080/"
    },
    "ExecuteTime": {
     "end_time": "2025-02-23T08:43:02.621828Z",
     "start_time": "2025-02-23T08:43:02.606012Z"
    }
   },
   "source": [
    "# оглошуємо словник моделей\n",
    "estimators=[('knn', knn_best), ('dt', dt), ('log_reg', log_reg)]\n",
    "\n",
    "# створюємо voting класифікатор\n",
    "ensemble = VotingClassifier(estimators)\n",
    "\n",
    "ensemble.fit(X_train, y_train)\n",
    "get_report(ensemble, X_test, y_test)"
   ],
   "outputs": [
    {
     "name": "stdout",
     "output_type": "stream",
     "text": [
      "              precision    recall  f1-score   support\n",
      "\n",
      "           0     0.7326    0.8400    0.7826       150\n",
      "           1     0.5932    0.4321    0.5000        81\n",
      "\n",
      "    accuracy                         0.6970       231\n",
      "   macro avg     0.6629    0.6360    0.6413       231\n",
      "weighted avg     0.6837    0.6970    0.6835       231\n",
      "\n"
     ]
    }
   ],
   "execution_count": 13
  },
  {
   "cell_type": "code",
   "source": [
    "?VotingClassifier"
   ],
   "metadata": {
    "id": "HbsB-_1rPQhe"
   },
   "execution_count": null,
   "outputs": []
  },
  {
   "cell_type": "markdown",
   "metadata": {
    "id": "6k8fdi6A9IBY"
   },
   "source": [
    "Після навчання початкові моделі залишилися ненавченими, тому `dt` все ще не може передбачати."
   ]
  },
  {
   "cell_type": "code",
   "execution_count": null,
   "metadata": {
    "ExecuteTime": {
     "end_time": "2022-02-01T20:30:43.990264Z",
     "start_time": "2022-02-01T20:30:43.979960Z"
    },
    "id": "pk2Vff-N9IBY",
    "outputId": "66385ff4-b898-462e-8d8c-bab2dddf6c1b",
    "colab": {
     "base_uri": "https://localhost:8080/",
     "height": 287
    }
   },
   "outputs": [
    {
     "output_type": "error",
     "ename": "NotFittedError",
     "evalue": "This DecisionTreeClassifier instance is not fitted yet. Call 'fit' with appropriate arguments before using this estimator.",
     "traceback": [
      "\u001B[0;31m---------------------------------------------------------------------------\u001B[0m",
      "\u001B[0;31mNotFittedError\u001B[0m                            Traceback (most recent call last)",
      "\u001B[0;32m<ipython-input-58-09af13e690c5>\u001B[0m in \u001B[0;36m<cell line: 1>\u001B[0;34m()\u001B[0m\n\u001B[0;32m----> 1\u001B[0;31m \u001B[0mdt\u001B[0m\u001B[0;34m.\u001B[0m\u001B[0mpredict\u001B[0m\u001B[0;34m(\u001B[0m\u001B[0mX_test\u001B[0m\u001B[0;34m)\u001B[0m\u001B[0;34m\u001B[0m\u001B[0;34m\u001B[0m\u001B[0m\n\u001B[0m",
      "\u001B[0;32m/usr/local/lib/python3.10/dist-packages/sklearn/tree/_classes.py\u001B[0m in \u001B[0;36mpredict\u001B[0;34m(self, X, check_input)\u001B[0m\n\u001B[1;32m    423\u001B[0m             \u001B[0mThe\u001B[0m \u001B[0mpredicted\u001B[0m \u001B[0mclasses\u001B[0m\u001B[0;34m,\u001B[0m \u001B[0;32mor\u001B[0m \u001B[0mthe\u001B[0m \u001B[0mpredict\u001B[0m \u001B[0mvalues\u001B[0m\u001B[0;34m.\u001B[0m\u001B[0;34m\u001B[0m\u001B[0;34m\u001B[0m\u001B[0m\n\u001B[1;32m    424\u001B[0m         \"\"\"\n\u001B[0;32m--> 425\u001B[0;31m         \u001B[0mcheck_is_fitted\u001B[0m\u001B[0;34m(\u001B[0m\u001B[0mself\u001B[0m\u001B[0;34m)\u001B[0m\u001B[0;34m\u001B[0m\u001B[0;34m\u001B[0m\u001B[0m\n\u001B[0m\u001B[1;32m    426\u001B[0m         \u001B[0mX\u001B[0m \u001B[0;34m=\u001B[0m \u001B[0mself\u001B[0m\u001B[0;34m.\u001B[0m\u001B[0m_validate_X_predict\u001B[0m\u001B[0;34m(\u001B[0m\u001B[0mX\u001B[0m\u001B[0;34m,\u001B[0m \u001B[0mcheck_input\u001B[0m\u001B[0;34m)\u001B[0m\u001B[0;34m\u001B[0m\u001B[0;34m\u001B[0m\u001B[0m\n\u001B[1;32m    427\u001B[0m         \u001B[0mproba\u001B[0m \u001B[0;34m=\u001B[0m \u001B[0mself\u001B[0m\u001B[0;34m.\u001B[0m\u001B[0mtree_\u001B[0m\u001B[0;34m.\u001B[0m\u001B[0mpredict\u001B[0m\u001B[0;34m(\u001B[0m\u001B[0mX\u001B[0m\u001B[0;34m)\u001B[0m\u001B[0;34m\u001B[0m\u001B[0;34m\u001B[0m\u001B[0m\n",
      "\u001B[0;32m/usr/local/lib/python3.10/dist-packages/sklearn/utils/validation.py\u001B[0m in \u001B[0;36mcheck_is_fitted\u001B[0;34m(estimator, attributes, msg, all_or_any)\u001B[0m\n\u001B[1;32m   1388\u001B[0m \u001B[0;34m\u001B[0m\u001B[0m\n\u001B[1;32m   1389\u001B[0m     \u001B[0;32mif\u001B[0m \u001B[0;32mnot\u001B[0m \u001B[0mfitted\u001B[0m\u001B[0;34m:\u001B[0m\u001B[0;34m\u001B[0m\u001B[0;34m\u001B[0m\u001B[0m\n\u001B[0;32m-> 1390\u001B[0;31m         \u001B[0;32mraise\u001B[0m \u001B[0mNotFittedError\u001B[0m\u001B[0;34m(\u001B[0m\u001B[0mmsg\u001B[0m \u001B[0;34m%\u001B[0m \u001B[0;34m{\u001B[0m\u001B[0;34m\"name\"\u001B[0m\u001B[0;34m:\u001B[0m \u001B[0mtype\u001B[0m\u001B[0;34m(\u001B[0m\u001B[0mestimator\u001B[0m\u001B[0;34m)\u001B[0m\u001B[0;34m.\u001B[0m\u001B[0m__name__\u001B[0m\u001B[0;34m}\u001B[0m\u001B[0;34m)\u001B[0m\u001B[0;34m\u001B[0m\u001B[0;34m\u001B[0m\u001B[0m\n\u001B[0m\u001B[1;32m   1391\u001B[0m \u001B[0;34m\u001B[0m\u001B[0m\n\u001B[1;32m   1392\u001B[0m \u001B[0;34m\u001B[0m\u001B[0m\n",
      "\u001B[0;31mNotFittedError\u001B[0m: This DecisionTreeClassifier instance is not fitted yet. Call 'fit' with appropriate arguments before using this estimator."
     ]
    }
   ],
   "source": [
    "# dt.predict(X_test)"
   ]
  },
  {
   "cell_type": "markdown",
   "metadata": {
    "id": "XP37Y2ou9IBY"
   },
   "source": [
    "Але оцінювач (estimator) був навчений у рамках ансамблю. Отримати всі оцінювачі ансамблю можемо так:"
   ]
  },
  {
   "cell_type": "code",
   "metadata": {
    "id": "XbNwrXwv9IBY",
    "outputId": "943a50b1-00d0-4bb9-82b5-83b3ee9a782d",
    "colab": {
     "base_uri": "https://localhost:8080/"
    },
    "ExecuteTime": {
     "end_time": "2025-02-23T08:43:30.401409Z",
     "start_time": "2025-02-23T08:43:30.398880Z"
    }
   },
   "source": [
    "ensemble.estimators_"
   ],
   "outputs": [
    {
     "data": {
      "text/plain": [
       "[KNeighborsClassifier(n_neighbors=8),\n",
       " DecisionTreeClassifier(),\n",
       " LogisticRegression()]"
      ]
     },
     "execution_count": 14,
     "metadata": {},
     "output_type": "execute_result"
    }
   ],
   "execution_count": 14
  },
  {
   "cell_type": "markdown",
   "metadata": {
    "id": "Hl05kgX79IBY"
   },
   "source": [
    "А перевірити, що вони навчені - так:"
   ]
  },
  {
   "cell_type": "code",
   "metadata": {
    "id": "Nb0W8oPY9IBY",
    "outputId": "dab41604-23db-4f19-d7e2-b53914fd3753",
    "colab": {
     "base_uri": "https://localhost:8080/"
    },
    "ExecuteTime": {
     "end_time": "2025-02-23T08:43:38.808406Z",
     "start_time": "2025-02-23T08:43:38.804164Z"
    }
   },
   "source": [
    "ensemble.estimators_[1].predict(X_test)"
   ],
   "outputs": [
    {
     "data": {
      "text/plain": [
       "array([1, 0, 1, 0, 0, 0, 1, 0, 0, 0, 0, 0, 0, 1, 1, 1, 1, 1, 1, 1, 0, 0,\n",
       "       0, 0, 1, 1, 1, 0, 0, 1, 0, 0, 0, 0, 0, 1, 0, 1, 0, 0, 0, 1, 0, 0,\n",
       "       0, 1, 0, 1, 0, 1, 1, 0, 0, 0, 0, 0, 0, 1, 0, 0, 0, 0, 1, 0, 0, 1,\n",
       "       1, 0, 1, 1, 1, 1, 0, 0, 0, 1, 0, 0, 0, 1, 0, 0, 0, 0, 0, 0, 0, 0,\n",
       "       1, 0, 1, 1, 0, 1, 1, 1, 0, 0, 1, 0, 1, 0, 1, 0, 0, 0, 0, 1, 0, 0,\n",
       "       0, 0, 1, 1, 1, 0, 0, 0, 0, 0, 0, 1, 0, 0, 0, 0, 1, 0, 1, 0, 0, 0,\n",
       "       0, 1, 0, 1, 0, 0, 0, 1, 0, 0, 1, 1, 0, 1, 1, 1, 0, 0, 1, 0, 0, 1,\n",
       "       1, 0, 0, 0, 0, 0, 1, 0, 0, 1, 0, 0, 0, 1, 1, 1, 1, 0, 0, 0, 1, 1,\n",
       "       1, 0, 0, 1, 0, 1, 1, 1, 0, 0, 0, 1, 0, 1, 1, 0, 0, 0, 0, 0, 1, 1,\n",
       "       0, 0, 1, 0, 0, 0, 1, 0, 0, 1, 0, 0, 1, 0, 1, 0, 0, 0, 1, 0, 0, 1,\n",
       "       0, 0, 1, 0, 1, 0, 1, 1, 0, 0, 1])"
      ]
     },
     "execution_count": 15,
     "metadata": {},
     "output_type": "execute_result"
    }
   ],
   "execution_count": 15
  },
  {
   "cell_type": "markdown",
   "metadata": {
    "ExecuteTime": {
     "end_time": "2020-01-11T09:46:24.816058Z",
     "start_time": "2020-01-11T09:46:24.808560Z"
    },
    "id": "gpLx5M4D9IBY"
   },
   "source": [
    "М'яке голосування (soft voting) можливе лише тоді, коли всі ваші класифікатори можуть обчислювати ймовірності результатів (predict proba). М'яке голосування дає найкращий результат шляхом усереднення ймовірностей, обчислених окремими алгоритмами.  \n",
    "Давайте спробуємо застосувати м'яке голосування."
   ]
  },
  {
   "cell_type": "code",
   "source": [
    "import inspect\n",
    "from sklearn.tree import DecisionTreeRegressor\n",
    "\n",
    "inspect.getmembers(DecisionTreeRegressor, predicate=inspect.isfunction)"
   ],
   "metadata": {
    "colab": {
     "base_uri": "https://localhost:8080/"
    },
    "id": "1doQzWSNP9YP",
    "outputId": "861b20e4-ea3c-4ef9-e97d-f22fe483d153",
    "ExecuteTime": {
     "end_time": "2025-02-23T08:47:15.925967Z",
     "start_time": "2025-02-23T08:47:15.922921Z"
    }
   },
   "outputs": [
    {
     "data": {
      "text/plain": [
       "[('__getstate__', <function sklearn.base.BaseEstimator.__getstate__(self)>),\n",
       " ('__init__',\n",
       "  <function sklearn.tree._classes.DecisionTreeRegressor.__init__(self, *, criterion='squared_error', splitter='best', max_depth=None, min_samples_split=2, min_samples_leaf=1, min_weight_fraction_leaf=0.0, max_features=None, random_state=None, max_leaf_nodes=None, min_impurity_decrease=0.0, ccp_alpha=0.0, monotonic_cst=None)>),\n",
       " ('__repr__',\n",
       "  <function sklearn.base.BaseEstimator.__repr__(self, N_CHAR_MAX=700)>),\n",
       " ('__setstate__',\n",
       "  <function sklearn.base.BaseEstimator.__setstate__(self, state)>),\n",
       " ('__sklearn_clone__',\n",
       "  <function sklearn.base.BaseEstimator.__sklearn_clone__(self)>),\n",
       " ('__sklearn_tags__',\n",
       "  <function sklearn.tree._classes.DecisionTreeRegressor.__sklearn_tags__(self)>),\n",
       " ('_check_feature_names',\n",
       "  <function sklearn.base.BaseEstimator._check_feature_names(self, *args, **kwargs)>),\n",
       " ('_check_n_features',\n",
       "  <function sklearn.base.BaseEstimator._check_n_features(self, *args, **kwargs)>),\n",
       " ('_compute_missing_values_in_feature_mask',\n",
       "  <function sklearn.tree._classes.BaseDecisionTree._compute_missing_values_in_feature_mask(self, X, estimator_name=None)>),\n",
       " ('_compute_partial_dependence_recursion',\n",
       "  <function sklearn.tree._classes.DecisionTreeRegressor._compute_partial_dependence_recursion(self, grid, target_features)>),\n",
       " ('_fit',\n",
       "  <function sklearn.tree._classes.BaseDecisionTree._fit(self, X, y, sample_weight=None, check_input=True, missing_values_in_feature_mask=None)>),\n",
       " ('_get_doc_link',\n",
       "  <function sklearn.utils._estimator_html_repr._HTMLDocumentationLinkMixin._get_doc_link(self)>),\n",
       " ('_get_metadata_request',\n",
       "  <function sklearn.utils._metadata_requests._MetadataRequester._get_metadata_request(self)>),\n",
       " ('_get_tags', <function sklearn.base.BaseEstimator._get_tags(self)>),\n",
       " ('_more_tags', <function sklearn.base.BaseEstimator._more_tags(self)>),\n",
       " ('_prune_tree',\n",
       "  <function sklearn.tree._classes.BaseDecisionTree._prune_tree(self)>),\n",
       " ('_repr_html_inner',\n",
       "  <function sklearn.base.BaseEstimator._repr_html_inner(self)>),\n",
       " ('_repr_mimebundle_',\n",
       "  <function sklearn.base.BaseEstimator._repr_mimebundle_(self, **kwargs)>),\n",
       " ('_support_missing_values',\n",
       "  <function sklearn.tree._classes.BaseDecisionTree._support_missing_values(self, X)>),\n",
       " ('_validate_X_predict',\n",
       "  <function sklearn.tree._classes.BaseDecisionTree._validate_X_predict(self, X, check_input)>),\n",
       " ('_validate_data',\n",
       "  <function sklearn.base.BaseEstimator._validate_data(self, *args, **kwargs)>),\n",
       " ('_validate_params',\n",
       "  <function sklearn.base.BaseEstimator._validate_params(self)>),\n",
       " ('apply',\n",
       "  <function sklearn.tree._classes.BaseDecisionTree.apply(self, X, check_input=True)>),\n",
       " ('cost_complexity_pruning_path',\n",
       "  <function sklearn.tree._classes.BaseDecisionTree.cost_complexity_pruning_path(self, X, y, sample_weight=None)>),\n",
       " ('decision_path',\n",
       "  <function sklearn.tree._classes.BaseDecisionTree.decision_path(self, X, check_input=True)>),\n",
       " ('fit',\n",
       "  <function sklearn.tree._classes.DecisionTreeRegressor.fit(self, X, y, sample_weight=None, check_input=True)>),\n",
       " ('get_depth',\n",
       "  <function sklearn.tree._classes.BaseDecisionTree.get_depth(self)>),\n",
       " ('get_metadata_routing',\n",
       "  <function sklearn.utils._metadata_requests._MetadataRequester.get_metadata_routing(self)>),\n",
       " ('get_n_leaves',\n",
       "  <function sklearn.tree._classes.BaseDecisionTree.get_n_leaves(self)>),\n",
       " ('get_params',\n",
       "  <function sklearn.base.BaseEstimator.get_params(self, deep=True)>),\n",
       " ('predict',\n",
       "  <function sklearn.tree._classes.BaseDecisionTree.predict(self, X, check_input=True)>),\n",
       " ('score',\n",
       "  <function sklearn.base.RegressorMixin.score(self, X, y, sample_weight=None)>),\n",
       " ('set_fit_request',\n",
       "  <function sklearn.utils._metadata_requests.RequestMethod.__get__.<locals>.func(self: sklearn.tree._classes.DecisionTreeRegressor, *, sample_weight: Union[bool, NoneType, str] = '$UNCHANGED$') -> sklearn.tree._classes.DecisionTreeRegressor>),\n",
       " ('set_params',\n",
       "  <function sklearn.base.BaseEstimator.set_params(self, **params)>),\n",
       " ('set_score_request',\n",
       "  <function sklearn.utils._metadata_requests.RequestMethod.__get__.<locals>.func(self: sklearn.tree._classes.DecisionTreeRegressor, *, sample_weight: Union[bool, NoneType, str] = '$UNCHANGED$') -> sklearn.tree._classes.DecisionTreeRegressor>)]"
      ]
     },
     "execution_count": 18,
     "metadata": {},
     "output_type": "execute_result"
    }
   ],
   "execution_count": 18
  },
  {
   "cell_type": "code",
   "metadata": {
    "id": "x13wjVL-9IBZ",
    "outputId": "5cf2aa42-b402-451d-bffb-e19b51dfa99a",
    "colab": {
     "base_uri": "https://localhost:8080/"
    },
    "ExecuteTime": {
     "end_time": "2025-02-23T08:48:25.137008Z",
     "start_time": "2025-02-23T08:48:25.123787Z"
    }
   },
   "source": [
    "ensemble = VotingClassifier(estimators, voting='soft')\n",
    "\n",
    "ensemble.fit(X_train, y_train)\n",
    "get_report(ensemble, X_test, y_test)"
   ],
   "outputs": [
    {
     "name": "stdout",
     "output_type": "stream",
     "text": [
      "              precision    recall  f1-score   support\n",
      "\n",
      "           0     0.7582    0.7733    0.7657       150\n",
      "           1     0.5641    0.5432    0.5535        81\n",
      "\n",
      "    accuracy                         0.6926       231\n",
      "   macro avg     0.6611    0.6583    0.6596       231\n",
      "weighted avg     0.6901    0.6926    0.6913       231\n",
      "\n"
     ]
    }
   ],
   "execution_count": 19
  },
  {
   "cell_type": "markdown",
   "metadata": {
    "id": "DCuVpovo9IBZ"
   },
   "source": [
    "Можемо передати ваги учасників голосування:"
   ]
  },
  {
   "cell_type": "code",
   "source": [
    "estimators"
   ],
   "metadata": {
    "colab": {
     "base_uri": "https://localhost:8080/"
    },
    "id": "6d75v5xhQ4RY",
    "outputId": "983ed09a-370b-499b-cb66-276541f8940f"
   },
   "execution_count": null,
   "outputs": [
    {
     "output_type": "execute_result",
     "data": {
      "text/plain": [
       "[('knn', KNeighborsClassifier(n_neighbors=8)),\n",
       " ('dt', DecisionTreeClassifier()),\n",
       " ('log_reg', LogisticRegression())]"
      ]
     },
     "metadata": {},
     "execution_count": 63
    }
   ]
  },
  {
   "cell_type": "code",
   "metadata": {
    "id": "yb8jbD1j9IBZ",
    "outputId": "269c54c7-d807-4896-d3bd-c8119197a2e3",
    "colab": {
     "base_uri": "https://localhost:8080/"
    },
    "ExecuteTime": {
     "end_time": "2025-02-23T08:49:03.797596Z",
     "start_time": "2025-02-23T08:49:03.781939Z"
    }
   },
   "source": [
    "ensemble = VotingClassifier(estimators, voting ='hard', weights=[2, 1, 10])\n",
    "\n",
    "ensemble.fit(X_train, y_train)\n",
    "get_report(ensemble, X_test, y_test)"
   ],
   "outputs": [
    {
     "name": "stdout",
     "output_type": "stream",
     "text": [
      "              precision    recall  f1-score   support\n",
      "\n",
      "           0     0.7644    0.8867    0.8210       150\n",
      "           1     0.7018    0.4938    0.5797        81\n",
      "\n",
      "    accuracy                         0.7489       231\n",
      "   macro avg     0.7331    0.6902    0.7003       231\n",
      "weighted avg     0.7424    0.7489    0.7364       231\n",
      "\n"
     ]
    }
   ],
   "execution_count": 20
  },
  {
   "cell_type": "markdown",
   "metadata": {
    "id": "lFxb3OEK9IBZ"
   },
   "source": [
    "# Стекинг (Stacking)"
   ]
  },
  {
   "cell_type": "markdown",
   "metadata": {
    "id": "bnTrJ5mS9IBZ"
   },
   "source": [
    "stack_method : {'auto', 'predict_proba', 'decision_function', 'predict'},             default='auto'\n",
    "    Методи, що викликаються для кожного базового оцінювача. Це може бути:\n",
    "\n",
    "    * якщо 'auto', він спробує викликати для кожного оцінювача\n",
    "      `'predict_proba'`, `'decision_function'` або `'predict'` у цьому\n",
    "      порядку.\n",
    "    * в іншому випадку, один з `'predict_proba'`, `'decision_function'` або\n",
    "      `'predict'`. Якщо метод не реалізований оцінювачем, буде викликана помилка."
   ]
  },
  {
   "cell_type": "code",
   "metadata": {
    "id": "yL6QmcSs9IBZ",
    "outputId": "c48794a2-d43d-4033-d4be-18acfe80e6e0",
    "colab": {
     "base_uri": "https://localhost:8080/"
    },
    "ExecuteTime": {
     "end_time": "2025-02-23T10:26:58.951530Z",
     "start_time": "2025-02-23T10:26:58.903686Z"
    }
   },
   "source": [
    "from sklearn.ensemble import StackingClassifier\n",
    "\n",
    "\n",
    "estimators=[('knn', knn_best), ('dt', dt), ('log_reg', log_reg)]\n",
    "stacking_clf = StackingClassifier(\n",
    "    estimators=estimators, final_estimator=LogisticRegression()\n",
    ")\n",
    "stacking_clf.fit(X_train, y_train)\n",
    "get_report(stacking_clf, X_test, y_test)"
   ],
   "outputs": [
    {
     "name": "stdout",
     "output_type": "stream",
     "text": [
      "              precision    recall  f1-score   support\n",
      "\n",
      "           0     0.7561    0.8267    0.7898       150\n",
      "           1     0.6119    0.5062    0.5541        81\n",
      "\n",
      "    accuracy                         0.7143       231\n",
      "   macro avg     0.6840    0.6664    0.6719       231\n",
      "weighted avg     0.7055    0.7143    0.7071       231\n",
      "\n"
     ]
    }
   ],
   "execution_count": 21
  },
  {
   "cell_type": "markdown",
   "metadata": {
    "id": "X2JUi0zK9IBa"
   },
   "source": [
    "Ось атрибути стекінгу, до яких ви можете звернутися:"
   ]
  },
  {
   "cell_type": "code",
   "metadata": {
    "id": "BqV-HC9B9IBa",
    "outputId": "f5d77979-3440-4f83-df22-3b77c8fc9f9e",
    "colab": {
     "base_uri": "https://localhost:8080/"
    },
    "ExecuteTime": {
     "end_time": "2025-02-23T10:29:13.518828Z",
     "start_time": "2025-02-23T10:29:13.513252Z"
    }
   },
   "source": [
    "vars(stacking_clf)"
   ],
   "outputs": [
    {
     "data": {
      "text/plain": [
       "{'estimators': [('knn', KNeighborsClassifier(n_neighbors=8)),\n",
       "  ('dt', DecisionTreeClassifier()),\n",
       "  ('log_reg', LogisticRegression())],\n",
       " 'final_estimator': LogisticRegression(),\n",
       " 'cv': None,\n",
       " 'stack_method': 'auto',\n",
       " 'n_jobs': None,\n",
       " 'verbose': 0,\n",
       " 'passthrough': False,\n",
       " '_label_encoder': LabelEncoder(),\n",
       " 'classes_': array([0, 1]),\n",
       " 'final_estimator_': LogisticRegression(),\n",
       " 'estimators_': [KNeighborsClassifier(n_neighbors=8),\n",
       "  DecisionTreeClassifier(),\n",
       "  LogisticRegression()],\n",
       " 'named_estimators_': {'knn': KNeighborsClassifier(n_neighbors=8),\n",
       "  'dt': DecisionTreeClassifier(),\n",
       "  'log_reg': LogisticRegression()},\n",
       " 'feature_names_in_': array(['Glucose', 'Age'], dtype=object),\n",
       " 'stack_method_': ['predict_proba', 'predict_proba', 'predict_proba'],\n",
       " '_n_feature_outs': [1, 1, 1]}"
      ]
     },
     "execution_count": 22,
     "metadata": {},
     "output_type": "execute_result"
    }
   ],
   "execution_count": 22
  },
  {
   "cell_type": "markdown",
   "metadata": {
    "id": "2N33tKHw9IBa"
   },
   "source": [
    "Можна подивитися, які значення видає фінальна модель при різних вхідних значеннях:"
   ]
  },
  {
   "cell_type": "code",
   "source": [
    "X_train.head()"
   ],
   "metadata": {
    "colab": {
     "base_uri": "https://localhost:8080/",
     "height": 206
    },
    "id": "G7QEflVCqSHZ",
    "outputId": "d93c17a0-867d-404a-c8fc-1025850f63b3",
    "ExecuteTime": {
     "end_time": "2025-02-23T10:29:59.799385Z",
     "start_time": "2025-02-23T10:29:59.794698Z"
    }
   },
   "outputs": [
    {
     "data": {
      "text/plain": [
       "     Glucose  Age\n",
       "209      184   41\n",
       "176       85   42\n",
       "147      106   34\n",
       "454      100   24\n",
       "636      104   48"
      ],
      "text/html": [
       "<div>\n",
       "<style scoped>\n",
       "    .dataframe tbody tr th:only-of-type {\n",
       "        vertical-align: middle;\n",
       "    }\n",
       "\n",
       "    .dataframe tbody tr th {\n",
       "        vertical-align: top;\n",
       "    }\n",
       "\n",
       "    .dataframe thead th {\n",
       "        text-align: right;\n",
       "    }\n",
       "</style>\n",
       "<table border=\"1\" class=\"dataframe\">\n",
       "  <thead>\n",
       "    <tr style=\"text-align: right;\">\n",
       "      <th></th>\n",
       "      <th>Glucose</th>\n",
       "      <th>Age</th>\n",
       "    </tr>\n",
       "  </thead>\n",
       "  <tbody>\n",
       "    <tr>\n",
       "      <th>209</th>\n",
       "      <td>184</td>\n",
       "      <td>41</td>\n",
       "    </tr>\n",
       "    <tr>\n",
       "      <th>176</th>\n",
       "      <td>85</td>\n",
       "      <td>42</td>\n",
       "    </tr>\n",
       "    <tr>\n",
       "      <th>147</th>\n",
       "      <td>106</td>\n",
       "      <td>34</td>\n",
       "    </tr>\n",
       "    <tr>\n",
       "      <th>454</th>\n",
       "      <td>100</td>\n",
       "      <td>24</td>\n",
       "    </tr>\n",
       "    <tr>\n",
       "      <th>636</th>\n",
       "      <td>104</td>\n",
       "      <td>48</td>\n",
       "    </tr>\n",
       "  </tbody>\n",
       "</table>\n",
       "</div>"
      ]
     },
     "execution_count": 23,
     "metadata": {},
     "output_type": "execute_result"
    }
   ],
   "execution_count": 23
  },
  {
   "cell_type": "code",
   "metadata": {
    "id": "njjP8Mhh9IBa",
    "outputId": "808bc23e-ada6-4270-f2c9-a6f6c2de447b",
    "colab": {
     "base_uri": "https://localhost:8080/"
    },
    "ExecuteTime": {
     "end_time": "2025-02-23T10:33:01.939387Z",
     "start_time": "2025-02-23T10:33:01.936657Z"
    }
   },
   "source": [
    "stacking_clf.final_estimator_.predict_proba([[0.1,0.4,0.9]])"
   ],
   "outputs": [
    {
     "data": {
      "text/plain": [
       "array([[0.56710091, 0.43289909]])"
      ]
     },
     "execution_count": 24,
     "metadata": {},
     "output_type": "execute_result"
    }
   ],
   "execution_count": 24
  },
  {
   "cell_type": "code",
   "metadata": {
    "id": "Igum_Cog9IBa",
    "outputId": "565b2972-518c-4705-a475-a4d3e7f33f5f",
    "colab": {
     "base_uri": "https://localhost:8080/"
    },
    "ExecuteTime": {
     "end_time": "2025-02-23T10:33:03.219220Z",
     "start_time": "2025-02-23T10:33:03.216337Z"
    }
   },
   "source": [
    "stacking_clf.final_estimator_.predict([[0,1,1]])"
   ],
   "outputs": [
    {
     "data": {
      "text/plain": [
       "array([0])"
      ]
     },
     "execution_count": 25,
     "metadata": {},
     "output_type": "execute_result"
    }
   ],
   "execution_count": 25
  },
  {
   "cell_type": "markdown",
   "metadata": {
    "id": "WtOk7fWH9IBa"
   },
   "source": [
    "Виходить, що насправді найбільш значущою моделлю є knn при прийнятті рішень."
   ]
  },
  {
   "cell_type": "markdown",
   "metadata": {
    "id": "P558T_X39IBb"
   },
   "source": [
    "# Беггінг (Bagging) та Пастинг (Pasting)"
   ]
  },
  {
   "cell_type": "markdown",
   "metadata": {
    "ExecuteTime": {
     "end_time": "2020-01-11T12:18:26.156874Z",
     "start_time": "2020-01-11T12:18:26.152677Z"
    },
    "id": "zc9Y0xb49IBb"
   },
   "source": [
    "Реалізація `BaggingClassifier` в `sklearn` включає в себе кілька алгоритмів з літератури.\n",
    "\n",
    "-  Якщо випадкові підмножини даних обираються без заміни, то цей метод називається Pasting.\n",
    "\n",
    "- Якщо зразки взяті з заміною, то метод відомий як Bagging.\n",
    "\n",
    "- Коли випадкові підмножини набору даних вибираються як випадкові підмножини ознак (features), тоді метод відомий як Random Subspaces.\n",
    "\n",
    "- Коли побудовані базові оцінювачі на підмножинах як зразків, так і ознак, тоді метод відомий як Random Patches."
   ]
  },
  {
   "cell_type": "code",
   "metadata": {
    "id": "TCWgBvtB9IBb",
    "ExecuteTime": {
     "end_time": "2025-02-23T10:33:48.522108Z",
     "start_time": "2025-02-23T10:33:48.520457Z"
    }
   },
   "source": [
    "from sklearn.ensemble import BaggingClassifier\n",
    "from sklearn.tree import DecisionTreeClassifier"
   ],
   "outputs": [],
   "execution_count": 26
  },
  {
   "cell_type": "code",
   "metadata": {
    "id": "x9Isxteg9IBb",
    "outputId": "449a8aea-a0b7-404c-a945-5c0dcc7682be",
    "colab": {
     "base_uri": "https://localhost:8080/"
    },
    "ExecuteTime": {
     "end_time": "2025-02-23T10:34:51.233165Z",
     "start_time": "2025-02-23T10:34:49.564532Z"
    }
   },
   "source": [
    "bag_clf = BaggingClassifier(\n",
    "    DecisionTreeClassifier(random_state=4),\n",
    "    n_estimators=1000,\n",
    "    max_samples=500,\n",
    "    bootstrap=True,\n",
    "    n_jobs=-1,\n",
    "    random_state=42\n",
    ")\n",
    "bag_clf.fit(X_train, y_train)\n",
    "\n",
    "get_report(bag_clf, X_test, y_test)"
   ],
   "outputs": [
    {
     "name": "stdout",
     "output_type": "stream",
     "text": [
      "              precision    recall  f1-score   support\n",
      "\n",
      "           0     0.7386    0.7533    0.7459       150\n",
      "           1     0.5256    0.5062    0.5157        81\n",
      "\n",
      "    accuracy                         0.6667       231\n",
      "   macro avg     0.6321    0.6298    0.6308       231\n",
      "weighted avg     0.6639    0.6667    0.6652       231\n",
      "\n"
     ]
    }
   ],
   "execution_count": 27
  },
  {
   "cell_type": "markdown",
   "metadata": {
    "id": "IxIzfF-A9IBb"
   },
   "source": [
    "## bootstrap=False - для алгоритму Pasting"
   ]
  },
  {
   "cell_type": "code",
   "metadata": {
    "id": "9Vzu1dLO9IBb",
    "outputId": "12d119c6-f858-4b11-b9a7-af137fecb886",
    "colab": {
     "base_uri": "https://localhost:8080/"
    },
    "ExecuteTime": {
     "end_time": "2025-02-23T10:35:02.781781Z",
     "start_time": "2025-02-23T10:35:02.640427Z"
    }
   },
   "source": [
    "bag_clf = BaggingClassifier(\n",
    "    DecisionTreeClassifier(random_state=42),\n",
    "    n_estimators=500,\n",
    "    max_samples=200,\n",
    "    bootstrap=False,\n",
    "    n_jobs=-1,\n",
    "    random_state=42\n",
    ")\n",
    "bag_clf.fit(X_train, y_train)\n",
    "\n",
    "get_report(bag_clf, X_test, y_test)"
   ],
   "outputs": [
    {
     "name": "stdout",
     "output_type": "stream",
     "text": [
      "              precision    recall  f1-score   support\n",
      "\n",
      "           0     0.7438    0.7933    0.7677       150\n",
      "           1     0.5634    0.4938    0.5263        81\n",
      "\n",
      "    accuracy                         0.6883       231\n",
      "   macro avg     0.6536    0.6436    0.6470       231\n",
      "weighted avg     0.6805    0.6883    0.6831       231\n",
      "\n"
     ]
    }
   ],
   "execution_count": 28
  },
  {
   "cell_type": "markdown",
   "metadata": {
    "id": "e77kyqr19IBc"
   },
   "source": [
    "Параметр `oob_score : bool`, за замовчуванням `False` і означає `Чи використовувати поза out-of-bag зразки для оцінки помилки узагальнення.`"
   ]
  },
  {
   "cell_type": "code",
   "execution_count": null,
   "metadata": {
    "ExecuteTime": {
     "end_time": "2022-02-01T18:16:24.255092Z",
     "start_time": "2022-02-01T18:16:24.250959Z"
    },
    "id": "AXKLu6629IBc",
    "outputId": "23009641-e3c1-494b-8a65-ce59b201516f",
    "colab": {
     "base_uri": "https://localhost:8080/"
    }
   },
   "outputs": [
    {
     "output_type": "execute_result",
     "data": {
      "text/plain": [
       "False"
      ]
     },
     "metadata": {},
     "execution_count": 77
    }
   ],
   "source": [
    "bag_clf.oob_score"
   ]
  },
  {
   "cell_type": "markdown",
   "metadata": {
    "ExecuteTime": {
     "end_time": "2020-01-11T11:58:45.289465Z",
     "start_time": "2020-01-11T11:58:45.286124Z"
    },
    "id": "f_u-szB69IBc"
   },
   "source": [
    "## Оцінка Out-of-Bag"
   ]
  },
  {
   "cell_type": "code",
   "metadata": {
    "id": "UNpFXtQS9IBc",
    "outputId": "f8fd6f7a-e916-4e39-c88f-6177e4f9d1bd",
    "colab": {
     "base_uri": "https://localhost:8080/"
    },
    "ExecuteTime": {
     "end_time": "2025-02-23T10:36:15.028950Z",
     "start_time": "2025-02-23T10:36:14.811238Z"
    }
   },
   "source": [
    "bag_clf = BaggingClassifier(\n",
    "    DecisionTreeClassifier(random_state=42),\n",
    "    n_estimators=500,\n",
    "    max_samples=100,\n",
    "    bootstrap=True,\n",
    "    n_jobs=-1,\n",
    "    random_state=42,\n",
    "    oob_score=True\n",
    ")\n",
    "bag_clf.fit(X_train, y_train)\n",
    "\n",
    "get_report(bag_clf, X_test, y_test)"
   ],
   "outputs": [
    {
     "name": "stdout",
     "output_type": "stream",
     "text": [
      "              precision    recall  f1-score   support\n",
      "\n",
      "           0     0.7484    0.7933    0.7702       150\n",
      "           1     0.5694    0.5062    0.5359        81\n",
      "\n",
      "    accuracy                         0.6926       231\n",
      "   macro avg     0.6589    0.6498    0.6531       231\n",
      "weighted avg     0.6857    0.6926    0.6881       231\n",
      "\n"
     ]
    }
   ],
   "execution_count": 29
  },
  {
   "cell_type": "code",
   "execution_count": null,
   "metadata": {
    "ExecuteTime": {
     "end_time": "2022-02-01T16:58:48.711644Z",
     "start_time": "2022-02-01T16:58:48.711627Z"
    },
    "id": "pRgPXpAd9IBc"
   },
   "outputs": [],
   "source": [
    "bag_clf.oob_score_"
   ]
  },
  {
   "cell_type": "markdown",
   "metadata": {
    "id": "Y2CgDEX_9IBc"
   },
   "source": [
    "# Випадковий ліс (Random Forest)"
   ]
  },
  {
   "cell_type": "code",
   "metadata": {
    "id": "lr4Dq7gC9IBc",
    "outputId": "64c26905-76c7-4c2b-b10b-189549911443",
    "colab": {
     "base_uri": "https://localhost:8080/"
    },
    "ExecuteTime": {
     "end_time": "2025-02-23T10:42:42.372625Z",
     "start_time": "2025-02-23T10:42:42.336215Z"
    }
   },
   "source": [
    "from sklearn.ensemble import RandomForestClassifier\n",
    "\n",
    "rnd_clf = RandomForestClassifier(n_estimators=5, max_leaf_nodes=16, n_jobs=-1, random_state=42)\n",
    "rnd_clf.fit(X_train, y_train)\n",
    "\n",
    "get_report(rnd_clf, X_test, y_test)"
   ],
   "outputs": [
    {
     "name": "stdout",
     "output_type": "stream",
     "text": [
      "              precision    recall  f1-score   support\n",
      "\n",
      "           0     0.7374    0.8800    0.8024       150\n",
      "           1     0.6538    0.4198    0.5113        81\n",
      "\n",
      "    accuracy                         0.7186       231\n",
      "   macro avg     0.6956    0.6499    0.6569       231\n",
      "weighted avg     0.7081    0.7186    0.7003       231\n",
      "\n"
     ]
    }
   ],
   "execution_count": 31
  },
  {
   "cell_type": "code",
   "metadata": {
    "id": "aTxdLE7o9IBd",
    "outputId": "19cd6c9a-260e-4cc7-d0f2-e9a2a6621b63",
    "colab": {
     "base_uri": "https://localhost:8080/",
     "height": 485
    },
    "ExecuteTime": {
     "end_time": "2025-02-23T10:42:47.283054Z",
     "start_time": "2025-02-23T10:42:46.902837Z"
    }
   },
   "source": [
    "plot_decision_regions(X_train.values, y_train.values, rnd_clf);"
   ],
   "outputs": [
    {
     "name": "stderr",
     "output_type": "stream",
     "text": [
      "/Users/dmytro/Code/MachineLearning/machine-learning-for-humans-2.0/.env/lib/python3.12/site-packages/sklearn/utils/validation.py:2739: UserWarning: X does not have valid feature names, but RandomForestClassifier was fitted with feature names\n",
      "  warnings.warn(\n"
     ]
    },
    {
     "data": {
      "text/plain": [
       "<Figure size 640x480 with 1 Axes>"
      ],
      "image/png": "[encoded data removed]"
     },
     "metadata": {},
     "output_type": "display_data"
    }
   ],
   "execution_count": 32
  },
  {
   "cell_type": "code",
   "metadata": {
    "id": "t1NSifNZ9IBd",
    "outputId": "a8aea742-ab7c-44e2-e68a-c93b3291a536",
    "colab": {
     "base_uri": "https://localhost:8080/",
     "height": 485
    },
    "ExecuteTime": {
     "end_time": "2025-02-23T10:42:58.948902Z",
     "start_time": "2025-02-23T10:42:58.857745Z"
    }
   },
   "source": [
    "rnd_clf = RandomForestClassifier(n_estimators=1, max_leaf_nodes=8, n_jobs=-1, random_state=42)\n",
    "rnd_clf.fit(X_train, y_train)\n",
    "plot_decision_regions(X_train.values, y_train.values, rnd_clf);"
   ],
   "outputs": [
    {
     "name": "stderr",
     "output_type": "stream",
     "text": [
      "/Users/dmytro/Code/MachineLearning/machine-learning-for-humans-2.0/.env/lib/python3.12/site-packages/sklearn/utils/validation.py:2739: UserWarning: X does not have valid feature names, but RandomForestClassifier was fitted with feature names\n",
      "  warnings.warn(\n"
     ]
    },
    {
     "data": {
      "text/plain": [
       "<Figure size 640x480 with 1 Axes>"
      ],
      "image/png": "[encoded data removed]"
     },
     "metadata": {},
     "output_type": "display_data"
    }
   ],
   "execution_count": 33
  },
  {
   "cell_type": "markdown",
   "metadata": {
    "id": "I03wSoW09IBd"
   },
   "source": [
    "Підберемо гіперпараметри:"
   ]
  },
  {
   "cell_type": "code",
   "metadata": {
    "id": "wywCyDFM9IBd",
    "outputId": "49b9d080-f216-48b8-c2fb-aa50f16a453f",
    "colab": {
     "base_uri": "https://localhost:8080/"
    },
    "ExecuteTime": {
     "end_time": "2025-02-23T10:43:33.851467Z",
     "start_time": "2025-02-23T10:43:30.437406Z"
    }
   },
   "source": [
    "rf = RandomForestClassifier(random_state=42)\n",
    "params_rf = {\n",
    "    'n_estimators': [1, 5, 10, 50, 100, 200],\n",
    "    'max_leaf_nodes':[4,8,16,32]\n",
    "}\n",
    "rf_gs = GridSearchCV(rf, params_rf, cv=5)\n",
    "rf_gs.fit(X_train, y_train)\n",
    "rf_best = rf_gs.best_estimator_\n",
    "print(rf_gs.best_params_)\n",
    "\n",
    "get_report(rf_best, X_test, y_test)"
   ],
   "outputs": [
    {
     "name": "stdout",
     "output_type": "stream",
     "text": [
      "{'max_leaf_nodes': 8, 'n_estimators': 1}\n",
      "              precision    recall  f1-score   support\n",
      "\n",
      "           0     0.7466    0.7267    0.7365       150\n",
      "           1     0.5176    0.5432    0.5301        81\n",
      "\n",
      "    accuracy                         0.6623       231\n",
      "   macro avg     0.6321    0.6349    0.6333       231\n",
      "weighted avg     0.6663    0.6623    0.6641       231\n",
      "\n"
     ]
    }
   ],
   "execution_count": 34
  },
  {
   "cell_type": "markdown",
   "metadata": {
    "id": "34-TW9j89IBd"
   },
   "source": [
    "Scoring - краще встановлювати свій, тому що інакше буде використовуватися той, що за замовчуванням у алгоритму навчання, а у RandomForestClassifier - accuracy (точність)."
   ]
  },
  {
   "cell_type": "code",
   "metadata": {
    "id": "-_iuWRJQ9IBd",
    "outputId": "de03b714-4c7d-4f9f-e441-fb7fbeb3dc00",
    "colab": {
     "base_uri": "https://localhost:8080/"
    },
    "ExecuteTime": {
     "end_time": "2025-02-23T10:46:39.517286Z",
     "start_time": "2025-02-23T10:46:35.890592Z"
    }
   },
   "source": [
    "rf = RandomForestClassifier(random_state=42)\n",
    "params_rf = {'n_estimators': [1, 5, 10, 50, 100, 200],\n",
    "            'max_leaf_nodes':[4, 8, 16, 32]}\n",
    "rf_gs = GridSearchCV(rf, params_rf, cv=5, scoring='f1_micro')\n",
    "rf_gs.fit(X_train, y_train)\n",
    "rf_best = rf_gs.best_estimator_\n",
    "print(rf_gs.best_params_)\n",
    "\n",
    "get_report(rf_best, X_test, y_test)"
   ],
   "outputs": [
    {
     "name": "stdout",
     "output_type": "stream",
     "text": [
      "{'max_leaf_nodes': 8, 'n_estimators': 1}\n",
      "              precision    recall  f1-score   support\n",
      "\n",
      "           0     0.7466    0.7267    0.7365       150\n",
      "           1     0.5176    0.5432    0.5301        81\n",
      "\n",
      "    accuracy                         0.6623       231\n",
      "   macro avg     0.6321    0.6349    0.6333       231\n",
      "weighted avg     0.6663    0.6623    0.6641       231\n",
      "\n"
     ]
    }
   ],
   "execution_count": 35
  },
  {
   "cell_type": "code",
   "metadata": {
    "id": "H9WBN5ZB9IBd",
    "outputId": "7ba699ba-7864-4df8-e37c-a0d8d9fdaeba",
    "colab": {
     "base_uri": "https://localhost:8080/",
     "height": 485
    },
    "ExecuteTime": {
     "end_time": "2025-02-23T10:46:39.665591Z",
     "start_time": "2025-02-23T10:46:39.588075Z"
    }
   },
   "source": [
    "plot_decision_regions(X_train.values, y_train.values, rf_best);"
   ],
   "outputs": [
    {
     "name": "stderr",
     "output_type": "stream",
     "text": [
      "/Users/dmytro/Code/MachineLearning/machine-learning-for-humans-2.0/.env/lib/python3.12/site-packages/sklearn/utils/validation.py:2739: UserWarning: X does not have valid feature names, but RandomForestClassifier was fitted with feature names\n",
      "  warnings.warn(\n"
     ]
    },
    {
     "data": {
      "text/plain": [
       "<Figure size 640x480 with 1 Axes>"
      ],
      "image/png": "[encoded data removed]"
     },
     "metadata": {},
     "output_type": "display_data"
    }
   ],
   "execution_count": 36
  },
  {
   "cell_type": "markdown",
   "metadata": {
    "id": "OIpVmkvp9IBe"
   },
   "source": [
    "# Інші цікаві способи використання Random Forest\n",
    "## Регресія за допомогою випадкового лісу (Random forest regression)"
   ]
  },
  {
   "cell_type": "code",
   "metadata": {
    "id": "WGHqR2PH9IBe",
    "ExecuteTime": {
     "end_time": "2025-02-23T10:47:49.267045Z",
     "start_time": "2025-02-23T10:47:49.263810Z"
    }
   },
   "source": [
    "rng = np.random.RandomState(42)\n",
    "x = 10 * rng.rand(200)"
   ],
   "outputs": [],
   "execution_count": 37
  },
  {
   "cell_type": "code",
   "metadata": {
    "id": "OeGfReOp9IBe",
    "ExecuteTime": {
     "end_time": "2025-02-23T10:47:52.132670Z",
     "start_time": "2025-02-23T10:47:52.130499Z"
    }
   },
   "source": [
    "def model(x, sigma=0.3):\n",
    "    fast_oscillation = np.sin(5 * x)\n",
    "    slow_oscillation = np.sin(0.5 * x)\n",
    "    noise = sigma * rng.randn(len(x))\n",
    "\n",
    "    return slow_oscillation + fast_oscillation + noise"
   ],
   "outputs": [],
   "execution_count": 38
  },
  {
   "cell_type": "code",
   "metadata": {
    "id": "vhl8_4DQ9IBe",
    "outputId": "9dbb28da-ef42-47a1-9e05-643182f7a21b",
    "colab": {
     "base_uri": "https://localhost:8080/",
     "height": 430
    },
    "ExecuteTime": {
     "end_time": "2025-02-23T10:47:56.128789Z",
     "start_time": "2025-02-23T10:47:56.059709Z"
    }
   },
   "source": [
    "y = model(x)\n",
    "plt.errorbar(x, y, 0.3, fmt='o');"
   ],
   "outputs": [
    {
     "data": {
      "text/plain": [
       "<Figure size 640x480 with 1 Axes>"
      ],
      "image/png": "[encoded data removed]"
     },
     "metadata": {},
     "output_type": "display_data"
    }
   ],
   "execution_count": 39
  },
  {
   "cell_type": "code",
   "metadata": {
    "id": "Auu6NXdw9IBf",
    "outputId": "477b2de1-703b-49ba-b4d7-b68873d0c66f",
    "colab": {
     "base_uri": "https://localhost:8080/",
     "height": 74
    },
    "ExecuteTime": {
     "end_time": "2025-02-23T10:48:09.206936Z",
     "start_time": "2025-02-23T10:48:09.124047Z"
    }
   },
   "source": [
    "from sklearn.ensemble import RandomForestRegressor\n",
    "forest = RandomForestRegressor(n_estimators=200)\n",
    "forest.fit(x[:, None], y)"
   ],
   "outputs": [
    {
     "data": {
      "text/plain": [
       "RandomForestRegressor(n_estimators=200)"
      ],
      "text/html": [
       "<style>#sk-container-id-2 {\n",
       "  /* Definition of color scheme common for light and dark mode */\n",
       "  --sklearn-color-text: #000;\n",
       "  --sklearn-color-text-muted: #666;\n",
       "  --sklearn-color-line: gray;\n",
       "  /* Definition of color scheme for unfitted estimators */\n",
       "  --sklearn-color-unfitted-level-0: #fff5e6;\n",
       "  --sklearn-color-unfitted-level-1: #f6e4d2;\n",
       "  --sklearn-color-unfitted-level-2: #ffe0b3;\n",
       "  --sklearn-color-unfitted-level-3: chocolate;\n",
       "  /* Definition of color scheme for fitted estimators */\n",
       "  --sklearn-color-fitted-level-0: #f0f8ff;\n",
       "  --sklearn-color-fitted-level-1: #d4ebff;\n",
       "  --sklearn-color-fitted-level-2: #b3dbfd;\n",
       "  --sklearn-color-fitted-level-3: cornflowerblue;\n",
       "\n",
       "  /* Specific color for light theme */\n",
       "  --sklearn-color-text-on-default-background: var(--sg-text-color, var(--theme-code-foreground, var(--jp-content-font-color1, black)));\n",
       "  --sklearn-color-background: var(--sg-background-color, var(--theme-background, var(--jp-layout-color0, white)));\n",
       "  --sklearn-color-border-box: var(--sg-text-color, var(--theme-code-foreground, var(--jp-content-font-color1, black)));\n",
       "  --sklearn-color-icon: #696969;\n",
       "\n",
       "  @media (prefers-color-scheme: dark) {\n",
       "    /* Redefinition of color scheme for dark theme */\n",
       "    --sklearn-color-text-on-default-background: var(--sg-text-color, var(--theme-code-foreground, var(--jp-content-font-color1, white)));\n",
       "    --sklearn-color-background: var(--sg-background-color, var(--theme-background, var(--jp-layout-color0, #111)));\n",
       "    --sklearn-color-border-box: var(--sg-text-color, var(--theme-code-foreground, var(--jp-content-font-color1, white)));\n",
       "    --sklearn-color-icon: #878787;\n",
       "  }\n",
       "}\n",
       "\n",
       "#sk-container-id-2 {\n",
       "  color: var(--sklearn-color-text);\n",
       "}\n",
       "\n",
       "#sk-container-id-2 pre {\n",
       "  padding: 0;\n",
       "}\n",
       "\n",
       "#sk-container-id-2 input.sk-hidden--visually {\n",
       "  border: 0;\n",
       "  clip: rect(1px 1px 1px 1px);\n",
       "  clip: rect(1px, 1px, 1px, 1px);\n",
       "  height: 1px;\n",
       "  margin: -1px;\n",
       "  overflow: hidden;\n",
       "  padding: 0;\n",
       "  position: absolute;\n",
       "  width: 1px;\n",
       "}\n",
       "\n",
       "#sk-container-id-2 div.sk-dashed-wrapped {\n",
       "  border: 1px dashed var(--sklearn-color-line);\n",
       "  margin: 0 0.4em 0.5em 0.4em;\n",
       "  box-sizing: border-box;\n",
       "  padding-bottom: 0.4em;\n",
       "  background-color: var(--sklearn-color-background);\n",
       "}\n",
       "\n",
       "#sk-container-id-2 div.sk-container {\n",
       "  /* jupyter's `normalize.less` sets `[hidden] { display: none; }`\n",
       "     but bootstrap.min.css set `[hidden] { display: none !important; }`\n",
       "     so we also need the `!important` here to be able to override the\n",
       "     default hidden behavior on the sphinx rendered scikit-learn.org.\n",
       "     See: https://github.com/scikit-learn/scikit-learn/issues/21755 */\n",
       "  display: inline-block !important;\n",
       "  position: relative;\n",
       "}\n",
       "\n",
       "#sk-container-id-2 div.sk-text-repr-fallback {\n",
       "  display: none;\n",
       "}\n",
       "\n",
       "div.sk-parallel-item,\n",
       "div.sk-serial,\n",
       "div.sk-item {\n",
       "  /* draw centered vertical line to link estimators */\n",
       "  background-image: linear-gradient(var(--sklearn-color-text-on-default-background), var(--sklearn-color-text-on-default-background));\n",
       "  background-size: 2px 100%;\n",
       "  background-repeat: no-repeat;\n",
       "  background-position: center center;\n",
       "}\n",
       "\n",
       "/* Parallel-specific style estimator block */\n",
       "\n",
       "#sk-container-id-2 div.sk-parallel-item::after {\n",
       "  content: \"\";\n",
       "  width: 100%;\n",
       "  border-bottom: 2px solid var(--sklearn-color-text-on-default-background);\n",
       "  flex-grow: 1;\n",
       "}\n",
       "\n",
       "#sk-container-id-2 div.sk-parallel {\n",
       "  display: flex;\n",
       "  align-items: stretch;\n",
       "  justify-content: center;\n",
       "  background-color: var(--sklearn-color-background);\n",
       "  position: relative;\n",
       "}\n",
       "\n",
       "#sk-container-id-2 div.sk-parallel-item {\n",
       "  display: flex;\n",
       "  flex-direction: column;\n",
       "}\n",
       "\n",
       "#sk-container-id-2 div.sk-parallel-item:first-child::after {\n",
       "  align-self: flex-end;\n",
       "  width: 50%;\n",
       "}\n",
       "\n",
       "#sk-container-id-2 div.sk-parallel-item:last-child::after {\n",
       "  align-self: flex-start;\n",
       "  width: 50%;\n",
       "}\n",
       "\n",
       "#sk-container-id-2 div.sk-parallel-item:only-child::after {\n",
       "  width: 0;\n",
       "}\n",
       "\n",
       "/* Serial-specific style estimator block */\n",
       "\n",
       "#sk-container-id-2 div.sk-serial {\n",
       "  display: flex;\n",
       "  flex-direction: column;\n",
       "  align-items: center;\n",
       "  background-color: var(--sklearn-color-background);\n",
       "  padding-right: 1em;\n",
       "  padding-left: 1em;\n",
       "}\n",
       "\n",
       "\n",
       "/* Toggleable style: style used for estimator/Pipeline/ColumnTransformer box that is\n",
       "clickable and can be expanded/collapsed.\n",
       "- Pipeline and ColumnTransformer use this feature and define the default style\n",
       "- Estimators will overwrite some part of the style using the `sk-estimator` class\n",
       "*/\n",
       "\n",
       "/* Pipeline and ColumnTransformer style (default) */\n",
       "\n",
       "#sk-container-id-2 div.sk-toggleable {\n",
       "  /* Default theme specific background. It is overwritten whether we have a\n",
       "  specific estimator or a Pipeline/ColumnTransformer */\n",
       "  background-color: var(--sklearn-color-background);\n",
       "}\n",
       "\n",
       "/* Toggleable label */\n",
       "#sk-container-id-2 label.sk-toggleable__label {\n",
       "  cursor: pointer;\n",
       "  display: flex;\n",
       "  width: 100%;\n",
       "  margin-bottom: 0;\n",
       "  padding: 0.5em;\n",
       "  box-sizing: border-box;\n",
       "  text-align: center;\n",
       "  align-items: start;\n",
       "  justify-content: space-between;\n",
       "  gap: 0.5em;\n",
       "}\n",
       "\n",
       "#sk-container-id-2 label.sk-toggleable__label .caption {\n",
       "  font-size: 0.6rem;\n",
       "  font-weight: lighter;\n",
       "  color: var(--sklearn-color-text-muted);\n",
       "}\n",
       "\n",
       "#sk-container-id-2 label.sk-toggleable__label-arrow:before {\n",
       "  /* Arrow on the left of the label */\n",
       "  content: \"▸\";\n",
       "  float: left;\n",
       "  margin-right: 0.25em;\n",
       "  color: var(--sklearn-color-icon);\n",
       "}\n",
       "\n",
       "#sk-container-id-2 label.sk-toggleable__label-arrow:hover:before {\n",
       "  color: var(--sklearn-color-text);\n",
       "}\n",
       "\n",
       "/* Toggleable content - dropdown */\n",
       "\n",
       "#sk-container-id-2 div.sk-toggleable__content {\n",
       "  max-height: 0;\n",
       "  max-width: 0;\n",
       "  overflow: hidden;\n",
       "  text-align: left;\n",
       "  /* unfitted */\n",
       "  background-color: var(--sklearn-color-unfitted-level-0);\n",
       "}\n",
       "\n",
       "#sk-container-id-2 div.sk-toggleable__content.fitted {\n",
       "  /* fitted */\n",
       "  background-color: var(--sklearn-color-fitted-level-0);\n",
       "}\n",
       "\n",
       "#sk-container-id-2 div.sk-toggleable__content pre {\n",
       "  margin: 0.2em;\n",
       "  border-radius: 0.25em;\n",
       "  color: var(--sklearn-color-text);\n",
       "  /* unfitted */\n",
       "  background-color: var(--sklearn-color-unfitted-level-0);\n",
       "}\n",
       "\n",
       "#sk-container-id-2 div.sk-toggleable__content.fitted pre {\n",
       "  /* unfitted */\n",
       "  background-color: var(--sklearn-color-fitted-level-0);\n",
       "}\n",
       "\n",
       "#sk-container-id-2 input.sk-toggleable__control:checked~div.sk-toggleable__content {\n",
       "  /* Expand drop-down */\n",
       "  max-height: 200px;\n",
       "  max-width: 100%;\n",
       "  overflow: auto;\n",
       "}\n",
       "\n",
       "#sk-container-id-2 input.sk-toggleable__control:checked~label.sk-toggleable__label-arrow:before {\n",
       "  content: \"▾\";\n",
       "}\n",
       "\n",
       "/* Pipeline/ColumnTransformer-specific style */\n",
       "\n",
       "#sk-container-id-2 div.sk-label input.sk-toggleable__control:checked~label.sk-toggleable__label {\n",
       "  color: var(--sklearn-color-text);\n",
       "  background-color: var(--sklearn-color-unfitted-level-2);\n",
       "}\n",
       "\n",
       "#sk-container-id-2 div.sk-label.fitted input.sk-toggleable__control:checked~label.sk-toggleable__label {\n",
       "  background-color: var(--sklearn-color-fitted-level-2);\n",
       "}\n",
       "\n",
       "/* Estimator-specific style */\n",
       "\n",
       "/* Colorize estimator box */\n",
       "#sk-container-id-2 div.sk-estimator input.sk-toggleable__control:checked~label.sk-toggleable__label {\n",
       "  /* unfitted */\n",
       "  background-color: var(--sklearn-color-unfitted-level-2);\n",
       "}\n",
       "\n",
       "#sk-container-id-2 div.sk-estimator.fitted input.sk-toggleable__control:checked~label.sk-toggleable__label {\n",
       "  /* fitted */\n",
       "  background-color: var(--sklearn-color-fitted-level-2);\n",
       "}\n",
       "\n",
       "#sk-container-id-2 div.sk-label label.sk-toggleable__label,\n",
       "#sk-container-id-2 div.sk-label label {\n",
       "  /* The background is the default theme color */\n",
       "  color: var(--sklearn-color-text-on-default-background);\n",
       "}\n",
       "\n",
       "/* On hover, darken the color of the background */\n",
       "#sk-container-id-2 div.sk-label:hover label.sk-toggleable__label {\n",
       "  color: var(--sklearn-color-text);\n",
       "  background-color: var(--sklearn-color-unfitted-level-2);\n",
       "}\n",
       "\n",
       "/* Label box, darken color on hover, fitted */\n",
       "#sk-container-id-2 div.sk-label.fitted:hover label.sk-toggleable__label.fitted {\n",
       "  color: var(--sklearn-color-text);\n",
       "  background-color: var(--sklearn-color-fitted-level-2);\n",
       "}\n",
       "\n",
       "/* Estimator label */\n",
       "\n",
       "#sk-container-id-2 div.sk-label label {\n",
       "  font-family: monospace;\n",
       "  font-weight: bold;\n",
       "  display: inline-block;\n",
       "  line-height: 1.2em;\n",
       "}\n",
       "\n",
       "#sk-container-id-2 div.sk-label-container {\n",
       "  text-align: center;\n",
       "}\n",
       "\n",
       "/* Estimator-specific */\n",
       "#sk-container-id-2 div.sk-estimator {\n",
       "  font-family: monospace;\n",
       "  border: 1px dotted var(--sklearn-color-border-box);\n",
       "  border-radius: 0.25em;\n",
       "  box-sizing: border-box;\n",
       "  margin-bottom: 0.5em;\n",
       "  /* unfitted */\n",
       "  background-color: var(--sklearn-color-unfitted-level-0);\n",
       "}\n",
       "\n",
       "#sk-container-id-2 div.sk-estimator.fitted {\n",
       "  /* fitted */\n",
       "  background-color: var(--sklearn-color-fitted-level-0);\n",
       "}\n",
       "\n",
       "/* on hover */\n",
       "#sk-container-id-2 div.sk-estimator:hover {\n",
       "  /* unfitted */\n",
       "  background-color: var(--sklearn-color-unfitted-level-2);\n",
       "}\n",
       "\n",
       "#sk-container-id-2 div.sk-estimator.fitted:hover {\n",
       "  /* fitted */\n",
       "  background-color: var(--sklearn-color-fitted-level-2);\n",
       "}\n",
       "\n",
       "/* Specification for estimator info (e.g. \"i\" and \"?\") */\n",
       "\n",
       "/* Common style for \"i\" and \"?\" */\n",
       "\n",
       ".sk-estimator-doc-link,\n",
       "a:link.sk-estimator-doc-link,\n",
       "a:visited.sk-estimator-doc-link {\n",
       "  float: right;\n",
       "  font-size: smaller;\n",
       "  line-height: 1em;\n",
       "  font-family: monospace;\n",
       "  background-color: var(--sklearn-color-background);\n",
       "  border-radius: 1em;\n",
       "  height: 1em;\n",
       "  width: 1em;\n",
       "  text-decoration: none !important;\n",
       "  margin-left: 0.5em;\n",
       "  text-align: center;\n",
       "  /* unfitted */\n",
       "  border: var(--sklearn-color-unfitted-level-1) 1pt solid;\n",
       "  color: var(--sklearn-color-unfitted-level-1);\n",
       "}\n",
       "\n",
       ".sk-estimator-doc-link.fitted,\n",
       "a:link.sk-estimator-doc-link.fitted,\n",
       "a:visited.sk-estimator-doc-link.fitted {\n",
       "  /* fitted */\n",
       "  border: var(--sklearn-color-fitted-level-1) 1pt solid;\n",
       "  color: var(--sklearn-color-fitted-level-1);\n",
       "}\n",
       "\n",
       "/* On hover */\n",
       "div.sk-estimator:hover .sk-estimator-doc-link:hover,\n",
       ".sk-estimator-doc-link:hover,\n",
       "div.sk-label-container:hover .sk-estimator-doc-link:hover,\n",
       ".sk-estimator-doc-link:hover {\n",
       "  /* unfitted */\n",
       "  background-color: var(--sklearn-color-unfitted-level-3);\n",
       "  color: var(--sklearn-color-background);\n",
       "  text-decoration: none;\n",
       "}\n",
       "\n",
       "div.sk-estimator.fitted:hover .sk-estimator-doc-link.fitted:hover,\n",
       ".sk-estimator-doc-link.fitted:hover,\n",
       "div.sk-label-container:hover .sk-estimator-doc-link.fitted:hover,\n",
       ".sk-estimator-doc-link.fitted:hover {\n",
       "  /* fitted */\n",
       "  background-color: var(--sklearn-color-fitted-level-3);\n",
       "  color: var(--sklearn-color-background);\n",
       "  text-decoration: none;\n",
       "}\n",
       "\n",
       "/* Span, style for the box shown on hovering the info icon */\n",
       ".sk-estimator-doc-link span {\n",
       "  display: none;\n",
       "  z-index: 9999;\n",
       "  position: relative;\n",
       "  font-weight: normal;\n",
       "  right: .2ex;\n",
       "  padding: .5ex;\n",
       "  margin: .5ex;\n",
       "  width: min-content;\n",
       "  min-width: 20ex;\n",
       "  max-width: 50ex;\n",
       "  color: var(--sklearn-color-text);\n",
       "  box-shadow: 2pt 2pt 4pt #999;\n",
       "  /* unfitted */\n",
       "  background: var(--sklearn-color-unfitted-level-0);\n",
       "  border: .5pt solid var(--sklearn-color-unfitted-level-3);\n",
       "}\n",
       "\n",
       ".sk-estimator-doc-link.fitted span {\n",
       "  /* fitted */\n",
       "  background: var(--sklearn-color-fitted-level-0);\n",
       "  border: var(--sklearn-color-fitted-level-3);\n",
       "}\n",
       "\n",
       ".sk-estimator-doc-link:hover span {\n",
       "  display: block;\n",
       "}\n",
       "\n",
       "/* \"?\"-specific style due to the `<a>` HTML tag */\n",
       "\n",
       "#sk-container-id-2 a.estimator_doc_link {\n",
       "  float: right;\n",
       "  font-size: 1rem;\n",
       "  line-height: 1em;\n",
       "  font-family: monospace;\n",
       "  background-color: var(--sklearn-color-background);\n",
       "  border-radius: 1rem;\n",
       "  height: 1rem;\n",
       "  width: 1rem;\n",
       "  text-decoration: none;\n",
       "  /* unfitted */\n",
       "  color: var(--sklearn-color-unfitted-level-1);\n",
       "  border: var(--sklearn-color-unfitted-level-1) 1pt solid;\n",
       "}\n",
       "\n",
       "#sk-container-id-2 a.estimator_doc_link.fitted {\n",
       "  /* fitted */\n",
       "  border: var(--sklearn-color-fitted-level-1) 1pt solid;\n",
       "  color: var(--sklearn-color-fitted-level-1);\n",
       "}\n",
       "\n",
       "/* On hover */\n",
       "#sk-container-id-2 a.estimator_doc_link:hover {\n",
       "  /* unfitted */\n",
       "  background-color: var(--sklearn-color-unfitted-level-3);\n",
       "  color: var(--sklearn-color-background);\n",
       "  text-decoration: none;\n",
       "}\n",
       "\n",
       "#sk-container-id-2 a.estimator_doc_link.fitted:hover {\n",
       "  /* fitted */\n",
       "  background-color: var(--sklearn-color-fitted-level-3);\n",
       "}\n",
       "</style><div id=\"sk-container-id-2\" class=\"sk-top-container\"><div class=\"sk-text-repr-fallback\"><pre>RandomForestRegressor(n_estimators=200)</pre><b>In a Jupyter environment, please rerun this cell to show the HTML representation or trust the notebook. <br />On GitHub, the HTML representation is unable to render, please try loading this page with nbviewer.org.</b></div><div class=\"sk-container\" hidden><div class=\"sk-item\"><div class=\"sk-estimator fitted sk-toggleable\"><input class=\"sk-toggleable__control sk-hidden--visually\" id=\"sk-estimator-id-2\" type=\"checkbox\" checked><label for=\"sk-estimator-id-2\" class=\"sk-toggleable__label fitted sk-toggleable__label-arrow\"><div><div>RandomForestRegressor</div></div><div><a class=\"sk-estimator-doc-link fitted\" rel=\"noreferrer\" target=\"_blank\" href=\"https://scikit-learn.org/1.6/modules/generated/sklearn.ensemble.RandomForestRegressor.html\">?<span>Documentation for RandomForestRegressor</span></a><span class=\"sk-estimator-doc-link fitted\">i<span>Fitted</span></span></div></label><div class=\"sk-toggleable__content fitted\"><pre>RandomForestRegressor(n_estimators=200)</pre></div> </div></div></div></div>"
      ]
     },
     "execution_count": 40,
     "metadata": {},
     "output_type": "execute_result"
    }
   ],
   "execution_count": 40
  },
  {
   "cell_type": "code",
   "metadata": {
    "id": "OQ0MCu0x9IBf",
    "ExecuteTime": {
     "end_time": "2025-02-23T10:48:30.585027Z",
     "start_time": "2025-02-23T10:48:30.571880Z"
    }
   },
   "source": [
    "xfit = np.linspace(0, 10, 1000)\n",
    "yfit = forest.predict(xfit[:, None])\n",
    "ytrue = model(xfit, sigma=0)"
   ],
   "outputs": [],
   "execution_count": 41
  },
  {
   "cell_type": "code",
   "metadata": {
    "id": "G4NH7ctP9IBf",
    "outputId": "6a7c9448-ad61-4217-a82d-6b8cb52a2c7a",
    "colab": {
     "base_uri": "https://localhost:8080/",
     "height": 522
    },
    "ExecuteTime": {
     "end_time": "2025-02-23T10:48:32.397324Z",
     "start_time": "2025-02-23T10:48:32.320429Z"
    }
   },
   "source": [
    "plt.figure(figsize=(10,6))\n",
    "plt.errorbar(x, y, 0.3, fmt='o', alpha=0.5)\n",
    "plt.plot(xfit, yfit, '-r');\n",
    "plt.plot(xfit, ytrue, '-k', alpha=0.5);"
   ],
   "outputs": [
    {
     "data": {
      "text/plain": [
       "<Figure size 1000x600 with 1 Axes>"
      ],
      "image/png": "[encoded data removed]"
     },
     "metadata": {},
     "output_type": "display_data"
    }
   ],
   "execution_count": 42
  },
  {
   "cell_type": "markdown",
   "metadata": {
    "ExecuteTime": {
     "end_time": "2021-11-01T16:20:53.096922Z",
     "start_time": "2021-11-01T16:20:53.094766Z"
    },
    "id": "5P12OwP69IBf"
   },
   "source": [
    "## Random forest для класифікації зображень з цифрами"
   ]
  },
  {
   "cell_type": "markdown",
   "source": [
    "Спробуємо попрацювати з картинками 🖼\n",
    "Для цього завантажимо набір рукописних цифр."
   ],
   "metadata": {
    "id": "zLhZnCdta06G"
   }
  },
  {
   "cell_type": "code",
   "metadata": {
    "id": "XxcROOPv9IBf",
    "outputId": "86cee994-c395-49b4-ad9f-f732ad967bd9",
    "colab": {
     "base_uri": "https://localhost:8080/"
    },
    "ExecuteTime": {
     "end_time": "2025-02-23T10:48:49.881758Z",
     "start_time": "2025-02-23T10:48:49.353104Z"
    }
   },
   "source": [
    "from sklearn.datasets import load_digits\n",
    "digits = load_digits()\n",
    "digits.keys()"
   ],
   "outputs": [
    {
     "data": {
      "text/plain": [
       "dict_keys(['data', 'target', 'frame', 'feature_names', 'target_names', 'images', 'DESCR'])"
      ]
     },
     "execution_count": 43,
     "metadata": {},
     "output_type": "execute_result"
    }
   ],
   "execution_count": 43
  },
  {
   "cell_type": "code",
   "metadata": {
    "id": "FKa6P3wA9IBg",
    "outputId": "e69a121b-76e3-41d0-855e-a9c05cbff2b8",
    "colab": {
     "base_uri": "https://localhost:8080/"
    },
    "ExecuteTime": {
     "end_time": "2025-02-23T10:48:51.968464Z",
     "start_time": "2025-02-23T10:48:51.965998Z"
    }
   },
   "source": [
    "digits.data.max()"
   ],
   "outputs": [
    {
     "data": {
      "text/plain": [
       "np.float64(16.0)"
      ]
     },
     "execution_count": 44,
     "metadata": {},
     "output_type": "execute_result"
    }
   ],
   "execution_count": 44
  },
  {
   "cell_type": "markdown",
   "source": [
    "Візуалізуємо наші дані."
   ],
   "metadata": {
    "id": "NLFIQb1Qayof"
   }
  },
  {
   "cell_type": "code",
   "metadata": {
    "id": "COfAbU9q9IBg",
    "outputId": "9a620ef9-3b6f-4715-abf7-9e919f935427",
    "colab": {
     "base_uri": "https://localhost:8080/",
     "height": 636
    },
    "ExecuteTime": {
     "end_time": "2025-02-23T10:49:14.661275Z",
     "start_time": "2025-02-23T10:49:14.054833Z"
    }
   },
   "source": [
    "fig = plt.figure(figsize=(6, 6))  # figure size in inches\n",
    "fig.subplots_adjust(left=0, right=1, bottom=0, top=1, hspace=0.05, wspace=0.05)\n",
    "\n",
    "# plot the digits: each image is 8x8 pixels\n",
    "for i in range(64):\n",
    "    ax = fig.add_subplot(8, 8, i + 1, xticks=[], yticks=[])\n",
    "    ax.imshow(digits.images[i], cmap=plt.cm.binary, interpolation='nearest')\n",
    "\n",
    "    # label the image with the target value\n",
    "    ax.text(0, 7, str(digits.target[i]))"
   ],
   "outputs": [
    {
     "data": {
      "text/plain": [
       "<Figure size 600x600 with 64 Axes>"
      ],
      "image/png": "[encoded data removed]"
     },
     "metadata": {},
     "output_type": "display_data"
    }
   ],
   "execution_count": 46
  },
  {
   "cell_type": "code",
   "metadata": {
    "id": "RFhoWwQU9IBg",
    "outputId": "a5f5bee0-1754-4bd7-b345-65122e75ab98",
    "colab": {
     "base_uri": "https://localhost:8080/"
    },
    "ExecuteTime": {
     "end_time": "2025-02-23T10:49:16.934645Z",
     "start_time": "2025-02-23T10:49:16.932241Z"
    }
   },
   "source": [
    "digits.data.shape"
   ],
   "outputs": [
    {
     "data": {
      "text/plain": [
       "(1797, 64)"
      ]
     },
     "execution_count": 47,
     "metadata": {},
     "output_type": "execute_result"
    }
   ],
   "execution_count": 47
  },
  {
   "cell_type": "code",
   "source": [
    "digits.data"
   ],
   "metadata": {
    "colab": {
     "base_uri": "https://localhost:8080/"
    },
    "id": "unSiTQjOs5Pk",
    "outputId": "0f7046c0-300a-43e2-ecb6-13f4df45c1f2",
    "ExecuteTime": {
     "end_time": "2025-02-23T10:49:17.942330Z",
     "start_time": "2025-02-23T10:49:17.939442Z"
    }
   },
   "outputs": [
    {
     "data": {
      "text/plain": [
       "array([[ 0.,  0.,  5., ...,  0.,  0.,  0.],\n",
       "       [ 0.,  0.,  0., ..., 10.,  0.,  0.],\n",
       "       [ 0.,  0.,  0., ..., 16.,  9.,  0.],\n",
       "       ...,\n",
       "       [ 0.,  0.,  1., ...,  6.,  0.,  0.],\n",
       "       [ 0.,  0.,  2., ..., 12.,  0.,  0.],\n",
       "       [ 0.,  0., 10., ..., 12.,  1.,  0.]])"
      ]
     },
     "execution_count": 48,
     "metadata": {},
     "output_type": "execute_result"
    }
   ],
   "execution_count": 48
  },
  {
   "cell_type": "code",
   "metadata": {
    "id": "gaSpiiha9IBg",
    "ExecuteTime": {
     "end_time": "2025-02-23T10:49:28.009048Z",
     "start_time": "2025-02-23T10:49:26.666922Z"
    }
   },
   "source": [
    "from sklearn.model_selection import train_test_split\n",
    "Xtrain, Xtest, ytrain, ytest = train_test_split(digits.data, digits.target,\n",
    "                                                random_state=0)\n",
    "model = RandomForestClassifier(n_estimators=1000)\n",
    "model.fit(Xtrain, ytrain)\n",
    "ypred = model.predict(Xtest)"
   ],
   "outputs": [],
   "execution_count": 49
  },
  {
   "cell_type": "code",
   "metadata": {
    "id": "pobiMapf9IBg",
    "outputId": "0c352423-09f1-4af2-f21b-c42678dc08c7",
    "colab": {
     "base_uri": "https://localhost:8080/"
    },
    "ExecuteTime": {
     "end_time": "2025-02-23T10:50:18.185559Z",
     "start_time": "2025-02-23T10:50:18.180304Z"
    }
   },
   "source": [
    "from sklearn import metrics\n",
    "print(metrics.classification_report(ypred, ytest))"
   ],
   "outputs": [
    {
     "name": "stdout",
     "output_type": "stream",
     "text": [
      "              precision    recall  f1-score   support\n",
      "\n",
      "           0       1.00      0.97      0.99        38\n",
      "           1       0.98      0.98      0.98        43\n",
      "           2       0.95      1.00      0.98        42\n",
      "           3       0.98      0.96      0.97        46\n",
      "           4       0.97      1.00      0.99        37\n",
      "           5       0.98      0.96      0.97        49\n",
      "           6       1.00      1.00      1.00        52\n",
      "           7       1.00      0.96      0.98        50\n",
      "           8       0.94      0.98      0.96        46\n",
      "           9       0.98      0.98      0.98        47\n",
      "\n",
      "    accuracy                           0.98       450\n",
      "   macro avg       0.98      0.98      0.98       450\n",
      "weighted avg       0.98      0.98      0.98       450\n",
      "\n"
     ]
    }
   ],
   "execution_count": 51
  },
  {
   "cell_type": "code",
   "metadata": {
    "id": "D0RsceAd9IBg",
    "outputId": "ccebce43-1a17-4cdd-e8a1-0bd3657d8da9",
    "colab": {
     "base_uri": "https://localhost:8080/",
     "height": 542
    },
    "ExecuteTime": {
     "end_time": "2025-02-23T10:50:53.962988Z",
     "start_time": "2025-02-23T10:50:53.826556Z"
    }
   },
   "source": [
    "import seaborn as sns\n",
    "from sklearn.metrics import confusion_matrix\n",
    "\n",
    "mat = confusion_matrix(ytest, ypred)\n",
    "plt.figure(figsize=(10,6))\n",
    "sns.heatmap(mat.T, square=True, annot=True, fmt='d', cbar=True)\n",
    "plt.xlabel('true label')\n",
    "plt.ylabel('predicted label');"
   ],
   "outputs": [
    {
     "data": {
      "text/plain": [
       "<Figure size 1000x600 with 2 Axes>"
      ],
      "image/png": "[encoded data removed]"
     },
     "metadata": {},
     "output_type": "display_data"
    }
   ],
   "execution_count": 52
  },
  {
   "cell_type": "code",
   "source": [
    "digits.target"
   ],
   "metadata": {
    "colab": {
     "base_uri": "https://localhost:8080/"
    },
    "id": "G8dJOXo8tl1J",
    "outputId": "9ab40cb7-22bd-4fba-88f2-8bb04c80b30f",
    "ExecuteTime": {
     "end_time": "2025-02-23T10:51:22.578211Z",
     "start_time": "2025-02-23T10:51:22.575936Z"
    }
   },
   "outputs": [
    {
     "data": {
      "text/plain": [
       "array([0, 1, 2, ..., 8, 9, 8])"
      ]
     },
     "execution_count": 53,
     "metadata": {},
     "output_type": "execute_result"
    }
   ],
   "execution_count": 53
  },
  {
   "cell_type": "code",
   "source": [
    "err_df = pd.DataFrame(digits.target, columns=['true'])\n",
    "ypred_full = model.predict(digits.data)\n",
    "\n",
    "err_df['pred'] = ypred_full\n",
    "err_df.head()"
   ],
   "metadata": {
    "colab": {
     "base_uri": "https://localhost:8080/",
     "height": 206
    },
    "id": "7pUWiXuDtd3d",
    "outputId": "8733b1bc-8b3b-4f8c-d17f-6e74a527ca93",
    "ExecuteTime": {
     "end_time": "2025-02-23T10:51:33.557073Z",
     "start_time": "2025-02-23T10:51:33.456495Z"
    }
   },
   "outputs": [
    {
     "data": {
      "text/plain": [
       "   true  pred\n",
       "0     0     0\n",
       "1     1     1\n",
       "2     2     2\n",
       "3     3     3\n",
       "4     4     4"
      ],
      "text/html": [
       "<div>\n",
       "<style scoped>\n",
       "    .dataframe tbody tr th:only-of-type {\n",
       "        vertical-align: middle;\n",
       "    }\n",
       "\n",
       "    .dataframe tbody tr th {\n",
       "        vertical-align: top;\n",
       "    }\n",
       "\n",
       "    .dataframe thead th {\n",
       "        text-align: right;\n",
       "    }\n",
       "</style>\n",
       "<table border=\"1\" class=\"dataframe\">\n",
       "  <thead>\n",
       "    <tr style=\"text-align: right;\">\n",
       "      <th></th>\n",
       "      <th>true</th>\n",
       "      <th>pred</th>\n",
       "    </tr>\n",
       "  </thead>\n",
       "  <tbody>\n",
       "    <tr>\n",
       "      <th>0</th>\n",
       "      <td>0</td>\n",
       "      <td>0</td>\n",
       "    </tr>\n",
       "    <tr>\n",
       "      <th>1</th>\n",
       "      <td>1</td>\n",
       "      <td>1</td>\n",
       "    </tr>\n",
       "    <tr>\n",
       "      <th>2</th>\n",
       "      <td>2</td>\n",
       "      <td>2</td>\n",
       "    </tr>\n",
       "    <tr>\n",
       "      <th>3</th>\n",
       "      <td>3</td>\n",
       "      <td>3</td>\n",
       "    </tr>\n",
       "    <tr>\n",
       "      <th>4</th>\n",
       "      <td>4</td>\n",
       "      <td>4</td>\n",
       "    </tr>\n",
       "  </tbody>\n",
       "</table>\n",
       "</div>"
      ]
     },
     "execution_count": 54,
     "metadata": {},
     "output_type": "execute_result"
    }
   ],
   "execution_count": 54
  },
  {
   "cell_type": "code",
   "source": [
    "err_df[err_df['true'] != err_df['pred']]"
   ],
   "metadata": {
    "colab": {
     "base_uri": "https://localhost:8080/",
     "height": 363
    },
    "id": "9xxqs2tEtrt0",
    "outputId": "c56c0ca9-984f-4397-8bbb-51c2adaba906",
    "ExecuteTime": {
     "end_time": "2025-02-23T10:51:41.712864Z",
     "start_time": "2025-02-23T10:51:41.708070Z"
    }
   },
   "outputs": [
    {
     "data": {
      "text/plain": [
       "      true  pred\n",
       "5        5     9\n",
       "37       9     5\n",
       "746      4     7\n",
       "899      8     3\n",
       "905      8     1\n",
       "1264     1     5\n",
       "1299     2     3\n",
       "1593     2     0\n",
       "1666     8     7\n",
       "1727     3     8"
      ],
      "text/html": [
       "<div>\n",
       "<style scoped>\n",
       "    .dataframe tbody tr th:only-of-type {\n",
       "        vertical-align: middle;\n",
       "    }\n",
       "\n",
       "    .dataframe tbody tr th {\n",
       "        vertical-align: top;\n",
       "    }\n",
       "\n",
       "    .dataframe thead th {\n",
       "        text-align: right;\n",
       "    }\n",
       "</style>\n",
       "<table border=\"1\" class=\"dataframe\">\n",
       "  <thead>\n",
       "    <tr style=\"text-align: right;\">\n",
       "      <th></th>\n",
       "      <th>true</th>\n",
       "      <th>pred</th>\n",
       "    </tr>\n",
       "  </thead>\n",
       "  <tbody>\n",
       "    <tr>\n",
       "      <th>5</th>\n",
       "      <td>5</td>\n",
       "      <td>9</td>\n",
       "    </tr>\n",
       "    <tr>\n",
       "      <th>37</th>\n",
       "      <td>9</td>\n",
       "      <td>5</td>\n",
       "    </tr>\n",
       "    <tr>\n",
       "      <th>746</th>\n",
       "      <td>4</td>\n",
       "      <td>7</td>\n",
       "    </tr>\n",
       "    <tr>\n",
       "      <th>899</th>\n",
       "      <td>8</td>\n",
       "      <td>3</td>\n",
       "    </tr>\n",
       "    <tr>\n",
       "      <th>905</th>\n",
       "      <td>8</td>\n",
       "      <td>1</td>\n",
       "    </tr>\n",
       "    <tr>\n",
       "      <th>1264</th>\n",
       "      <td>1</td>\n",
       "      <td>5</td>\n",
       "    </tr>\n",
       "    <tr>\n",
       "      <th>1299</th>\n",
       "      <td>2</td>\n",
       "      <td>3</td>\n",
       "    </tr>\n",
       "    <tr>\n",
       "      <th>1593</th>\n",
       "      <td>2</td>\n",
       "      <td>0</td>\n",
       "    </tr>\n",
       "    <tr>\n",
       "      <th>1666</th>\n",
       "      <td>8</td>\n",
       "      <td>7</td>\n",
       "    </tr>\n",
       "    <tr>\n",
       "      <th>1727</th>\n",
       "      <td>3</td>\n",
       "      <td>8</td>\n",
       "    </tr>\n",
       "  </tbody>\n",
       "</table>\n",
       "</div>"
      ]
     },
     "execution_count": 55,
     "metadata": {},
     "output_type": "execute_result"
    }
   ],
   "execution_count": 55
  },
  {
   "cell_type": "code",
   "source": [
    "err_df[:5]"
   ],
   "metadata": {
    "colab": {
     "base_uri": "https://localhost:8080/",
     "height": 206
    },
    "id": "letIyhB2uSoe",
    "outputId": "f64afe0c-e19c-4663-a5bd-1600473bf5ac",
    "ExecuteTime": {
     "end_time": "2025-02-23T10:51:49.073439Z",
     "start_time": "2025-02-23T10:51:49.069668Z"
    }
   },
   "outputs": [
    {
     "data": {
      "text/plain": [
       "   true  pred\n",
       "0     0     0\n",
       "1     1     1\n",
       "2     2     2\n",
       "3     3     3\n",
       "4     4     4"
      ],
      "text/html": [
       "<div>\n",
       "<style scoped>\n",
       "    .dataframe tbody tr th:only-of-type {\n",
       "        vertical-align: middle;\n",
       "    }\n",
       "\n",
       "    .dataframe tbody tr th {\n",
       "        vertical-align: top;\n",
       "    }\n",
       "\n",
       "    .dataframe thead th {\n",
       "        text-align: right;\n",
       "    }\n",
       "</style>\n",
       "<table border=\"1\" class=\"dataframe\">\n",
       "  <thead>\n",
       "    <tr style=\"text-align: right;\">\n",
       "      <th></th>\n",
       "      <th>true</th>\n",
       "      <th>pred</th>\n",
       "    </tr>\n",
       "  </thead>\n",
       "  <tbody>\n",
       "    <tr>\n",
       "      <th>0</th>\n",
       "      <td>0</td>\n",
       "      <td>0</td>\n",
       "    </tr>\n",
       "    <tr>\n",
       "      <th>1</th>\n",
       "      <td>1</td>\n",
       "      <td>1</td>\n",
       "    </tr>\n",
       "    <tr>\n",
       "      <th>2</th>\n",
       "      <td>2</td>\n",
       "      <td>2</td>\n",
       "    </tr>\n",
       "    <tr>\n",
       "      <th>3</th>\n",
       "      <td>3</td>\n",
       "      <td>3</td>\n",
       "    </tr>\n",
       "    <tr>\n",
       "      <th>4</th>\n",
       "      <td>4</td>\n",
       "      <td>4</td>\n",
       "    </tr>\n",
       "  </tbody>\n",
       "</table>\n",
       "</div>"
      ]
     },
     "execution_count": 56,
     "metadata": {},
     "output_type": "execute_result"
    }
   ],
   "execution_count": 56
  },
  {
   "cell_type": "code",
   "source": [
    "plt.imshow(digits.images[1]);"
   ],
   "metadata": {
    "colab": {
     "base_uri": "https://localhost:8080/",
     "height": 430
    },
    "id": "A4d7P7BUt2lZ",
    "outputId": "023ef77c-1dee-4ed9-f8c6-ad581aa408ea",
    "ExecuteTime": {
     "end_time": "2025-02-23T10:52:13.717690Z",
     "start_time": "2025-02-23T10:52:13.647491Z"
    }
   },
   "outputs": [
    {
     "data": {
      "text/plain": [
       "<Figure size 640x480 with 1 Axes>"
      ],
      "image/png": "[encoded data removed]"
     },
     "metadata": {},
     "output_type": "display_data"
    }
   ],
   "execution_count": 57
  }
 ],
 "metadata": {
  "kernelspec": {
   "display_name": "Python 3 (ipykernel)",
   "language": "python",
   "name": "python3"
  },
  "language_info": {
   "codemirror_mode": {
    "name": "ipython",
    "version": 3
   },
   "file_extension": ".py",
   "mimetype": "text/x-python",
   "name": "python",
   "nbconvert_exporter": "python",
   "pygments_lexer": "ipython3",
   "version": "3.12.0"
  },
  "toc": {
   "base_numbering": 1,
   "nav_menu": {},
   "number_sections": true,
   "sideBar": true,
   "skip_h1_title": false,
   "title_cell": "Table of Contents",
   "title_sidebar": "Contents",
   "toc_cell": false,
   "toc_position": {},
   "toc_section_display": true,
   "toc_window_display": false
  },
  "varInspector": {
   "cols": {
    "lenName": 16,
    "lenType": 16,
    "lenVar": 40
   },
   "kernels_config": {
    "python": {
     "delete_cmd_postfix": "",
     "delete_cmd_prefix": "del ",
     "library": "var_list.py",
     "varRefreshCmd": "print(var_dic_list())"
    },
    "r": {
     "delete_cmd_postfix": ") ",
     "delete_cmd_prefix": "rm(",
     "library": "var_list.r",
     "varRefreshCmd": "cat(var_dic_list()) "
    }
   },
   "types_to_exclude": [
    "module",
    "function",
    "builtin_function_or_method",
    "instance",
    "_Feature"
   ],
   "window_display": false
  },
  "colab": {
   "provenance": []
  }
 },
 "nbformat": 4,
 "nbformat_minor": 0
}
