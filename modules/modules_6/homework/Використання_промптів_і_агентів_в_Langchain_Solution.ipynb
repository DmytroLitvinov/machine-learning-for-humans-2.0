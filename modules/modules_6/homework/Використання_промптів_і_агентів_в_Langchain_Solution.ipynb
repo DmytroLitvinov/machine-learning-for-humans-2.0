{
  "nbformat": 4,
  "nbformat_minor": 0,
  "metadata": {
    "colab": {
      "provenance": []
    },
    "kernelspec": {
      "name": "python3",
      "display_name": "Python 3"
    },
    "language_info": {
      "name": "python"
    }
  },
  "cells": [
    {
      "cell_type": "markdown",
      "source": [
        "\n",
        "### Завдання 1: Виклик LLM з базовим промптом\n",
        "\n",
        "Створіть можливість викликати LLM зі звичайним текстовим промптом.\n",
        "\n",
        "Промпт має дозвляти отримати інформацію простою мовою на певну тему. В цьому завданні ми хочемо дізнатись про тему \"Квантові обчислення\".\n",
        "\n",
        "Відповідь моделі повинна містити визначення, ключові переваги та поточні дослідження в цій галузі.\n",
        "\n",
        "Обмежте відповідь до 200 символів і пропишіть в промпті аби відповідь була короткою (це зекономить Вам час і гроші на згенеровані токени).\n",
        "\n",
        "В якості LLM можна скористатись як моделлю з HugginFace (рекомендую Mistral), так і ChatGPT4 або ChatGPT3. В обох випадках треба імпортувати потрібну \"обгортку\" (тобто клас, який дозволить ініціювати модель) з LangChain для виклику LLM за API, а також зчитати особистий токен з файла, наприклад, `creds.json`, який розміщений у Вас локально і Ви НЕ здаєте його в ДЗ і НЕ комітите в git 😏\n",
        "\n",
        "Встановіть своє значення температури на свій розсуд (тут немає правильного чи неправильного значення) і напишіть, чому ви обрали саме таке значення для цього завдання.  "
      ],
      "metadata": {
        "id": "RMalK_oYR-X_"
      }
    },
    {
      "cell_type": "code",
      "source": [
        "!pip install -q langchain langchain_openai"
      ],
      "metadata": {
        "colab": {
          "base_uri": "https://localhost:8080/"
        },
        "id": "XatijEqAdh7x",
        "outputId": "604051f1-0225-4316-bb5a-fd659076c067"
      },
      "execution_count": null,
      "outputs": [
        {
          "output_type": "stream",
          "name": "stdout",
          "text": [
            "\u001b[?25l   \u001b[90m━━━━━━━━━━━━━━━━━━━━━━━━━━━━━━━━━━━━━━━━\u001b[0m \u001b[32m0.0/49.9 kB\u001b[0m \u001b[31m?\u001b[0m eta \u001b[36m-:--:--\u001b[0m\r\u001b[2K   \u001b[90m━━━━━━━━━━━━━━━━━━━━━━━━━━━━━━━━━━━━━━━━\u001b[0m \u001b[32m49.9/49.9 kB\u001b[0m \u001b[31m3.3 MB/s\u001b[0m eta \u001b[36m0:00:00\u001b[0m\n",
            "\u001b[?25h\u001b[?25l   \u001b[90m━━━━━━━━━━━━━━━━━━━━━━━━━━━━━━━━━━━━━━━━\u001b[0m \u001b[32m0.0/386.9 kB\u001b[0m \u001b[31m?\u001b[0m eta \u001b[36m-:--:--\u001b[0m\r\u001b[2K   \u001b[90m━━━━━━━━━━━━━━━━━━━━━━━━━━━━━━━━━━━━━━━━\u001b[0m \u001b[32m386.9/386.9 kB\u001b[0m \u001b[31m25.5 MB/s\u001b[0m eta \u001b[36m0:00:00\u001b[0m\n",
            "\u001b[?25h\u001b[?25l   \u001b[90m━━━━━━━━━━━━━━━━━━━━━━━━━━━━━━━━━━━━━━━━\u001b[0m \u001b[32m0.0/1.2 MB\u001b[0m \u001b[31m?\u001b[0m eta \u001b[36m-:--:--\u001b[0m\r\u001b[2K   \u001b[90m━━━━━━━━━━━━━━━━━━━━━━━━━━━━━━━━━━━━━━━━\u001b[0m \u001b[32m1.2/1.2 MB\u001b[0m \u001b[31m45.9 MB/s\u001b[0m eta \u001b[36m0:00:00\u001b[0m\n",
            "\u001b[?25h\u001b[?25l   \u001b[90m━━━━━━━━━━━━━━━━━━━━━━━━━━━━━━━━━━━━━━━━\u001b[0m \u001b[32m0.0/325.2 kB\u001b[0m \u001b[31m?\u001b[0m eta \u001b[36m-:--:--\u001b[0m\r\u001b[2K   \u001b[90m━━━━━━━━━━━━━━━━━━━━━━━━━━━━━━━━━━━━━━━━\u001b[0m \u001b[32m325.2/325.2 kB\u001b[0m \u001b[31m20.5 MB/s\u001b[0m eta \u001b[36m0:00:00\u001b[0m\n",
            "\u001b[?25h"
          ]
        }
      ]
    },
    {
      "cell_type": "code",
      "source": [
        "import json\n",
        "import os\n",
        "\n",
        "from langchain_openai import OpenAI"
      ],
      "metadata": {
        "id": "l_Jp19R0dDmD"
      },
      "execution_count": null,
      "outputs": []
    },
    {
      "cell_type": "code",
      "source": [
        "# Читаємо файл з токенами для доступу до сервісів\n",
        "with open('creds.json') as file:\n",
        "  creds = json.load(file)\n",
        "\n",
        "os.environ[\"OPENAI_API_KEY\"] = creds[\"OPENAI_API_KEY\"]"
      ],
      "metadata": {
        "id": "5sgW0C4GSgM-"
      },
      "execution_count": null,
      "outputs": []
    },
    {
      "cell_type": "code",
      "source": [
        "# я хочу доволі консервативні відпоіді з ноткою креативності\n",
        "overal_temperature = 0.1"
      ],
      "metadata": {
        "id": "djikgovuhTYn"
      },
      "execution_count": null,
      "outputs": []
    },
    {
      "cell_type": "code",
      "source": [
        "# Налаштування промпта\n",
        "text_prompt = \"Що таке квантові обчислення? Поясни простими словами їхні основні \\\n",
        "            переваги та надайте приклади сучасних досліджень у цій галузі. \\\n",
        "            Дай локанічну відповідь.\"\n",
        "\n",
        "# Виклик GPT-4 через LangChain\n",
        "llm = OpenAI(temperature=overal_temperature, max_tokens=200)\n",
        "response = llm.invoke(text_prompt)\n",
        "\n",
        "print(response)"
      ],
      "metadata": {
        "colab": {
          "base_uri": "https://localhost:8080/"
        },
        "id": "-8P6353GduuP",
        "outputId": "73127256-9c4a-4a71-b279-9dd3a4a1a62d"
      },
      "execution_count": null,
      "outputs": [
        {
          "output_type": "stream",
          "name": "stdout",
          "text": [
            "\n",
            "\n",
            "Квантові обчислення - це метод обробки інформації, який використовує властивості квантової механіки для вирішення складних обчислювальних задач. Основною перевагою квантових обчислень є їхній потенціал для вирішення задач, які для класичних комп'ютерів є надзвичайно складними або навіть неможливими. Наприклад, квантові обчислення можуть допомогти вирішити пр\n"
          ]
        }
      ]
    },
    {
      "cell_type": "code",
      "source": [
        "llm.model_name"
      ],
      "metadata": {
        "colab": {
          "base_uri": "https://localhost:8080/",
          "height": 35
        },
        "id": "Kr8ipa2jg0OL",
        "outputId": "57f9f53e-21ea-4972-f8d8-4bffea9aee0f"
      },
      "execution_count": null,
      "outputs": [
        {
          "output_type": "execute_result",
          "data": {
            "text/plain": [
              "'gpt-3.5-turbo-instruct'"
            ],
            "application/vnd.google.colaboratory.intrinsic+json": {
              "type": "string"
            }
          },
          "metadata": {},
          "execution_count": 21
        }
      ]
    },
    {
      "cell_type": "markdown",
      "source": [
        "### Завдання 2: Створення параметризованого промпта для генерації тексту\n",
        "Тепер ми хочемо оновити попередній фукнціонал так, аби в промпт ми могли передавати тему як параметр. Для цього скористайтесь `PromptTemplate` з `langchain` і реалізуйте параметризований промпт та виклик моделі з ним.\n",
        "\n",
        "Запустіть оновлений функціонал (промпт + модел) для пояснень про теми\n",
        "- \"Трансформери в машинному навчанні\"\n",
        "- \"Explainable AI\"\n",
        "- \"Responsible AI\"\n",
        "- \"Баєсівські методи в машинному навчанні\"\n",
        "- \"Batch prediction в MLOps\"\n",
        "\n",
        "Виведіть результати відпрацювання моделі на екран."
      ],
      "metadata": {
        "id": "UiIzV0UIS0GA"
      }
    },
    {
      "cell_type": "code",
      "source": [
        "from langchain.prompts import PromptTemplate"
      ],
      "metadata": {
        "id": "1_gdsBP4fI5q"
      },
      "execution_count": null,
      "outputs": []
    },
    {
      "cell_type": "code",
      "execution_count": null,
      "metadata": {
        "id": "pPq0lUpoj33z"
      },
      "outputs": [],
      "source": [
        "prompt = PromptTemplate(\n",
        "    input_variables=[\"topic\"],\n",
        "    template=\"Що таке {topic}? Поясни простими словами їхні основні \\\n",
        "            переваги та надайте приклади сучасних досліджень у цій галузі. \\\n",
        "            Дай локанічну відповідь.\",\n",
        ")"
      ]
    },
    {
      "cell_type": "code",
      "execution_count": null,
      "metadata": {
        "id": "IPTvCstej7WP"
      },
      "outputs": [],
      "source": [
        "topics = [\n",
        "    \"Баєсівські методи в машинному навчанні\",\n",
        "    \"Explainable AI\",\n",
        "    \"Responsible AI\"\n",
        "]"
      ]
    },
    {
      "cell_type": "code",
      "execution_count": null,
      "metadata": {
        "id": "qA1FWh13j-uH",
        "colab": {
          "base_uri": "https://localhost:8080/"
        },
        "outputId": "012856b1-53de-44bd-9871-f9592f6f2d68"
      },
      "outputs": [
        {
          "output_type": "stream",
          "name": "stdout",
          "text": [
            "-------БАЄСІВСЬКІ МЕТОДИ В МАШИННОМУ НАВЧАННІ-------\n",
            "\n",
            "\n",
            "Баєсівські методи в машинному навчанні - це підхід до розв'язання задач, який базується на теоремі Баєса та використовує ймовірнісні методи для прийняття рішень. Основна перевага цих методів полягає в тому, що вони дозволяють враховувати не тільки наявні дані, але й попередні знання та припущення про задачу. Це дозволяє отримати більш точ\n",
            "-------EXPLAINABLE AI-------\n",
            "\n",
            "\n",
            "Explainable AI (XAI) - це підхід до розробки штучного інтелекту, який дозволяє зрозуміти причини прийнятих ним рішень. Це означає, що система штучного інтелекту повинна бути здатна пояснити свої дії та рекомендації людям, щоб вони могли перевірити їх на адекватність та впливати на них.\n",
            "\n",
            "Основні переваги Explainable AI полягають у зрозумілості та прозор\n",
            "-------RESPONSIBLE AI-------\n",
            "\n",
            "\n",
            "Responsible AI - це підхід до розробки та використання штучного інтелекту, який враховує етичні, соціальні та правові аспекти. Основні переваги Responsible AI полягають у забезпеченні безпеки та довіри до систем штучного інтелекту, уникненні негативних наслідків для людей та суспільства, а також підвищенні ефективності та економічної вигоди від використання штучного інт\n"
          ]
        }
      ],
      "source": [
        "for topic in topics:\n",
        "  print(f'-------{topic.upper()}-------')\n",
        "  print(llm.invoke(prompt.format(topic=topic)))"
      ]
    },
    {
      "cell_type": "markdown",
      "source": [
        "Відповіді - обрізані, бо я це вказала при ініціації моделі.\n",
        "Відповіді - норм, але все ж не супер короткі :)"
      ],
      "metadata": {
        "id": "G2yVfeNsgrqb"
      }
    },
    {
      "cell_type": "markdown",
      "source": [
        "\n",
        "\n",
        "### Завдання 3: Використання агента для автоматизації процесів\n",
        "Створіть агента, який допоможе автоматично шукати інформацію про останні наукові публікації в різних галузях. Наприклад, агент має знайти 5 останніх публікацій на тему штучного інтелекту.\n",
        "\n",
        "**Кроки:**\n",
        "1. Налаштуйте агента типу ReAct в LangChain для виконання автоматичних запитів.\n",
        "2. Створіть промпт, який спрямовує агента шукати інформацію в інтернеті або в базах даних наукових публікацій.\n",
        "3. Агент повинен видати список публікацій, кожна з яких містить назву, авторів і короткий опис.\n",
        "\n",
        "Для взаємодії з пошуком там необхідно створити `Tool`. В лекції ми використовували `serpapi`. Можна продовжити користуватись ним, або обрати інше АРІ для пошуку (вони в тому числі є безкоштовні). Перелік різних АРІ, доступних в langchain, і орієнтир по вартості запитів можна знайти в окремому документі [тут](https://hannapylieva.notion.site/API-12994835849480a69b2adf2b8441cbb3?pvs=4).\n",
        "\n",
        "Лишаю також нижче приклад використання одного з безкоштовних пошукових АРІ - DuckDuckGo (не потребує створення токена!)  - можливо він вам сподобається :)\n"
      ],
      "metadata": {
        "id": "m9UsL2gXSe-3"
      }
    },
    {
      "cell_type": "code",
      "source": [
        "!pip install -q langchain_community duckduckgo_search"
      ],
      "metadata": {
        "colab": {
          "base_uri": "https://localhost:8080/"
        },
        "id": "Jzj4PHP9XwH-",
        "outputId": "08118bad-e4c6-4873-feb0-e3890dc5c6a4"
      },
      "execution_count": null,
      "outputs": [
        {
          "output_type": "stream",
          "name": "stdout",
          "text": [
            "\u001b[?25l   \u001b[90m━━━━━━━━━━━━━━━━━━━━━━━━━━━━━━━━━━━━━━━━\u001b[0m \u001b[32m0.0/3.0 MB\u001b[0m \u001b[31m?\u001b[0m eta \u001b[36m-:--:--\u001b[0m\r\u001b[2K   \u001b[91m━━━━━━━━━━━━━━━━━━━━━━━━━━━━━━━━━━━━━\u001b[0m\u001b[91m╸\u001b[0m\u001b[90m━━\u001b[0m \u001b[32m2.8/3.0 MB\u001b[0m \u001b[31m67.7 MB/s\u001b[0m eta \u001b[36m0:00:01\u001b[0m\r\u001b[2K   \u001b[91m━━━━━━━━━━━━━━━━━━━━━━━━━━━━━━━━━━━━━━━\u001b[0m\u001b[91m╸\u001b[0m \u001b[32m3.0/3.0 MB\u001b[0m \u001b[31m64.9 MB/s\u001b[0m eta \u001b[36m0:00:01\u001b[0m\r\u001b[2K   \u001b[90m━━━━━━━━━━━━━━━━━━━━━━━━━━━━━━━━━━━━━━━━\u001b[0m \u001b[32m3.0/3.0 MB\u001b[0m \u001b[31m35.8 MB/s\u001b[0m eta \u001b[36m0:00:00\u001b[0m\n",
            "\u001b[?25h"
          ]
        }
      ]
    },
    {
      "cell_type": "code",
      "source": [
        "from langchain_community.tools import DuckDuckGoSearchRun\n",
        "\n",
        "search = DuckDuckGoSearchRun()\n",
        "\n",
        "search.invoke(\"Obama's first name?\")"
      ],
      "metadata": {
        "colab": {
          "base_uri": "https://localhost:8080/",
          "height": 174
        },
        "id": "p56AZ_SnXvTs",
        "outputId": "fcee82cc-03d7-4402-a243-0033596a9ea9"
      },
      "execution_count": null,
      "outputs": [
        {
          "output_type": "execute_result",
          "data": {
            "text/plain": [
              "\"2 of 2. Barack Obama: timeline Key events in the life of Barack Obama. Barack Obama (born August 4, 1961, Honolulu, Hawaii, U.S.) is the 44th president of the United States (2009-17) and the first African American to hold the office. Before winning the presidency, Obama represented Illinois in the U.S. Senate (2005-08). Since the office was established in 1789, 45 men have served in 46 presidencies. The first president, George Washington, won a unanimous vote of the Electoral College. [4] Grover Cleveland served two non-consecutive terms and is therefore counted as the 22nd and 24th president of the United States, giving rise to the discrepancy between the ... Here is a list of the presidents and vice presidents of the United States along with their parties and dates in office. ... Chester A Arthur: Twenty-First President of the United States. 10 Interesting Facts About James Buchanan. Martin Van Buren - Eighth President of the United States. Quotes From Harry S. Truman. Table of Contents As the head of the government of the United States, the president is arguably the most powerful government official in the world. The president is elected to a four-year term via an electoral college system. Since the Twenty-second Amendment was adopted in 1951, the American presidency has been limited to a maximum of two terms.. Click on a president below to learn more about ... Most common names of U.S. presidents 1789-2021. Published by. Aaron O'Neill, Aug 9, 2024. The most common first name for a U.S. president is James, followed by John and then William. Six U.S ...\""
            ],
            "application/vnd.google.colaboratory.intrinsic+json": {
              "type": "string"
            }
          },
          "metadata": {},
          "execution_count": 4
        }
      ]
    },
    {
      "cell_type": "code",
      "source": [
        "from langchain import hub\n",
        "from langchain.agents import Tool, AgentExecutor, AgentType, create_react_agent, initialize_agent\n",
        "from langchain.tools import DuckDuckGoSearchResults\n",
        "from langchain_openai import ChatOpenAI"
      ],
      "metadata": {
        "id": "ot70xjaWylHe"
      },
      "execution_count": null,
      "outputs": []
    },
    {
      "cell_type": "code",
      "source": [
        "llm = ChatOpenAI(model=\"gpt-4o-mini\", temperature=overal_temperature)\n",
        "\n",
        "# Промпт\n",
        "prompt = hub.pull(\"hwchase17/react\")\n",
        "\n",
        "# Створення агента\n",
        "search = DuckDuckGoSearchResults()\n",
        "tools = [\n",
        "    Tool(\n",
        "        name=\"Search\",\n",
        "        func=search.run,\n",
        "        description=\"Search engine to find everything in the internet.\"\n",
        "    )\n",
        "]"
      ],
      "metadata": {
        "colab": {
          "base_uri": "https://localhost:8080/"
        },
        "id": "Sjzw74_OycBp",
        "outputId": "4da8ce4b-3161-47a6-ffcc-6a09c9a31583"
      },
      "execution_count": null,
      "outputs": [
        {
          "output_type": "stream",
          "name": "stderr",
          "text": [
            "/usr/local/lib/python3.10/dist-packages/langsmith/client.py:354: LangSmithMissingAPIKeyWarning: API key must be provided when using hosted LangSmith API\n",
            "  warnings.warn(\n"
          ]
        }
      ]
    },
    {
      "cell_type": "code",
      "source": [
        "agent = create_react_agent(llm, tools, prompt)\n",
        "agent_executor = AgentExecutor(agent=agent, tools=tools, verbose=True)\n",
        "\n",
        "# Виконання запиту\n",
        "response = agent_executor.invoke({'input': 'Знайди останні публікації на тему штучного інтелекту за 2023 рік.'})\n",
        "print(response)"
      ],
      "metadata": {
        "colab": {
          "base_uri": "https://localhost:8080/"
        },
        "id": "pBjLYpAZZChL",
        "outputId": "aa62203d-68d5-40e6-8406-191ec70343a3"
      },
      "execution_count": null,
      "outputs": [
        {
          "output_type": "stream",
          "name": "stderr",
          "text": [
            "/usr/local/lib/python3.10/dist-packages/langsmith/client.py:354: LangSmithMissingAPIKeyWarning: API key must be provided when using hosted LangSmith API\n",
            "  warnings.warn(\n"
          ]
        },
        {
          "output_type": "stream",
          "name": "stdout",
          "text": [
            "\n",
            "\n",
            "\u001b[1m> Entering new AgentExecutor chain...\u001b[0m\n",
            "\u001b[32;1m\u001b[1;3mЯ повинен знайти останні публікації на тему штучного інтелекту за 2023 рік. Це може включати наукові статті, новини, блоги та інші ресурси. \n",
            "\n",
            "Action: Search  \n",
            "Action Input: \"останні публікації на тему штучного інтелекту 2023\"  \n",
            "\u001b[0m\u001b[36;1m\u001b[1;3msnippet: У 2023 році Міністерство цифрової трансформації України представило дорожню карту з регулювання штучного інтелекту в Україні., title: Штучний інтелект: тренди, перспективи, ризики - Газета \"Світ\", link: https://svit.kpi.ua/2024/06/19/штучний-інтелект-тренди-перспективи-2/, snippet: 2023 - Пробудження штучного інтелекту: підсумки та перспективи 2023 рік став періодом, коли світ був свідком знаменних подій та технологічних досягнень у сфері машинного навчання., title: 2023 - Пробудження штучного інтелекту: підсумки та перспективи, link: https://qudata.com/uk/blog/ai-in-2023-a-comprehensive-review-and-future-perspectives/, snippet: 2023 рік став роком під знаком ШІ. ... як запал навколо штучного інтелекту продовжує зростати, зростають і занепокоєння щодо його використання. ... Одне дослідження на цю тему попросило понад 65 ..., title: 2023 рік став роком ШІ. 2024 рік має ... - Unite.AI, link: https://unite.ai/uk/2023-рік-був-роком-штучного-інтелекту.-2024-має-бути-роком-цілеспрямованого-штучного-інтелекту/, snippet: У середу, 13 березня, відповідний нормативно-правовий акт, узгоджений у грудні 2023 року на переговорах ..., title: Європарламент схвалив закон про штучний інтелект, link: https://www.dw.com/uk/evroparlament-shvaliv-zakon-pro-stucnij-intelekt/a-68516616\u001b[0m\u001b[32;1m\u001b[1;3mЯ знайшов кілька останніх публікацій на тему штучного інтелекту за 2023 рік. Ось деякі з них:\n",
            "\n",
            "1. **Штучний інтелект: тренди, перспективи, ризики** - Газета \"Світ\"\n",
            "   - [Читати статтю](https://svit.kpi.ua/2024/06/19/штучний-інтелект-тренди-перспективи-2/)\n",
            "\n",
            "2. **2023 - Пробудження штучного інтелекту: підсумки та перспективи**\n",
            "   - [Читати статтю](https://qudata.com/uk/blog/ai-in-2023-a-comprehensive-review-and-future-perspectives/)\n",
            "\n",
            "3. **2023 рік став роком ШІ. 2024 рік має бути роком цілеспрямованого штучного інтелекту**\n",
            "   - [Читати статтю](https://unite.ai/uk/2023-рік-був-роком-штучного-інтелекту.-2024-має-бути-роком-цілеспрямованого-штучного-інтелекту/)\n",
            "\n",
            "4. **Європарламент схвалив закон про штучний інтелект**\n",
            "   - [Читати статтю](https://www.dw.com/uk/evroparlament-shvaliv-zakon-pro-stucnij-intelekt/a-68516616)\n",
            "\n",
            "Ці публікації охоплюють різні аспекти розвитку штучного інтелекту, включаючи тренди, законодавство та технологічні досягнення. \n",
            "\n",
            "Final Answer: Я знайшов кілька останніх публікацій на тему штучного інтелекту за 2023 рік, включаючи статті про тренди, перспективи, ризики та законодавчі ініціативи.\u001b[0m\n",
            "\n",
            "\u001b[1m> Finished chain.\u001b[0m\n",
            "{'input': 'Знайди останні публікації на тему штучного інтелекту за 2023 рік.', 'output': 'Я знайшов кілька останніх публікацій на тему штучного інтелекту за 2023 рік, включаючи статті про тренди, перспективи, ризики та законодавчі ініціативи.'}\n"
          ]
        }
      ]
    },
    {
      "cell_type": "markdown",
      "source": [
        "\n",
        "\n",
        "### Завдання 4: Створення агента-помічника для вирішення бізнес-задач\n",
        "\n",
        "Створіть агента, який допомагає вирішувати задачі бізнес-аналітики. Агент має допомогти користувачу створити прогноз по продажам на наступний рік враховуючи рівень інфляції і погодні умови. Агент має вміти використовувати Python і ходити в інтернет аби отримати актуальні дані.\n",
        "\n",
        "**Кроки:**\n",
        "1. Налаштуйте агента, який працюватиме з аналітичними даними, заданими текстом. Користувач пише\n",
        "\n",
        "```\n",
        "Ми експортуємо апельсини з Бразилії. В 2021 експортували 200т, в 2022 - 190т, в 2023 - 210т, в 2024 який ще не закінчився - 220т. Зроби оцінку скільки ми зможемо експортувати апельсинів в 2025 враховуючи погодні умови в Бразилії і попит на апельсини в світі виходячи з економічної ситуації.\n",
        "```\n",
        "\n",
        "2. Створіть запит до агента, що містить чітке завдання – видати результат бізнес аналізу або написати, що він не може цього зробити і запит користувача (просто може бути все одним повідомлленням).\n",
        "\n",
        "3. Запустіть агента і проаналізуйте результати. Що можна покращити?\n"
      ],
      "metadata": {
        "id": "IOqujC6qY_NY"
      }
    },
    {
      "cell_type": "code",
      "source": [
        "!pip install -q langchain_experimental"
      ],
      "metadata": {
        "colab": {
          "base_uri": "https://localhost:8080/"
        },
        "id": "x2sogUnex7um",
        "outputId": "2ce9151e-ecb3-482f-fe25-09d861898445"
      },
      "execution_count": null,
      "outputs": [
        {
          "output_type": "stream",
          "name": "stdout",
          "text": [
            "\u001b[?25l   \u001b[90m━━━━━━━━━━━━━━━━━━━━━━━━━━━━━━━━━━━━━━━━\u001b[0m \u001b[32m0.0/208.1 kB\u001b[0m \u001b[31m?\u001b[0m eta \u001b[36m-:--:--\u001b[0m\r\u001b[2K   \u001b[90m━━━━━━━━━━━━━━━━━━━━━━━━━━━━━━━━━━━━━━━━\u001b[0m \u001b[32m208.1/208.1 kB\u001b[0m \u001b[31m11.6 MB/s\u001b[0m eta \u001b[36m0:00:00\u001b[0m\n",
            "\u001b[?25h"
          ]
        }
      ]
    },
    {
      "cell_type": "code",
      "source": [
        "from langchain_experimental.utilities import PythonREPL"
      ],
      "metadata": {
        "id": "u0IxKN_Ax7Lu"
      },
      "execution_count": null,
      "outputs": []
    },
    {
      "cell_type": "code",
      "source": [
        "python_repl = PythonREPL()\n",
        "python_tool = Tool(\n",
        "    name=\"python_repl\",\n",
        "    description=\"A Python shell. Use this to execute python commands. Input should be a valid python command. If you want to see the output of a value, you necessarily should print it out with `print(...)`. Otherwise you won't see the result! It's very important.\",\n",
        "    func=python_repl.run,\n",
        ")\n",
        "python_tool.name = \"Python Interpreter\""
      ],
      "metadata": {
        "id": "1uMV7Lh1hQdB"
      },
      "execution_count": null,
      "outputs": []
    },
    {
      "cell_type": "code",
      "source": [
        "tools.append(python_tool)"
      ],
      "metadata": {
        "id": "TUuW2-TEyPrA"
      },
      "execution_count": null,
      "outputs": []
    },
    {
      "cell_type": "code",
      "source": [
        "agent = create_react_agent(llm, tools, prompt)\n",
        "agent_executor = AgentExecutor(agent=agent, tools=tools, verbose=True)\n",
        "\n",
        "request = \"\"\"\n",
        "Допоможи мені створити прогноз по продажам на наступний 2025 рік враховуючи рівень інфляції і погодні умови, що очікуються.\n",
        "Ми експортуємо апельсини з Бразилії. В 2021 експортували 200т, в 2022 - 190т, в 2023 - 210т, в 2024 який ще не закінчився - 220т. Зроби оцінку скільки ми зможемо експортувати апельсинів в 2025 враховуючи погодні умови в Бразилії і попит на апельсини в світі виходячи з економічної ситуації.\n",
        "\n",
        "\"\"\"\n",
        "response = agent_executor.invoke({'input': request})\n",
        "print(response)"
      ],
      "metadata": {
        "colab": {
          "base_uri": "https://localhost:8080/"
        },
        "id": "homi05wuyqXo",
        "outputId": "2fd56459-a6a3-499d-8103-d29ed671a2b3"
      },
      "execution_count": null,
      "outputs": [
        {
          "output_type": "stream",
          "name": "stdout",
          "text": [
            "\n",
            "\n",
            "\u001b[1m> Entering new AgentExecutor chain...\u001b[0m\n",
            "\u001b[32;1m\u001b[1;3mЩоб створити прогноз по продажам апельсинів на 2025 рік, потрібно врахувати кілька факторів: історичні дані про експорт, рівень інфляції, погодні умови в Бразилії, а також глобальний попит на апельсини. Я почну з пошуку інформації про очікувані погодні умови в Бразилії на 2025 рік, а також про економічну ситуацію та попит на апельсини.\n",
            "\n",
            "Action: Search  \n",
            "Action Input: \"погода в Бразилії 2025 прогноз\"  \n",
            "\u001b[0m\u001b[36;1m\u001b[1;3msnippet: Погода в Ріо-де-Жанейро на червень, 2025 ☀️ Ріо-де-Жанейро, Бразилія ⛅ Точний прогноз погоди в Ріо-де-Жанейро на червень місяць Детальний метеопрогноз Повітрянний тиск Вологість Опади Точна температура на meteoprog, title: Погода Ріо-де-Жанейро на червень 2025 » Прогноз погоди в Ріо-де-Жанейро ..., link: https://www.meteoprog.com/ua/weather/Riodejaneiro/month/june/, snippet: Витория, Эспириту-Санту, Бразилия — прогноз погоды на сегодняшний день и вечер, погодные условия и данные ..., title: Прогноз погоды и погодные условия — Витория, Эспириту-Санту, Бразилия ..., link: https://weather.com/ru-RU/weather/today/l/Vitoria+Espírito+Santo+Brazil?canonicalCityId=ab4e94b799bbe01f4d6185604e50b58ced1052f4fc4a8fb28f9c099f479328a6, snippet: Какая будет погода 24 октября 2024 - прогноз погоды. Подробный прогноз на каждый день от синоптиков, читайте ТСН.ua., title: Прогноз погоды 24 октября 2024 - какой будет погода в четверг, ТСН ..., link: https://tsn.ua/ru/ukrayina/anticiklon-xelat-idet-v-ukrainu-sinoptik-predupredila-kak-eto-povliyaet-na-pogodu-2685711.html, snippet: По его словам, может быть, что в конце года курс будет на уровне 44 - 45 гривень за доллар. Таким образом, 100 долларов в Украине в конце 2025 года, согласно прогнозу, будет в промежутке 4400-4500 гривень., title: Сколько будет купить 100 долларов в Украине - эксперт дал прогноз на ..., link: https://www.unian.net/economics/finance/skolko-pridetsya-zaplatit-za-100-dollarov-v-noyabre-prognoz-eksperta-12797733.html\u001b[0m\u001b[32;1m\u001b[1;3mЯ не знайшов конкретної інформації про прогноз погоди в Бразилії на 2025 рік. Мені потрібно продовжити пошук, щоб знайти дані про погодні умови, які можуть вплинути на експорт апельсинів. Також важливо знайти інформацію про глобальний попит на апельсини та економічну ситуацію.\n",
            "\n",
            "Action: Search  \n",
            "Action Input: \"глобальний попит на апельсини 2025 прогноз\"  \n",
            "\u001b[0m\u001b[36;1m\u001b[1;3msnippet: Єгипет у минулому сезоні-2022/23 експортував рекордний обсяг апельсинів до Іспанії, піднявши експорт у даному напрямку в кілька тисяч разів, повідомляє EastFruit. Єгипту також вперше вдалося посісти перше місце в рейтингу ..., title: Єгипет майже в 4 тис. разів збільшив експорт апельсинів до Іспанії в ..., link: https://east-fruit.com/uk/novyny/yehypet-mayzhe-v-4-tys-raziv-zbilshyv-eksport-apelsyniv-do-ispaniyi-v-sezoni-2022-23/, snippet: Аналітики EastFruit звертають увагу на те, що проблеми з експортом апельсина з Єгипту в напрямку азійських країн створюють загрозу надлишку цієї продукції на регіональному ринку, за дефіциту цієї продукції в Азії ..., title: Хусити обвалять ціни на апельсини у Східній Європі?, link: https://east-fruit.com/uk/novyny/khusyty-obvalyat-tsiny-na-apelsyny-u-skhidniy-yevropi/, snippet: Офіційні дані підтверджують, що ціни на іспанські апельсини в цьому році, коли пропозиція цитрусових в Іспанії залишиться низькою, а інфляція збережеться, залишаться на високому рівні. Про це пише EastFruit за ..., title: Сезон дорогих цитрусових - ціни на іспанський апельсин в ЄС зросли на ..., link: https://east-fruit.com/uk/novyny/sezon-dorohykh-tsytrusovykh-tsiny-na-ispanskyy-apelsyn-v-yes-zrosly-na-48/, snippet: In 2025, global ecommerce sales are forecast to rise to $6.56 trillion, before adding another $500 billion in 2026, to $7.06 trillion. In 2027, growth is anticipated to slow slightly to 7.2%, to take online sales revenues to $7.57 trillion. By 2027, it's estimated that world retail ecommerce sales will hit $8.09 trillion, surpassing the $8 ..., title: Global Ecommerce Sales Growth Report (2024) - Shopify, link: https://www.shopify.com/blog/global-ecommerce-sales\u001b[0m\u001b[32;1m\u001b[1;3mЯ не знайшов конкретної інформації про глобальний попит на апельсини в 2025 році. Мені потрібно продовжити пошук, щоб знайти дані про економічну ситуацію, інфляцію та прогнози, які можуть вплинути на експорт апельсинів.\n",
            "\n",
            "Action: Search  \n",
            "Action Input: \"економічна ситуація інфляція 2025 прогноз\"  \n",
            "\u001b[0m\u001b[36;1m\u001b[1;3msnippet: Про це йдеться у аналізі проєкту державного бюджету на 2025 рік від ЕП. У 2025 році уряд очікує, що ВВП України зросте на 2,7% (у 2024 році очікується зростання на 3,5%). Інфляція у 2025 році становитиме 9,5 ..., title: Основні прогнози державного бюджету у 2025 році | Економічна правда, link: https://www.epravda.com.ua/news/2024/09/14/719344/, snippet: Основні прогнозні макропоказникі економічного і соціального розвитку України на 2025-2027 роки (далі - Прогноз) було схвалено постановою Кабінету Міністрів України від 28.06.2024 №780 «Про схвалення основних прогнозних ..., title: Прогноз економічного і соціального розвитку України на 2025-2027 роки, link: https://www.me.gov.ua/Documents/Detail?lang=uk-UA&id=428b492a-6d7c-4380-97c7-78ccb7f4a1fa&title=PrognozEkonomichnogoISotsialnogoRozvitkuUkrainiNa2025-2027-Roki, snippet: Прогноз на цей рік залишився без змін - 3,2%. Інфляція сповільниться до 4,3% у 2025 році з 5,8% у нинішньому. Вас також можуть зацікавити новини:, title: МВФ зробив сумний економічний прогноз для України на 2025 рік, link: https://www.unian.ua/economics/other/mvf-zrobiv-sumniy-ekonomichniy-prognoz-dlya-ukrajini-na-2025-rik-12796497.html, snippet: ЄБРР очікує сповільнення інфляції в Україні у 2025 р. до 6-8% із 8-9% цього року - економіст ... наразі ситуація під контролем\", - наголосив Богов. ... інфляція в Україні 2023 року впала до 5,1% після ..., title: ЄБРР очікує сповільнення інфляції в Україні у 2025 р. до 6-8% із 8-9% ..., link: https://interfax.com.ua/news/economic/1016476.html\u001b[0m\u001b[32;1m\u001b[1;3mЯ не знайшов конкретної інформації про прогнози погоди в Бразилії на 2025 рік, а також про глобальний попит на апельсини. Однак я знайшов деякі дані про економічну ситуацію та інфляцію. Зокрема, в Україні очікується, що інфляція сповільниться до 6-8% у 2025 році. Це може вплинути на попит на апельсини, оскільки економічні умови в Україні можуть відображати загальні тенденції в інших країнах.\n",
            "\n",
            "Для створення прогнозу по продажам на 2025 рік, я можу використати історичні дані про експорт апельсинів:\n",
            "\n",
            "- 2021: 200 т\n",
            "- 2022: 190 т\n",
            "- 2023: 210 т\n",
            "- 2024: 220 т (очікується)\n",
            "\n",
            "Зростання експорту за останні роки виглядає позитивно, зокрема, з 2023 до 2024 року спостерігається зростання на 10%. Якщо ця тенденція продовжиться, можна очікувати, що експорт у 2025 році може досягти приблизно 240-250 тонн, враховуючи можливі коливання через погодні умови та глобальний попит.\n",
            "\n",
            "Однак, без конкретних даних про погоду та попит, це лише приблизна оцінка. \n",
            "\n",
            "Final Answer: Прогноз експорту апельсинів з Бразилії на 2025 рік може становити приблизно 240-250 тонн, враховуючи позитивну тенденцію зростання експорту в попередні роки, але точні дані про погодні умови та глобальний попит можуть суттєво вплинути на цей прогноз.\u001b[0m\n",
            "\n",
            "\u001b[1m> Finished chain.\u001b[0m\n",
            "{'input': '\\nДопоможи мені створити прогноз по продажам на наступний 2025 рік враховуючи рівень інфляції і погодні умови, що очікуються. \\nМи експортуємо апельсини з Бразилії. В 2021 експортували 200т, в 2022 - 190т, в 2023 - 210т, в 2024 який ще не закінчився - 220т. Зроби оцінку скільки ми зможемо експортувати апельсинів в 2025 враховуючи погодні умови в Бразилії і попит на апельсини в світі виходячи з економічної ситуації.\\n\\n', 'output': 'Прогноз експорту апельсинів з Бразилії на 2025 рік може становити приблизно 240-250 тонн, враховуючи позитивну тенденцію зростання експорту в попередні роки, але точні дані про погодні умови та глобальний попит можуть суттєво вплинути на цей прогноз.'}\n"
          ]
        }
      ]
    },
    {
      "cell_type": "markdown",
      "source": [
        "Доволі прікольні результати. Мені здається, це було б корисно бізнесу отримати такі прогнози. Бачимо, що пайтон не вмикався, можна його явно підключити підкоригувавши опис REPL інструмента і запит в саму модель."
      ],
      "metadata": {
        "id": "XxpOzB4F1ANF"
      }
    }
  ]
}