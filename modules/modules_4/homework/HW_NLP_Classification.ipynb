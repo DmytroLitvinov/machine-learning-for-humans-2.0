{
 "nbformat": 4,
 "nbformat_minor": 0,
 "metadata": {
  "colab": {
   "provenance": []
  },
  "kernelspec": {
   "name": "python3",
   "display_name": "Python 3"
  },
  "language_info": {
   "name": "python"
  }
 },
 "cells": [
  {
   "cell_type": "markdown",
   "source": [
    "# Домашнє завдання: Побудова класифікатора сентименту на основі набору даних Tweet Sentiment Extraction\n",
    "\n",
    "**Мета:** Провести аналіз набору даних, виконати векторизацію текстових даних за допомогою методів bag-of-words та TF-IDF, порівняти їх, побудувати класифікатор та провести аналіз помилок.\n",
    "\n",
    "**Набір даних:**\n",
    "Дані беремо з цього змагання на Kaggle: https://www.kaggle.com/competitions/tweet-sentiment-extraction/data?select=train.csv\n",
    "\n",
    "Оригінальне змагання має дещо іншу задачу, але ми будемо поки будувати саме класифікатор.\n",
    "\n",
    "Увага! В цьому наборі завдань для простоти експериментів ми будемо спочатку робити векторизацію на всьому наборі даних, а потім розбивку на train i test. В робочих проєктах ми теж можемо використати цей підхід для швидшої побудови PoC (proof of concept). Але фінальне рішення, яке ми будемо деплоїти - треба проводити за правилом - спочатку розбивка на трейн і тест, потім пишемо обробку для трейну, навчаємо векторизатори. І потім використовуємо готові векторизатори для тесту і всіх даних на етапі передбачення (інференсу).\n",
    "\n",
    "### Завдання 1. Завантаження та ознайомлення з набором даних\n",
    "\n",
    "- Завантажте набір даних `train.csv` з посилання та ознайомтеся з його структурою.\n",
    "- Виведіть перші 5 рядків та основну статистику: кількість записів, типи колонок, кількість пропущених значень.\n",
    "- Видаліть записи, в яких є пропущені значення.\n",
    "\n"
   ],
   "metadata": {
    "id": "Zl1UHn4aRLMg"
   }
  },
  {
   "cell_type": "code",
   "source": [
    "import pandas as pd\n",
    "import matplotlib.pyplot as plt\n",
    "import seaborn as sns\n",
    "\n",
    "data = pd.read_csv('tweet-sentiment-extraction/train.csv')\n",
    "\n",
    "print('Show first 5 rows of the dataframe:\\n')\n",
    "data.head()"
   ],
   "metadata": {
    "id": "z9PAZcZgddHT",
    "ExecuteTime": {
     "end_time": "2025-05-25T18:06:08.758350Z",
     "start_time": "2025-05-25T18:06:08.714270Z"
    }
   },
   "outputs": [
    {
     "name": "stdout",
     "output_type": "stream",
     "text": [
      "Show first 5 rows of the dataframe:\n",
      "\n"
     ]
    },
    {
     "data": {
      "text/plain": [
       "       textID                                               text  \\\n",
       "0  cb774db0d1                I`d have responded, if I were going   \n",
       "1  549e992a42      Sooo SAD I will miss you here in San Diego!!!   \n",
       "2  088c60f138                          my boss is bullying me...   \n",
       "3  9642c003ef                     what interview! leave me alone   \n",
       "4  358bd9e861   Sons of ****, why couldn`t they put them on t...   \n",
       "\n",
       "                         selected_text sentiment  \n",
       "0  I`d have responded, if I were going   neutral  \n",
       "1                             Sooo SAD  negative  \n",
       "2                          bullying me  negative  \n",
       "3                       leave me alone  negative  \n",
       "4                        Sons of ****,  negative  "
      ],
      "text/html": [
       "<div>\n",
       "<style scoped>\n",
       "    .dataframe tbody tr th:only-of-type {\n",
       "        vertical-align: middle;\n",
       "    }\n",
       "\n",
       "    .dataframe tbody tr th {\n",
       "        vertical-align: top;\n",
       "    }\n",
       "\n",
       "    .dataframe thead th {\n",
       "        text-align: right;\n",
       "    }\n",
       "</style>\n",
       "<table border=\"1\" class=\"dataframe\">\n",
       "  <thead>\n",
       "    <tr style=\"text-align: right;\">\n",
       "      <th></th>\n",
       "      <th>textID</th>\n",
       "      <th>text</th>\n",
       "      <th>selected_text</th>\n",
       "      <th>sentiment</th>\n",
       "    </tr>\n",
       "  </thead>\n",
       "  <tbody>\n",
       "    <tr>\n",
       "      <th>0</th>\n",
       "      <td>cb774db0d1</td>\n",
       "      <td>I`d have responded, if I were going</td>\n",
       "      <td>I`d have responded, if I were going</td>\n",
       "      <td>neutral</td>\n",
       "    </tr>\n",
       "    <tr>\n",
       "      <th>1</th>\n",
       "      <td>549e992a42</td>\n",
       "      <td>Sooo SAD I will miss you here in San Diego!!!</td>\n",
       "      <td>Sooo SAD</td>\n",
       "      <td>negative</td>\n",
       "    </tr>\n",
       "    <tr>\n",
       "      <th>2</th>\n",
       "      <td>088c60f138</td>\n",
       "      <td>my boss is bullying me...</td>\n",
       "      <td>bullying me</td>\n",
       "      <td>negative</td>\n",
       "    </tr>\n",
       "    <tr>\n",
       "      <th>3</th>\n",
       "      <td>9642c003ef</td>\n",
       "      <td>what interview! leave me alone</td>\n",
       "      <td>leave me alone</td>\n",
       "      <td>negative</td>\n",
       "    </tr>\n",
       "    <tr>\n",
       "      <th>4</th>\n",
       "      <td>358bd9e861</td>\n",
       "      <td>Sons of ****, why couldn`t they put them on t...</td>\n",
       "      <td>Sons of ****,</td>\n",
       "      <td>negative</td>\n",
       "    </tr>\n",
       "  </tbody>\n",
       "</table>\n",
       "</div>"
      ]
     },
     "execution_count": 26,
     "metadata": {},
     "output_type": "execute_result"
    }
   ],
   "execution_count": 26
  },
  {
   "metadata": {
    "ExecuteTime": {
     "end_time": "2025-05-25T18:06:08.802410Z",
     "start_time": "2025-05-25T18:06:08.796852Z"
    }
   },
   "cell_type": "code",
   "source": [
    "print('Infromation about dataframe:\\n')\n",
    "data.info()"
   ],
   "outputs": [
    {
     "name": "stdout",
     "output_type": "stream",
     "text": [
      "Infromation about dataframe:\n",
      "\n",
      "<class 'pandas.core.frame.DataFrame'>\n",
      "RangeIndex: 27481 entries, 0 to 27480\n",
      "Data columns (total 4 columns):\n",
      " #   Column         Non-Null Count  Dtype \n",
      "---  ------         --------------  ----- \n",
      " 0   textID         27481 non-null  object\n",
      " 1   text           27480 non-null  object\n",
      " 2   selected_text  27480 non-null  object\n",
      " 3   sentiment      27481 non-null  object\n",
      "dtypes: object(4)\n",
      "memory usage: 858.9+ KB\n"
     ]
    }
   ],
   "execution_count": 27
  },
  {
   "metadata": {
    "ExecuteTime": {
     "end_time": "2025-05-25T18:06:08.837954Z",
     "start_time": "2025-05-25T18:06:08.832845Z"
    }
   },
   "cell_type": "code",
   "source": [
    "print('Count of missing values in each column:\\n')\n",
    "data.isnull().sum()"
   ],
   "outputs": [
    {
     "name": "stdout",
     "output_type": "stream",
     "text": [
      "Count of missing values in each column:\n",
      "\n"
     ]
    },
    {
     "data": {
      "text/plain": [
       "textID           0\n",
       "text             1\n",
       "selected_text    1\n",
       "sentiment        0\n",
       "dtype: int64"
      ]
     },
     "execution_count": 28,
     "metadata": {},
     "output_type": "execute_result"
    }
   ],
   "execution_count": 28
  },
  {
   "metadata": {
    "ExecuteTime": {
     "end_time": "2025-05-25T18:06:08.890250Z",
     "start_time": "2025-05-25T18:06:08.884909Z"
    }
   },
   "cell_type": "code",
   "source": [
    "print('Deleting rows with missing values\\n')\n",
    "data = data.dropna()"
   ],
   "outputs": [
    {
     "name": "stdout",
     "output_type": "stream",
     "text": [
      "Deleting rows with missing values\n",
      "\n"
     ]
    }
   ],
   "execution_count": 29
  },
  {
   "cell_type": "markdown",
   "source": [
    "### Завдання 2. Exploratory Data Analysis\n",
    "\n",
    "- Проведіть аналіз кількості класів та розподілу міток. Класи знаходяться в колонці `sentiment`.\n",
    "- Візуалізуйте розподіл довжин текстів в символах та зробіть висновок про довжини постів: якої довжини постів найбільше, що бачите з розподілу?\n",
    "\n"
   ],
   "metadata": {
    "id": "BXox7UCZUU5J"
   }
  },
  {
   "metadata": {
    "ExecuteTime": {
     "end_time": "2025-05-25T18:06:09.017520Z",
     "start_time": "2025-05-25T18:06:08.952073Z"
    }
   },
   "cell_type": "code",
   "source": [
    "print('Count of each class in sentiment column:\\n')\n",
    "print(data['sentiment'].value_counts())\n",
    "\n",
    "sns.countplot(data=data, x='sentiment', order=data['sentiment'].value_counts().index)\n",
    "plt.title('Розподіл класів у sentiment')\n",
    "plt.xlabel('Клас')\n",
    "plt.ylabel('Кількість')\n",
    "plt.show()\n"
   ],
   "outputs": [
    {
     "name": "stdout",
     "output_type": "stream",
     "text": [
      "Count of each class in sentiment column:\n",
      "\n",
      "sentiment\n",
      "neutral     11117\n",
      "positive     8582\n",
      "negative     7781\n",
      "Name: count, dtype: int64\n"
     ]
    },
    {
     "data": {
      "text/plain": [
       "<Figure size 640x480 with 1 Axes>"
      ],
      "image/png": "[encoded data removed]"
     },
     "metadata": {},
     "output_type": "display_data"
    }
   ],
   "execution_count": 30
  },
  {
   "metadata": {
    "ExecuteTime": {
     "end_time": "2025-05-25T18:06:09.144175Z",
     "start_time": "2025-05-25T18:06:09.039564Z"
    }
   },
   "cell_type": "code",
   "source": [
    "data['text_length'] = data['text'].astype(str).apply(len)\n",
    "\n",
    "sns.histplot(data['text_length'], bins=50, kde=True)\n",
    "plt.title('Розподіл довжин текстів')\n",
    "plt.xlabel('Довжина тексту (символи)')\n",
    "plt.ylabel('Частота')\n",
    "plt.show()"
   ],
   "outputs": [
    {
     "data": {
      "text/plain": [
       "<Figure size 640x480 with 1 Axes>"
      ],
      "image/png": "[encoded data removed]"
     },
     "metadata": {},
     "output_type": "display_data"
    }
   ],
   "execution_count": 31
  },
  {
   "metadata": {},
   "cell_type": "markdown",
   "source": [
    "### Висновок\n",
    "З розподілу видно, що більшість текстів в символлах приблизно ~40-50 символів.\n",
    "Є піки посля 100 символів, але їх не так багато.\n"
   ]
  },
  {
   "cell_type": "markdown",
   "source": [
    "### Завдання 3. Попередня обробка текстових даних та векторизація з bag of words\n",
    "\n",
    "\n",
    "Наша задача тут отримати вектори методом bag of words колонки `text`, виконавши попередню обробку тексту.\n",
    "Попередня обробка має включати\n",
    "- видалення stopwords необхідної мови\n",
    "- токенізація (розбиття текстів на фрагменти по 1 слову)\n",
    "- стеммінг слів зі `SnowballStemmer`.\n",
    "- самостійно задайте кількість слів в словнику для `sklearn.feature_extraction.text.CountVectorizer`. Можливо для цього доведеться виконати додатковий аналіз.\n",
    "\n",
    "Ви також можете додати сюди додаткові методи очистки текстів, наприклад, видалення деяких символів чи груп символів, якщо в процесі роботи побачите, що хочете щось видалити.\n",
    "\n",
    "Напишіть код аби виконати це завдання. Перед цим рекомендую детально ознайомитись з тим, що робить обʼєкт `sklearn.feature_extraction.text.CountVectorizer` за замовченням.\n",
    "\n",
    "Це завдання можна виконати двома способами - один - максимально подібно до того, як ми це робили в лекції, другий - дещо інакше перегрупувавши етапи обробки тексту.\n",
    "\n",
    "\n"
   ],
   "metadata": {
    "id": "KfiU4hNDWncB"
   }
  },
  {
   "cell_type": "code",
   "source": [
    "import numpy as np\n",
    "from collections import Counter\n",
    "from sklearn.feature_extraction.text import CountVectorizer\n",
    "from nltk.corpus import stopwords\n",
    "from nltk.stem import SnowballStemmer\n",
    "import nltk\n",
    "from nltk.tokenize import word_tokenize\n",
    "\n",
    "\n",
    "language = 'english'\n",
    "nltk.download('stopwords')\n",
    "nltk.download('punkt')\n",
    "\n",
    "stopwords = stopwords.words(language)\n",
    "stemmer = SnowballStemmer(language)\n",
    "\n",
    "def tokenize(text):\n",
    "    tokens = word_tokenize(text.lower())\n",
    "    tokens = [stemmer.stem(w) for w in tokens if w.isalpha() and w not in stopwords]\n",
    "    return tokens\n",
    "\n",
    "all_tokens = []\n",
    "for text in data['text'].astype(str):\n",
    "    all_tokens.extend(tokenize(text))\n",
    "\n",
    "\n",
    "# Підрахунок частот\n",
    "token_counts = Counter(all_tokens)\n",
    "print(\"Унікальних слів:\", len(token_counts))\n",
    "print(\"Топ-20 слів:\")\n",
    "print(token_counts.most_common(20))\n",
    "\n",
    "freqs = np.array(sorted(token_counts.values(), reverse=True))\n",
    "cum_freq = np.cumsum(freqs) / freqs.sum()\n",
    "\n",
    "plt.figure(figsize=(10, 6))\n",
    "plt.plot(cum_freq[:10000])\n",
    "plt.xlabel('Кількість найчастіших слів')\n",
    "plt.ylabel('Частка покриття (%)')\n",
    "plt.title('Кумулятивна частота слів')\n",
    "plt.grid(True)\n",
    "plt.show()"
   ],
   "metadata": {
    "id": "BRUG111tdhB0",
    "ExecuteTime": {
     "end_time": "2025-05-25T18:06:11.635193Z",
     "start_time": "2025-05-25T18:06:09.167339Z"
    }
   },
   "outputs": [
    {
     "name": "stderr",
     "output_type": "stream",
     "text": [
      "[nltk_data] Downloading package stopwords to\n",
      "[nltk_data]     /Users/dmytro/nltk_data...\n",
      "[nltk_data]   Package stopwords is already up-to-date!\n",
      "[nltk_data] Downloading package punkt to /Users/dmytro/nltk_data...\n",
      "[nltk_data]   Package punkt is already up-to-date!\n"
     ]
    },
    {
     "name": "stdout",
     "output_type": "stream",
     "text": [
      "Унікальних слів: 17783\n",
      "Топ-20 слів:\n",
      "[('day', 2417), ('go', 2373), ('get', 1911), ('good', 1589), ('work', 1521), ('love', 1478), ('like', 1457), ('got', 1258), ('http', 1243), ('today', 1149), ('time', 1095), ('one', 1067), ('lol', 1015), ('happi', 1010), ('want', 983), ('thank', 977), ('know', 975), ('miss', 964), ('u', 944), ('realli', 915)]\n"
     ]
    },
    {
     "data": {
      "text/plain": [
       "<Figure size 1000x600 with 1 Axes>"
      ],
      "image/png": "[encoded data removed]"
     },
     "metadata": {},
     "output_type": "display_data"
    }
   ],
   "execution_count": 32
  },
  {
   "metadata": {},
   "cell_type": "markdown",
   "source": "Основуючись на частоті слів, то виберемо 6000 фіч (слов) для навчання."
  },
  {
   "metadata": {
    "ExecuteTime": {
     "end_time": "2025-05-25T18:06:14.164875Z",
     "start_time": "2025-05-25T18:06:11.659955Z"
    }
   },
   "cell_type": "code",
   "source": [
    "max_features = 6000\n",
    "\n",
    "vectorizer = CountVectorizer(lowercase=True,\n",
    "                             tokenizer=tokenize,\n",
    "                             stop_words=stopwords,\n",
    "                             max_features=max_features)\n",
    "X_bow = vectorizer.fit_transform(data['text'])\n",
    "\n",
    "vectorizer.get_feature_names_out()"
   ],
   "outputs": [
    {
     "name": "stderr",
     "output_type": "stream",
     "text": [
      "/Users/dmytro/Code/MachineLearning/machine-learning-for-humans-2.0/.env/lib/python3.12/site-packages/sklearn/feature_extraction/text.py:517: UserWarning: The parameter 'token_pattern' will not be used since 'tokenizer' is not None'\n",
      "  warnings.warn(\n",
      "/Users/dmytro/Code/MachineLearning/machine-learning-for-humans-2.0/.env/lib/python3.12/site-packages/sklearn/feature_extraction/text.py:402: UserWarning: Your stop_words may be inconsistent with your preprocessing. Tokenizing the stop words generated tokens ['could', 'might', 'must', 'need', 'sha', 'wo', 'would'] not in stop_words.\n",
      "  warnings.warn(\n"
     ]
    },
    {
     "data": {
      "text/plain": [
       "array(['aaaah', 'aaah', 'aaahhh', ..., 'zone', 'zoo', 'zzzz'],\n",
       "      dtype=object)"
      ]
     },
     "execution_count": 33,
     "metadata": {},
     "output_type": "execute_result"
    }
   ],
   "execution_count": 33
  },
  {
   "cell_type": "markdown",
   "source": [
    "### Завдання 4. Побудова класифікатора\n",
    "\n",
    "- Розділіть індекси даних на навчальний та тестовий набори в обраному співвівдношенні. Використовуючи отримані індекси сфомуйте набори для тренування класифікатора `X_train_bow, X_test_bow, y_train, y_test`.\n",
    "- Навчіть класифікатор (наприклад, Logistic Regression, Decision Tree або один з алгоритмів бустингу) на даних, векторизованих методом bag-of-words. Спробуйте кілька моделей і оберіть найбільш точну :)\n",
    "- Виведіть інформацію, яка дає можливість оцінити якість класифікації.\n",
    "- Оцініть якість фінальної класифікації: вона хороша чи не дуже?\n",
    "\n"
   ],
   "metadata": {
    "id": "v0RHDwO7OBIJ"
   }
  },
  {
   "cell_type": "code",
   "source": [
    "from sklearn.model_selection import train_test_split\n",
    "\n",
    "y = data['sentiment']\n",
    "\n",
    "X_train_bow, X_test_bow, y_train, y_test = train_test_split(\n",
    "    X_bow, y, test_size=0.3, stratify=y, random_state=42\n",
    ")"
   ],
   "metadata": {
    "id": "NVdpanFFdkyo",
    "ExecuteTime": {
     "end_time": "2025-05-25T18:06:14.202871Z",
     "start_time": "2025-05-25T18:06:14.187945Z"
    }
   },
   "outputs": [],
   "execution_count": 34
  },
  {
   "metadata": {
    "ExecuteTime": {
     "end_time": "2025-05-25T18:06:14.511240Z",
     "start_time": "2025-05-25T18:06:14.223397Z"
    }
   },
   "cell_type": "code",
   "source": [
    "from sklearn.linear_model import LogisticRegression\n",
    "from sklearn.metrics import classification_report\n",
    "\n",
    "lr = LogisticRegression(max_iter=1000, random_state=42)\n",
    "lr.fit(X_train_bow, y_train)\n",
    "\n",
    "y_pred_lr = lr.predict(X_test_bow)\n",
    "print(\"Logistic Regression:\")\n",
    "print(classification_report(y_test, y_pred_lr))"
   ],
   "outputs": [
    {
     "name": "stdout",
     "output_type": "stream",
     "text": [
      "Logistic Regression:\n",
      "              precision    recall  f1-score   support\n",
      "\n",
      "    negative       0.70      0.62      0.66      2334\n",
      "     neutral       0.63      0.72      0.67      3335\n",
      "    positive       0.75      0.70      0.73      2575\n",
      "\n",
      "    accuracy                           0.69      8244\n",
      "   macro avg       0.70      0.68      0.69      8244\n",
      "weighted avg       0.69      0.69      0.69      8244\n",
      "\n"
     ]
    }
   ],
   "execution_count": 35
  },
  {
   "metadata": {
    "ExecuteTime": {
     "end_time": "2025-05-25T18:06:14.702159Z",
     "start_time": "2025-05-25T18:06:14.515501Z"
    }
   },
   "cell_type": "code",
   "source": [
    "from sklearn.tree import DecisionTreeClassifier\n",
    "\n",
    "dt = DecisionTreeClassifier(max_depth=30)\n",
    "dt.fit(X_train_bow, y_train)\n",
    "\n",
    "y_pred_dt = dt.predict(X_test_bow)\n",
    "print(\"Decision Tree:\")\n",
    "print(classification_report(y_test, y_pred_dt))"
   ],
   "outputs": [
    {
     "name": "stdout",
     "output_type": "stream",
     "text": [
      "Decision Tree:\n",
      "              precision    recall  f1-score   support\n",
      "\n",
      "    negative       0.77      0.38      0.51      2334\n",
      "     neutral       0.56      0.84      0.67      3335\n",
      "    positive       0.77      0.62      0.69      2575\n",
      "\n",
      "    accuracy                           0.64      8244\n",
      "   macro avg       0.70      0.61      0.62      8244\n",
      "weighted avg       0.68      0.64      0.63      8244\n",
      "\n"
     ]
    }
   ],
   "execution_count": 36
  },
  {
   "metadata": {
    "ExecuteTime": {
     "end_time": "2025-05-25T18:06:14.734935Z",
     "start_time": "2025-05-25T18:06:14.731329Z"
    }
   },
   "cell_type": "code",
   "source": [
    "from sklearn.preprocessing import LabelEncoder\n",
    "\n",
    "le = LabelEncoder()\n",
    "y_train_encoded = le.fit_transform(y_train)\n",
    "y_test_encoded = le.transform(y_test)"
   ],
   "outputs": [],
   "execution_count": 37
  },
  {
   "metadata": {
    "ExecuteTime": {
     "end_time": "2025-05-25T18:06:32.451699Z",
     "start_time": "2025-05-25T18:06:14.753180Z"
    }
   },
   "cell_type": "code",
   "source": [
    "from xgboost import XGBClassifier\n",
    "from sklearn.model_selection import RandomizedSearchCV\n",
    "\n",
    "param_dist = {\n",
    "    'n_estimators': [100, 200, 300],\n",
    "    'max_depth': [3, 6, 10],\n",
    "    'learning_rate': [0.01, 0.1, 0.3],\n",
    "    'subsample': [0.6, 0.8, 1.0],\n",
    "    'colsample_bytree': [0.6, 0.8, 1.0]\n",
    "}\n",
    "\n",
    "xgb = XGBClassifier(\n",
    "    random_state=42,\n",
    "    seed=2,\n",
    "    colsample_bytree=0.6,\n",
    "    subsample=0.7\n",
    ")\n",
    "\n",
    "# Randomized search\n",
    "search = RandomizedSearchCV(\n",
    "    estimator=xgb,\n",
    "    param_distributions=param_dist,\n",
    "    n_iter=20,\n",
    "    scoring='f1_macro',\n",
    "    cv=3,\n",
    "    verbose=1,\n",
    "    n_jobs=-1\n",
    ")\n",
    "\n",
    "search.fit(X_train_bow, y_train_encoded)\n",
    "\n",
    "best_xgb = search.best_estimator_\n",
    "\n",
    "y_pred = best_xgb.predict(X_test_bow)\n",
    "print(\"Best hyperparameters for XGBoost:\", search.best_params_)\n",
    "print(\"BoW Classification Report:\")\n",
    "print(classification_report(y_test, le.inverse_transform(y_pred)))"
   ],
   "outputs": [
    {
     "name": "stdout",
     "output_type": "stream",
     "text": [
      "Fitting 3 folds for each of 20 candidates, totalling 60 fits\n",
      "Best hyperparameters for XGBoost: {'subsample': 1.0, 'n_estimators': 200, 'max_depth': 10, 'learning_rate': 0.3, 'colsample_bytree': 1.0}\n",
      "Classification Report:\n",
      "              precision    recall  f1-score   support\n",
      "\n",
      "    negative       0.75      0.60      0.67      2334\n",
      "     neutral       0.65      0.77      0.70      3335\n",
      "    positive       0.77      0.73      0.75      2575\n",
      "\n",
      "    accuracy                           0.71      8244\n",
      "   macro avg       0.72      0.70      0.71      8244\n",
      "weighted avg       0.72      0.71      0.71      8244\n",
      "\n"
     ]
    }
   ],
   "execution_count": 38
  },
  {
   "metadata": {},
   "cell_type": "markdown",
   "source": [
    "### Висновок\n",
    "Після проведення аналізу, то обираємо XGBoost звичайно, бо ця модель дає кращі результати, бо ми ще знайшли найкращі параметри під неї.\n",
    "Під час вибору моделі орієнтувався на f1-score в данному випадку.\n",
    "\n",
    "Щодо самої моделі, то вона має добпу збалансованру якість між negative, neutral та positive., відповідоно 0.67, 0.70, 0.75 F1-score. Це непоганий результат для мультикласових завдань в даному випадку. Accuracy 0.70 - означає, що модель правильно класифікує 70% даних. Це не погано, але можна і краще звичайно. Тобто типічний accuracy для NLP завдань в діапозоні 0.7-0.9."
   ]
  },
  {
   "cell_type": "markdown",
   "source": [
    "### Завдання 5. Аналіз впливовості слів в отриманого класифікатора\n",
    "\n",
    "- Для обраної вами моделі проведіть аналіз важливості слів (ознак): які слова (токени) найбільше впливають для визначення сентименту? Чи це логічно на ваш погляд, що саме ці символи впливають найбільше/найменще?\n"
   ],
   "metadata": {
    "id": "53hZa4bKP5Cx"
   }
  },
  {
   "cell_type": "code",
   "source": [
    "feature_names = vectorizer.get_feature_names_out()\n",
    "\n",
    "importances = best_xgb.feature_importances_\n",
    "\n",
    "feat_imp_df = pd.DataFrame({\n",
    "    'token': feature_names,\n",
    "    'importance': importances\n",
    "})\n",
    "\n",
    "# Сортуємо за важливістю\n",
    "feat_imp_df = feat_imp_df.sort_values(by='importance', ascending=False)\n",
    "feat_imp_df"
   ],
   "metadata": {
    "id": "z0YBHvG4dmKb",
    "ExecuteTime": {
     "end_time": "2025-05-25T18:06:32.484533Z",
     "start_time": "2025-05-25T18:06:32.476195Z"
    }
   },
   "outputs": [
    {
     "data": {
      "text/plain": [
       "      token  importance\n",
       "2266  happi    0.007717\n",
       "5209  thank    0.007274\n",
       "2293   hate    0.006706\n",
       "155    amaz    0.005217\n",
       "1681  enjoy    0.004839\n",
       "...     ...         ...\n",
       "2312    hdd    0.000000\n",
       "2311     hd    0.000000\n",
       "2310    hbu    0.000000\n",
       "2309    haz    0.000000\n",
       "5999   zzzz    0.000000\n",
       "\n",
       "[6000 rows x 2 columns]"
      ],
      "text/html": [
       "<div>\n",
       "<style scoped>\n",
       "    .dataframe tbody tr th:only-of-type {\n",
       "        vertical-align: middle;\n",
       "    }\n",
       "\n",
       "    .dataframe tbody tr th {\n",
       "        vertical-align: top;\n",
       "    }\n",
       "\n",
       "    .dataframe thead th {\n",
       "        text-align: right;\n",
       "    }\n",
       "</style>\n",
       "<table border=\"1\" class=\"dataframe\">\n",
       "  <thead>\n",
       "    <tr style=\"text-align: right;\">\n",
       "      <th></th>\n",
       "      <th>token</th>\n",
       "      <th>importance</th>\n",
       "    </tr>\n",
       "  </thead>\n",
       "  <tbody>\n",
       "    <tr>\n",
       "      <th>2266</th>\n",
       "      <td>happi</td>\n",
       "      <td>0.007717</td>\n",
       "    </tr>\n",
       "    <tr>\n",
       "      <th>5209</th>\n",
       "      <td>thank</td>\n",
       "      <td>0.007274</td>\n",
       "    </tr>\n",
       "    <tr>\n",
       "      <th>2293</th>\n",
       "      <td>hate</td>\n",
       "      <td>0.006706</td>\n",
       "    </tr>\n",
       "    <tr>\n",
       "      <th>155</th>\n",
       "      <td>amaz</td>\n",
       "      <td>0.005217</td>\n",
       "    </tr>\n",
       "    <tr>\n",
       "      <th>1681</th>\n",
       "      <td>enjoy</td>\n",
       "      <td>0.004839</td>\n",
       "    </tr>\n",
       "    <tr>\n",
       "      <th>...</th>\n",
       "      <td>...</td>\n",
       "      <td>...</td>\n",
       "    </tr>\n",
       "    <tr>\n",
       "      <th>2312</th>\n",
       "      <td>hdd</td>\n",
       "      <td>0.000000</td>\n",
       "    </tr>\n",
       "    <tr>\n",
       "      <th>2311</th>\n",
       "      <td>hd</td>\n",
       "      <td>0.000000</td>\n",
       "    </tr>\n",
       "    <tr>\n",
       "      <th>2310</th>\n",
       "      <td>hbu</td>\n",
       "      <td>0.000000</td>\n",
       "    </tr>\n",
       "    <tr>\n",
       "      <th>2309</th>\n",
       "      <td>haz</td>\n",
       "      <td>0.000000</td>\n",
       "    </tr>\n",
       "    <tr>\n",
       "      <th>5999</th>\n",
       "      <td>zzzz</td>\n",
       "      <td>0.000000</td>\n",
       "    </tr>\n",
       "  </tbody>\n",
       "</table>\n",
       "<p>6000 rows × 2 columns</p>\n",
       "</div>"
      ]
     },
     "execution_count": 39,
     "metadata": {},
     "output_type": "execute_result"
    }
   ],
   "execution_count": 39
  },
  {
   "metadata": {
    "ExecuteTime": {
     "end_time": "2025-05-25T18:06:32.675449Z",
     "start_time": "2025-05-25T18:06:32.518291Z"
    }
   },
   "cell_type": "code",
   "source": [
    "plt.figure(figsize=(10, 6))\n",
    "sns.barplot(data=feat_imp_df.head(20), x='importance', y='token')\n",
    "plt.title('Найважливіші токени для XGBoost')\n",
    "plt.show()"
   ],
   "outputs": [
    {
     "data": {
      "text/plain": [
       "<Figure size 1000x600 with 1 Axes>"
      ],
      "image/png": "[encoded data removed]"
     },
     "metadata": {},
     "output_type": "display_data"
    }
   ],
   "execution_count": 40
  },
  {
   "metadata": {},
   "cell_type": "markdown",
   "source": [
    "### Висновок\n",
    "\n",
    "Дійсно усі слова несуть емоційну забавленість, тому логічно припустити, що модель гарно працює."
   ]
  },
  {
   "cell_type": "markdown",
   "source": [
    "### Завдання 6. Векторизація текстів з допомогою TF-IDF. Тренування класифікатора, аналіз точності і впливовості слів.\n",
    "\n",
    "- Проведіть векторизацію текстів з векторизатором TfidfVectorizer. Реалізуйте векторизацію так, аби препроцесинг включав всі ті самі кроки, що і в випадку використання векторизації Bag of Words.\n",
    "\n",
    "- Натренуйте той самий класифікатор на TF-IDF векторах, виконавши розбивку набору даних на train, test так, аби в трейні були всі ті самі записи, що і були в попередньому завданні (це важливо для порівняння результатів).\n",
    "\n",
    "- Проаналізуйте якість класифікації вивівши потрібні для цього метрики. Чи стала якість класифікації кращою?\n",
    "\n",
    "- Які токени найбільше впливають на результат при тренуваннні класифікатора з TF-IDF векторами? Порівняйте з найважливішими токенами при Bag of Words векторизації. Яку векторизацію ви б обрали для фінальної імплементації рішення? Обґрунтуйте свій вибір.\n",
    "\n"
   ],
   "metadata": {
    "id": "FvJlvr9JRhzq"
   }
  },
  {
   "cell_type": "code",
   "source": [
    "from sklearn.feature_extraction.text import TfidfVectorizer\n",
    "\n",
    "tfidf_vectorizer = TfidfVectorizer(\n",
    "    tokenizer=tokenize,\n",
    "    stop_words=stopwords,\n",
    "    max_features=max_features\n",
    ")\n",
    "\n",
    "X_tfidf = tfidf_vectorizer.fit_transform(data['text'])"
   ],
   "metadata": {
    "id": "huUPpVhMdodx",
    "ExecuteTime": {
     "end_time": "2025-05-25T18:07:26.162073Z",
     "start_time": "2025-05-25T18:07:23.589Z"
    }
   },
   "outputs": [
    {
     "name": "stderr",
     "output_type": "stream",
     "text": [
      "/Users/dmytro/Code/MachineLearning/machine-learning-for-humans-2.0/.env/lib/python3.12/site-packages/sklearn/feature_extraction/text.py:517: UserWarning: The parameter 'token_pattern' will not be used since 'tokenizer' is not None'\n",
      "  warnings.warn(\n",
      "/Users/dmytro/Code/MachineLearning/machine-learning-for-humans-2.0/.env/lib/python3.12/site-packages/sklearn/feature_extraction/text.py:402: UserWarning: Your stop_words may be inconsistent with your preprocessing. Tokenizing the stop words generated tokens ['could', 'might', 'must', 'need', 'sha', 'wo', 'would'] not in stop_words.\n",
      "  warnings.warn(\n"
     ]
    }
   ],
   "execution_count": 43
  },
  {
   "metadata": {
    "ExecuteTime": {
     "end_time": "2025-05-25T18:11:27.001937Z",
     "start_time": "2025-05-25T18:11:26.986365Z"
    }
   },
   "cell_type": "code",
   "source": [
    "X_train_tfidf, X_test_tfidf, y_train_tfidf, y_test_tfidf = train_test_split(\n",
    "    X_tfidf, y, test_size=0.3, stratify=y, random_state=42\n",
    ")\n",
    "\n",
    "y_train_tfidf_enc = le.transform(y_train_tfidf)\n",
    "y_test_tfidf_enc = le.transform(y_test_tfidf)"
   ],
   "outputs": [],
   "execution_count": 45
  },
  {
   "metadata": {
    "ExecuteTime": {
     "end_time": "2025-05-25T18:18:05.534263Z",
     "start_time": "2025-05-25T18:16:42.722596Z"
    }
   },
   "cell_type": "code",
   "source": [
    "xgb_tfidf = XGBClassifier(\n",
    "    random_state=42,\n",
    "    seed=2,\n",
    "    colsample_bytree=0.6,\n",
    "    subsample=0.7\n",
    ")\n",
    "\n",
    "param_dist = {\n",
    "    'n_estimators': [100, 200, 300],\n",
    "    'max_depth': [3, 6, 10],\n",
    "    'learning_rate': [0.01, 0.1, 0.3],\n",
    "    'subsample': [0.6, 0.8, 1.0],\n",
    "    'colsample_bytree': [0.6, 0.8, 1.0]\n",
    "}\n",
    "\n",
    "# Randomized search\n",
    "search_tfidf = RandomizedSearchCV(\n",
    "    estimator=xgb_tfidf,\n",
    "    param_distributions=param_dist,\n",
    "    n_iter=20,\n",
    "    scoring='f1_macro',\n",
    "    cv=3,\n",
    "    verbose=1,\n",
    "    n_jobs=-1\n",
    ")\n",
    "\n",
    "search_tfidf.fit(X_train_tfidf, y_train_tfidf_enc)\n",
    "\n",
    "best_xgb_tfidf = search_tfidf.best_estimator_\n",
    "\n",
    "y_pred_tfidf = best_xgb_tfidf.predict(X_test_tfidf)\n",
    "print(\"Best hyperparameters for XGBoost (TF-IDF):\", search_tfidf.best_params_)\n",
    "print(\"TF-IDF XGBoost Classification Report:\")\n",
    "print(classification_report(y_test_tfidf, le.inverse_transform(y_pred_tfidf)))"
   ],
   "outputs": [
    {
     "name": "stdout",
     "output_type": "stream",
     "text": [
      "Fitting 3 folds for each of 20 candidates, totalling 60 fits\n",
      "Best hyperparameters for XGBoost (TF-IDF): {'subsample': 0.8, 'n_estimators': 300, 'max_depth': 10, 'learning_rate': 0.1, 'colsample_bytree': 1.0}\n",
      "F-IDF XGBoost Classification Report:\n",
      "              precision    recall  f1-score   support\n",
      "\n",
      "    negative       0.75      0.57      0.65      2334\n",
      "     neutral       0.63      0.77      0.69      3335\n",
      "    positive       0.76      0.71      0.73      2575\n",
      "\n",
      "    accuracy                           0.69      8244\n",
      "   macro avg       0.72      0.68      0.69      8244\n",
      "weighted avg       0.71      0.69      0.69      8244\n",
      "\n"
     ]
    }
   ],
   "execution_count": 52
  },
  {
   "metadata": {
    "ExecuteTime": {
     "end_time": "2025-05-25T18:18:25.127847Z",
     "start_time": "2025-05-25T18:18:25.117533Z"
    }
   },
   "cell_type": "code",
   "source": [
    "# Важливість слів у TF-IDF моделі\n",
    "tfidf_feature_names = tfidf_vectorizer.get_feature_names_out()\n",
    "importances_tfidf = best_xgb_tfidf.feature_importances_\n",
    "\n",
    "df_imp_tfidf = pd.DataFrame({\n",
    "    'token': tfidf_feature_names,\n",
    "    'importance': importances_tfidf\n",
    "}).sort_values(by='importance', ascending=False)\n",
    "\n",
    "print(\"TF-IDF — Топ 20 слів:\")\n",
    "df_imp_tfidf"
   ],
   "outputs": [
    {
     "name": "stdout",
     "output_type": "stream",
     "text": [
      "TF-IDF — Топ 20 слів:\n"
     ]
    },
    {
     "data": {
      "text/plain": [
       "      token  importance\n",
       "5209  thank    0.005716\n",
       "2266  happi    0.005688\n",
       "155    amaz    0.005002\n",
       "2293   hate    0.004864\n",
       "2543   hurt    0.004410\n",
       "...     ...         ...\n",
       "2206   gurl    0.000000\n",
       "2205  gunna    0.000000\n",
       "2204   guna    0.000000\n",
       "2203    gun    0.000000\n",
       "5999   zzzz    0.000000\n",
       "\n",
       "[6000 rows x 2 columns]"
      ],
      "text/html": [
       "<div>\n",
       "<style scoped>\n",
       "    .dataframe tbody tr th:only-of-type {\n",
       "        vertical-align: middle;\n",
       "    }\n",
       "\n",
       "    .dataframe tbody tr th {\n",
       "        vertical-align: top;\n",
       "    }\n",
       "\n",
       "    .dataframe thead th {\n",
       "        text-align: right;\n",
       "    }\n",
       "</style>\n",
       "<table border=\"1\" class=\"dataframe\">\n",
       "  <thead>\n",
       "    <tr style=\"text-align: right;\">\n",
       "      <th></th>\n",
       "      <th>token</th>\n",
       "      <th>importance</th>\n",
       "    </tr>\n",
       "  </thead>\n",
       "  <tbody>\n",
       "    <tr>\n",
       "      <th>5209</th>\n",
       "      <td>thank</td>\n",
       "      <td>0.005716</td>\n",
       "    </tr>\n",
       "    <tr>\n",
       "      <th>2266</th>\n",
       "      <td>happi</td>\n",
       "      <td>0.005688</td>\n",
       "    </tr>\n",
       "    <tr>\n",
       "      <th>155</th>\n",
       "      <td>amaz</td>\n",
       "      <td>0.005002</td>\n",
       "    </tr>\n",
       "    <tr>\n",
       "      <th>2293</th>\n",
       "      <td>hate</td>\n",
       "      <td>0.004864</td>\n",
       "    </tr>\n",
       "    <tr>\n",
       "      <th>2543</th>\n",
       "      <td>hurt</td>\n",
       "      <td>0.004410</td>\n",
       "    </tr>\n",
       "    <tr>\n",
       "      <th>...</th>\n",
       "      <td>...</td>\n",
       "      <td>...</td>\n",
       "    </tr>\n",
       "    <tr>\n",
       "      <th>2206</th>\n",
       "      <td>gurl</td>\n",
       "      <td>0.000000</td>\n",
       "    </tr>\n",
       "    <tr>\n",
       "      <th>2205</th>\n",
       "      <td>gunna</td>\n",
       "      <td>0.000000</td>\n",
       "    </tr>\n",
       "    <tr>\n",
       "      <th>2204</th>\n",
       "      <td>guna</td>\n",
       "      <td>0.000000</td>\n",
       "    </tr>\n",
       "    <tr>\n",
       "      <th>2203</th>\n",
       "      <td>gun</td>\n",
       "      <td>0.000000</td>\n",
       "    </tr>\n",
       "    <tr>\n",
       "      <th>5999</th>\n",
       "      <td>zzzz</td>\n",
       "      <td>0.000000</td>\n",
       "    </tr>\n",
       "  </tbody>\n",
       "</table>\n",
       "<p>6000 rows × 2 columns</p>\n",
       "</div>"
      ]
     },
     "execution_count": 54,
     "metadata": {},
     "output_type": "execute_result"
    }
   ],
   "execution_count": 54
  },
  {
   "metadata": {
    "ExecuteTime": {
     "end_time": "2025-05-25T18:28:06.654781Z",
     "start_time": "2025-05-25T18:28:06.651373Z"
    }
   },
   "cell_type": "code",
   "source": [
    "bow_top = set(feat_imp_df.head(20)['token'])\n",
    "tfidf_top = set(df_imp_tfidf.head(20)['token'])\n",
    "\n",
    "common = bow_top & tfidf_top\n",
    "only_bow = bow_top - tfidf_top\n",
    "only_tfidf = tfidf_top - bow_top\n",
    "\n",
    "print(\"🔁 Спільні токени:\", common)\n",
    "print(\"❌ Лише у BoW:\", only_bow)\n",
    "print(\"✅ Лише у TF-IDF:\", only_tfidf)"
   ],
   "outputs": [
    {
     "name": "stdout",
     "output_type": "stream",
     "text": [
      "🔁 Спільні токени: {'nice', 'thank', 'awesom', 'hurt', 'enjoy', 'great', 'happi', 'hate', 'excit', 'ugh', 'cute', 'fail', 'sad', 'love', 'amaz', 'bore', 'suck'}\n",
      "❌ Лише у BoW: {'poor', 'cool', 'welcom'}\n",
      "✅ Лише у TF-IDF: {'fantast', 'stupid', 'sick'}\n"
     ]
    }
   ],
   "execution_count": 55
  },
  {
   "metadata": {},
   "cell_type": "markdown",
   "source": [
    "### Висновок\n",
    "\n",
    "Після classification report можна побачити, що модель TF-IDF поводиться гірше за BoW в данному випадку.\n",
    "\n",
    "Модель XGBoost на BoW показала кращі результати, ніж на TF-IDF:\n",
    "- Accuracy: 0.71 (проти 0.69)\n",
    "- Macro F1: 0.71 (проти 0.69)\n",
    "\n",
    "Тож в даному випадку модель на BoW (зрозуміло, що на XGBoost із гіперпараметрами) показала кращі результати і її вибрав би для продакшину."
   ]
  },
  {
   "cell_type": "markdown",
   "source": [
    "### Завдання 7. Аналіз помилок класифікації з векторизацією TF-IDF.\n",
    "\n",
    "- Проаналізуйте, на яких екземплярах помиляється класифікатор при векторизації TF-IDF.\n",
    "- На основі аналізу запропонуйте 3 шляхи поліпшення якості класифікації."
   ],
   "metadata": {
    "id": "3zsp9KftOqyS"
   }
  },
  {
   "cell_type": "code",
   "source": [
    "df_errors = pd.DataFrame({\n",
    "    'text': data.loc[y_test.index, 'text'].values,\n",
    "    'true': y_test.values,\n",
    "    'pred': le.inverse_transform(y_pred)\n",
    "})\n",
    "\n",
    "# Фільтруємо лише помилки\n",
    "df_mistakes = df_errors[df_errors['true'] != df_errors['pred']]\n",
    "print(f\"Кількість помилок: {len(df_mistakes)} з {len(y_test)} ({len(df_mistakes) / len(y_test) * 100:.2f}%)\")\n",
    "\n",
    "df_mistakes.sample(20, random_state=42)"
   ],
   "metadata": {
    "id": "RbnvtiL8Y-D-",
    "ExecuteTime": {
     "end_time": "2025-05-25T18:45:20.075591Z",
     "start_time": "2025-05-25T18:45:20.066955Z"
    }
   },
   "outputs": [
    {
     "name": "stdout",
     "output_type": "stream",
     "text": [
      "Кількість помилок: 2412 з 8244 (29.26%)\n"
     ]
    },
    {
     "data": {
      "text/plain": [
       "                                                   text      true      pred\n",
       "5568   i wish i had friends i could spend the night ...  negative  positive\n",
       "7546  Exhausted. Thank goodness my race is almost he...   neutral  positive\n",
       "8188   You`re welcome!  How much longer until it`s c...   neutral  positive\n",
       "6656        OMFG my favourite jerk chicken place closed  negative   neutral\n",
       "6138   Couldn`t see one, but I`m probably blind  Do ...  negative   neutral\n",
       "3600  _Bee same here : /   Coincidently, my friend j...  negative   neutral\n",
       "6344   This definitely separates a professional robb...  negative   neutral\n",
       "6039  ? Polly Scattergood`s new single out today! Do...  positive   neutral\n",
       "5696                  Home w/bae & Myka.. He`s so meann  negative   neutral\n",
       "2617  twit twit twitter! trying to 'legally' watch a...  negative   neutral\n",
       "5421   There is good cholesterol. There are no good ...   neutral  positive\n",
       "3695                                     IT DIDN`T WORK  negative   neutral\n",
       "4684            awh, thats not good,   get better soon!  negative  positive\n",
       "6505  Finally installed ovi in mobile. it would have...   neutral  positive\n",
       "875   about to start my least favourite chore.... mo...  negative  positive\n",
       "6849  Just got off the phone with lainey the love of...  negative  positive\n",
       "6167                              Goodnite sexy twiggas  positive   neutral\n",
       "4498  is ready for a productive friday. one of the l...  positive  negative\n",
       "1762  omg!!! mcdonalds combo and wendys sundae = puk...  negative   neutral\n",
       "3414   I can`t, I`m studying so I don`t fail  Come o...   neutral  negative"
      ],
      "text/html": [
       "<div>\n",
       "<style scoped>\n",
       "    .dataframe tbody tr th:only-of-type {\n",
       "        vertical-align: middle;\n",
       "    }\n",
       "\n",
       "    .dataframe tbody tr th {\n",
       "        vertical-align: top;\n",
       "    }\n",
       "\n",
       "    .dataframe thead th {\n",
       "        text-align: right;\n",
       "    }\n",
       "</style>\n",
       "<table border=\"1\" class=\"dataframe\">\n",
       "  <thead>\n",
       "    <tr style=\"text-align: right;\">\n",
       "      <th></th>\n",
       "      <th>text</th>\n",
       "      <th>true</th>\n",
       "      <th>pred</th>\n",
       "    </tr>\n",
       "  </thead>\n",
       "  <tbody>\n",
       "    <tr>\n",
       "      <th>5568</th>\n",
       "      <td>i wish i had friends i could spend the night ...</td>\n",
       "      <td>negative</td>\n",
       "      <td>positive</td>\n",
       "    </tr>\n",
       "    <tr>\n",
       "      <th>7546</th>\n",
       "      <td>Exhausted. Thank goodness my race is almost he...</td>\n",
       "      <td>neutral</td>\n",
       "      <td>positive</td>\n",
       "    </tr>\n",
       "    <tr>\n",
       "      <th>8188</th>\n",
       "      <td>You`re welcome!  How much longer until it`s c...</td>\n",
       "      <td>neutral</td>\n",
       "      <td>positive</td>\n",
       "    </tr>\n",
       "    <tr>\n",
       "      <th>6656</th>\n",
       "      <td>OMFG my favourite jerk chicken place closed</td>\n",
       "      <td>negative</td>\n",
       "      <td>neutral</td>\n",
       "    </tr>\n",
       "    <tr>\n",
       "      <th>6138</th>\n",
       "      <td>Couldn`t see one, but I`m probably blind  Do ...</td>\n",
       "      <td>negative</td>\n",
       "      <td>neutral</td>\n",
       "    </tr>\n",
       "    <tr>\n",
       "      <th>3600</th>\n",
       "      <td>_Bee same here : /   Coincidently, my friend j...</td>\n",
       "      <td>negative</td>\n",
       "      <td>neutral</td>\n",
       "    </tr>\n",
       "    <tr>\n",
       "      <th>6344</th>\n",
       "      <td>This definitely separates a professional robb...</td>\n",
       "      <td>negative</td>\n",
       "      <td>neutral</td>\n",
       "    </tr>\n",
       "    <tr>\n",
       "      <th>6039</th>\n",
       "      <td>? Polly Scattergood`s new single out today! Do...</td>\n",
       "      <td>positive</td>\n",
       "      <td>neutral</td>\n",
       "    </tr>\n",
       "    <tr>\n",
       "      <th>5696</th>\n",
       "      <td>Home w/bae &amp; Myka.. He`s so meann</td>\n",
       "      <td>negative</td>\n",
       "      <td>neutral</td>\n",
       "    </tr>\n",
       "    <tr>\n",
       "      <th>2617</th>\n",
       "      <td>twit twit twitter! trying to 'legally' watch a...</td>\n",
       "      <td>negative</td>\n",
       "      <td>neutral</td>\n",
       "    </tr>\n",
       "    <tr>\n",
       "      <th>5421</th>\n",
       "      <td>There is good cholesterol. There are no good ...</td>\n",
       "      <td>neutral</td>\n",
       "      <td>positive</td>\n",
       "    </tr>\n",
       "    <tr>\n",
       "      <th>3695</th>\n",
       "      <td>IT DIDN`T WORK</td>\n",
       "      <td>negative</td>\n",
       "      <td>neutral</td>\n",
       "    </tr>\n",
       "    <tr>\n",
       "      <th>4684</th>\n",
       "      <td>awh, thats not good,   get better soon!</td>\n",
       "      <td>negative</td>\n",
       "      <td>positive</td>\n",
       "    </tr>\n",
       "    <tr>\n",
       "      <th>6505</th>\n",
       "      <td>Finally installed ovi in mobile. it would have...</td>\n",
       "      <td>neutral</td>\n",
       "      <td>positive</td>\n",
       "    </tr>\n",
       "    <tr>\n",
       "      <th>875</th>\n",
       "      <td>about to start my least favourite chore.... mo...</td>\n",
       "      <td>negative</td>\n",
       "      <td>positive</td>\n",
       "    </tr>\n",
       "    <tr>\n",
       "      <th>6849</th>\n",
       "      <td>Just got off the phone with lainey the love of...</td>\n",
       "      <td>negative</td>\n",
       "      <td>positive</td>\n",
       "    </tr>\n",
       "    <tr>\n",
       "      <th>6167</th>\n",
       "      <td>Goodnite sexy twiggas</td>\n",
       "      <td>positive</td>\n",
       "      <td>neutral</td>\n",
       "    </tr>\n",
       "    <tr>\n",
       "      <th>4498</th>\n",
       "      <td>is ready for a productive friday. one of the l...</td>\n",
       "      <td>positive</td>\n",
       "      <td>negative</td>\n",
       "    </tr>\n",
       "    <tr>\n",
       "      <th>1762</th>\n",
       "      <td>omg!!! mcdonalds combo and wendys sundae = puk...</td>\n",
       "      <td>negative</td>\n",
       "      <td>neutral</td>\n",
       "    </tr>\n",
       "    <tr>\n",
       "      <th>3414</th>\n",
       "      <td>I can`t, I`m studying so I don`t fail  Come o...</td>\n",
       "      <td>neutral</td>\n",
       "      <td>negative</td>\n",
       "    </tr>\n",
       "  </tbody>\n",
       "</table>\n",
       "</div>"
      ]
     },
     "execution_count": 82,
     "metadata": {},
     "output_type": "execute_result"
    }
   ],
   "execution_count": 82
  },
  {
   "metadata": {
    "ExecuteTime": {
     "end_time": "2025-05-25T18:42:51.897473Z",
     "start_time": "2025-05-25T18:42:51.890757Z"
    }
   },
   "cell_type": "code",
   "source": "df_mistakes[(df_mistakes['true'] == 'negative') & (df_mistakes['pred'] == 'positive')].sample(10, random_state=42)",
   "outputs": [
    {
     "data": {
      "text/plain": [
       "                                                   text      true      pred\n",
       "6687       good morning twitterworld!  slept too less..  negative  positive\n",
       "2482      He still doesn`t love me... I won`t ask again  negative  positive\n",
       "7652                 wishing I was anywhere but here...  negative  positive\n",
       "935               Visiting family in hospital = not fun  negative  positive\n",
       "5758   Me and Wendy are going after all.  Wish you w...  negative  positive\n",
       "671   Oh no! I just read they are going to do a rema...  negative  positive\n",
       "4385  wtf?! my tweets aren`t posting   super excited...  negative  positive\n",
       "1521  I wish I could just go for a drive..or a movie...  negative  positive\n",
       "4656   no decleration yet but crazy **** Koreans are...  negative  positive\n",
       "372   i realy wanted to go out cause its so nice but...  negative  positive"
      ],
      "text/html": [
       "<div>\n",
       "<style scoped>\n",
       "    .dataframe tbody tr th:only-of-type {\n",
       "        vertical-align: middle;\n",
       "    }\n",
       "\n",
       "    .dataframe tbody tr th {\n",
       "        vertical-align: top;\n",
       "    }\n",
       "\n",
       "    .dataframe thead th {\n",
       "        text-align: right;\n",
       "    }\n",
       "</style>\n",
       "<table border=\"1\" class=\"dataframe\">\n",
       "  <thead>\n",
       "    <tr style=\"text-align: right;\">\n",
       "      <th></th>\n",
       "      <th>text</th>\n",
       "      <th>true</th>\n",
       "      <th>pred</th>\n",
       "    </tr>\n",
       "  </thead>\n",
       "  <tbody>\n",
       "    <tr>\n",
       "      <th>6687</th>\n",
       "      <td>good morning twitterworld!  slept too less..</td>\n",
       "      <td>negative</td>\n",
       "      <td>positive</td>\n",
       "    </tr>\n",
       "    <tr>\n",
       "      <th>2482</th>\n",
       "      <td>He still doesn`t love me... I won`t ask again</td>\n",
       "      <td>negative</td>\n",
       "      <td>positive</td>\n",
       "    </tr>\n",
       "    <tr>\n",
       "      <th>7652</th>\n",
       "      <td>wishing I was anywhere but here...</td>\n",
       "      <td>negative</td>\n",
       "      <td>positive</td>\n",
       "    </tr>\n",
       "    <tr>\n",
       "      <th>935</th>\n",
       "      <td>Visiting family in hospital = not fun</td>\n",
       "      <td>negative</td>\n",
       "      <td>positive</td>\n",
       "    </tr>\n",
       "    <tr>\n",
       "      <th>5758</th>\n",
       "      <td>Me and Wendy are going after all.  Wish you w...</td>\n",
       "      <td>negative</td>\n",
       "      <td>positive</td>\n",
       "    </tr>\n",
       "    <tr>\n",
       "      <th>671</th>\n",
       "      <td>Oh no! I just read they are going to do a rema...</td>\n",
       "      <td>negative</td>\n",
       "      <td>positive</td>\n",
       "    </tr>\n",
       "    <tr>\n",
       "      <th>4385</th>\n",
       "      <td>wtf?! my tweets aren`t posting   super excited...</td>\n",
       "      <td>negative</td>\n",
       "      <td>positive</td>\n",
       "    </tr>\n",
       "    <tr>\n",
       "      <th>1521</th>\n",
       "      <td>I wish I could just go for a drive..or a movie...</td>\n",
       "      <td>negative</td>\n",
       "      <td>positive</td>\n",
       "    </tr>\n",
       "    <tr>\n",
       "      <th>4656</th>\n",
       "      <td>no decleration yet but crazy **** Koreans are...</td>\n",
       "      <td>negative</td>\n",
       "      <td>positive</td>\n",
       "    </tr>\n",
       "    <tr>\n",
       "      <th>372</th>\n",
       "      <td>i realy wanted to go out cause its so nice but...</td>\n",
       "      <td>negative</td>\n",
       "      <td>positive</td>\n",
       "    </tr>\n",
       "  </tbody>\n",
       "</table>\n",
       "</div>"
      ]
     },
     "execution_count": 80,
     "metadata": {},
     "output_type": "execute_result"
    }
   ],
   "execution_count": 80
  },
  {
   "metadata": {},
   "cell_type": "markdown",
   "source": [
    "### Висновок\n",
    "Із того, що бачу, то деякі слова як fun, love із not часто використовуються в негативному контексті, тож модель тут погано передбачає. Бачу, що к-сть символів також дають емоційне забарвлення як то **** або !!! в кінці речення.\n",
    "\n",
    "Також бачу, що lowercase додався у нас при визначені, хоча також uppercase давав негативне забарвлення, хоча у нас класифікатор визначав як нейтральне.\n",
    "\n",
    "Можливо, що якісь скорочення/сленгові слова дають такод забарвлення і їх можна завчасно визначити.\n",
    "\n",
    "Тобто аналізувати взагалі десь повне речення і шукати по сенсу із іншими.\n",
    "\n",
    "Ще можна звичайно усі документи проаналізувати (тобто не 6000 токенів все ж, а усі використати для аналізу.\n"
   ]
  },
  {
   "cell_type": "markdown",
   "source": [
    "І на фінал кернел для натхнення і ознайомлення з рішенням оригінальної задачі. Багато цікавих візуалізацій і аналізу є тут, а також тут розвʼязується саме проблема named entitty recognition і можна ознайомитись як це робиться - вона дещо складніша по своїй суті ніж класифікація, подумайте, чому:\n",
    "\n",
    "https://www.kaggle.com/code/tanulsingh077/twitter-sentiment-extaction-analysis-eda-and-model"
   ],
   "metadata": {
    "id": "lFi4VWwjRS3h"
   }
  }
 ]
}
