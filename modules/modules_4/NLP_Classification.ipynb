{
 "cells": [
  {
   "cell_type": "markdown",
   "metadata": {
    "id": "tBxC0flTQDd3"
   },
   "source": [
    "# Класифікація тексту за допомогою моделей Bag-of-words та TF-IDF\n",
    "\n",
    "![](https://i.imgur.com/hlEQ5X8.png)\n",
    "\n",
    "> _\"Обробка природної мови (NLP) - це підгалузь лінгвістики, комп'ютерних наук та штучного інтелекту, що стосується взаємодії між комп'ютерами та людською мовою, зокрема, як програмувати комп'ютери для обробки та аналізу великих обсягів даних природної мови.\"_ - Вікіпедія\n",
    "\n",
    "> _**Мішок слів (Bag of Words)**: Модель мішка слів (BOW) - це представлення, яке перетворює довільний текст у вектори фіксованої довжини, підраховуючи, скільки разів кожне слово з'являється._\n",
    "\n",
    "План:\n",
    "\n",
    "1. Завантажити та дослідити реальний набір даних\n",
    "2. Застосувати техніки попередньої обробки тексту\n",
    "3. Реалізувати модель мішка слів\n",
    "4. Навчити моделі машинного навчання для класифікації тексту\n",
    "5. Зробити прогнози на тренуванні і тесті, проаналізувати результати.\n",
    "\n",
    "Набір даних: https://www.kaggle.com/c/quora-insincere-questions-classification\n",
    "\n",
    "Працюємо тільки з `train.csv`.\n",
    "\n",
    "Наша задача - виявити, який контент є токсичний для того аби поліпшити онлайн спілкування на платформі Quora."
   ]
  },
  {
   "cell_type": "markdown",
   "metadata": {
    "id": "ZOcWwlvxQoSJ"
   },
   "source": [
    "## Завантаження та дослідження даних"
   ]
  },
  {
   "cell_type": "code",
   "metadata": {
    "id": "pf65NRzdQ-hU",
    "ExecuteTime": {
     "end_time": "2025-05-25T11:23:25.951759Z",
     "start_time": "2025-05-25T11:23:25.949938Z"
    }
   },
   "source": [
    "import pandas as pd"
   ],
   "outputs": [],
   "execution_count": 3
  },
  {
   "cell_type": "code",
   "metadata": {
    "id": "H1FjN5gDTfUY",
    "ExecuteTime": {
     "end_time": "2025-05-25T11:23:27.320387Z",
     "start_time": "2025-05-25T11:23:25.956377Z"
    }
   },
   "source": [
    "train_fname = 'quora_train.csv.zip'\n",
    "raw_df = pd.read_csv(train_fname)"
   ],
   "outputs": [],
   "execution_count": 4
  },
  {
   "cell_type": "code",
   "metadata": {
    "id": "CHMgt_5iTfRt",
    "colab": {
     "base_uri": "https://localhost:8080/",
     "height": 423
    },
    "outputId": "306ecc18-8c97-4c5c-c63c-488f8ffe7a3f",
    "ExecuteTime": {
     "end_time": "2025-05-25T11:23:27.336217Z",
     "start_time": "2025-05-25T11:23:27.330653Z"
    }
   },
   "source": [
    "raw_df"
   ],
   "outputs": [
    {
     "data": {
      "text/plain": [
       "                          qid  \\\n",
       "0        00002165364db923c7e6   \n",
       "1        000032939017120e6e44   \n",
       "2        0000412ca6e4628ce2cf   \n",
       "3        000042bf85aa498cd78e   \n",
       "4        0000455dfa3e01eae3af   \n",
       "...                       ...   \n",
       "1306117  ffffcc4e2331aaf1e41e   \n",
       "1306118  ffffd431801e5a2f4861   \n",
       "1306119  ffffd48fb36b63db010c   \n",
       "1306120  ffffec519fa37cf60c78   \n",
       "1306121  ffffed09fedb5088744a   \n",
       "\n",
       "                                             question_text  target  \n",
       "0        How did Quebec nationalists see their province...       0  \n",
       "1        Do you have an adopted dog, how would you enco...       0  \n",
       "2        Why does velocity affect time? Does velocity a...       0  \n",
       "3        How did Otto von Guericke used the Magdeburg h...       0  \n",
       "4        Can I convert montra helicon D to a mountain b...       0  \n",
       "...                                                    ...     ...  \n",
       "1306117  What other technical skills do you need as a c...       0  \n",
       "1306118  Does MS in ECE have good job prospects in USA ...       0  \n",
       "1306119                          Is foam insulation toxic?       0  \n",
       "1306120  How can one start a research project based on ...       0  \n",
       "1306121  Who wins in a battle between a Wolverine and a...       0  \n",
       "\n",
       "[1306122 rows x 3 columns]"
      ],
      "text/html": [
       "<div>\n",
       "<style scoped>\n",
       "    .dataframe tbody tr th:only-of-type {\n",
       "        vertical-align: middle;\n",
       "    }\n",
       "\n",
       "    .dataframe tbody tr th {\n",
       "        vertical-align: top;\n",
       "    }\n",
       "\n",
       "    .dataframe thead th {\n",
       "        text-align: right;\n",
       "    }\n",
       "</style>\n",
       "<table border=\"1\" class=\"dataframe\">\n",
       "  <thead>\n",
       "    <tr style=\"text-align: right;\">\n",
       "      <th></th>\n",
       "      <th>qid</th>\n",
       "      <th>question_text</th>\n",
       "      <th>target</th>\n",
       "    </tr>\n",
       "  </thead>\n",
       "  <tbody>\n",
       "    <tr>\n",
       "      <th>0</th>\n",
       "      <td>00002165364db923c7e6</td>\n",
       "      <td>How did Quebec nationalists see their province...</td>\n",
       "      <td>0</td>\n",
       "    </tr>\n",
       "    <tr>\n",
       "      <th>1</th>\n",
       "      <td>000032939017120e6e44</td>\n",
       "      <td>Do you have an adopted dog, how would you enco...</td>\n",
       "      <td>0</td>\n",
       "    </tr>\n",
       "    <tr>\n",
       "      <th>2</th>\n",
       "      <td>0000412ca6e4628ce2cf</td>\n",
       "      <td>Why does velocity affect time? Does velocity a...</td>\n",
       "      <td>0</td>\n",
       "    </tr>\n",
       "    <tr>\n",
       "      <th>3</th>\n",
       "      <td>000042bf85aa498cd78e</td>\n",
       "      <td>How did Otto von Guericke used the Magdeburg h...</td>\n",
       "      <td>0</td>\n",
       "    </tr>\n",
       "    <tr>\n",
       "      <th>4</th>\n",
       "      <td>0000455dfa3e01eae3af</td>\n",
       "      <td>Can I convert montra helicon D to a mountain b...</td>\n",
       "      <td>0</td>\n",
       "    </tr>\n",
       "    <tr>\n",
       "      <th>...</th>\n",
       "      <td>...</td>\n",
       "      <td>...</td>\n",
       "      <td>...</td>\n",
       "    </tr>\n",
       "    <tr>\n",
       "      <th>1306117</th>\n",
       "      <td>ffffcc4e2331aaf1e41e</td>\n",
       "      <td>What other technical skills do you need as a c...</td>\n",
       "      <td>0</td>\n",
       "    </tr>\n",
       "    <tr>\n",
       "      <th>1306118</th>\n",
       "      <td>ffffd431801e5a2f4861</td>\n",
       "      <td>Does MS in ECE have good job prospects in USA ...</td>\n",
       "      <td>0</td>\n",
       "    </tr>\n",
       "    <tr>\n",
       "      <th>1306119</th>\n",
       "      <td>ffffd48fb36b63db010c</td>\n",
       "      <td>Is foam insulation toxic?</td>\n",
       "      <td>0</td>\n",
       "    </tr>\n",
       "    <tr>\n",
       "      <th>1306120</th>\n",
       "      <td>ffffec519fa37cf60c78</td>\n",
       "      <td>How can one start a research project based on ...</td>\n",
       "      <td>0</td>\n",
       "    </tr>\n",
       "    <tr>\n",
       "      <th>1306121</th>\n",
       "      <td>ffffed09fedb5088744a</td>\n",
       "      <td>Who wins in a battle between a Wolverine and a...</td>\n",
       "      <td>0</td>\n",
       "    </tr>\n",
       "  </tbody>\n",
       "</table>\n",
       "<p>1306122 rows × 3 columns</p>\n",
       "</div>"
      ]
     },
     "execution_count": 5,
     "metadata": {},
     "output_type": "execute_result"
    }
   ],
   "execution_count": 5
  },
  {
   "cell_type": "markdown",
   "source": [
    "Дослілимо дані, які не є токсичними."
   ],
   "metadata": {
    "id": "qCSIlgzqMt60"
   }
  },
  {
   "cell_type": "code",
   "metadata": {
    "id": "wV2xGZ3STfPx",
    "ExecuteTime": {
     "end_time": "2025-05-25T11:23:27.420742Z",
     "start_time": "2025-05-25T11:23:27.398248Z"
    }
   },
   "source": [
    "sincere_df = raw_df[raw_df.target == 0]"
   ],
   "outputs": [],
   "execution_count": 6
  },
  {
   "cell_type": "code",
   "metadata": {
    "id": "me4srOFdUMCQ",
    "colab": {
     "base_uri": "https://localhost:8080/"
    },
    "outputId": "92902c1d-6a7e-401c-8020-2b876926db01",
    "ExecuteTime": {
     "end_time": "2025-05-25T11:23:27.483291Z",
     "start_time": "2025-05-25T11:23:27.480824Z"
    }
   },
   "source": [
    "sincere_df.question_text.values[:10]"
   ],
   "outputs": [
    {
     "data": {
      "text/plain": [
       "array(['How did Quebec nationalists see their province as a nation in the 1960s?',\n",
       "       'Do you have an adopted dog, how would you encourage people to adopt and not shop?',\n",
       "       'Why does velocity affect time? Does velocity affect space geometry?',\n",
       "       'How did Otto von Guericke used the Magdeburg hemispheres?',\n",
       "       'Can I convert montra helicon D to a mountain bike by just changing the tyres?',\n",
       "       'Is Gaza slowly becoming Auschwitz, Dachau or Treblinka for Palestinians?',\n",
       "       'Why does Quora automatically ban conservative opinions when reported, but does not do the same for liberal views?',\n",
       "       'Is it crazy if I wash or wipe my groceries off? Germs are everywhere.',\n",
       "       'Is there such a thing as dressing moderately, and if so, how is that different than dressing modestly?',\n",
       "       'Is it just me or have you ever been in this phase wherein you became ignorant to the people you once loved, completely disregarding their feelings/lives so you get to have something go your way and feel temporarily at ease. How did things change?'],\n",
       "      dtype=object)"
      ]
     },
     "execution_count": 7,
     "metadata": {},
     "output_type": "execute_result"
    }
   ],
   "execution_count": 7
  },
  {
   "cell_type": "markdown",
   "source": [
    "А тепер ті, які є токсичними."
   ],
   "metadata": {
    "id": "mKSfWTnoMyY9"
   }
  },
  {
   "cell_type": "code",
   "metadata": {
    "id": "cTApBtxIUMAJ",
    "ExecuteTime": {
     "end_time": "2025-05-25T11:23:27.539968Z",
     "start_time": "2025-05-25T11:23:27.534891Z"
    }
   },
   "source": [
    "insincere_df = raw_df[raw_df.target == 1]"
   ],
   "outputs": [],
   "execution_count": 8
  },
  {
   "cell_type": "code",
   "metadata": {
    "id": "-nFN5bZVUL91",
    "colab": {
     "base_uri": "https://localhost:8080/"
    },
    "outputId": "739a8292-6280-4553-b4bd-c2cf2dd3ad8b",
    "ExecuteTime": {
     "end_time": "2025-05-25T11:23:27.561430Z",
     "start_time": "2025-05-25T11:23:27.559406Z"
    }
   },
   "source": [
    "insincere_df.question_text.values[:10]"
   ],
   "outputs": [
    {
     "data": {
      "text/plain": [
       "array(['Has the United States become the largest dictatorship in the world?',\n",
       "       'Which babies are more sweeter to their parents? Dark skin babies or light skin babies?',\n",
       "       \"If blacks support school choice and mandatory sentencing for criminals why don't they vote Republican?\",\n",
       "       'I am gay boy and I love my cousin (boy). He is sexy, but I dont know what to do. He is hot, and I want to see his di**. What should I do?',\n",
       "       'Which races have the smallest penis?',\n",
       "       'Why do females find penises ugly?',\n",
       "       'How do I marry an American woman for a Green Card? How much do they charge?',\n",
       "       \"Why do Europeans say they're the superior race, when in fact it took them over 2,000 years until mid 19th century to surpass China's largest economy?\",\n",
       "       'Did Julius Caesar bring a tyrannosaurus rex on his campaigns to frighten the Celts into submission?',\n",
       "       \"In what manner has Republican backing of 'states rights' been hypocritical and what ways have they actually restricted the ability of states to make their own laws?\"],\n",
       "      dtype=object)"
      ]
     },
     "execution_count": 9,
     "metadata": {},
     "output_type": "execute_result"
    }
   ],
   "execution_count": 9
  },
  {
   "cell_type": "markdown",
   "source": [
    "Який баланс класів в наборі даних?"
   ],
   "metadata": {
    "id": "347leRxMM1yC"
   }
  },
  {
   "cell_type": "code",
   "metadata": {
    "id": "n2VQSfKmUn7Z",
    "colab": {
     "base_uri": "https://localhost:8080/",
     "height": 178
    },
    "outputId": "8b865201-1880-4f5f-83e0-44548b400bcd",
    "ExecuteTime": {
     "end_time": "2025-05-25T11:23:27.599544Z",
     "start_time": "2025-05-25T11:23:27.592879Z"
    }
   },
   "source": [
    "raw_df.target.value_counts(normalize=True)"
   ],
   "outputs": [
    {
     "data": {
      "text/plain": [
       "target\n",
       "0    0.93813\n",
       "1    0.06187\n",
       "Name: proportion, dtype: float64"
      ]
     },
     "execution_count": 10,
     "metadata": {},
     "output_type": "execute_result"
    }
   ],
   "execution_count": 10
  },
  {
   "cell_type": "markdown",
   "source": [
    "Бачимо, що токсичних у нас менше."
   ],
   "metadata": {
    "id": "V3oekZ9uM6gG"
   }
  },
  {
   "cell_type": "markdown",
   "metadata": {
    "id": "v7sWG0KCV0g-"
   },
   "source": [
    "### Створити робочий зразок"
   ]
  },
  {
   "cell_type": "code",
   "source": [
    "SHORTEN = True"
   ],
   "metadata": {
    "id": "5o3twQK5NKwr",
    "ExecuteTime": {
     "end_time": "2025-05-25T11:23:27.625822Z",
     "start_time": "2025-05-25T11:23:27.624427Z"
    }
   },
   "outputs": [],
   "execution_count": 11
  },
  {
   "cell_type": "code",
   "metadata": {
    "id": "hu5s7hLKV7Kr",
    "ExecuteTime": {
     "end_time": "2025-05-25T11:23:27.661560Z",
     "start_time": "2025-05-25T11:23:27.644119Z"
    }
   },
   "source": [
    "if SHORTEN:\n",
    "    SAMPLE_SIZE = 100000\n",
    "    raw_df = raw_df.sample(SAMPLE_SIZE, random_state=42)\n",
    "else:\n",
    "    SAMPLE_SIZE = len(raw_df)"
   ],
   "outputs": [],
   "execution_count": 12
  },
  {
   "cell_type": "markdown",
   "metadata": {
    "id": "-gZy068pQoPg"
   },
   "source": [
    "## Попередня обробка тексту\n",
    "\n",
    "1. Розуміння моделі \"мішок слів\" (bag of words model)\n",
    "2. Розуміння моделі TF-IDF (term frequency - inverted document frequency)\n",
    "2. Токенізація (Tokenization)\n",
    "3. Видалення стоп-слів (Stop word removal)\n",
    "4. Стемінг (Stemming)"
   ]
  },
  {
   "cell_type": "markdown",
   "metadata": {
    "id": "pJ0mh3gjXH9e"
   },
   "source": [
    "### Інтуїція моделі векторизації тексту Bag of Words (BoW)\n",
    "\n",
    "1. **Створення словника слів**: Спочатку ми створюємо список усіх слів, які з'являються у всіх текстових документах. Цей список можна вважати \"словником\" або \"всесвітом\" усіх слів, що зустрічаються в наборі даних.\n",
    "\n",
    "2. **Перетворення документа у вектор**: Кожен документ перетворюється на вектор, де кожен елемент відповідає кількості появ певного слова з цього словника в документі. Якщо слово зустрічається у документі 3 рази, його відповідне значення буде 3, якщо жодного разу — 0.\n",
    "\n",
    "![](https://vitalflux.com/wp-content/uploads/2021/08/Bag-of-words-technique-to-convert-to-numerical-feature-vector-png.png)\n",
    "\n",
    "Цей метод ефективний, якщо ми просто хочемо підрахувати слова, але він має низку обмежень, які можуть впливати на результати аналізу тексту.\n",
    "\n",
    "### Основні проблеми з методом \"Мішок слів\" (BoW)\n",
    "\n",
    "1. **Розмірність векторів**: Якщо у вас є великий набір даних з багатьма документами, словник буде містити величезну кількість унікальних слів. Це призводить до дуже великих векторів, які важко обробляти та зберігати. Ця проблема відома як \"прокляття розмірності\".\n",
    "\n",
    "2. **Часті, але незначущі слова (стоп-слова)**: Деякі слова (такі як \"і\", \"але\", \"це\") з'являються дуже часто у всіх документах, але не мають великого сенсу для класифікації чи аналізу. У BoW ці слова можуть мати високу вагу, навіть якщо вони не несуть смислового навантаження.\n",
    "\n",
    "3. **Рідкісні, але важливі слова**: Навпаки, деякі слова можуть з'являтися лише в одному документі, але бути важливими для класифікації або розуміння змісту. Наприклад, терміни, специфічні для певної теми або документа. У BoW ці слова можуть мати таку ж вагу, як і менш важливі слова, що знижує якість аналізу.\n",
    "\n",
    "4. **Множинні форми слів**: Одне слово може мати багато різних форм (наприклад, \"go\", \"gone\", \"going\" або \"bird\" і \"birds\"). У BoW всі ці форми будуть розглядатися як різні слова, що збільшує розмірність і ускладнює аналіз. Це робить модель менш стійкою до різних форм одного і того ж слова.\n"
   ]
  },
  {
   "cell_type": "markdown",
   "source": [
    "Розглянемо приклади."
   ],
   "metadata": {
    "id": "j08GtXx9OPB7"
   }
  },
  {
   "cell_type": "code",
   "metadata": {
    "id": "PDb6D4pfYWPu",
    "ExecuteTime": {
     "end_time": "2025-05-25T11:23:27.709148Z",
     "start_time": "2025-05-25T11:23:27.707491Z"
    }
   },
   "source": [
    "q0 = sincere_df.question_text.values[1]"
   ],
   "outputs": [],
   "execution_count": 13
  },
  {
   "cell_type": "code",
   "metadata": {
    "id": "mQjFxTKFYjJk",
    "colab": {
     "base_uri": "https://localhost:8080/",
     "height": 35
    },
    "outputId": "90fbacc9-40f1-4825-991c-558f336b8ab9",
    "ExecuteTime": {
     "end_time": "2025-05-25T11:23:27.785602Z",
     "start_time": "2025-05-25T11:23:27.783487Z"
    }
   },
   "source": [
    "q0"
   ],
   "outputs": [
    {
     "data": {
      "text/plain": [
       "'Do you have an adopted dog, how would you encourage people to adopt and not shop?'"
      ]
     },
     "execution_count": 14,
     "metadata": {},
     "output_type": "execute_result"
    }
   ],
   "execution_count": 14
  },
  {
   "cell_type": "code",
   "metadata": {
    "id": "GIvt_M-yYlJH",
    "ExecuteTime": {
     "end_time": "2025-05-25T11:23:27.833539Z",
     "start_time": "2025-05-25T11:23:27.830742Z"
    }
   },
   "source": [
    "q1 = raw_df[raw_df.target == 1].question_text.values[0]"
   ],
   "outputs": [],
   "execution_count": 15
  },
  {
   "cell_type": "code",
   "metadata": {
    "id": "86bHxTMbY182",
    "colab": {
     "base_uri": "https://localhost:8080/",
     "height": 35
    },
    "outputId": "3f679c3d-66a0-4a47-9fd8-792029b43ab8",
    "ExecuteTime": {
     "end_time": "2025-05-25T11:23:27.852171Z",
     "start_time": "2025-05-25T11:23:27.849894Z"
    }
   },
   "source": [
    "q1"
   ],
   "outputs": [
    {
     "data": {
      "text/plain": [
       "'Is Yahoo owned by the Jews?'"
      ]
     },
     "execution_count": 16,
     "metadata": {},
     "output_type": "execute_result"
    }
   ],
   "execution_count": 16
  },
  {
   "cell_type": "markdown",
   "metadata": {
    "id": "qj4Zg1yaYPJv"
   },
   "source": [
    "### Токенізація\n",
    "\n",
    "Токенізація – це процес розбиття тексту на менші одиниці, звані токенами. Токени можуть бути окремими словами, фразами або навіть символами.\n",
    "Мета токенізації – перетворити текст у структуру, яка зручна для подальшого аналізу і обробки моделями NLP. Наприклад, речення \"NLP is fun!\" може бути токенізовано на [\"NLP\", \"is\", \"fun\", \"!\"].\n",
    "Токенізація дозволяє враховувати кожне слово або символ як окрему одиницю для аналізу.\n",
    "\n",
    "Будемо тут використовувати бібліотеку nltk.\n",
    "\n",
    "Бібліотека **Natural Language Toolkit (NLTK)** є однією з найпопулярніших бібліотек для обробки природної мови на Python. Вона пропонує широкий набір інструментів і ресурсів для дослідження і побудови NLP моделей.\n",
    "Посилання: https://www.nltk.org/\n",
    "\n",
    "Основні можливості бібліотеки NLTK\n",
    "\n",
    "1. **Токенізація**\n",
    " - Інструменти для розбиття тексту на речення або слова (токени). Це включає базові методи токенізації на основі пробілів і пунктуації, а також більш просунуті методи для підтримки різних мов.\n",
    "\n",
    "2. **Стемінг і лематизація**\n",
    "   - Підтримка різних алгоритмів для стемінгу (наприклад, алгоритм Портера, алгоритм Ланкастера) і лематизації (наприклад, використання словників WordNet). Ці інструменти допомагають нормалізувати слова до їх основних або кореневих форм.\n",
    "\n",
    "3. **Видалення стоп-слів**\n",
    "   - Вбудований список стоп-слів для різних мов та інструменти для їх видалення з тексту, щоб зосередитися на більш значущих термінах.\n",
    "\n",
    "4. **Частотний аналіз**\n",
    "   - Інструменти для підрахунку частоти слів та n-грам (послідовностей з n слів) у тексті, що є корисним для аналізу тексту і виявлення ключових слів або фраз.\n",
    "\n",
    "5. **Частина мови (POS) тегінг**\n",
    "   - Можливість автоматичного визначення частин мови (іменник, дієслово, прикметник тощо) для кожного слова в тексті, використовуючи вбудовані таггери (наприклад, Perceptron Tagger, Maximum Entropy Tagger).\n",
    "\n",
    "6. **Визначення іменованих сутностей (Named Entity Recognition, NER)**\n",
    "   - Інструменти для автоматичного виявлення іменованих сутностей у тексті, таких як особи, організації, місця та інші категорії.\n",
    "\n",
    "7. **Моделювання граматичної структури речення**\n",
    "   - Інструменти для парсингу речень і побудови синтаксичних дерев, що показують граматичну структуру речення.\n",
    "\n",
    "8. **Обробка та аналіз корпусів тексту**\n",
    "   - Вбудовані корпуси тексту для навчання і тестування моделей NLP, такі як \"Brown Corpus\", \"Reuters Corpus\", \"Movie Reviews\", а також інтерфейси до зовнішніх ресурсів, як-от WordNet.\n",
    "\n",
    "9. **Алгоритми машинного навчання для NLP**\n",
    "   - Можливість використовувати різні алгоритми машинного навчання (наприклад, наївний Байєс, дерева рішень) для вирішення NLP завдань, таких як класифікація тексту або аналіз настроїв.\n",
    "\n",
    "10. **Побудова n-грам моделей**\n",
    "    - Інструменти для створення моделей на основі n-грам, що використовуються для прогнозування наступних слів або аналізу послідовностей у тексті.\n",
    "\n",
    "11. **Візуалізація даних**\n",
    "    - Інструменти для створення графіків частотності слів, дерев синтаксичного аналізу та інших візуалізацій для більш глибокого розуміння текстових даних.\n",
    "\n",
    "12. **Інтерфейси для інших бібліотек**\n",
    "    - Інтеграція з іншими бібліотеками та ресурсами, такими як WordNet, TextBlob та інші інструменти для NLP.\n",
    "\n",
    "Переваги використання NLTK:\n",
    "\n",
    "- **Легкість у використанні:** NLTK має простий і зручний інтерфейс для новачків у NLP, а також добре документований API.\n",
    "- **Велика спільнота:** NLTK має велику спільноту користувачів і розробників, що сприяє швидкому вирішенню питань і обміну досвідом.\n",
    "- **Освітній ресурс:** Завдяки багатій документації та численним прикладам, NLTK є популярним вибором для навчання обробки природної мови в університетах та на онлайн-курсах.\n"
   ]
  },
  {
   "cell_type": "code",
   "source": [
    "'NLP is fun!'.replace('!', '').split()"
   ],
   "metadata": {
    "colab": {
     "base_uri": "https://localhost:8080/"
    },
    "id": "lO383L2bdj4r",
    "outputId": "701dfc46-97bf-44b6-dfe6-a07c0e5f8ddd",
    "ExecuteTime": {
     "end_time": "2025-05-25T11:23:27.892221Z",
     "start_time": "2025-05-25T11:23:27.890154Z"
    }
   },
   "outputs": [
    {
     "data": {
      "text/plain": [
       "['NLP', 'is', 'fun']"
      ]
     },
     "execution_count": 17,
     "metadata": {},
     "output_type": "execute_result"
    }
   ],
   "execution_count": 17
  },
  {
   "cell_type": "code",
   "metadata": {
    "id": "EqacxiuyZPds",
    "ExecuteTime": {
     "end_time": "2025-05-25T11:23:28.330944Z",
     "start_time": "2025-05-25T11:23:27.914908Z"
    }
   },
   "source": [
    "import nltk"
   ],
   "outputs": [],
   "execution_count": 18
  },
  {
   "cell_type": "code",
   "metadata": {
    "id": "2vQDMEq0Q_lP",
    "ExecuteTime": {
     "end_time": "2025-05-25T11:23:28.339630Z",
     "start_time": "2025-05-25T11:23:28.338216Z"
    }
   },
   "source": [
    "from nltk.tokenize import word_tokenize"
   ],
   "outputs": [],
   "execution_count": 19
  },
  {
   "cell_type": "markdown",
   "source": [
    "Токенізатор речень Punkt Sentence розділяє текст на список речень, використовуючи unsupervized алгоритм для побудови моделі для слів-абревіатур, словосполучень і слів, що починають речення. Перед використанням його потрібно навчити на великій колекції відкритих текстів цільовою мовою.\n"
   ],
   "metadata": {
    "id": "lMqbPMD_Up2Q"
   }
  },
  {
   "cell_type": "code",
   "metadata": {
    "id": "5eaAldKAZN-4",
    "colab": {
     "base_uri": "https://localhost:8080/"
    },
    "outputId": "9b2b1e9b-a468-476b-f28c-26941098173c",
    "ExecuteTime": {
     "end_time": "2025-05-25T11:23:28.656369Z",
     "start_time": "2025-05-25T11:23:28.347184Z"
    }
   },
   "source": [
    "nltk.download('punkt')\n",
    "nltk.download('punkt_tab')"
   ],
   "outputs": [
    {
     "name": "stderr",
     "output_type": "stream",
     "text": [
      "[nltk_data] Downloading package punkt to /Users/dmytro/nltk_data...\n",
      "[nltk_data]   Package punkt is already up-to-date!\n",
      "[nltk_data] Downloading package punkt_tab to\n",
      "[nltk_data]     /Users/dmytro/nltk_data...\n",
      "[nltk_data]   Package punkt_tab is already up-to-date!\n"
     ]
    },
    {
     "data": {
      "text/plain": [
       "True"
      ]
     },
     "execution_count": 20,
     "metadata": {},
     "output_type": "execute_result"
    }
   ],
   "execution_count": 20
  },
  {
   "cell_type": "markdown",
   "source": [
    "Punkt більш розумний за звичайне розбиття слів за пробілами."
   ],
   "metadata": {
    "id": "g5TVoozTVaU5"
   }
  },
  {
   "cell_type": "code",
   "source": [
    "from nltk.tokenize import PunktSentenceTokenizer\n",
    "text = '''\n",
    "Punkt knows that the periods in Mr. Smith and Johann S. Bach\n",
    "do not mark sentence boundaries.  And sometimes sentences\n",
    "can start with non-capitalized words.  i is a good variable\n",
    "name.\n",
    "'''\n",
    "sent_detector = PunktSentenceTokenizer()\n",
    "print('\\n-----\\n'.join(sent_detector.tokenize(text.strip())))"
   ],
   "metadata": {
    "id": "tLg8zd0dU3x5",
    "colab": {
     "base_uri": "https://localhost:8080/"
    },
    "outputId": "85832dd8-0f30-4551-82e1-28468aa57bf9",
    "ExecuteTime": {
     "end_time": "2025-05-25T11:23:28.671723Z",
     "start_time": "2025-05-25T11:23:28.668862Z"
    }
   },
   "outputs": [
    {
     "name": "stdout",
     "output_type": "stream",
     "text": [
      "Punkt knows that the periods in Mr.\n",
      "-----\n",
      "Smith and Johann S. Bach\n",
      "do not mark sentence boundaries.\n",
      "-----\n",
      "And sometimes sentences\n",
      "can start with non-capitalized words.\n",
      "-----\n",
      "i is a good variable\n",
      "name.\n"
     ]
    }
   ],
   "execution_count": 21
  },
  {
   "cell_type": "markdown",
   "source": [
    "Але ми будемо докенізувати до слова, не до речення.\n",
    "\n",
    "Наше речення до токенізації."
   ],
   "metadata": {
    "id": "ATE64-WrUiVv"
   }
  },
  {
   "cell_type": "code",
   "metadata": {
    "id": "VyIaEATyQ_ip",
    "colab": {
     "base_uri": "https://localhost:8080/",
     "height": 35
    },
    "outputId": "b81f14d0-2d40-4afa-f36e-aa246504af85",
    "ExecuteTime": {
     "end_time": "2025-05-25T11:23:28.718938Z",
     "start_time": "2025-05-25T11:23:28.716676Z"
    }
   },
   "source": [
    "q0"
   ],
   "outputs": [
    {
     "data": {
      "text/plain": [
       "'Do you have an adopted dog, how would you encourage people to adopt and not shop?'"
      ]
     },
     "execution_count": 22,
     "metadata": {},
     "output_type": "execute_result"
    }
   ],
   "execution_count": 22
  },
  {
   "cell_type": "markdown",
   "source": [
    "Після."
   ],
   "metadata": {
    "id": "myVjqdvPUjuy"
   }
  },
  {
   "cell_type": "code",
   "metadata": {
    "id": "1yULG5nVQ_gk",
    "colab": {
     "base_uri": "https://localhost:8080/"
    },
    "outputId": "15f9ae0e-8e7a-4fb4-d8b1-12326218070e",
    "ExecuteTime": {
     "end_time": "2025-05-25T11:23:28.775467Z",
     "start_time": "2025-05-25T11:23:28.762769Z"
    }
   },
   "source": [
    "word_tokenize(q0)"
   ],
   "outputs": [
    {
     "data": {
      "text/plain": [
       "['Do',\n",
       " 'you',\n",
       " 'have',\n",
       " 'an',\n",
       " 'adopted',\n",
       " 'dog',\n",
       " ',',\n",
       " 'how',\n",
       " 'would',\n",
       " 'you',\n",
       " 'encourage',\n",
       " 'people',\n",
       " 'to',\n",
       " 'adopt',\n",
       " 'and',\n",
       " 'not',\n",
       " 'shop',\n",
       " '?']"
      ]
     },
     "execution_count": 23,
     "metadata": {},
     "output_type": "execute_result"
    }
   ],
   "execution_count": 23
  },
  {
   "cell_type": "markdown",
   "source": [
    "Класно те, що символи пунктуації відділяються від слова!"
   ],
   "metadata": {
    "id": "kNnlqIYpVt5I"
   }
  },
  {
   "cell_type": "code",
   "metadata": {
    "id": "gJ_lrgEpZIt8",
    "colab": {
     "base_uri": "https://localhost:8080/"
    },
    "outputId": "8deb60cd-53ae-4360-be7e-fed9a7cbd8c0",
    "ExecuteTime": {
     "end_time": "2025-05-25T11:23:28.796504Z",
     "start_time": "2025-05-25T11:23:28.794332Z"
    }
   },
   "source": [
    "word_tokenize(' this is (something) with, a lot of, punctuation;')"
   ],
   "outputs": [
    {
     "data": {
      "text/plain": [
       "['this',\n",
       " 'is',\n",
       " '(',\n",
       " 'something',\n",
       " ')',\n",
       " 'with',\n",
       " ',',\n",
       " 'a',\n",
       " 'lot',\n",
       " 'of',\n",
       " ',',\n",
       " 'punctuation',\n",
       " ';']"
      ]
     },
     "execution_count": 24,
     "metadata": {},
     "output_type": "execute_result"
    }
   ],
   "execution_count": 24
  },
  {
   "cell_type": "code",
   "metadata": {
    "id": "uoP8H4KcZIr1",
    "colab": {
     "base_uri": "https://localhost:8080/",
     "height": 35
    },
    "outputId": "89f93e58-9467-4694-9f36-e6de388046be",
    "ExecuteTime": {
     "end_time": "2025-05-25T11:23:28.820621Z",
     "start_time": "2025-05-25T11:23:28.818463Z"
    }
   },
   "source": [
    "q1"
   ],
   "outputs": [
    {
     "data": {
      "text/plain": [
       "'Is Yahoo owned by the Jews?'"
      ]
     },
     "execution_count": 25,
     "metadata": {},
     "output_type": "execute_result"
    }
   ],
   "execution_count": 25
  },
  {
   "cell_type": "code",
   "metadata": {
    "id": "Bs_0YAawZIpf",
    "colab": {
     "base_uri": "https://localhost:8080/"
    },
    "outputId": "69e8fdb2-ceb2-4053-fc69-f1624b670d9f",
    "ExecuteTime": {
     "end_time": "2025-05-25T11:23:28.869535Z",
     "start_time": "2025-05-25T11:23:28.867204Z"
    }
   },
   "source": [
    "word_tokenize(q1)"
   ],
   "outputs": [
    {
     "data": {
      "text/plain": [
       "['Is', 'Yahoo', 'owned', 'by', 'the', 'Jews', '?']"
      ]
     },
     "execution_count": 26,
     "metadata": {},
     "output_type": "execute_result"
    }
   ],
   "execution_count": 26
  },
  {
   "cell_type": "code",
   "metadata": {
    "id": "7HNGqFYtZInd",
    "ExecuteTime": {
     "end_time": "2025-05-25T11:23:28.930345Z",
     "start_time": "2025-05-25T11:23:28.928496Z"
    }
   },
   "source": [
    "q0_tok = word_tokenize(q0)\n",
    "q1_tok = word_tokenize(q1)"
   ],
   "outputs": [],
   "execution_count": 27
  },
  {
   "cell_type": "markdown",
   "metadata": {
    "id": "Mf5aqvkGZrR-"
   },
   "source": [
    "### Видалення стоп-слів\n",
    "\n",
    "**Стоп-слова** — це загальновживані слова, які не мають суттєвого смислового навантаження і часто не несуть важливої інформації для розуміння змісту тексту. Приклади стоп-слів: \"і\", \"або\", \"але\", \"що\", \"якщо\", \"на\", \"у\", \"з\", \"до\", \"від\", \"я\", \"він\", \"вона\" тощо.\n",
    "\n",
    "У задачах обробки природної мови (NLP) стоп-слова зазвичай видаляються з тексту, щоб зменшити розмір даних і підвищити ефективність моделей. Видалення стоп-слів дозволяє зосередитися на більш важливих, змістовних термінах, що допомагають краще розпізнавати патерни в тексті для різних NLP завдань, таких як класифікація тексту, аналіз настроїв або пошук інформації.\n",
    "\n"
   ]
  },
  {
   "cell_type": "code",
   "metadata": {
    "id": "7yZhlXV9Zxo-",
    "colab": {
     "base_uri": "https://localhost:8080/"
    },
    "outputId": "94b78742-5e6e-4780-9d35-b36e7a326c52",
    "ExecuteTime": {
     "end_time": "2025-05-25T11:23:28.958790Z",
     "start_time": "2025-05-25T11:23:28.956706Z"
    }
   },
   "source": [
    "q1_tok"
   ],
   "outputs": [
    {
     "data": {
      "text/plain": [
       "['Is', 'Yahoo', 'owned', 'by', 'the', 'Jews', '?']"
      ]
     },
     "execution_count": 28,
     "metadata": {},
     "output_type": "execute_result"
    }
   ],
   "execution_count": 28
  },
  {
   "cell_type": "code",
   "metadata": {
    "id": "s1qsENBhZrD0",
    "ExecuteTime": {
     "end_time": "2025-05-25T11:23:28.990340Z",
     "start_time": "2025-05-25T11:23:28.988606Z"
    }
   },
   "source": [
    "from nltk.corpus import stopwords"
   ],
   "outputs": [],
   "execution_count": 29
  },
  {
   "cell_type": "code",
   "metadata": {
    "id": "4kjpGIjraK7r",
    "colab": {
     "base_uri": "https://localhost:8080/"
    },
    "outputId": "83af7368-5e3d-4283-b392-a469496b8847",
    "ExecuteTime": {
     "end_time": "2025-05-25T11:23:29.012668Z",
     "start_time": "2025-05-25T11:23:29.008622Z"
    }
   },
   "source": [
    "nltk.download('stopwords')"
   ],
   "outputs": [
    {
     "name": "stderr",
     "output_type": "stream",
     "text": [
      "[nltk_data] Downloading package stopwords to\n",
      "[nltk_data]     /Users/dmytro/nltk_data...\n",
      "[nltk_data]   Package stopwords is already up-to-date!\n"
     ]
    },
    {
     "data": {
      "text/plain": [
       "True"
      ]
     },
     "execution_count": 30,
     "metadata": {},
     "output_type": "execute_result"
    }
   ],
   "execution_count": 30
  },
  {
   "cell_type": "code",
   "metadata": {
    "id": "ejhkI9oVZrCD",
    "ExecuteTime": {
     "end_time": "2025-05-25T11:23:29.057695Z",
     "start_time": "2025-05-25T11:23:29.055142Z"
    }
   },
   "source": [
    "english_stopwords = stopwords.words('english')"
   ],
   "outputs": [],
   "execution_count": 31
  },
  {
   "cell_type": "markdown",
   "source": [
    "Переглянемо список стоп-слів."
   ],
   "metadata": {
    "id": "rBCzO0zGWPvg"
   }
  },
  {
   "cell_type": "code",
   "metadata": {
    "id": "jB5avxBsZqxB",
    "colab": {
     "base_uri": "https://localhost:8080/",
     "height": 139
    },
    "outputId": "07c9efbd-35be-4d3d-b579-4d65b4dabcad",
    "ExecuteTime": {
     "end_time": "2025-05-25T11:23:29.090741Z",
     "start_time": "2025-05-25T11:23:29.088354Z"
    }
   },
   "source": [
    "\", \".join(english_stopwords)"
   ],
   "outputs": [
    {
     "data": {
      "text/plain": [
       "\"a, about, above, after, again, against, ain, all, am, an, and, any, are, aren, aren't, as, at, be, because, been, before, being, below, between, both, but, by, can, couldn, couldn't, d, did, didn, didn't, do, does, doesn, doesn't, doing, don, don't, down, during, each, few, for, from, further, had, hadn, hadn't, has, hasn, hasn't, have, haven, haven't, having, he, he'd, he'll, her, here, hers, herself, he's, him, himself, his, how, i, i'd, if, i'll, i'm, in, into, is, isn, isn't, it, it'd, it'll, it's, its, itself, i've, just, ll, m, ma, me, mightn, mightn't, more, most, mustn, mustn't, my, myself, needn, needn't, no, nor, not, now, o, of, off, on, once, only, or, other, our, ours, ourselves, out, over, own, re, s, same, shan, shan't, she, she'd, she'll, she's, should, shouldn, shouldn't, should've, so, some, such, t, than, that, that'll, the, their, theirs, them, themselves, then, there, these, they, they'd, they'll, they're, they've, this, those, through, to, too, under, until, up, ve, very, was, wasn, wasn't, we, we'd, we'll, we're, were, weren, weren't, we've, what, when, where, which, while, who, whom, why, will, with, won, won't, wouldn, wouldn't, y, you, you'd, you'll, your, you're, yours, yourself, yourselves, you've\""
      ]
     },
     "execution_count": 32,
     "metadata": {},
     "output_type": "execute_result"
    }
   ],
   "execution_count": 32
  },
  {
   "cell_type": "markdown",
   "source": [
    "До слова, українські стопслова можна завантажити тут - https://github.com/skupriienko/Ukrainian-Stopwords\n",
    "\n",
    "Функція для видалення стоп-слів.\n"
   ],
   "metadata": {
    "id": "PcjjNtr3WEP7"
   }
  },
  {
   "cell_type": "code",
   "metadata": {
    "id": "7umWfNCvZqsF",
    "ExecuteTime": {
     "end_time": "2025-05-25T11:23:29.120546Z",
     "start_time": "2025-05-25T11:23:29.118805Z"
    }
   },
   "source": [
    "def remove_stopwords(tokens):\n",
    "    return [word for word in tokens if word.lower() not in english_stopwords]"
   ],
   "outputs": [],
   "execution_count": 33
  },
  {
   "cell_type": "code",
   "metadata": {
    "id": "15NSoE_Saq6W",
    "colab": {
     "base_uri": "https://localhost:8080/"
    },
    "outputId": "7c70191e-cd1d-4af3-94ad-8dfe782010da",
    "ExecuteTime": {
     "end_time": "2025-05-25T11:23:29.138756Z",
     "start_time": "2025-05-25T11:23:29.136814Z"
    }
   },
   "source": [
    "q0_tok"
   ],
   "outputs": [
    {
     "data": {
      "text/plain": [
       "['Do',\n",
       " 'you',\n",
       " 'have',\n",
       " 'an',\n",
       " 'adopted',\n",
       " 'dog',\n",
       " ',',\n",
       " 'how',\n",
       " 'would',\n",
       " 'you',\n",
       " 'encourage',\n",
       " 'people',\n",
       " 'to',\n",
       " 'adopt',\n",
       " 'and',\n",
       " 'not',\n",
       " 'shop',\n",
       " '?']"
      ]
     },
     "execution_count": 34,
     "metadata": {},
     "output_type": "execute_result"
    }
   ],
   "execution_count": 34
  },
  {
   "cell_type": "code",
   "metadata": {
    "id": "b59BPAClaq4B",
    "ExecuteTime": {
     "end_time": "2025-05-25T11:23:29.161961Z",
     "start_time": "2025-05-25T11:23:29.160375Z"
    }
   },
   "source": [
    "q0_stp = remove_stopwords(q0_tok)"
   ],
   "outputs": [],
   "execution_count": 35
  },
  {
   "cell_type": "code",
   "metadata": {
    "id": "UJpOKfd-Zqp_",
    "colab": {
     "base_uri": "https://localhost:8080/"
    },
    "outputId": "f5ad2d25-f1f3-45a8-f93e-c96c65f62f5e",
    "ExecuteTime": {
     "end_time": "2025-05-25T11:23:29.185024Z",
     "start_time": "2025-05-25T11:23:29.182966Z"
    }
   },
   "source": [
    "q0_stp"
   ],
   "outputs": [
    {
     "data": {
      "text/plain": [
       "['adopted', 'dog', ',', 'would', 'encourage', 'people', 'adopt', 'shop', '?']"
      ]
     },
     "execution_count": 36,
     "metadata": {},
     "output_type": "execute_result"
    }
   ],
   "execution_count": 36
  },
  {
   "cell_type": "code",
   "metadata": {
    "id": "IKR9dyGVa6OR",
    "ExecuteTime": {
     "end_time": "2025-05-25T11:23:29.214199Z",
     "start_time": "2025-05-25T11:23:29.212439Z"
    }
   },
   "source": [
    "q1_stp = remove_stopwords(q1_tok)"
   ],
   "outputs": [],
   "execution_count": 37
  },
  {
   "cell_type": "code",
   "metadata": {
    "id": "_RvMiZAka6Lv",
    "colab": {
     "base_uri": "https://localhost:8080/"
    },
    "outputId": "8ae7bf42-923c-4e1a-fbf2-f43d82150d0f",
    "ExecuteTime": {
     "end_time": "2025-05-25T11:23:29.237708Z",
     "start_time": "2025-05-25T11:23:29.235650Z"
    }
   },
   "source": [
    "q1_tok"
   ],
   "outputs": [
    {
     "data": {
      "text/plain": [
       "['Is', 'Yahoo', 'owned', 'by', 'the', 'Jews', '?']"
      ]
     },
     "execution_count": 38,
     "metadata": {},
     "output_type": "execute_result"
    }
   ],
   "execution_count": 38
  },
  {
   "cell_type": "code",
   "metadata": {
    "id": "GqpqLKw9a-A8",
    "colab": {
     "base_uri": "https://localhost:8080/"
    },
    "outputId": "3a39b686-30bc-4299-a944-c167f10d4bec",
    "ExecuteTime": {
     "end_time": "2025-05-25T11:23:29.268797Z",
     "start_time": "2025-05-25T11:23:29.266742Z"
    }
   },
   "source": [
    "q1_stp"
   ],
   "outputs": [
    {
     "data": {
      "text/plain": [
       "['Yahoo', 'owned', 'Jews', '?']"
      ]
     },
     "execution_count": 39,
     "metadata": {},
     "output_type": "execute_result"
    }
   ],
   "execution_count": 39
  },
  {
   "cell_type": "markdown",
   "metadata": {
    "id": "FeVx68x5bHEF"
   },
   "source": [
    "### Стемінг\n",
    "**Стемінг** – це процес скорочення слова до його кореня або основної форми шляхом відкидання суфіксів чи префіксів. Наприклад, слова \"running\", \"runner\", \"ran\" скорочуються до \"run\". Стемінг є менш точним методом, оскільки він використовує евристичні правила для скорочення слів, що може призвести до отримання неіснуючих слів (наприклад, \"univers\" від \"universe\" та \"university\").\n",
    "\n",
    "В нашому випадку ми хочемо різні форми слова привести до одної:\n",
    "\n",
    "*   \"go\", \"gone\", \"going\" -> \"go\"  \n",
    "*   \"birds\", \"bird\" -> \"bird\"\n",
    "\n",
    "\n"
   ]
  },
  {
   "cell_type": "code",
   "metadata": {
    "id": "9jFOfSqtbG6y",
    "ExecuteTime": {
     "end_time": "2025-05-25T11:23:29.303247Z",
     "start_time": "2025-05-25T11:23:29.301629Z"
    }
   },
   "source": [
    "from nltk.stem.snowball import SnowballStemmer"
   ],
   "outputs": [],
   "execution_count": 40
  },
  {
   "cell_type": "code",
   "metadata": {
    "id": "SC0PMIy3bG4r",
    "ExecuteTime": {
     "end_time": "2025-05-25T11:23:29.325681Z",
     "start_time": "2025-05-25T11:23:29.324125Z"
    }
   },
   "source": [
    "stemmer = SnowballStemmer(language='english')"
   ],
   "outputs": [],
   "execution_count": 41
  },
  {
   "cell_type": "code",
   "metadata": {
    "id": "apl0nhFqbG2F",
    "colab": {
     "base_uri": "https://localhost:8080/",
     "height": 35
    },
    "outputId": "58b3c18e-5e57-487f-8bf2-fce025de4da7",
    "ExecuteTime": {
     "end_time": "2025-05-25T11:23:29.337037Z",
     "start_time": "2025-05-25T11:23:29.334868Z"
    }
   },
   "source": [
    "stemmer.stem('going')"
   ],
   "outputs": [
    {
     "data": {
      "text/plain": [
       "'go'"
      ]
     },
     "execution_count": 42,
     "metadata": {},
     "output_type": "execute_result"
    }
   ],
   "execution_count": 42
  },
  {
   "cell_type": "code",
   "metadata": {
    "id": "wtIoHT1ybGz2",
    "colab": {
     "base_uri": "https://localhost:8080/",
     "height": 35
    },
    "outputId": "c8288653-3835-4e4b-e916-133cf2f6ccbd",
    "ExecuteTime": {
     "end_time": "2025-05-25T11:23:29.369239Z",
     "start_time": "2025-05-25T11:23:29.367118Z"
    }
   },
   "source": [
    "stemmer.stem('supposedly')"
   ],
   "outputs": [
    {
     "data": {
      "text/plain": [
       "'suppos'"
      ]
     },
     "execution_count": 43,
     "metadata": {},
     "output_type": "execute_result"
    }
   ],
   "execution_count": 43
  },
  {
   "cell_type": "code",
   "metadata": {
    "id": "hGdECu-rbmbZ",
    "ExecuteTime": {
     "end_time": "2025-05-25T11:23:29.403475Z",
     "start_time": "2025-05-25T11:23:29.401793Z"
    }
   },
   "source": "q0_stm = [stemmer.stem(word) for word in q0_stp]",
   "outputs": [],
   "execution_count": 44
  },
  {
   "cell_type": "code",
   "metadata": {
    "id": "BY0fs95pbqtH",
    "colab": {
     "base_uri": "https://localhost:8080/"
    },
    "outputId": "20880e32-d62a-4de3-b7af-a6edb63ad8a3",
    "ExecuteTime": {
     "end_time": "2025-05-25T11:23:29.425881Z",
     "start_time": "2025-05-25T11:23:29.423971Z"
    }
   },
   "source": [
    "q0_stp"
   ],
   "outputs": [
    {
     "data": {
      "text/plain": [
       "['adopted', 'dog', ',', 'would', 'encourage', 'people', 'adopt', 'shop', '?']"
      ]
     },
     "execution_count": 45,
     "metadata": {},
     "output_type": "execute_result"
    }
   ],
   "execution_count": 45
  },
  {
   "cell_type": "code",
   "metadata": {
    "id": "ARuFpGkHbqn2",
    "colab": {
     "base_uri": "https://localhost:8080/"
    },
    "outputId": "bbcc7a8c-a620-41ca-b4b4-b0bc8fe5414a",
    "ExecuteTime": {
     "end_time": "2025-05-25T11:23:29.448758Z",
     "start_time": "2025-05-25T11:23:29.446833Z"
    }
   },
   "source": [
    "q0_stm"
   ],
   "outputs": [
    {
     "data": {
      "text/plain": [
       "['adopt', 'dog', ',', 'would', 'encourag', 'peopl', 'adopt', 'shop', '?']"
      ]
     },
     "execution_count": 46,
     "metadata": {},
     "output_type": "execute_result"
    }
   ],
   "execution_count": 46
  },
  {
   "cell_type": "code",
   "metadata": {
    "id": "kiFiGdCpbrot",
    "ExecuteTime": {
     "end_time": "2025-05-25T11:23:29.470250Z",
     "start_time": "2025-05-25T11:23:29.468761Z"
    }
   },
   "source": [
    "q1_stm = [stemmer.stem(word) for word in q1_stp]"
   ],
   "outputs": [],
   "execution_count": 47
  },
  {
   "cell_type": "code",
   "metadata": {
    "id": "WweHQFO4brmn",
    "colab": {
     "base_uri": "https://localhost:8080/"
    },
    "outputId": "f8af101c-aaf7-4f47-fa50-d42ca49082b8",
    "ExecuteTime": {
     "end_time": "2025-05-25T11:23:29.491569Z",
     "start_time": "2025-05-25T11:23:29.489495Z"
    }
   },
   "source": [
    "q1_stp"
   ],
   "outputs": [
    {
     "data": {
      "text/plain": [
       "['Yahoo', 'owned', 'Jews', '?']"
      ]
     },
     "execution_count": 48,
     "metadata": {},
     "output_type": "execute_result"
    }
   ],
   "execution_count": 48
  },
  {
   "cell_type": "code",
   "metadata": {
    "id": "AVu5FiAbbrkV",
    "colab": {
     "base_uri": "https://localhost:8080/"
    },
    "outputId": "fa3c79fa-cfa7-4d26-9c23-2a1b772443a4",
    "ExecuteTime": {
     "end_time": "2025-05-25T11:23:29.523432Z",
     "start_time": "2025-05-25T11:23:29.521380Z"
    }
   },
   "source": [
    "q1_stm"
   ],
   "outputs": [
    {
     "data": {
      "text/plain": [
       "['yahoo', 'own', 'jew', '?']"
      ]
     },
     "execution_count": 49,
     "metadata": {},
     "output_type": "execute_result"
    }
   ],
   "execution_count": 49
  },
  {
   "cell_type": "markdown",
   "metadata": {
    "id": "VWWkiTcWcAR7"
   },
   "source": [
    "### Лематизація\n",
    "Існує альтернатива до стемінгу - лематизація.\n",
    "\n",
    "**Лематизація** – це процес перетворення слова у його базову або лемматичну форму, зважаючи на його морфологію та контекст у реченні. Наприклад, для слова \"better\" лематизація визначить основну форму як \"good\". Лематизація є більш формальною та точною, ніж стемінг, оскільки враховує граматичні правила та використання словника.\n",
    "\n",
    "Який спосіб нормалізації слів використовувати треба вирішувати для кожної задачі окремо враховуючи її особливості і також експериментуючи і аналізуючи помилки.\n",
    "\n",
    "Ще приклад лемматизації:\n",
    "\n",
    "  \"love\" -> \"love\"  \n",
    "  \"loving\" -> \"love\"  \n",
    "  \"lovable\" -> \"love\"  "
   ]
  },
  {
   "cell_type": "markdown",
   "metadata": {
    "id": "CuTR9sOWQoMq"
   },
   "source": [
    "## Реалізація Мішка Слів\n",
    "Як ми самостійно можемо реалізувати векторизацію з мішком слів:\n",
    "\n",
    "1. Створити словник за допомогою Count Vectorizer\n",
    "2. Перетворити текст на вектори за допомогою Count Vectorizer\n",
    "3. Налаштувати попередню обробку тексту в Count Vectorizer"
   ]
  },
  {
   "cell_type": "markdown",
   "metadata": {
    "id": "0HWShc6jdPFy"
   },
   "source": [
    "### Створення словника"
   ]
  },
  {
   "cell_type": "code",
   "metadata": {
    "id": "XZOIXmC3RARh",
    "colab": {
     "base_uri": "https://localhost:8080/"
    },
    "outputId": "2178db5a-5887-4deb-b62f-3975ee3ecc13",
    "ExecuteTime": {
     "end_time": "2025-05-25T11:23:29.558682Z",
     "start_time": "2025-05-25T11:23:29.556245Z"
    }
   },
   "source": [
    "raw_df.question_text.values"
   ],
   "outputs": [
    {
     "data": {
      "text/plain": [
       "array(['What is the most effective classroom management skill/technique to create a good learning environment?',\n",
       "       'Can I study abroad after 10th class from Bangladesh?',\n",
       "       'How can I make friends as a college junior?', ...,\n",
       "       'What are some services that will let you quickly separate parts of a video at the five minute and ten minute mark into two separate videos?',\n",
       "       'What credit card processors do online marketplaces use?',\n",
       "       'On which number system does a computer work?'], dtype=object)"
      ]
     },
     "execution_count": 50,
     "metadata": {},
     "output_type": "execute_result"
    }
   ],
   "execution_count": 50
  },
  {
   "cell_type": "code",
   "metadata": {
    "id": "Yr3XgzBWdNNx",
    "ExecuteTime": {
     "end_time": "2025-05-25T11:23:29.588360Z",
     "start_time": "2025-05-25T11:23:29.586829Z"
    }
   },
   "source": [
    "from sklearn.feature_extraction.text import CountVectorizer"
   ],
   "outputs": [],
   "execution_count": 51
  },
  {
   "cell_type": "code",
   "metadata": {
    "id": "-sE8WL3-dNLf",
    "ExecuteTime": {
     "end_time": "2025-05-25T11:23:29.602689Z",
     "start_time": "2025-05-25T11:23:29.601254Z"
    }
   },
   "source": [
    "raw_vect = CountVectorizer()"
   ],
   "outputs": [],
   "execution_count": 52
  },
  {
   "cell_type": "code",
   "metadata": {
    "id": "ba9oOkD6RAPP",
    "ExecuteTime": {
     "end_time": "2025-05-25T11:23:30.162092Z",
     "start_time": "2025-05-25T11:23:29.616962Z"
    }
   },
   "source": [
    "raw_vect_fit = raw_vect.fit(raw_df.question_text)"
   ],
   "outputs": [],
   "execution_count": 53
  },
  {
   "cell_type": "code",
   "metadata": {
    "id": "-QPGkxLZdkPy",
    "colab": {
     "base_uri": "https://localhost:8080/"
    },
    "outputId": "cd7c41d1-7638-48a6-9dc4-376bc28fad07",
    "ExecuteTime": {
     "end_time": "2025-05-25T11:23:30.184849Z",
     "start_time": "2025-05-25T11:23:30.169807Z"
    }
   },
   "source": [
    "raw_vect.get_feature_names_out()[10000:10010]"
   ],
   "outputs": [
    {
     "data": {
      "text/plain": [
       "array(['cleaved', 'cleaveland', 'cleaver', 'cleen', 'clefs', 'cleft',\n",
       "       'clemency', 'clemente', 'clementines', 'clemmensen'], dtype=object)"
      ]
     },
     "execution_count": 54,
     "metadata": {},
     "output_type": "execute_result"
    }
   ],
   "execution_count": 54
  },
  {
   "cell_type": "code",
   "source": [
    "raw_vect.get_feature_names_out()[:10]"
   ],
   "metadata": {
    "colab": {
     "base_uri": "https://localhost:8080/"
    },
    "id": "oAwHYYZNhbzp",
    "outputId": "c911e8e1-77e6-4c79-e99f-c981bb3fc0f6",
    "ExecuteTime": {
     "end_time": "2025-05-25T11:23:30.222638Z",
     "start_time": "2025-05-25T11:23:30.206393Z"
    }
   },
   "outputs": [
    {
     "data": {
      "text/plain": [
       "array(['00', '000', '0000', '00000001', '0005', '000501', '000czk', '001',\n",
       "       '003', '003a'], dtype=object)"
      ]
     },
     "execution_count": 55,
     "metadata": {},
     "output_type": "execute_result"
    }
   ],
   "execution_count": 55
  },
  {
   "cell_type": "markdown",
   "metadata": {
    "id": "WXsUWz_hd9KE"
   },
   "source": [
    "### Перетворення документів у вектори"
   ]
  },
  {
   "cell_type": "code",
   "metadata": {
    "id": "nZVZ3jIddkKT",
    "colab": {
     "base_uri": "https://localhost:8080/"
    },
    "outputId": "f5a009e5-4ce6-4472-ffad-934b568efb32",
    "ExecuteTime": {
     "end_time": "2025-05-25T11:23:30.701920Z",
     "start_time": "2025-05-25T11:23:30.232927Z"
    }
   },
   "source": [
    "%%time\n",
    "vectors = raw_vect.transform(raw_df.question_text)"
   ],
   "outputs": [
    {
     "name": "stdout",
     "output_type": "stream",
     "text": [
      "CPU times: user 463 ms, sys: 5.1 ms, total: 468 ms\n",
      "Wall time: 467 ms\n"
     ]
    }
   ],
   "execution_count": 56
  },
  {
   "cell_type": "code",
   "metadata": {
    "id": "MIGbsQEQdkHt",
    "colab": {
     "base_uri": "https://localhost:8080/"
    },
    "outputId": "113ff86a-b7ff-4b73-fea5-6b3416deb7ce",
    "ExecuteTime": {
     "end_time": "2025-05-25T11:23:30.708925Z",
     "start_time": "2025-05-25T11:23:30.706927Z"
    }
   },
   "source": [
    "vectors"
   ],
   "outputs": [
    {
     "data": {
      "text/plain": [
       "<Compressed Sparse Row sparse matrix of dtype 'int64'\n",
       "\twith 1155416 stored elements and shape (100000, 51543)>"
      ]
     },
     "execution_count": 57,
     "metadata": {},
     "output_type": "execute_result"
    }
   ],
   "execution_count": 57
  },
  {
   "cell_type": "code",
   "metadata": {
    "id": "wriwC-1DeZPA",
    "colab": {
     "base_uri": "https://localhost:8080/"
    },
    "outputId": "f80f9c07-e339-44e7-9342-47dd3d1af2f2",
    "ExecuteTime": {
     "end_time": "2025-05-25T11:23:30.725044Z",
     "start_time": "2025-05-25T11:23:30.723199Z"
    }
   },
   "source": [
    "vectors.shape"
   ],
   "outputs": [
    {
     "data": {
      "text/plain": [
       "(100000, 51543)"
      ]
     },
     "execution_count": 58,
     "metadata": {},
     "output_type": "execute_result"
    }
   ],
   "execution_count": 58
  },
  {
   "cell_type": "code",
   "metadata": {
    "id": "bXtFEWjtekqt",
    "colab": {
     "base_uri": "https://localhost:8080/",
     "height": 35
    },
    "outputId": "68c2a681-3ba6-43e5-9963-78b1bc5c9e20",
    "ExecuteTime": {
     "end_time": "2025-05-25T11:23:30.752474Z",
     "start_time": "2025-05-25T11:23:30.750339Z"
    }
   },
   "source": [
    "raw_df.question_text.values[0]"
   ],
   "outputs": [
    {
     "data": {
      "text/plain": [
       "'What is the most effective classroom management skill/technique to create a good learning environment?'"
      ]
     },
     "execution_count": 59,
     "metadata": {},
     "output_type": "execute_result"
    }
   ],
   "execution_count": 59
  },
  {
   "cell_type": "code",
   "metadata": {
    "id": "etQ-T7_1e0vF",
    "colab": {
     "base_uri": "https://localhost:8080/"
    },
    "outputId": "e0a34873-4e29-4f99-d965-ef4c306b97dd",
    "ExecuteTime": {
     "end_time": "2025-05-25T11:23:30.781887Z",
     "start_time": "2025-05-25T11:23:30.779205Z"
    }
   },
   "source": [
    "vectors[0].toarray()[0][100:110]"
   ],
   "outputs": [
    {
     "data": {
      "text/plain": [
       "array([0, 0, 0, 0, 0, 0, 0, 0, 0, 0])"
      ]
     },
     "execution_count": 60,
     "metadata": {},
     "output_type": "execute_result"
    }
   ],
   "execution_count": 60
  },
  {
   "cell_type": "code",
   "metadata": {
    "id": "hSrf1ZPndkFX",
    "ExecuteTime": {
     "end_time": "2025-05-25T11:23:30.813724Z",
     "start_time": "2025-05-25T11:23:30.812199Z"
    }
   },
   "source": [
    "# vectors.toarray()"
   ],
   "outputs": [],
   "execution_count": 61
  },
  {
   "cell_type": "markdown",
   "metadata": {
    "id": "vZPCOwobe485"
   },
   "source": [
    "### Налаштування параметрів Count Vectorizer"
   ]
  },
  {
   "cell_type": "code",
   "metadata": {
    "id": "xUjZDsdqfq4u",
    "ExecuteTime": {
     "end_time": "2025-05-25T11:23:30.837879Z",
     "start_time": "2025-05-25T11:23:30.836375Z"
    }
   },
   "source": [
    "stemmer = SnowballStemmer(language='english')"
   ],
   "outputs": [],
   "execution_count": 62
  },
  {
   "cell_type": "code",
   "metadata": {
    "id": "9hZzn1LBfPoM",
    "ExecuteTime": {
     "end_time": "2025-05-25T11:23:30.850813Z",
     "start_time": "2025-05-25T11:23:30.848938Z"
    }
   },
   "source": [
    "def tokenize(text):\n",
    "    return [stemmer.stem(word) for word in word_tokenize(text)]"
   ],
   "outputs": [],
   "execution_count": 63
  },
  {
   "cell_type": "code",
   "metadata": {
    "id": "OAausoIrfa2I",
    "colab": {
     "base_uri": "https://localhost:8080/"
    },
    "outputId": "e8f1428e-da77-4265-cd9b-6995d3fde7e8",
    "ExecuteTime": {
     "end_time": "2025-05-25T11:23:30.863722Z",
     "start_time": "2025-05-25T11:23:30.861341Z"
    }
   },
   "source": [
    "tokenize('What is the really (dealing) here?')"
   ],
   "outputs": [
    {
     "data": {
      "text/plain": [
       "['what', 'is', 'the', 'realli', '(', 'deal', ')', 'here', '?']"
      ]
     },
     "execution_count": 64,
     "metadata": {},
     "output_type": "execute_result"
    }
   ],
   "execution_count": 64
  },
  {
   "cell_type": "code",
   "metadata": {
    "id": "pJGAErs7e9Fh",
    "ExecuteTime": {
     "end_time": "2025-05-25T11:23:30.882439Z",
     "start_time": "2025-05-25T11:23:30.881017Z"
    }
   },
   "source": [
    "vectorizer = CountVectorizer(lowercase=True,\n",
    "                             tokenizer=tokenize,\n",
    "                             stop_words=english_stopwords,\n",
    "                             max_features=1000)"
   ],
   "outputs": [],
   "execution_count": 65
  },
  {
   "cell_type": "code",
   "metadata": {
    "id": "pI8nbkpAe9Dg",
    "colab": {
     "base_uri": "https://localhost:8080/",
     "height": 320
    },
    "outputId": "e217ed92-a939-492e-ab17-c751f05a56a0",
    "ExecuteTime": {
     "end_time": "2025-05-25T11:23:39.107079Z",
     "start_time": "2025-05-25T11:23:30.904537Z"
    }
   },
   "source": [
    "%%time\n",
    "vectorizer.fit(raw_df.question_text)"
   ],
   "outputs": [
    {
     "name": "stderr",
     "output_type": "stream",
     "text": [
      "/Users/dmytro/Code/MachineLearning/machine-learning-for-humans-2.0/.env/lib/python3.12/site-packages/sklearn/feature_extraction/text.py:517: UserWarning: The parameter 'token_pattern' will not be used since 'tokenizer' is not None'\n",
      "  warnings.warn(\n",
      "/Users/dmytro/Code/MachineLearning/machine-learning-for-humans-2.0/.env/lib/python3.12/site-packages/sklearn/feature_extraction/text.py:402: UserWarning: Your stop_words may be inconsistent with your preprocessing. Tokenizing the stop words generated tokens [\"'d\", \"'m\", \"'s\", 'abov', 'ani', 'becaus', 'befor', 'could', 'doe', 'dure', 'might', 'must', \"n't\", 'need', 'onc', 'onli', 'ourselv', 'sha', 'themselv', 'veri', 'whi', 'wo', 'would', 'yourselv'] not in stop_words.\n",
      "  warnings.warn(\n"
     ]
    },
    {
     "name": "stdout",
     "output_type": "stream",
     "text": [
      "CPU times: user 8.18 s, sys: 14.2 ms, total: 8.19 s\n",
      "Wall time: 8.2 s\n"
     ]
    },
    {
     "data": {
      "text/plain": [
       "CountVectorizer(max_features=1000,\n",
       "                stop_words=['a', 'about', 'above', 'after', 'again', 'against',\n",
       "                            'ain', 'all', 'am', 'an', 'and', 'any', 'are',\n",
       "                            'aren', \"aren't\", 'as', 'at', 'be', 'because',\n",
       "                            'been', 'before', 'being', 'below', 'between',\n",
       "                            'both', 'but', 'by', 'can', 'couldn', \"couldn't\", ...],\n",
       "                tokenizer=<function tokenize at 0x342bb7880>)"
      ],
      "text/html": [
       "<style>#sk-container-id-1 {\n",
       "  /* Definition of color scheme common for light and dark mode */\n",
       "  --sklearn-color-text: #000;\n",
       "  --sklearn-color-text-muted: #666;\n",
       "  --sklearn-color-line: gray;\n",
       "  /* Definition of color scheme for unfitted estimators */\n",
       "  --sklearn-color-unfitted-level-0: #fff5e6;\n",
       "  --sklearn-color-unfitted-level-1: #f6e4d2;\n",
       "  --sklearn-color-unfitted-level-2: #ffe0b3;\n",
       "  --sklearn-color-unfitted-level-3: chocolate;\n",
       "  /* Definition of color scheme for fitted estimators */\n",
       "  --sklearn-color-fitted-level-0: #f0f8ff;\n",
       "  --sklearn-color-fitted-level-1: #d4ebff;\n",
       "  --sklearn-color-fitted-level-2: #b3dbfd;\n",
       "  --sklearn-color-fitted-level-3: cornflowerblue;\n",
       "\n",
       "  /* Specific color for light theme */\n",
       "  --sklearn-color-text-on-default-background: var(--sg-text-color, var(--theme-code-foreground, var(--jp-content-font-color1, black)));\n",
       "  --sklearn-color-background: var(--sg-background-color, var(--theme-background, var(--jp-layout-color0, white)));\n",
       "  --sklearn-color-border-box: var(--sg-text-color, var(--theme-code-foreground, var(--jp-content-font-color1, black)));\n",
       "  --sklearn-color-icon: #696969;\n",
       "\n",
       "  @media (prefers-color-scheme: dark) {\n",
       "    /* Redefinition of color scheme for dark theme */\n",
       "    --sklearn-color-text-on-default-background: var(--sg-text-color, var(--theme-code-foreground, var(--jp-content-font-color1, white)));\n",
       "    --sklearn-color-background: var(--sg-background-color, var(--theme-background, var(--jp-layout-color0, #111)));\n",
       "    --sklearn-color-border-box: var(--sg-text-color, var(--theme-code-foreground, var(--jp-content-font-color1, white)));\n",
       "    --sklearn-color-icon: #878787;\n",
       "  }\n",
       "}\n",
       "\n",
       "#sk-container-id-1 {\n",
       "  color: var(--sklearn-color-text);\n",
       "}\n",
       "\n",
       "#sk-container-id-1 pre {\n",
       "  padding: 0;\n",
       "}\n",
       "\n",
       "#sk-container-id-1 input.sk-hidden--visually {\n",
       "  border: 0;\n",
       "  clip: rect(1px 1px 1px 1px);\n",
       "  clip: rect(1px, 1px, 1px, 1px);\n",
       "  height: 1px;\n",
       "  margin: -1px;\n",
       "  overflow: hidden;\n",
       "  padding: 0;\n",
       "  position: absolute;\n",
       "  width: 1px;\n",
       "}\n",
       "\n",
       "#sk-container-id-1 div.sk-dashed-wrapped {\n",
       "  border: 1px dashed var(--sklearn-color-line);\n",
       "  margin: 0 0.4em 0.5em 0.4em;\n",
       "  box-sizing: border-box;\n",
       "  padding-bottom: 0.4em;\n",
       "  background-color: var(--sklearn-color-background);\n",
       "}\n",
       "\n",
       "#sk-container-id-1 div.sk-container {\n",
       "  /* jupyter's `normalize.less` sets `[hidden] { display: none; }`\n",
       "     but bootstrap.min.css set `[hidden] { display: none !important; }`\n",
       "     so we also need the `!important` here to be able to override the\n",
       "     default hidden behavior on the sphinx rendered scikit-learn.org.\n",
       "     See: https://github.com/scikit-learn/scikit-learn/issues/21755 */\n",
       "  display: inline-block !important;\n",
       "  position: relative;\n",
       "}\n",
       "\n",
       "#sk-container-id-1 div.sk-text-repr-fallback {\n",
       "  display: none;\n",
       "}\n",
       "\n",
       "div.sk-parallel-item,\n",
       "div.sk-serial,\n",
       "div.sk-item {\n",
       "  /* draw centered vertical line to link estimators */\n",
       "  background-image: linear-gradient(var(--sklearn-color-text-on-default-background), var(--sklearn-color-text-on-default-background));\n",
       "  background-size: 2px 100%;\n",
       "  background-repeat: no-repeat;\n",
       "  background-position: center center;\n",
       "}\n",
       "\n",
       "/* Parallel-specific style estimator block */\n",
       "\n",
       "#sk-container-id-1 div.sk-parallel-item::after {\n",
       "  content: \"\";\n",
       "  width: 100%;\n",
       "  border-bottom: 2px solid var(--sklearn-color-text-on-default-background);\n",
       "  flex-grow: 1;\n",
       "}\n",
       "\n",
       "#sk-container-id-1 div.sk-parallel {\n",
       "  display: flex;\n",
       "  align-items: stretch;\n",
       "  justify-content: center;\n",
       "  background-color: var(--sklearn-color-background);\n",
       "  position: relative;\n",
       "}\n",
       "\n",
       "#sk-container-id-1 div.sk-parallel-item {\n",
       "  display: flex;\n",
       "  flex-direction: column;\n",
       "}\n",
       "\n",
       "#sk-container-id-1 div.sk-parallel-item:first-child::after {\n",
       "  align-self: flex-end;\n",
       "  width: 50%;\n",
       "}\n",
       "\n",
       "#sk-container-id-1 div.sk-parallel-item:last-child::after {\n",
       "  align-self: flex-start;\n",
       "  width: 50%;\n",
       "}\n",
       "\n",
       "#sk-container-id-1 div.sk-parallel-item:only-child::after {\n",
       "  width: 0;\n",
       "}\n",
       "\n",
       "/* Serial-specific style estimator block */\n",
       "\n",
       "#sk-container-id-1 div.sk-serial {\n",
       "  display: flex;\n",
       "  flex-direction: column;\n",
       "  align-items: center;\n",
       "  background-color: var(--sklearn-color-background);\n",
       "  padding-right: 1em;\n",
       "  padding-left: 1em;\n",
       "}\n",
       "\n",
       "\n",
       "/* Toggleable style: style used for estimator/Pipeline/ColumnTransformer box that is\n",
       "clickable and can be expanded/collapsed.\n",
       "- Pipeline and ColumnTransformer use this feature and define the default style\n",
       "- Estimators will overwrite some part of the style using the `sk-estimator` class\n",
       "*/\n",
       "\n",
       "/* Pipeline and ColumnTransformer style (default) */\n",
       "\n",
       "#sk-container-id-1 div.sk-toggleable {\n",
       "  /* Default theme specific background. It is overwritten whether we have a\n",
       "  specific estimator or a Pipeline/ColumnTransformer */\n",
       "  background-color: var(--sklearn-color-background);\n",
       "}\n",
       "\n",
       "/* Toggleable label */\n",
       "#sk-container-id-1 label.sk-toggleable__label {\n",
       "  cursor: pointer;\n",
       "  display: flex;\n",
       "  width: 100%;\n",
       "  margin-bottom: 0;\n",
       "  padding: 0.5em;\n",
       "  box-sizing: border-box;\n",
       "  text-align: center;\n",
       "  align-items: start;\n",
       "  justify-content: space-between;\n",
       "  gap: 0.5em;\n",
       "}\n",
       "\n",
       "#sk-container-id-1 label.sk-toggleable__label .caption {\n",
       "  font-size: 0.6rem;\n",
       "  font-weight: lighter;\n",
       "  color: var(--sklearn-color-text-muted);\n",
       "}\n",
       "\n",
       "#sk-container-id-1 label.sk-toggleable__label-arrow:before {\n",
       "  /* Arrow on the left of the label */\n",
       "  content: \"▸\";\n",
       "  float: left;\n",
       "  margin-right: 0.25em;\n",
       "  color: var(--sklearn-color-icon);\n",
       "}\n",
       "\n",
       "#sk-container-id-1 label.sk-toggleable__label-arrow:hover:before {\n",
       "  color: var(--sklearn-color-text);\n",
       "}\n",
       "\n",
       "/* Toggleable content - dropdown */\n",
       "\n",
       "#sk-container-id-1 div.sk-toggleable__content {\n",
       "  max-height: 0;\n",
       "  max-width: 0;\n",
       "  overflow: hidden;\n",
       "  text-align: left;\n",
       "  /* unfitted */\n",
       "  background-color: var(--sklearn-color-unfitted-level-0);\n",
       "}\n",
       "\n",
       "#sk-container-id-1 div.sk-toggleable__content.fitted {\n",
       "  /* fitted */\n",
       "  background-color: var(--sklearn-color-fitted-level-0);\n",
       "}\n",
       "\n",
       "#sk-container-id-1 div.sk-toggleable__content pre {\n",
       "  margin: 0.2em;\n",
       "  border-radius: 0.25em;\n",
       "  color: var(--sklearn-color-text);\n",
       "  /* unfitted */\n",
       "  background-color: var(--sklearn-color-unfitted-level-0);\n",
       "}\n",
       "\n",
       "#sk-container-id-1 div.sk-toggleable__content.fitted pre {\n",
       "  /* unfitted */\n",
       "  background-color: var(--sklearn-color-fitted-level-0);\n",
       "}\n",
       "\n",
       "#sk-container-id-1 input.sk-toggleable__control:checked~div.sk-toggleable__content {\n",
       "  /* Expand drop-down */\n",
       "  max-height: 200px;\n",
       "  max-width: 100%;\n",
       "  overflow: auto;\n",
       "}\n",
       "\n",
       "#sk-container-id-1 input.sk-toggleable__control:checked~label.sk-toggleable__label-arrow:before {\n",
       "  content: \"▾\";\n",
       "}\n",
       "\n",
       "/* Pipeline/ColumnTransformer-specific style */\n",
       "\n",
       "#sk-container-id-1 div.sk-label input.sk-toggleable__control:checked~label.sk-toggleable__label {\n",
       "  color: var(--sklearn-color-text);\n",
       "  background-color: var(--sklearn-color-unfitted-level-2);\n",
       "}\n",
       "\n",
       "#sk-container-id-1 div.sk-label.fitted input.sk-toggleable__control:checked~label.sk-toggleable__label {\n",
       "  background-color: var(--sklearn-color-fitted-level-2);\n",
       "}\n",
       "\n",
       "/* Estimator-specific style */\n",
       "\n",
       "/* Colorize estimator box */\n",
       "#sk-container-id-1 div.sk-estimator input.sk-toggleable__control:checked~label.sk-toggleable__label {\n",
       "  /* unfitted */\n",
       "  background-color: var(--sklearn-color-unfitted-level-2);\n",
       "}\n",
       "\n",
       "#sk-container-id-1 div.sk-estimator.fitted input.sk-toggleable__control:checked~label.sk-toggleable__label {\n",
       "  /* fitted */\n",
       "  background-color: var(--sklearn-color-fitted-level-2);\n",
       "}\n",
       "\n",
       "#sk-container-id-1 div.sk-label label.sk-toggleable__label,\n",
       "#sk-container-id-1 div.sk-label label {\n",
       "  /* The background is the default theme color */\n",
       "  color: var(--sklearn-color-text-on-default-background);\n",
       "}\n",
       "\n",
       "/* On hover, darken the color of the background */\n",
       "#sk-container-id-1 div.sk-label:hover label.sk-toggleable__label {\n",
       "  color: var(--sklearn-color-text);\n",
       "  background-color: var(--sklearn-color-unfitted-level-2);\n",
       "}\n",
       "\n",
       "/* Label box, darken color on hover, fitted */\n",
       "#sk-container-id-1 div.sk-label.fitted:hover label.sk-toggleable__label.fitted {\n",
       "  color: var(--sklearn-color-text);\n",
       "  background-color: var(--sklearn-color-fitted-level-2);\n",
       "}\n",
       "\n",
       "/* Estimator label */\n",
       "\n",
       "#sk-container-id-1 div.sk-label label {\n",
       "  font-family: monospace;\n",
       "  font-weight: bold;\n",
       "  display: inline-block;\n",
       "  line-height: 1.2em;\n",
       "}\n",
       "\n",
       "#sk-container-id-1 div.sk-label-container {\n",
       "  text-align: center;\n",
       "}\n",
       "\n",
       "/* Estimator-specific */\n",
       "#sk-container-id-1 div.sk-estimator {\n",
       "  font-family: monospace;\n",
       "  border: 1px dotted var(--sklearn-color-border-box);\n",
       "  border-radius: 0.25em;\n",
       "  box-sizing: border-box;\n",
       "  margin-bottom: 0.5em;\n",
       "  /* unfitted */\n",
       "  background-color: var(--sklearn-color-unfitted-level-0);\n",
       "}\n",
       "\n",
       "#sk-container-id-1 div.sk-estimator.fitted {\n",
       "  /* fitted */\n",
       "  background-color: var(--sklearn-color-fitted-level-0);\n",
       "}\n",
       "\n",
       "/* on hover */\n",
       "#sk-container-id-1 div.sk-estimator:hover {\n",
       "  /* unfitted */\n",
       "  background-color: var(--sklearn-color-unfitted-level-2);\n",
       "}\n",
       "\n",
       "#sk-container-id-1 div.sk-estimator.fitted:hover {\n",
       "  /* fitted */\n",
       "  background-color: var(--sklearn-color-fitted-level-2);\n",
       "}\n",
       "\n",
       "/* Specification for estimator info (e.g. \"i\" and \"?\") */\n",
       "\n",
       "/* Common style for \"i\" and \"?\" */\n",
       "\n",
       ".sk-estimator-doc-link,\n",
       "a:link.sk-estimator-doc-link,\n",
       "a:visited.sk-estimator-doc-link {\n",
       "  float: right;\n",
       "  font-size: smaller;\n",
       "  line-height: 1em;\n",
       "  font-family: monospace;\n",
       "  background-color: var(--sklearn-color-background);\n",
       "  border-radius: 1em;\n",
       "  height: 1em;\n",
       "  width: 1em;\n",
       "  text-decoration: none !important;\n",
       "  margin-left: 0.5em;\n",
       "  text-align: center;\n",
       "  /* unfitted */\n",
       "  border: var(--sklearn-color-unfitted-level-1) 1pt solid;\n",
       "  color: var(--sklearn-color-unfitted-level-1);\n",
       "}\n",
       "\n",
       ".sk-estimator-doc-link.fitted,\n",
       "a:link.sk-estimator-doc-link.fitted,\n",
       "a:visited.sk-estimator-doc-link.fitted {\n",
       "  /* fitted */\n",
       "  border: var(--sklearn-color-fitted-level-1) 1pt solid;\n",
       "  color: var(--sklearn-color-fitted-level-1);\n",
       "}\n",
       "\n",
       "/* On hover */\n",
       "div.sk-estimator:hover .sk-estimator-doc-link:hover,\n",
       ".sk-estimator-doc-link:hover,\n",
       "div.sk-label-container:hover .sk-estimator-doc-link:hover,\n",
       ".sk-estimator-doc-link:hover {\n",
       "  /* unfitted */\n",
       "  background-color: var(--sklearn-color-unfitted-level-3);\n",
       "  color: var(--sklearn-color-background);\n",
       "  text-decoration: none;\n",
       "}\n",
       "\n",
       "div.sk-estimator.fitted:hover .sk-estimator-doc-link.fitted:hover,\n",
       ".sk-estimator-doc-link.fitted:hover,\n",
       "div.sk-label-container:hover .sk-estimator-doc-link.fitted:hover,\n",
       ".sk-estimator-doc-link.fitted:hover {\n",
       "  /* fitted */\n",
       "  background-color: var(--sklearn-color-fitted-level-3);\n",
       "  color: var(--sklearn-color-background);\n",
       "  text-decoration: none;\n",
       "}\n",
       "\n",
       "/* Span, style for the box shown on hovering the info icon */\n",
       ".sk-estimator-doc-link span {\n",
       "  display: none;\n",
       "  z-index: 9999;\n",
       "  position: relative;\n",
       "  font-weight: normal;\n",
       "  right: .2ex;\n",
       "  padding: .5ex;\n",
       "  margin: .5ex;\n",
       "  width: min-content;\n",
       "  min-width: 20ex;\n",
       "  max-width: 50ex;\n",
       "  color: var(--sklearn-color-text);\n",
       "  box-shadow: 2pt 2pt 4pt #999;\n",
       "  /* unfitted */\n",
       "  background: var(--sklearn-color-unfitted-level-0);\n",
       "  border: .5pt solid var(--sklearn-color-unfitted-level-3);\n",
       "}\n",
       "\n",
       ".sk-estimator-doc-link.fitted span {\n",
       "  /* fitted */\n",
       "  background: var(--sklearn-color-fitted-level-0);\n",
       "  border: var(--sklearn-color-fitted-level-3);\n",
       "}\n",
       "\n",
       ".sk-estimator-doc-link:hover span {\n",
       "  display: block;\n",
       "}\n",
       "\n",
       "/* \"?\"-specific style due to the `<a>` HTML tag */\n",
       "\n",
       "#sk-container-id-1 a.estimator_doc_link {\n",
       "  float: right;\n",
       "  font-size: 1rem;\n",
       "  line-height: 1em;\n",
       "  font-family: monospace;\n",
       "  background-color: var(--sklearn-color-background);\n",
       "  border-radius: 1rem;\n",
       "  height: 1rem;\n",
       "  width: 1rem;\n",
       "  text-decoration: none;\n",
       "  /* unfitted */\n",
       "  color: var(--sklearn-color-unfitted-level-1);\n",
       "  border: var(--sklearn-color-unfitted-level-1) 1pt solid;\n",
       "}\n",
       "\n",
       "#sk-container-id-1 a.estimator_doc_link.fitted {\n",
       "  /* fitted */\n",
       "  border: var(--sklearn-color-fitted-level-1) 1pt solid;\n",
       "  color: var(--sklearn-color-fitted-level-1);\n",
       "}\n",
       "\n",
       "/* On hover */\n",
       "#sk-container-id-1 a.estimator_doc_link:hover {\n",
       "  /* unfitted */\n",
       "  background-color: var(--sklearn-color-unfitted-level-3);\n",
       "  color: var(--sklearn-color-background);\n",
       "  text-decoration: none;\n",
       "}\n",
       "\n",
       "#sk-container-id-1 a.estimator_doc_link.fitted:hover {\n",
       "  /* fitted */\n",
       "  background-color: var(--sklearn-color-fitted-level-3);\n",
       "}\n",
       "</style><div id=\"sk-container-id-1\" class=\"sk-top-container\"><div class=\"sk-text-repr-fallback\"><pre>CountVectorizer(max_features=1000,\n",
       "                stop_words=[&#x27;a&#x27;, &#x27;about&#x27;, &#x27;above&#x27;, &#x27;after&#x27;, &#x27;again&#x27;, &#x27;against&#x27;,\n",
       "                            &#x27;ain&#x27;, &#x27;all&#x27;, &#x27;am&#x27;, &#x27;an&#x27;, &#x27;and&#x27;, &#x27;any&#x27;, &#x27;are&#x27;,\n",
       "                            &#x27;aren&#x27;, &quot;aren&#x27;t&quot;, &#x27;as&#x27;, &#x27;at&#x27;, &#x27;be&#x27;, &#x27;because&#x27;,\n",
       "                            &#x27;been&#x27;, &#x27;before&#x27;, &#x27;being&#x27;, &#x27;below&#x27;, &#x27;between&#x27;,\n",
       "                            &#x27;both&#x27;, &#x27;but&#x27;, &#x27;by&#x27;, &#x27;can&#x27;, &#x27;couldn&#x27;, &quot;couldn&#x27;t&quot;, ...],\n",
       "                tokenizer=&lt;function tokenize at 0x342bb7880&gt;)</pre><b>In a Jupyter environment, please rerun this cell to show the HTML representation or trust the notebook. <br />On GitHub, the HTML representation is unable to render, please try loading this page with nbviewer.org.</b></div><div class=\"sk-container\" hidden><div class=\"sk-item\"><div class=\"sk-estimator fitted sk-toggleable\"><input class=\"sk-toggleable__control sk-hidden--visually\" id=\"sk-estimator-id-1\" type=\"checkbox\" checked><label for=\"sk-estimator-id-1\" class=\"sk-toggleable__label fitted sk-toggleable__label-arrow\"><div><div>CountVectorizer</div></div><div><a class=\"sk-estimator-doc-link fitted\" rel=\"noreferrer\" target=\"_blank\" href=\"https://scikit-learn.org/1.6/modules/generated/sklearn.feature_extraction.text.CountVectorizer.html\">?<span>Documentation for CountVectorizer</span></a><span class=\"sk-estimator-doc-link fitted\">i<span>Fitted</span></span></div></label><div class=\"sk-toggleable__content fitted\"><pre>CountVectorizer(max_features=1000,\n",
       "                stop_words=[&#x27;a&#x27;, &#x27;about&#x27;, &#x27;above&#x27;, &#x27;after&#x27;, &#x27;again&#x27;, &#x27;against&#x27;,\n",
       "                            &#x27;ain&#x27;, &#x27;all&#x27;, &#x27;am&#x27;, &#x27;an&#x27;, &#x27;and&#x27;, &#x27;any&#x27;, &#x27;are&#x27;,\n",
       "                            &#x27;aren&#x27;, &quot;aren&#x27;t&quot;, &#x27;as&#x27;, &#x27;at&#x27;, &#x27;be&#x27;, &#x27;because&#x27;,\n",
       "                            &#x27;been&#x27;, &#x27;before&#x27;, &#x27;being&#x27;, &#x27;below&#x27;, &#x27;between&#x27;,\n",
       "                            &#x27;both&#x27;, &#x27;but&#x27;, &#x27;by&#x27;, &#x27;can&#x27;, &#x27;couldn&#x27;, &quot;couldn&#x27;t&quot;, ...],\n",
       "                tokenizer=&lt;function tokenize at 0x342bb7880&gt;)</pre></div> </div></div></div></div>"
      ]
     },
     "execution_count": 66,
     "metadata": {},
     "output_type": "execute_result"
    }
   ],
   "execution_count": 66
  },
  {
   "cell_type": "code",
   "metadata": {
    "id": "sJBlLm5Ye88Z",
    "colab": {
     "base_uri": "https://localhost:8080/"
    },
    "outputId": "4c98cd43-0e9a-48c7-e349-7c215e0e6413",
    "ExecuteTime": {
     "end_time": "2025-05-25T11:23:39.122734Z",
     "start_time": "2025-05-25T11:23:39.120695Z"
    }
   },
   "source": [
    "len(vectorizer.vocabulary_)"
   ],
   "outputs": [
    {
     "data": {
      "text/plain": [
       "1000"
      ]
     },
     "execution_count": 67,
     "metadata": {},
     "output_type": "execute_result"
    }
   ],
   "execution_count": 67
  },
  {
   "cell_type": "code",
   "metadata": {
    "id": "b9K638h1gg5_",
    "colab": {
     "base_uri": "https://localhost:8080/"
    },
    "outputId": "aca1a9e1-2321-458a-fb7d-63441064d578",
    "ExecuteTime": {
     "end_time": "2025-05-25T11:23:39.159713Z",
     "start_time": "2025-05-25T11:23:39.157558Z"
    }
   },
   "source": [
    "vectorizer.get_feature_names_out()[:100]"
   ],
   "outputs": [
    {
     "data": {
      "text/plain": [
       "array(['!', '$', '%', '&', \"'\", \"''\", \"'m\", \"'s\", '(', ')', ',', '-', '.',\n",
       "       '1', '10', '100', '12', '12th', '15', '2', '20', '2017', '2018',\n",
       "       '3', '4', '5', '6', '7', '8', ':', '?', '[', ']', '``', 'abl',\n",
       "       'abroad', 'abus', 'accept', 'access', 'accomplish', 'accord',\n",
       "       'account', 'achiev', 'act', 'action', 'activ', 'actor', 'actual',\n",
       "       'ad', 'add', 'address', 'admiss', 'adult', 'advanc', 'advantag',\n",
       "       'advic', 'affect', 'africa', 'african', 'age', 'agre', 'air',\n",
       "       'allow', 'almost', 'alon', 'alreadi', 'also', 'altern', 'alway',\n",
       "       'amazon', 'america', 'american', 'amount', 'analysi', 'android',\n",
       "       'ani', 'anim', 'anoth', 'answer', 'anxieti', 'anyon', 'anyth',\n",
       "       'apart', 'app', 'appear', 'appl', 'appli', 'applic', 'approach',\n",
       "       'arab', 'area', 'armi', 'around', 'art', 'asian', 'ask', 'associ',\n",
       "       'atheist', 'attack', 'attend'], dtype=object)"
      ]
     },
     "execution_count": 68,
     "metadata": {},
     "output_type": "execute_result"
    }
   ],
   "execution_count": 68
  },
  {
   "cell_type": "code",
   "metadata": {
    "id": "n3iq65OsguTR",
    "colab": {
     "base_uri": "https://localhost:8080/"
    },
    "outputId": "48458e2b-ce38-4f80-83d0-8507dea0e511",
    "ExecuteTime": {
     "end_time": "2025-05-25T11:23:47.260637Z",
     "start_time": "2025-05-25T11:23:39.186495Z"
    }
   },
   "source": [
    "%%time\n",
    "inputs = vectorizer.transform(raw_df.question_text)"
   ],
   "outputs": [
    {
     "name": "stdout",
     "output_type": "stream",
     "text": [
      "CPU times: user 8.06 s, sys: 8.27 ms, total: 8.07 s\n",
      "Wall time: 8.07 s\n"
     ]
    }
   ],
   "execution_count": 69
  },
  {
   "cell_type": "code",
   "metadata": {
    "id": "9aEbKIC0gg3o",
    "colab": {
     "base_uri": "https://localhost:8080/"
    },
    "outputId": "87e81b6f-976e-4ccc-f179-04c2f1b62a9e",
    "ExecuteTime": {
     "end_time": "2025-05-25T11:23:47.267350Z",
     "start_time": "2025-05-25T11:23:47.265455Z"
    }
   },
   "source": [
    "inputs.shape"
   ],
   "outputs": [
    {
     "data": {
      "text/plain": [
       "(100000, 1000)"
      ]
     },
     "execution_count": 70,
     "metadata": {},
     "output_type": "execute_result"
    }
   ],
   "execution_count": 70
  },
  {
   "cell_type": "code",
   "metadata": {
    "id": "meslQK7Le86I",
    "colab": {
     "base_uri": "https://localhost:8080/"
    },
    "outputId": "8629ac1d-d762-4788-c495-e941f4fd0a0f",
    "ExecuteTime": {
     "end_time": "2025-05-25T11:23:47.286707Z",
     "start_time": "2025-05-25T11:23:47.284615Z"
    }
   },
   "source": [
    "inputs[:10]"
   ],
   "outputs": [
    {
     "data": {
      "text/plain": [
       "<Compressed Sparse Row sparse matrix of dtype 'int64'\n",
       "\twith 51 stored elements and shape (10, 1000)>"
      ]
     },
     "execution_count": 71,
     "metadata": {},
     "output_type": "execute_result"
    }
   ],
   "execution_count": 71
  },
  {
   "cell_type": "code",
   "metadata": {
    "id": "ARTJ68oehHVR",
    "colab": {
     "base_uri": "https://localhost:8080/",
     "height": 35
    },
    "outputId": "6f63c2cd-84e0-4450-eeea-82a3c39baf9d",
    "ExecuteTime": {
     "end_time": "2025-05-25T11:23:47.309934Z",
     "start_time": "2025-05-25T11:23:47.307867Z"
    }
   },
   "source": [
    "raw_df.question_text.values[0]"
   ],
   "outputs": [
    {
     "data": {
      "text/plain": [
       "'What is the most effective classroom management skill/technique to create a good learning environment?'"
      ]
     },
     "execution_count": 72,
     "metadata": {},
     "output_type": "execute_result"
    }
   ],
   "execution_count": 72
  },
  {
   "cell_type": "code",
   "source": [
    "inputs[0].toarray()"
   ],
   "metadata": {
    "colab": {
     "base_uri": "https://localhost:8080/"
    },
    "id": "bAQ11vC1i3iT",
    "outputId": "91fb43ce-2332-4e30-a6df-952b00aea0ef",
    "ExecuteTime": {
     "end_time": "2025-05-25T11:23:47.341494Z",
     "start_time": "2025-05-25T11:23:47.338780Z"
    }
   },
   "outputs": [
    {
     "data": {
      "text/plain": [
       "array([[0, 0, 0, 0, 0, 0, 0, 0, 0, 0, 0, 0, 0, 0, 0, 0, 0, 0, 0, 0, 0, 0,\n",
       "        0, 0, 0, 0, 0, 0, 0, 0, 1, 0, 0, 0, 0, 0, 0, 0, 0, 0, 0, 0, 0, 0,\n",
       "        0, 0, 0, 0, 0, 0, 0, 0, 0, 0, 0, 0, 0, 0, 0, 0, 0, 0, 0, 0, 0, 0,\n",
       "        0, 0, 0, 0, 0, 0, 0, 0, 0, 0, 0, 0, 0, 0, 0, 0, 0, 0, 0, 0, 0, 0,\n",
       "        0, 0, 0, 0, 0, 0, 0, 0, 0, 0, 0, 0, 0, 0, 0, 0, 0, 0, 0, 0, 0, 0,\n",
       "        0, 0, 0, 0, 0, 0, 0, 0, 0, 0, 0, 0, 0, 0, 0, 0, 0, 0, 0, 0, 0, 0,\n",
       "        0, 0, 0, 0, 0, 0, 0, 0, 0, 0, 0, 0, 0, 0, 0, 0, 0, 0, 0, 0, 0, 0,\n",
       "        0, 0, 0, 0, 0, 0, 0, 0, 0, 0, 0, 0, 0, 0, 0, 0, 0, 0, 0, 0, 0, 0,\n",
       "        0, 0, 0, 0, 0, 0, 0, 0, 0, 0, 0, 0, 0, 0, 0, 0, 0, 0, 0, 0, 0, 0,\n",
       "        0, 0, 0, 0, 0, 0, 0, 0, 0, 0, 0, 0, 0, 0, 0, 0, 0, 0, 0, 0, 0, 0,\n",
       "        0, 0, 0, 0, 0, 0, 0, 0, 0, 0, 0, 0, 0, 0, 0, 1, 0, 0, 0, 0, 0, 0,\n",
       "        0, 0, 0, 0, 0, 0, 0, 0, 0, 0, 0, 0, 0, 0, 0, 0, 0, 0, 0, 0, 0, 0,\n",
       "        0, 0, 0, 0, 0, 0, 0, 0, 0, 0, 0, 0, 0, 0, 0, 0, 0, 0, 0, 0, 0, 0,\n",
       "        0, 0, 0, 0, 0, 0, 0, 0, 0, 0, 0, 0, 0, 0, 1, 0, 0, 0, 0, 0, 0, 0,\n",
       "        0, 0, 0, 0, 0, 0, 0, 0, 0, 0, 0, 0, 0, 0, 0, 0, 0, 0, 0, 0, 0, 0,\n",
       "        0, 0, 0, 0, 0, 0, 0, 0, 0, 0, 0, 0, 0, 0, 0, 0, 0, 0, 0, 0, 0, 0,\n",
       "        0, 0, 0, 0, 0, 0, 0, 0, 0, 0, 0, 0, 0, 0, 0, 0, 0, 0, 0, 0, 0, 0,\n",
       "        0, 0, 0, 0, 0, 0, 0, 0, 0, 0, 0, 0, 0, 0, 0, 0, 0, 0, 0, 0, 0, 0,\n",
       "        0, 0, 0, 0, 0, 0, 1, 0, 0, 0, 0, 0, 0, 0, 0, 0, 0, 0, 0, 0, 0, 0,\n",
       "        0, 0, 0, 0, 0, 0, 0, 0, 0, 0, 0, 0, 0, 0, 0, 0, 0, 0, 0, 0, 0, 0,\n",
       "        0, 0, 0, 0, 0, 0, 0, 0, 0, 0, 0, 0, 0, 0, 0, 0, 0, 0, 0, 0, 0, 0,\n",
       "        0, 0, 0, 0, 0, 0, 0, 0, 0, 0, 0, 0, 0, 0, 0, 0, 0, 0, 0, 0, 0, 0,\n",
       "        0, 0, 0, 0, 0, 0, 0, 0, 0, 0, 0, 0, 0, 0, 0, 0, 0, 0, 0, 0, 0, 0,\n",
       "        0, 0, 0, 1, 0, 0, 0, 0, 0, 0, 0, 0, 0, 0, 0, 0, 0, 0, 0, 0, 0, 0,\n",
       "        0, 0, 0, 0, 0, 0, 0, 0, 0, 0, 0, 0, 0, 0, 0, 0, 0, 0, 0, 1, 0, 0,\n",
       "        0, 0, 0, 0, 0, 0, 0, 0, 0, 0, 0, 0, 0, 0, 0, 0, 0, 0, 0, 0, 0, 0,\n",
       "        0, 0, 0, 0, 0, 0, 0, 0, 0, 0, 0, 0, 0, 0, 0, 0, 0, 0, 0, 0, 0, 0,\n",
       "        0, 0, 0, 0, 0, 0, 0, 0, 0, 0, 0, 0, 0, 0, 0, 0, 0, 0, 0, 0, 0, 0,\n",
       "        0, 0, 0, 0, 0, 0, 0, 0, 0, 0, 0, 0, 0, 0, 0, 0, 0, 0, 0, 0, 0, 0,\n",
       "        0, 0, 0, 0, 0, 0, 0, 0, 0, 0, 0, 0, 0, 0, 0, 0, 0, 0, 0, 0, 0, 0,\n",
       "        0, 0, 0, 0, 0, 0, 0, 0, 0, 0, 0, 0, 0, 0, 0, 0, 0, 0, 0, 0, 0, 0,\n",
       "        0, 0, 0, 0, 0, 0, 0, 0, 0, 0, 0, 0, 0, 0, 0, 0, 0, 0, 0, 0, 0, 0,\n",
       "        0, 0, 0, 0, 0, 0, 0, 0, 0, 0, 0, 0, 0, 0, 0, 0, 0, 0, 0, 0, 0, 0,\n",
       "        0, 0, 0, 0, 0, 0, 0, 0, 0, 0, 0, 0, 0, 0, 0, 0, 0, 0, 0, 0, 0, 0,\n",
       "        0, 0, 0, 0, 0, 0, 0, 0, 0, 0, 0, 0, 0, 0, 0, 0, 0, 0, 0, 0, 0, 0,\n",
       "        0, 0, 0, 0, 0, 0, 0, 0, 0, 0, 0, 0, 0, 0, 0, 0, 0, 0, 0, 0, 0, 0,\n",
       "        0, 0, 0, 0, 0, 0, 0, 0, 0, 0, 0, 0, 0, 0, 0, 0, 0, 0, 0, 0, 0, 0,\n",
       "        0, 0, 0, 0, 0, 0, 0, 0, 0, 0, 0, 0, 0, 0, 0, 0, 0, 0, 0, 0, 0, 0,\n",
       "        0, 0, 0, 0, 0, 0, 0, 0, 0, 0, 0, 0, 0, 0, 0, 0, 0, 0, 0, 0, 0, 0,\n",
       "        0, 0, 0, 0, 0, 0, 0, 0, 0, 0, 0, 0, 0, 0, 0, 0, 0, 0, 0, 0, 0, 0,\n",
       "        0, 0, 0, 0, 0, 0, 0, 0, 0, 0, 0, 0, 0, 0, 0, 0, 0, 0, 0, 0, 0, 0,\n",
       "        0, 0, 0, 0, 0, 0, 0, 0, 0, 0, 0, 0, 0, 0, 0, 0, 0, 0, 0, 0, 0, 0,\n",
       "        0, 0, 0, 0, 0, 0, 0, 0, 0, 0, 0, 0, 0, 0, 0, 0, 0, 0, 0, 0, 0, 0,\n",
       "        0, 0, 0, 0, 0, 0, 0, 0, 0, 0, 0, 0, 0, 0, 0, 0, 0, 0, 0, 0, 0, 0,\n",
       "        0, 0, 0, 0, 0, 0, 0, 0, 0, 0, 0, 0, 0, 0, 0, 0, 0, 0, 0, 0, 0, 0,\n",
       "        0, 0, 0, 0, 0, 0, 0, 0, 0, 0]])"
      ]
     },
     "execution_count": 73,
     "metadata": {},
     "output_type": "execute_result"
    }
   ],
   "execution_count": 73
  },
  {
   "cell_type": "markdown",
   "source": [
    "Для трансформації тестового набору ми могли б запустити наступний код:"
   ],
   "metadata": {
    "id": "lsjCkqRDkme6"
   }
  },
  {
   "cell_type": "code",
   "metadata": {
    "id": "UDu0wUf9g--d",
    "colab": {
     "base_uri": "https://localhost:8080/"
    },
    "outputId": "55468525-16ee-4a17-9d90-7a82ab9c8e53",
    "ExecuteTime": {
     "end_time": "2025-05-25T11:23:47.383455Z",
     "start_time": "2025-05-25T11:23:47.381795Z"
    }
   },
   "source": [
    "%%time\n",
    "# test_inputs = vectorizer.transform(test_df.question_text)"
   ],
   "outputs": [
    {
     "name": "stdout",
     "output_type": "stream",
     "text": [
      "CPU times: user 1 μs, sys: 0 ns, total: 1 μs\n",
      "Wall time: 2.15 μs\n"
     ]
    }
   ],
   "execution_count": 74
  },
  {
   "cell_type": "markdown",
   "metadata": {
    "id": "AyVwmOboQoJn"
   },
   "source": [
    "## Навчання ML-моделі для класифікації тексту\n",
    "\n",
    "План:\n",
    "\n",
    "- Створити навчальний та валідаційний набори\n",
    "- Навчити модель логістичної регресії\n",
    "- Зробити прогнози на навчальних, валідаційних та тестових даних"
   ]
  },
  {
   "cell_type": "markdown",
   "metadata": {
    "id": "1CPsktK-iPgK"
   },
   "source": [
    "### Розділення на навчальний та валідаційний набори"
   ]
  },
  {
   "cell_type": "code",
   "metadata": {
    "id": "ckPyKMcMRBET",
    "colab": {
     "base_uri": "https://localhost:8080/"
    },
    "outputId": "53d717dc-b901-4956-aaa6-306193c1116d",
    "ExecuteTime": {
     "end_time": "2025-05-25T11:23:47.478676Z",
     "start_time": "2025-05-25T11:23:47.476631Z"
    }
   },
   "source": [
    "inputs.shape"
   ],
   "outputs": [
    {
     "data": {
      "text/plain": [
       "(100000, 1000)"
      ]
     },
     "execution_count": 75,
     "metadata": {},
     "output_type": "execute_result"
    }
   ],
   "execution_count": 75
  },
  {
   "cell_type": "code",
   "metadata": {
    "id": "OB2jqu7dirOn",
    "ExecuteTime": {
     "end_time": "2025-05-25T11:23:47.496781Z",
     "start_time": "2025-05-25T11:23:47.495253Z"
    }
   },
   "source": [
    "from sklearn.model_selection import train_test_split"
   ],
   "outputs": [],
   "execution_count": 76
  },
  {
   "cell_type": "code",
   "metadata": {
    "id": "m3eE_6y6ieLP",
    "ExecuteTime": {
     "end_time": "2025-05-25T11:23:47.838583Z",
     "start_time": "2025-05-25T11:23:47.830928Z"
    }
   },
   "source": [
    "train_inputs, val_inputs, train_targets, val_targets = train_test_split(inputs, raw_df.target,\n",
    "                                                                        test_size=0.3, random_state=42)"
   ],
   "outputs": [],
   "execution_count": 77
  },
  {
   "cell_type": "code",
   "metadata": {
    "id": "1hMoWlcrRBBt",
    "colab": {
     "base_uri": "https://localhost:8080/"
    },
    "outputId": "36d843bf-6e1f-4b8c-f056-e5ef79768fec",
    "ExecuteTime": {
     "end_time": "2025-05-25T11:23:48.068759Z",
     "start_time": "2025-05-25T11:23:48.066662Z"
    }
   },
   "source": [
    "train_inputs.shape"
   ],
   "outputs": [
    {
     "data": {
      "text/plain": [
       "(70000, 1000)"
      ]
     },
     "execution_count": 78,
     "metadata": {},
     "output_type": "execute_result"
    }
   ],
   "execution_count": 78
  },
  {
   "cell_type": "code",
   "metadata": {
    "id": "ioOd41xKjCkX",
    "colab": {
     "base_uri": "https://localhost:8080/"
    },
    "outputId": "293a4782-64d1-427b-9e1f-c7bebe270336",
    "ExecuteTime": {
     "end_time": "2025-05-25T11:23:48.123605Z",
     "start_time": "2025-05-25T11:23:48.121409Z"
    }
   },
   "source": [
    "train_targets.shape"
   ],
   "outputs": [
    {
     "data": {
      "text/plain": [
       "(70000,)"
      ]
     },
     "execution_count": 79,
     "metadata": {},
     "output_type": "execute_result"
    }
   ],
   "execution_count": 79
  },
  {
   "cell_type": "code",
   "metadata": {
    "id": "d2ipJkxRjChw",
    "colab": {
     "base_uri": "https://localhost:8080/"
    },
    "outputId": "7ab69fa8-d7c6-42a1-9260-d93323de5382",
    "ExecuteTime": {
     "end_time": "2025-05-25T11:23:48.151968Z",
     "start_time": "2025-05-25T11:23:48.149891Z"
    }
   },
   "source": [
    "val_inputs.shape"
   ],
   "outputs": [
    {
     "data": {
      "text/plain": [
       "(30000, 1000)"
      ]
     },
     "execution_count": 80,
     "metadata": {},
     "output_type": "execute_result"
    }
   ],
   "execution_count": 80
  },
  {
   "cell_type": "code",
   "metadata": {
    "id": "TZuuLryBjIWZ",
    "colab": {
     "base_uri": "https://localhost:8080/"
    },
    "outputId": "79ae9414-adda-437a-85fc-1c305afa1ce2",
    "ExecuteTime": {
     "end_time": "2025-05-25T11:23:48.174785Z",
     "start_time": "2025-05-25T11:23:48.172685Z"
    }
   },
   "source": [
    "val_targets.shape"
   ],
   "outputs": [
    {
     "data": {
      "text/plain": [
       "(30000,)"
      ]
     },
     "execution_count": 81,
     "metadata": {},
     "output_type": "execute_result"
    }
   ],
   "execution_count": 81
  },
  {
   "cell_type": "markdown",
   "metadata": {
    "id": "bBAcDSenjMSk"
   },
   "source": [
    "### Навчання моделі логістичної регресії"
   ]
  },
  {
   "cell_type": "code",
   "metadata": {
    "id": "tURg-O4pjMmX",
    "ExecuteTime": {
     "end_time": "2025-05-25T11:23:48.208924Z",
     "start_time": "2025-05-25T11:23:48.207448Z"
    }
   },
   "source": [
    "from sklearn.linear_model import LogisticRegression"
   ],
   "outputs": [],
   "execution_count": 82
  },
  {
   "cell_type": "code",
   "metadata": {
    "id": "aqk9RFIYj9tu",
    "ExecuteTime": {
     "end_time": "2025-05-25T11:23:48.231667Z",
     "start_time": "2025-05-25T11:23:48.230177Z"
    }
   },
   "source": [
    "MAX_ITER = 1000"
   ],
   "outputs": [],
   "execution_count": 83
  },
  {
   "cell_type": "code",
   "metadata": {
    "id": "uUQ0wzNIjNHr",
    "ExecuteTime": {
     "end_time": "2025-05-25T11:23:48.244860Z",
     "start_time": "2025-05-25T11:23:48.243260Z"
    }
   },
   "source": [
    "model = LogisticRegression(max_iter=MAX_ITER, solver='sag')"
   ],
   "outputs": [],
   "execution_count": 84
  },
  {
   "cell_type": "code",
   "metadata": {
    "id": "fOehu5rLjNFl",
    "colab": {
     "base_uri": "https://localhost:8080/",
     "height": 164
    },
    "outputId": "da3fb12b-ddc4-411e-c595-2b61fe73c593",
    "ExecuteTime": {
     "end_time": "2025-05-25T11:23:52.831437Z",
     "start_time": "2025-05-25T11:23:48.256330Z"
    }
   },
   "source": [
    "%%time\n",
    "model.fit(train_inputs, train_targets)"
   ],
   "outputs": [
    {
     "name": "stdout",
     "output_type": "stream",
     "text": [
      "CPU times: user 4.57 s, sys: 4.73 ms, total: 4.57 s\n",
      "Wall time: 4.57 s\n"
     ]
    },
    {
     "name": "stderr",
     "output_type": "stream",
     "text": [
      "/Users/dmytro/Code/MachineLearning/machine-learning-for-humans-2.0/.env/lib/python3.12/site-packages/sklearn/linear_model/_sag.py:348: ConvergenceWarning: The max_iter was reached which means the coef_ did not converge\n",
      "  warnings.warn(\n"
     ]
    },
    {
     "data": {
      "text/plain": [
       "LogisticRegression(max_iter=1000, solver='sag')"
      ],
      "text/html": [
       "<style>#sk-container-id-2 {\n",
       "  /* Definition of color scheme common for light and dark mode */\n",
       "  --sklearn-color-text: #000;\n",
       "  --sklearn-color-text-muted: #666;\n",
       "  --sklearn-color-line: gray;\n",
       "  /* Definition of color scheme for unfitted estimators */\n",
       "  --sklearn-color-unfitted-level-0: #fff5e6;\n",
       "  --sklearn-color-unfitted-level-1: #f6e4d2;\n",
       "  --sklearn-color-unfitted-level-2: #ffe0b3;\n",
       "  --sklearn-color-unfitted-level-3: chocolate;\n",
       "  /* Definition of color scheme for fitted estimators */\n",
       "  --sklearn-color-fitted-level-0: #f0f8ff;\n",
       "  --sklearn-color-fitted-level-1: #d4ebff;\n",
       "  --sklearn-color-fitted-level-2: #b3dbfd;\n",
       "  --sklearn-color-fitted-level-3: cornflowerblue;\n",
       "\n",
       "  /* Specific color for light theme */\n",
       "  --sklearn-color-text-on-default-background: var(--sg-text-color, var(--theme-code-foreground, var(--jp-content-font-color1, black)));\n",
       "  --sklearn-color-background: var(--sg-background-color, var(--theme-background, var(--jp-layout-color0, white)));\n",
       "  --sklearn-color-border-box: var(--sg-text-color, var(--theme-code-foreground, var(--jp-content-font-color1, black)));\n",
       "  --sklearn-color-icon: #696969;\n",
       "\n",
       "  @media (prefers-color-scheme: dark) {\n",
       "    /* Redefinition of color scheme for dark theme */\n",
       "    --sklearn-color-text-on-default-background: var(--sg-text-color, var(--theme-code-foreground, var(--jp-content-font-color1, white)));\n",
       "    --sklearn-color-background: var(--sg-background-color, var(--theme-background, var(--jp-layout-color0, #111)));\n",
       "    --sklearn-color-border-box: var(--sg-text-color, var(--theme-code-foreground, var(--jp-content-font-color1, white)));\n",
       "    --sklearn-color-icon: #878787;\n",
       "  }\n",
       "}\n",
       "\n",
       "#sk-container-id-2 {\n",
       "  color: var(--sklearn-color-text);\n",
       "}\n",
       "\n",
       "#sk-container-id-2 pre {\n",
       "  padding: 0;\n",
       "}\n",
       "\n",
       "#sk-container-id-2 input.sk-hidden--visually {\n",
       "  border: 0;\n",
       "  clip: rect(1px 1px 1px 1px);\n",
       "  clip: rect(1px, 1px, 1px, 1px);\n",
       "  height: 1px;\n",
       "  margin: -1px;\n",
       "  overflow: hidden;\n",
       "  padding: 0;\n",
       "  position: absolute;\n",
       "  width: 1px;\n",
       "}\n",
       "\n",
       "#sk-container-id-2 div.sk-dashed-wrapped {\n",
       "  border: 1px dashed var(--sklearn-color-line);\n",
       "  margin: 0 0.4em 0.5em 0.4em;\n",
       "  box-sizing: border-box;\n",
       "  padding-bottom: 0.4em;\n",
       "  background-color: var(--sklearn-color-background);\n",
       "}\n",
       "\n",
       "#sk-container-id-2 div.sk-container {\n",
       "  /* jupyter's `normalize.less` sets `[hidden] { display: none; }`\n",
       "     but bootstrap.min.css set `[hidden] { display: none !important; }`\n",
       "     so we also need the `!important` here to be able to override the\n",
       "     default hidden behavior on the sphinx rendered scikit-learn.org.\n",
       "     See: https://github.com/scikit-learn/scikit-learn/issues/21755 */\n",
       "  display: inline-block !important;\n",
       "  position: relative;\n",
       "}\n",
       "\n",
       "#sk-container-id-2 div.sk-text-repr-fallback {\n",
       "  display: none;\n",
       "}\n",
       "\n",
       "div.sk-parallel-item,\n",
       "div.sk-serial,\n",
       "div.sk-item {\n",
       "  /* draw centered vertical line to link estimators */\n",
       "  background-image: linear-gradient(var(--sklearn-color-text-on-default-background), var(--sklearn-color-text-on-default-background));\n",
       "  background-size: 2px 100%;\n",
       "  background-repeat: no-repeat;\n",
       "  background-position: center center;\n",
       "}\n",
       "\n",
       "/* Parallel-specific style estimator block */\n",
       "\n",
       "#sk-container-id-2 div.sk-parallel-item::after {\n",
       "  content: \"\";\n",
       "  width: 100%;\n",
       "  border-bottom: 2px solid var(--sklearn-color-text-on-default-background);\n",
       "  flex-grow: 1;\n",
       "}\n",
       "\n",
       "#sk-container-id-2 div.sk-parallel {\n",
       "  display: flex;\n",
       "  align-items: stretch;\n",
       "  justify-content: center;\n",
       "  background-color: var(--sklearn-color-background);\n",
       "  position: relative;\n",
       "}\n",
       "\n",
       "#sk-container-id-2 div.sk-parallel-item {\n",
       "  display: flex;\n",
       "  flex-direction: column;\n",
       "}\n",
       "\n",
       "#sk-container-id-2 div.sk-parallel-item:first-child::after {\n",
       "  align-self: flex-end;\n",
       "  width: 50%;\n",
       "}\n",
       "\n",
       "#sk-container-id-2 div.sk-parallel-item:last-child::after {\n",
       "  align-self: flex-start;\n",
       "  width: 50%;\n",
       "}\n",
       "\n",
       "#sk-container-id-2 div.sk-parallel-item:only-child::after {\n",
       "  width: 0;\n",
       "}\n",
       "\n",
       "/* Serial-specific style estimator block */\n",
       "\n",
       "#sk-container-id-2 div.sk-serial {\n",
       "  display: flex;\n",
       "  flex-direction: column;\n",
       "  align-items: center;\n",
       "  background-color: var(--sklearn-color-background);\n",
       "  padding-right: 1em;\n",
       "  padding-left: 1em;\n",
       "}\n",
       "\n",
       "\n",
       "/* Toggleable style: style used for estimator/Pipeline/ColumnTransformer box that is\n",
       "clickable and can be expanded/collapsed.\n",
       "- Pipeline and ColumnTransformer use this feature and define the default style\n",
       "- Estimators will overwrite some part of the style using the `sk-estimator` class\n",
       "*/\n",
       "\n",
       "/* Pipeline and ColumnTransformer style (default) */\n",
       "\n",
       "#sk-container-id-2 div.sk-toggleable {\n",
       "  /* Default theme specific background. It is overwritten whether we have a\n",
       "  specific estimator or a Pipeline/ColumnTransformer */\n",
       "  background-color: var(--sklearn-color-background);\n",
       "}\n",
       "\n",
       "/* Toggleable label */\n",
       "#sk-container-id-2 label.sk-toggleable__label {\n",
       "  cursor: pointer;\n",
       "  display: flex;\n",
       "  width: 100%;\n",
       "  margin-bottom: 0;\n",
       "  padding: 0.5em;\n",
       "  box-sizing: border-box;\n",
       "  text-align: center;\n",
       "  align-items: start;\n",
       "  justify-content: space-between;\n",
       "  gap: 0.5em;\n",
       "}\n",
       "\n",
       "#sk-container-id-2 label.sk-toggleable__label .caption {\n",
       "  font-size: 0.6rem;\n",
       "  font-weight: lighter;\n",
       "  color: var(--sklearn-color-text-muted);\n",
       "}\n",
       "\n",
       "#sk-container-id-2 label.sk-toggleable__label-arrow:before {\n",
       "  /* Arrow on the left of the label */\n",
       "  content: \"▸\";\n",
       "  float: left;\n",
       "  margin-right: 0.25em;\n",
       "  color: var(--sklearn-color-icon);\n",
       "}\n",
       "\n",
       "#sk-container-id-2 label.sk-toggleable__label-arrow:hover:before {\n",
       "  color: var(--sklearn-color-text);\n",
       "}\n",
       "\n",
       "/* Toggleable content - dropdown */\n",
       "\n",
       "#sk-container-id-2 div.sk-toggleable__content {\n",
       "  max-height: 0;\n",
       "  max-width: 0;\n",
       "  overflow: hidden;\n",
       "  text-align: left;\n",
       "  /* unfitted */\n",
       "  background-color: var(--sklearn-color-unfitted-level-0);\n",
       "}\n",
       "\n",
       "#sk-container-id-2 div.sk-toggleable__content.fitted {\n",
       "  /* fitted */\n",
       "  background-color: var(--sklearn-color-fitted-level-0);\n",
       "}\n",
       "\n",
       "#sk-container-id-2 div.sk-toggleable__content pre {\n",
       "  margin: 0.2em;\n",
       "  border-radius: 0.25em;\n",
       "  color: var(--sklearn-color-text);\n",
       "  /* unfitted */\n",
       "  background-color: var(--sklearn-color-unfitted-level-0);\n",
       "}\n",
       "\n",
       "#sk-container-id-2 div.sk-toggleable__content.fitted pre {\n",
       "  /* unfitted */\n",
       "  background-color: var(--sklearn-color-fitted-level-0);\n",
       "}\n",
       "\n",
       "#sk-container-id-2 input.sk-toggleable__control:checked~div.sk-toggleable__content {\n",
       "  /* Expand drop-down */\n",
       "  max-height: 200px;\n",
       "  max-width: 100%;\n",
       "  overflow: auto;\n",
       "}\n",
       "\n",
       "#sk-container-id-2 input.sk-toggleable__control:checked~label.sk-toggleable__label-arrow:before {\n",
       "  content: \"▾\";\n",
       "}\n",
       "\n",
       "/* Pipeline/ColumnTransformer-specific style */\n",
       "\n",
       "#sk-container-id-2 div.sk-label input.sk-toggleable__control:checked~label.sk-toggleable__label {\n",
       "  color: var(--sklearn-color-text);\n",
       "  background-color: var(--sklearn-color-unfitted-level-2);\n",
       "}\n",
       "\n",
       "#sk-container-id-2 div.sk-label.fitted input.sk-toggleable__control:checked~label.sk-toggleable__label {\n",
       "  background-color: var(--sklearn-color-fitted-level-2);\n",
       "}\n",
       "\n",
       "/* Estimator-specific style */\n",
       "\n",
       "/* Colorize estimator box */\n",
       "#sk-container-id-2 div.sk-estimator input.sk-toggleable__control:checked~label.sk-toggleable__label {\n",
       "  /* unfitted */\n",
       "  background-color: var(--sklearn-color-unfitted-level-2);\n",
       "}\n",
       "\n",
       "#sk-container-id-2 div.sk-estimator.fitted input.sk-toggleable__control:checked~label.sk-toggleable__label {\n",
       "  /* fitted */\n",
       "  background-color: var(--sklearn-color-fitted-level-2);\n",
       "}\n",
       "\n",
       "#sk-container-id-2 div.sk-label label.sk-toggleable__label,\n",
       "#sk-container-id-2 div.sk-label label {\n",
       "  /* The background is the default theme color */\n",
       "  color: var(--sklearn-color-text-on-default-background);\n",
       "}\n",
       "\n",
       "/* On hover, darken the color of the background */\n",
       "#sk-container-id-2 div.sk-label:hover label.sk-toggleable__label {\n",
       "  color: var(--sklearn-color-text);\n",
       "  background-color: var(--sklearn-color-unfitted-level-2);\n",
       "}\n",
       "\n",
       "/* Label box, darken color on hover, fitted */\n",
       "#sk-container-id-2 div.sk-label.fitted:hover label.sk-toggleable__label.fitted {\n",
       "  color: var(--sklearn-color-text);\n",
       "  background-color: var(--sklearn-color-fitted-level-2);\n",
       "}\n",
       "\n",
       "/* Estimator label */\n",
       "\n",
       "#sk-container-id-2 div.sk-label label {\n",
       "  font-family: monospace;\n",
       "  font-weight: bold;\n",
       "  display: inline-block;\n",
       "  line-height: 1.2em;\n",
       "}\n",
       "\n",
       "#sk-container-id-2 div.sk-label-container {\n",
       "  text-align: center;\n",
       "}\n",
       "\n",
       "/* Estimator-specific */\n",
       "#sk-container-id-2 div.sk-estimator {\n",
       "  font-family: monospace;\n",
       "  border: 1px dotted var(--sklearn-color-border-box);\n",
       "  border-radius: 0.25em;\n",
       "  box-sizing: border-box;\n",
       "  margin-bottom: 0.5em;\n",
       "  /* unfitted */\n",
       "  background-color: var(--sklearn-color-unfitted-level-0);\n",
       "}\n",
       "\n",
       "#sk-container-id-2 div.sk-estimator.fitted {\n",
       "  /* fitted */\n",
       "  background-color: var(--sklearn-color-fitted-level-0);\n",
       "}\n",
       "\n",
       "/* on hover */\n",
       "#sk-container-id-2 div.sk-estimator:hover {\n",
       "  /* unfitted */\n",
       "  background-color: var(--sklearn-color-unfitted-level-2);\n",
       "}\n",
       "\n",
       "#sk-container-id-2 div.sk-estimator.fitted:hover {\n",
       "  /* fitted */\n",
       "  background-color: var(--sklearn-color-fitted-level-2);\n",
       "}\n",
       "\n",
       "/* Specification for estimator info (e.g. \"i\" and \"?\") */\n",
       "\n",
       "/* Common style for \"i\" and \"?\" */\n",
       "\n",
       ".sk-estimator-doc-link,\n",
       "a:link.sk-estimator-doc-link,\n",
       "a:visited.sk-estimator-doc-link {\n",
       "  float: right;\n",
       "  font-size: smaller;\n",
       "  line-height: 1em;\n",
       "  font-family: monospace;\n",
       "  background-color: var(--sklearn-color-background);\n",
       "  border-radius: 1em;\n",
       "  height: 1em;\n",
       "  width: 1em;\n",
       "  text-decoration: none !important;\n",
       "  margin-left: 0.5em;\n",
       "  text-align: center;\n",
       "  /* unfitted */\n",
       "  border: var(--sklearn-color-unfitted-level-1) 1pt solid;\n",
       "  color: var(--sklearn-color-unfitted-level-1);\n",
       "}\n",
       "\n",
       ".sk-estimator-doc-link.fitted,\n",
       "a:link.sk-estimator-doc-link.fitted,\n",
       "a:visited.sk-estimator-doc-link.fitted {\n",
       "  /* fitted */\n",
       "  border: var(--sklearn-color-fitted-level-1) 1pt solid;\n",
       "  color: var(--sklearn-color-fitted-level-1);\n",
       "}\n",
       "\n",
       "/* On hover */\n",
       "div.sk-estimator:hover .sk-estimator-doc-link:hover,\n",
       ".sk-estimator-doc-link:hover,\n",
       "div.sk-label-container:hover .sk-estimator-doc-link:hover,\n",
       ".sk-estimator-doc-link:hover {\n",
       "  /* unfitted */\n",
       "  background-color: var(--sklearn-color-unfitted-level-3);\n",
       "  color: var(--sklearn-color-background);\n",
       "  text-decoration: none;\n",
       "}\n",
       "\n",
       "div.sk-estimator.fitted:hover .sk-estimator-doc-link.fitted:hover,\n",
       ".sk-estimator-doc-link.fitted:hover,\n",
       "div.sk-label-container:hover .sk-estimator-doc-link.fitted:hover,\n",
       ".sk-estimator-doc-link.fitted:hover {\n",
       "  /* fitted */\n",
       "  background-color: var(--sklearn-color-fitted-level-3);\n",
       "  color: var(--sklearn-color-background);\n",
       "  text-decoration: none;\n",
       "}\n",
       "\n",
       "/* Span, style for the box shown on hovering the info icon */\n",
       ".sk-estimator-doc-link span {\n",
       "  display: none;\n",
       "  z-index: 9999;\n",
       "  position: relative;\n",
       "  font-weight: normal;\n",
       "  right: .2ex;\n",
       "  padding: .5ex;\n",
       "  margin: .5ex;\n",
       "  width: min-content;\n",
       "  min-width: 20ex;\n",
       "  max-width: 50ex;\n",
       "  color: var(--sklearn-color-text);\n",
       "  box-shadow: 2pt 2pt 4pt #999;\n",
       "  /* unfitted */\n",
       "  background: var(--sklearn-color-unfitted-level-0);\n",
       "  border: .5pt solid var(--sklearn-color-unfitted-level-3);\n",
       "}\n",
       "\n",
       ".sk-estimator-doc-link.fitted span {\n",
       "  /* fitted */\n",
       "  background: var(--sklearn-color-fitted-level-0);\n",
       "  border: var(--sklearn-color-fitted-level-3);\n",
       "}\n",
       "\n",
       ".sk-estimator-doc-link:hover span {\n",
       "  display: block;\n",
       "}\n",
       "\n",
       "/* \"?\"-specific style due to the `<a>` HTML tag */\n",
       "\n",
       "#sk-container-id-2 a.estimator_doc_link {\n",
       "  float: right;\n",
       "  font-size: 1rem;\n",
       "  line-height: 1em;\n",
       "  font-family: monospace;\n",
       "  background-color: var(--sklearn-color-background);\n",
       "  border-radius: 1rem;\n",
       "  height: 1rem;\n",
       "  width: 1rem;\n",
       "  text-decoration: none;\n",
       "  /* unfitted */\n",
       "  color: var(--sklearn-color-unfitted-level-1);\n",
       "  border: var(--sklearn-color-unfitted-level-1) 1pt solid;\n",
       "}\n",
       "\n",
       "#sk-container-id-2 a.estimator_doc_link.fitted {\n",
       "  /* fitted */\n",
       "  border: var(--sklearn-color-fitted-level-1) 1pt solid;\n",
       "  color: var(--sklearn-color-fitted-level-1);\n",
       "}\n",
       "\n",
       "/* On hover */\n",
       "#sk-container-id-2 a.estimator_doc_link:hover {\n",
       "  /* unfitted */\n",
       "  background-color: var(--sklearn-color-unfitted-level-3);\n",
       "  color: var(--sklearn-color-background);\n",
       "  text-decoration: none;\n",
       "}\n",
       "\n",
       "#sk-container-id-2 a.estimator_doc_link.fitted:hover {\n",
       "  /* fitted */\n",
       "  background-color: var(--sklearn-color-fitted-level-3);\n",
       "}\n",
       "</style><div id=\"sk-container-id-2\" class=\"sk-top-container\"><div class=\"sk-text-repr-fallback\"><pre>LogisticRegression(max_iter=1000, solver=&#x27;sag&#x27;)</pre><b>In a Jupyter environment, please rerun this cell to show the HTML representation or trust the notebook. <br />On GitHub, the HTML representation is unable to render, please try loading this page with nbviewer.org.</b></div><div class=\"sk-container\" hidden><div class=\"sk-item\"><div class=\"sk-estimator fitted sk-toggleable\"><input class=\"sk-toggleable__control sk-hidden--visually\" id=\"sk-estimator-id-2\" type=\"checkbox\" checked><label for=\"sk-estimator-id-2\" class=\"sk-toggleable__label fitted sk-toggleable__label-arrow\"><div><div>LogisticRegression</div></div><div><a class=\"sk-estimator-doc-link fitted\" rel=\"noreferrer\" target=\"_blank\" href=\"https://scikit-learn.org/1.6/modules/generated/sklearn.linear_model.LogisticRegression.html\">?<span>Documentation for LogisticRegression</span></a><span class=\"sk-estimator-doc-link fitted\">i<span>Fitted</span></span></div></label><div class=\"sk-toggleable__content fitted\"><pre>LogisticRegression(max_iter=1000, solver=&#x27;sag&#x27;)</pre></div> </div></div></div></div>"
      ]
     },
     "execution_count": 85,
     "metadata": {},
     "output_type": "execute_result"
    }
   ],
   "execution_count": 85
  },
  {
   "cell_type": "markdown",
   "metadata": {
    "id": "o16-8HmXmQT0"
   },
   "source": [
    "### Робіть прогнози за допомогою моделі"
   ]
  },
  {
   "cell_type": "code",
   "metadata": {
    "id": "i12DBlkVkThU",
    "ExecuteTime": {
     "end_time": "2025-05-25T11:23:52.850090Z",
     "start_time": "2025-05-25T11:23:52.846941Z"
    }
   },
   "source": [
    "train_preds = model.predict(train_inputs)"
   ],
   "outputs": [],
   "execution_count": 86
  },
  {
   "cell_type": "code",
   "metadata": {
    "id": "urNCyppPkxZB",
    "colab": {
     "base_uri": "https://localhost:8080/",
     "height": 458
    },
    "outputId": "bac0ae7c-c974-47b7-8d56-db59a8f361d9",
    "ExecuteTime": {
     "end_time": "2025-05-25T11:23:52.879398Z",
     "start_time": "2025-05-25T11:23:52.877011Z"
    }
   },
   "source": [
    "train_targets"
   ],
   "outputs": [
    {
     "data": {
      "text/plain": [
       "133883     0\n",
       "343925     0\n",
       "1190558    0\n",
       "317078     0\n",
       "355610     0\n",
       "          ..\n",
       "262505     0\n",
       "879467     0\n",
       "411614     0\n",
       "859707     0\n",
       "683832     0\n",
       "Name: target, Length: 70000, dtype: int64"
      ]
     },
     "execution_count": 87,
     "metadata": {},
     "output_type": "execute_result"
    }
   ],
   "execution_count": 87
  },
  {
   "cell_type": "code",
   "metadata": {
    "id": "qS8PDYxljNDP",
    "colab": {
     "base_uri": "https://localhost:8080/"
    },
    "outputId": "21412a99-1354-4059-ce5b-55242f507587",
    "ExecuteTime": {
     "end_time": "2025-05-25T11:23:52.911654Z",
     "start_time": "2025-05-25T11:23:52.909574Z"
    }
   },
   "source": [
    "train_preds"
   ],
   "outputs": [
    {
     "data": {
      "text/plain": [
       "array([0, 0, 0, ..., 0, 0, 0])"
      ]
     },
     "execution_count": 88,
     "metadata": {},
     "output_type": "execute_result"
    }
   ],
   "execution_count": 88
  },
  {
   "cell_type": "code",
   "metadata": {
    "id": "W74eTiJgjNA9",
    "colab": {
     "base_uri": "https://localhost:8080/",
     "height": 147
    },
    "outputId": "b4a57b23-d16b-42a2-96f2-bcceac0063a7",
    "ExecuteTime": {
     "end_time": "2025-05-25T11:23:52.973129Z",
     "start_time": "2025-05-25T11:23:52.970395Z"
    }
   },
   "source": [
    "pd.Series(train_preds).value_counts()"
   ],
   "outputs": [
    {
     "data": {
      "text/plain": [
       "0    67957\n",
       "1     2043\n",
       "Name: count, dtype: int64"
      ]
     },
     "execution_count": 89,
     "metadata": {},
     "output_type": "execute_result"
    }
   ],
   "execution_count": 89
  },
  {
   "cell_type": "code",
   "metadata": {
    "id": "pixsvLxrkhK4",
    "colab": {
     "base_uri": "https://localhost:8080/",
     "height": 178
    },
    "outputId": "0ae99fd5-166b-4b0c-ab03-bd1e928d492f",
    "ExecuteTime": {
     "end_time": "2025-05-25T11:23:53.033934Z",
     "start_time": "2025-05-25T11:23:53.031365Z"
    }
   },
   "source": [
    "pd.Series(train_targets).value_counts()"
   ],
   "outputs": [
    {
     "data": {
      "text/plain": [
       "target\n",
       "0    65784\n",
       "1     4216\n",
       "Name: count, dtype: int64"
      ]
     },
     "execution_count": 90,
     "metadata": {},
     "output_type": "execute_result"
    }
   ],
   "execution_count": 90
  },
  {
   "cell_type": "code",
   "metadata": {
    "id": "YxH33IpFkpXJ",
    "ExecuteTime": {
     "end_time": "2025-05-25T11:23:53.130798Z",
     "start_time": "2025-05-25T11:23:53.128926Z"
    }
   },
   "source": [
    "from sklearn.metrics import accuracy_score, f1_score"
   ],
   "outputs": [],
   "execution_count": 91
  },
  {
   "cell_type": "code",
   "source": [
    "accuracy_score(train_targets, train_preds)"
   ],
   "metadata": {
    "id": "6BnC5cirlSy-",
    "colab": {
     "base_uri": "https://localhost:8080/"
    },
    "outputId": "2eae1d1b-a5ed-46f6-9410-f0ec229751d4",
    "ExecuteTime": {
     "end_time": "2025-05-25T11:23:53.204733Z",
     "start_time": "2025-05-25T11:23:53.200888Z"
    }
   },
   "outputs": [
    {
     "data": {
      "text/plain": [
       "0.9504428571428571"
      ]
     },
     "execution_count": 92,
     "metadata": {},
     "output_type": "execute_result"
    }
   ],
   "execution_count": 92
  },
  {
   "cell_type": "code",
   "metadata": {
    "id": "oUgKam9RkYD6",
    "colab": {
     "base_uri": "https://localhost:8080/"
    },
    "outputId": "491dd7ff-25a4-4df9-c322-1e467182ae8f",
    "ExecuteTime": {
     "end_time": "2025-05-25T11:23:53.258884Z",
     "start_time": "2025-05-25T11:23:53.250384Z"
    }
   },
   "source": [
    "f1_score(train_targets, train_preds)"
   ],
   "outputs": [
    {
     "data": {
      "text/plain": [
       "0.4457581083240134"
      ]
     },
     "execution_count": 93,
     "metadata": {},
     "output_type": "execute_result"
    }
   ],
   "execution_count": 93
  },
  {
   "cell_type": "markdown",
   "source": [
    "Порівняємо з примітивною моделлю, яка каже про кожну фразу, що вона є екологічною (target=0):\n",
    "\n"
   ],
   "metadata": {
    "id": "LG34bHD8lVO8"
   }
  },
  {
   "cell_type": "code",
   "metadata": {
    "id": "ipzg1inClCcJ",
    "ExecuteTime": {
     "end_time": "2025-05-25T11:23:53.285048Z",
     "start_time": "2025-05-25T11:23:53.283450Z"
    }
   },
   "source": [
    "import numpy as np"
   ],
   "outputs": [],
   "execution_count": 94
  },
  {
   "cell_type": "code",
   "metadata": {
    "colab": {
     "base_uri": "https://localhost:8080/"
    },
    "id": "_P-IsOtTk5x_",
    "outputId": "bfb2bed9-f10d-4cd2-8adc-50bc688590d7",
    "ExecuteTime": {
     "end_time": "2025-05-25T11:23:53.310388Z",
     "start_time": "2025-05-25T11:23:53.306616Z"
    }
   },
   "source": [
    "accuracy_score(train_targets, np.zeros(len(train_targets)))"
   ],
   "outputs": [
    {
     "data": {
      "text/plain": [
       "0.9397714285714286"
      ]
     },
     "execution_count": 95,
     "metadata": {},
     "output_type": "execute_result"
    }
   ],
   "execution_count": 95
  },
  {
   "cell_type": "code",
   "source": [
    "f1_score(train_targets, np.zeros(len(train_targets)))"
   ],
   "metadata": {
    "colab": {
     "base_uri": "https://localhost:8080/"
    },
    "id": "ZJOIS9hQjb90",
    "outputId": "427cdf38-a88c-468b-c8a4-f1aaf523b9f3",
    "ExecuteTime": {
     "end_time": "2025-05-25T11:23:53.337950Z",
     "start_time": "2025-05-25T11:23:53.330268Z"
    }
   },
   "outputs": [
    {
     "data": {
      "text/plain": [
       "0.0"
      ]
     },
     "execution_count": 96,
     "metadata": {},
     "output_type": "execute_result"
    }
   ],
   "execution_count": 96
  },
  {
   "cell_type": "markdown",
   "source": [
    "### Як отримати передбачення на нових даних?\n",
    "Все просто! Трансформуємо дані з натренованим векторизатором і передаємо в модель."
   ],
   "metadata": {
    "id": "cGgZIcfyuh1Y"
   }
  },
  {
   "cell_type": "code",
   "metadata": {
    "colab": {
     "base_uri": "https://localhost:8080/"
    },
    "id": "qHE1gR0mmV0l",
    "outputId": "028e6eb2-fe88-4c9d-e554-8b147f57c236",
    "ExecuteTime": {
     "end_time": "2025-05-25T11:23:53.364314Z",
     "start_time": "2025-05-25T11:23:53.360631Z"
    }
   },
   "source": [
    "model.predict(vectorizer.transform(sincere_df.question_text.values[:10]))"
   ],
   "outputs": [
    {
     "data": {
      "text/plain": [
       "array([0, 0, 0, 0, 0, 0, 1, 0, 0, 0])"
      ]
     },
     "execution_count": 97,
     "metadata": {},
     "output_type": "execute_result"
    }
   ],
   "execution_count": 97
  },
  {
   "cell_type": "code",
   "source": [
    "model.predict_proba(vectorizer.transform(sincere_df.question_text.values[:10]))[:,1].round(2)"
   ],
   "metadata": {
    "colab": {
     "base_uri": "https://localhost:8080/"
    },
    "id": "5GyM6BOyfg2f",
    "outputId": "fcac4dc7-8064-4ca9-cc49-0ed388828445",
    "ExecuteTime": {
     "end_time": "2025-05-25T11:23:53.392645Z",
     "start_time": "2025-05-25T11:23:53.388884Z"
    }
   },
   "outputs": [
    {
     "data": {
      "text/plain": [
       "array([0.07, 0.1 , 0.  , 0.02, 0.03, 0.04, 0.91, 0.04, 0.01, 0.02])"
      ]
     },
     "execution_count": 98,
     "metadata": {},
     "output_type": "execute_result"
    }
   ],
   "execution_count": 98
  },
  {
   "cell_type": "code",
   "metadata": {
    "colab": {
     "base_uri": "https://localhost:8080/"
    },
    "id": "k58qFC-kmVyR",
    "outputId": "39589a3e-73cd-4131-9dca-0b13627554b8",
    "ExecuteTime": {
     "end_time": "2025-05-25T11:23:53.416135Z",
     "start_time": "2025-05-25T11:23:53.414077Z"
    }
   },
   "source": [
    "insincere_df.question_text.values[:10]"
   ],
   "outputs": [
    {
     "data": {
      "text/plain": [
       "array(['Has the United States become the largest dictatorship in the world?',\n",
       "       'Which babies are more sweeter to their parents? Dark skin babies or light skin babies?',\n",
       "       \"If blacks support school choice and mandatory sentencing for criminals why don't they vote Republican?\",\n",
       "       'I am gay boy and I love my cousin (boy). He is sexy, but I dont know what to do. He is hot, and I want to see his di**. What should I do?',\n",
       "       'Which races have the smallest penis?',\n",
       "       'Why do females find penises ugly?',\n",
       "       'How do I marry an American woman for a Green Card? How much do they charge?',\n",
       "       \"Why do Europeans say they're the superior race, when in fact it took them over 2,000 years until mid 19th century to surpass China's largest economy?\",\n",
       "       'Did Julius Caesar bring a tyrannosaurus rex on his campaigns to frighten the Celts into submission?',\n",
       "       \"In what manner has Republican backing of 'states rights' been hypocritical and what ways have they actually restricted the ability of states to make their own laws?\"],\n",
       "      dtype=object)"
      ]
     },
     "execution_count": 99,
     "metadata": {},
     "output_type": "execute_result"
    }
   ],
   "execution_count": 99
  },
  {
   "cell_type": "code",
   "metadata": {
    "colab": {
     "base_uri": "https://localhost:8080/"
    },
    "id": "lFwis7sOmVv7",
    "outputId": "f006957e-543c-4a29-8f6b-786a89a427f5",
    "ExecuteTime": {
     "end_time": "2025-05-25T11:23:53.444146Z",
     "start_time": "2025-05-25T11:23:53.441977Z"
    }
   },
   "source": [
    "insincere_df.target.values[:10]"
   ],
   "outputs": [
    {
     "data": {
      "text/plain": [
       "array([1, 1, 1, 1, 1, 1, 1, 1, 1, 1])"
      ]
     },
     "execution_count": 100,
     "metadata": {},
     "output_type": "execute_result"
    }
   ],
   "execution_count": 100
  },
  {
   "cell_type": "code",
   "metadata": {
    "colab": {
     "base_uri": "https://localhost:8080/"
    },
    "id": "2T_zvDYvmVt6",
    "outputId": "f240934f-dcca-4f1e-9bec-d739d6142c2c",
    "ExecuteTime": {
     "end_time": "2025-05-25T11:23:53.483335Z",
     "start_time": "2025-05-25T11:23:53.479285Z"
    }
   },
   "source": [
    "model.predict(vectorizer.transform(insincere_df.question_text.values[:10]))"
   ],
   "outputs": [
    {
     "data": {
      "text/plain": [
       "array([0, 0, 1, 1, 0, 0, 0, 1, 0, 0])"
      ]
     },
     "execution_count": 101,
     "metadata": {},
     "output_type": "execute_result"
    }
   ],
   "execution_count": 101
  },
  {
   "cell_type": "markdown",
   "source": [
    "## Аналіз помилок"
   ],
   "metadata": {
    "id": "koquWa00u-D_"
   }
  },
  {
   "cell_type": "code",
   "source": [
    "raw_df['prediction'] = model.predict(inputs)"
   ],
   "metadata": {
    "id": "2GOTqZ98u9RL",
    "ExecuteTime": {
     "end_time": "2025-05-25T11:23:53.513391Z",
     "start_time": "2025-05-25T11:23:53.509787Z"
    }
   },
   "outputs": [],
   "execution_count": 102
  },
  {
   "cell_type": "code",
   "source": [
    "raw_df.shape"
   ],
   "metadata": {
    "colab": {
     "base_uri": "https://localhost:8080/"
    },
    "id": "pDcA_ML9f06A",
    "outputId": "cd19eac5-eb1f-41ad-c132-beada86ae814",
    "ExecuteTime": {
     "end_time": "2025-05-25T11:23:53.536774Z",
     "start_time": "2025-05-25T11:23:53.534818Z"
    }
   },
   "outputs": [
    {
     "data": {
      "text/plain": [
       "(100000, 4)"
      ]
     },
     "execution_count": 103,
     "metadata": {},
     "output_type": "execute_result"
    }
   ],
   "execution_count": 103
  },
  {
   "cell_type": "code",
   "source": [
    "from sklearn.metrics import confusion_matrix"
   ],
   "metadata": {
    "id": "DONWRrtyvFif",
    "ExecuteTime": {
     "end_time": "2025-05-25T11:23:53.565620Z",
     "start_time": "2025-05-25T11:23:53.563965Z"
    }
   },
   "outputs": [],
   "execution_count": 104
  },
  {
   "cell_type": "code",
   "source": [
    "confusion_matrix(raw_df.target, raw_df.prediction)"
   ],
   "metadata": {
    "colab": {
     "base_uri": "https://localhost:8080/"
    },
    "id": "0Hr_4Fw6vIJl",
    "outputId": "b10e9907-4514-47b7-b6f3-6391c9f2b5b2",
    "ExecuteTime": {
     "end_time": "2025-05-25T11:23:53.584911Z",
     "start_time": "2025-05-25T11:23:53.578389Z"
    }
   },
   "outputs": [
    {
     "data": {
      "text/plain": [
       "array([[92985,   977],\n",
       "       [ 4091,  1947]])"
      ]
     },
     "execution_count": 105,
     "metadata": {},
     "output_type": "execute_result"
    }
   ],
   "execution_count": 105
  },
  {
   "cell_type": "markdown",
   "source": [
    "Дослідимо ще як розподілені передбачення класу target=1."
   ],
   "metadata": {
    "id": "qev7Biw4wFf4"
   }
  },
  {
   "cell_type": "code",
   "source": [
    "raw_df['prediction_proba'] = model.predict_proba(inputs)[:, 1]"
   ],
   "metadata": {
    "id": "gOwq6CmzvWjg",
    "ExecuteTime": {
     "end_time": "2025-05-25T11:23:53.627776Z",
     "start_time": "2025-05-25T11:23:53.624039Z"
    }
   },
   "outputs": [],
   "execution_count": 106
  },
  {
   "cell_type": "code",
   "source": [
    "raw_df.target.value_counts()"
   ],
   "metadata": {
    "colab": {
     "base_uri": "https://localhost:8080/",
     "height": 178
    },
    "id": "KwgW1dTzgLy_",
    "outputId": "af9e181f-a796-4c88-98cd-1e9bdbd34ac4",
    "ExecuteTime": {
     "end_time": "2025-05-25T11:23:53.673455Z",
     "start_time": "2025-05-25T11:23:53.670865Z"
    }
   },
   "outputs": [
    {
     "data": {
      "text/plain": [
       "target\n",
       "0    93962\n",
       "1     6038\n",
       "Name: count, dtype: int64"
      ]
     },
     "execution_count": 107,
     "metadata": {},
     "output_type": "execute_result"
    }
   ],
   "execution_count": 107
  },
  {
   "cell_type": "code",
   "source": [
    "raw_df.prediction_proba.hist(bins=100)"
   ],
   "metadata": {
    "colab": {
     "base_uri": "https://localhost:8080/",
     "height": 447
    },
    "id": "vdV6A8W_wKfO",
    "outputId": "b4eb9aa3-7f95-4eba-e106-adde1b6a42e8",
    "ExecuteTime": {
     "end_time": "2025-05-25T11:23:54.116522Z",
     "start_time": "2025-05-25T11:23:53.716543Z"
    }
   },
   "outputs": [
    {
     "data": {
      "text/plain": [
       "<Axes: >"
      ]
     },
     "execution_count": 108,
     "metadata": {},
     "output_type": "execute_result"
    },
    {
     "data": {
      "text/plain": [
       "<Figure size 640x480 with 1 Axes>"
      ],
      "image/png": "[encoded data removed]"
     },
     "metadata": {},
     "output_type": "display_data"
    }
   ],
   "execution_count": 108
  },
  {
   "cell_type": "markdown",
   "source": [
    "Я б змістила поріг класифікації до 0.1-0.2 і це б поліпшило F1."
   ],
   "metadata": {
    "id": "kIs1PYsrwOWG"
   }
  },
  {
   "cell_type": "code",
   "source": [
    "raw_df['prediction_0.2'] = raw_df.prediction_proba > 0.2"
   ],
   "metadata": {
    "id": "VsfsQC6NwU6s",
    "ExecuteTime": {
     "end_time": "2025-05-25T11:23:54.139921Z",
     "start_time": "2025-05-25T11:23:54.137871Z"
    }
   },
   "outputs": [],
   "execution_count": 109
  },
  {
   "cell_type": "code",
   "source": [
    "f1_score(raw_df.target, raw_df['prediction_0.2'])"
   ],
   "metadata": {
    "colab": {
     "base_uri": "https://localhost:8080/"
    },
    "id": "Dh0V4SCuwYOR",
    "outputId": "b8440976-4e4f-47f5-e475-0e922801f4d5",
    "ExecuteTime": {
     "end_time": "2025-05-25T11:23:54.182271Z",
     "start_time": "2025-05-25T11:23:54.168546Z"
    }
   },
   "outputs": [
    {
     "data": {
      "text/plain": [
       "0.5159994046733145"
      ]
     },
     "execution_count": 110,
     "metadata": {},
     "output_type": "execute_result"
    }
   ],
   "execution_count": 110
  },
  {
   "cell_type": "code",
   "source": [
    "confusion_matrix(raw_df.target, raw_df['prediction_0.2'])"
   ],
   "metadata": {
    "colab": {
     "base_uri": "https://localhost:8080/"
    },
    "id": "AjazIIPnwpcD",
    "outputId": "bd391a80-9466-4bcf-beec-ed486430476b",
    "ExecuteTime": {
     "end_time": "2025-05-25T11:23:54.214629Z",
     "start_time": "2025-05-25T11:23:54.208125Z"
    }
   },
   "outputs": [
    {
     "data": {
      "text/plain": [
       "array([[90029,  3933],\n",
       "       [ 2571,  3467]])"
      ]
     },
     "execution_count": 111,
     "metadata": {},
     "output_type": "execute_result"
    }
   ],
   "execution_count": 111
  },
  {
   "cell_type": "markdown",
   "source": [
    "Можемо також дослідити окремо питання, в яких робимо false positive та false negative передбачення."
   ],
   "metadata": {
    "id": "ggSpHOJhvPfx"
   }
  },
  {
   "cell_type": "code",
   "source": [
    "raw_df['error'] = raw_df.target != raw_df['prediction_0.2']"
   ],
   "metadata": {
    "id": "zjRKp_60vdkO",
    "ExecuteTime": {
     "end_time": "2025-05-25T11:23:54.250660Z",
     "start_time": "2025-05-25T11:23:54.248662Z"
    }
   },
   "outputs": [],
   "execution_count": 112
  },
  {
   "cell_type": "markdown",
   "source": [
    "False negative результати можемо дістати наступним чином:"
   ],
   "metadata": {
    "id": "-ISNz1cxv6CT"
   }
  },
  {
   "cell_type": "code",
   "source": [
    "raw_df[raw_df.error & raw_df.target==1]"
   ],
   "metadata": {
    "colab": {
     "base_uri": "https://localhost:8080/",
     "height": 423
    },
    "id": "tzNE72GNvmDL",
    "outputId": "b4bc0043-0e4b-4308-974f-6fb306d01578",
    "ExecuteTime": {
     "end_time": "2025-05-25T11:23:54.299636Z",
     "start_time": "2025-05-25T11:23:54.294277Z"
    }
   },
   "outputs": [
    {
     "data": {
      "text/plain": [
       "                          qid  \\\n",
       "691951   8786fa2e795d2d0e1440   \n",
       "1057714  cf41b3cc824bdc767b4b   \n",
       "30882    0609338dee541a017b5f   \n",
       "908188   b1f5208e0f44556a5964   \n",
       "933912   b704f07087d87705b434   \n",
       "...                       ...   \n",
       "840664   a4c0771befc0fdb5204c   \n",
       "709348   8adf3b4c5f39625a1ed1   \n",
       "596632   74db98e51a653f6927c6   \n",
       "938680   b7f526728f983ee04683   \n",
       "1024077  c8adb7f882d789b68ed8   \n",
       "\n",
       "                                             question_text  target  \\\n",
       "691951                         Is Yahoo owned by the Jews?       1   \n",
       "1057714  If Macedonia is supposedly \"purely\" Greek and ...       1   \n",
       "30882    Could the numerous acts of arms being severed ...       1   \n",
       "908188   Should plus-size women wear dresses and skirts...       1   \n",
       "933912   Why do we constantly get questions from gun-gr...       1   \n",
       "...                                                    ...     ...   \n",
       "840664   It is not strange that there wasn’t any attemp...       1   \n",
       "709348   What was the real reason for Jesus to quit the...       1   \n",
       "596632                    Is Astrologer R K Shastri Fraud?       1   \n",
       "938680                           Why do Sikhs hate Hindus?       1   \n",
       "1024077  What will happen if I start murdering children...       1   \n",
       "\n",
       "         prediction  prediction_proba  prediction_0.2  error  \n",
       "691951            0          0.168225           False   True  \n",
       "1057714           0          0.027373           False   True  \n",
       "30882             0          0.025920           False   True  \n",
       "908188            0          0.124354           False   True  \n",
       "933912            0          0.141709           False   True  \n",
       "...             ...               ...             ...    ...  \n",
       "840664            0          0.197600           False   True  \n",
       "709348            0          0.004363           False   True  \n",
       "596632            0          0.031453           False   True  \n",
       "938680            0          0.150078           False   True  \n",
       "1024077           0          0.151269           False   True  \n",
       "\n",
       "[2571 rows x 7 columns]"
      ],
      "text/html": [
       "<div>\n",
       "<style scoped>\n",
       "    .dataframe tbody tr th:only-of-type {\n",
       "        vertical-align: middle;\n",
       "    }\n",
       "\n",
       "    .dataframe tbody tr th {\n",
       "        vertical-align: top;\n",
       "    }\n",
       "\n",
       "    .dataframe thead th {\n",
       "        text-align: right;\n",
       "    }\n",
       "</style>\n",
       "<table border=\"1\" class=\"dataframe\">\n",
       "  <thead>\n",
       "    <tr style=\"text-align: right;\">\n",
       "      <th></th>\n",
       "      <th>qid</th>\n",
       "      <th>question_text</th>\n",
       "      <th>target</th>\n",
       "      <th>prediction</th>\n",
       "      <th>prediction_proba</th>\n",
       "      <th>prediction_0.2</th>\n",
       "      <th>error</th>\n",
       "    </tr>\n",
       "  </thead>\n",
       "  <tbody>\n",
       "    <tr>\n",
       "      <th>691951</th>\n",
       "      <td>8786fa2e795d2d0e1440</td>\n",
       "      <td>Is Yahoo owned by the Jews?</td>\n",
       "      <td>1</td>\n",
       "      <td>0</td>\n",
       "      <td>0.168225</td>\n",
       "      <td>False</td>\n",
       "      <td>True</td>\n",
       "    </tr>\n",
       "    <tr>\n",
       "      <th>1057714</th>\n",
       "      <td>cf41b3cc824bdc767b4b</td>\n",
       "      <td>If Macedonia is supposedly \"purely\" Greek and ...</td>\n",
       "      <td>1</td>\n",
       "      <td>0</td>\n",
       "      <td>0.027373</td>\n",
       "      <td>False</td>\n",
       "      <td>True</td>\n",
       "    </tr>\n",
       "    <tr>\n",
       "      <th>30882</th>\n",
       "      <td>0609338dee541a017b5f</td>\n",
       "      <td>Could the numerous acts of arms being severed ...</td>\n",
       "      <td>1</td>\n",
       "      <td>0</td>\n",
       "      <td>0.025920</td>\n",
       "      <td>False</td>\n",
       "      <td>True</td>\n",
       "    </tr>\n",
       "    <tr>\n",
       "      <th>908188</th>\n",
       "      <td>b1f5208e0f44556a5964</td>\n",
       "      <td>Should plus-size women wear dresses and skirts...</td>\n",
       "      <td>1</td>\n",
       "      <td>0</td>\n",
       "      <td>0.124354</td>\n",
       "      <td>False</td>\n",
       "      <td>True</td>\n",
       "    </tr>\n",
       "    <tr>\n",
       "      <th>933912</th>\n",
       "      <td>b704f07087d87705b434</td>\n",
       "      <td>Why do we constantly get questions from gun-gr...</td>\n",
       "      <td>1</td>\n",
       "      <td>0</td>\n",
       "      <td>0.141709</td>\n",
       "      <td>False</td>\n",
       "      <td>True</td>\n",
       "    </tr>\n",
       "    <tr>\n",
       "      <th>...</th>\n",
       "      <td>...</td>\n",
       "      <td>...</td>\n",
       "      <td>...</td>\n",
       "      <td>...</td>\n",
       "      <td>...</td>\n",
       "      <td>...</td>\n",
       "      <td>...</td>\n",
       "    </tr>\n",
       "    <tr>\n",
       "      <th>840664</th>\n",
       "      <td>a4c0771befc0fdb5204c</td>\n",
       "      <td>It is not strange that there wasn’t any attemp...</td>\n",
       "      <td>1</td>\n",
       "      <td>0</td>\n",
       "      <td>0.197600</td>\n",
       "      <td>False</td>\n",
       "      <td>True</td>\n",
       "    </tr>\n",
       "    <tr>\n",
       "      <th>709348</th>\n",
       "      <td>8adf3b4c5f39625a1ed1</td>\n",
       "      <td>What was the real reason for Jesus to quit the...</td>\n",
       "      <td>1</td>\n",
       "      <td>0</td>\n",
       "      <td>0.004363</td>\n",
       "      <td>False</td>\n",
       "      <td>True</td>\n",
       "    </tr>\n",
       "    <tr>\n",
       "      <th>596632</th>\n",
       "      <td>74db98e51a653f6927c6</td>\n",
       "      <td>Is Astrologer R K Shastri Fraud?</td>\n",
       "      <td>1</td>\n",
       "      <td>0</td>\n",
       "      <td>0.031453</td>\n",
       "      <td>False</td>\n",
       "      <td>True</td>\n",
       "    </tr>\n",
       "    <tr>\n",
       "      <th>938680</th>\n",
       "      <td>b7f526728f983ee04683</td>\n",
       "      <td>Why do Sikhs hate Hindus?</td>\n",
       "      <td>1</td>\n",
       "      <td>0</td>\n",
       "      <td>0.150078</td>\n",
       "      <td>False</td>\n",
       "      <td>True</td>\n",
       "    </tr>\n",
       "    <tr>\n",
       "      <th>1024077</th>\n",
       "      <td>c8adb7f882d789b68ed8</td>\n",
       "      <td>What will happen if I start murdering children...</td>\n",
       "      <td>1</td>\n",
       "      <td>0</td>\n",
       "      <td>0.151269</td>\n",
       "      <td>False</td>\n",
       "      <td>True</td>\n",
       "    </tr>\n",
       "  </tbody>\n",
       "</table>\n",
       "<p>2571 rows × 7 columns</p>\n",
       "</div>"
      ]
     },
     "execution_count": 113,
     "metadata": {},
     "output_type": "execute_result"
    }
   ],
   "execution_count": 113
  },
  {
   "cell_type": "markdown",
   "source": [
    "Тут ще буде корисно зробити аналіз feature importance. Такі слова як `black`, `white`, `jews` скоріш за все добре контрибʼютять в передбачення, що питання - неекологічне."
   ],
   "metadata": {
    "id": "wtjy75KlxNw7"
   }
  },
  {
   "cell_type": "code",
   "source": [
    "feature_importance = pd.Series(model.coef_[0], index=vectorizer.get_feature_names_out(), name='imp').sort_values(ascending=False)\n",
    "feature_importance"
   ],
   "metadata": {
    "colab": {
     "base_uri": "https://localhost:8080/",
     "height": 458
    },
    "id": "V0SNVtW_xNSK",
    "outputId": "2fbaf314-a2d9-448e-e087-16e7df44eb75",
    "ExecuteTime": {
     "end_time": "2025-05-25T11:23:54.338893Z",
     "start_time": "2025-05-25T11:23:54.335278Z"
    }
   },
   "outputs": [
    {
     "data": {
      "text/plain": [
       "liber      2.476651\n",
       "rape       2.372791\n",
       "muslim     2.289492\n",
       "obama      2.228534\n",
       "atheist    1.909058\n",
       "             ...   \n",
       "food      -1.149184\n",
       "appli     -1.222990\n",
       "affect    -1.251260\n",
       "2017      -1.425212\n",
       "?         -2.339957\n",
       "Name: imp, Length: 1000, dtype: float64"
      ]
     },
     "execution_count": 114,
     "metadata": {},
     "output_type": "execute_result"
    }
   ],
   "execution_count": 114
  },
  {
   "cell_type": "code",
   "source": [
    "import numpy\n",
    "\n",
    "1/(1+np.exp(-(10)))"
   ],
   "metadata": {
    "colab": {
     "base_uri": "https://localhost:8080/"
    },
    "id": "ZGN7vV0shzkp",
    "outputId": "300fd0c2-ed96-4631-eabc-53a8764fd8d7",
    "ExecuteTime": {
     "end_time": "2025-05-25T11:23:54.410200Z",
     "start_time": "2025-05-25T11:23:54.408086Z"
    }
   },
   "outputs": [
    {
     "data": {
      "text/plain": [
       "0.9999546021312976"
      ]
     },
     "execution_count": 115,
     "metadata": {},
     "output_type": "execute_result"
    }
   ],
   "execution_count": 115
  },
  {
   "cell_type": "code",
   "source": [
    "feature_importance[:10]"
   ],
   "metadata": {
    "colab": {
     "base_uri": "https://localhost:8080/",
     "height": 397
    },
    "id": "RrdmFAOvxs0N",
    "outputId": "8cffba7d-b0e7-404a-d43a-3f1e16e75973",
    "ExecuteTime": {
     "end_time": "2025-05-25T11:23:54.491446Z",
     "start_time": "2025-05-25T11:23:54.488831Z"
    }
   },
   "outputs": [
    {
     "data": {
      "text/plain": [
       "liber       2.476651\n",
       "rape        2.372791\n",
       "muslim      2.289492\n",
       "obama       2.228534\n",
       "atheist     1.909058\n",
       "sister      1.844765\n",
       "democrat    1.834231\n",
       "jew         1.829033\n",
       "trump       1.800319\n",
       "gay         1.789910\n",
       "Name: imp, dtype: float64"
      ]
     },
     "execution_count": 116,
     "metadata": {},
     "output_type": "execute_result"
    }
   ],
   "execution_count": 116
  },
  {
   "cell_type": "markdown",
   "source": [
    "Гіпотеза підтвердилась і так ви можете зрозуміти, чому ваша модель робить ті чи інші передбачення."
   ],
   "metadata": {
    "id": "qsVPjmYtxz4c"
   }
  },
  {
   "cell_type": "markdown",
   "source": [
    "І навпаки ось ці слова зменшують ймовірність, що питання неекологічне/токсичне:"
   ],
   "metadata": {
    "id": "sF8XX7OZyCl5"
   }
  },
  {
   "cell_type": "code",
   "source": [
    "feature_importance[-10:]"
   ],
   "metadata": {
    "colab": {
     "base_uri": "https://localhost:8080/",
     "height": 397
    },
    "id": "JmZI9xuCx8H7",
    "outputId": "4723f4fc-9aa1-44f4-f58f-72fc9a30c1dd",
    "ExecuteTime": {
     "end_time": "2025-05-25T11:23:54.554655Z",
     "start_time": "2025-05-25T11:23:54.552184Z"
    }
   },
   "outputs": [
    {
     "data": {
      "text/plain": [
       "situat    -1.015898\n",
       "tv        -1.026722\n",
       "refer     -1.043694\n",
       "account   -1.051593\n",
       "career    -1.104752\n",
       "food      -1.149184\n",
       "appli     -1.222990\n",
       "affect    -1.251260\n",
       "2017      -1.425212\n",
       "?         -2.339957\n",
       "Name: imp, dtype: float64"
      ]
     },
     "execution_count": 117,
     "metadata": {},
     "output_type": "execute_result"
    }
   ],
   "execution_count": 117
  },
  {
   "cell_type": "markdown",
   "source": [
    "# TF-IDF\n",
    "\n",
    "Ще один спосіб векторизації.\n",
    "\n",
    "TF-IDF (Term Frequency-Inverse Document Frequency) — це спосіб визначити важливість слова в тексті, зокрема в наборі текстів (документах). Уявіть, що ви читаєте багато статей, і хочете зрозуміти, які слова є найважливішими в кожній з них.\n",
    "\n",
    "### Як це працює?\n",
    "\n",
    "1. **Term Frequency (TF)**: Це частота, з якою слово з'являється в тексті. Наприклад, якщо слово \"машина\" з'являється 3 рази в статті з 100 слів, то його TF = 3/100 = 0.03. TF показує, як часто слово використовується в конкретному документі.\n",
    "\n",
    "2. **Inverse Document Frequency (IDF)**: Це показник, який вказує, наскільки рідко слово зустрічається в усіх документах. Якщо слово \"машина\" зустрічається в усіх документах, його важливість знижується. IDF обчислюється як логарифм відношення загальної кількості документів до кількості документів, де зустрічається це слово. Якщо слово зустрічається в багатьох документах, його IDF буде низьким.\n",
    "\n",
    "3. **TF-IDF**: Поєднує обидва показники — TF і IDF — щоб знайти слова, які часто зустрічаються в конкретному документі, але рідко — в інших. Такі слова вважаються більш важливими для розуміння змісту конкретного документа.\n",
    "\n",
    "![](https://miro.medium.com/v2/resize:fit:816/1*Cp46FtVZPkQANjdwmwr3fg.jpeg)\n",
    "\n",
    "Таким чином, TF-IDF допомагає відфільтрувати слова, які не дуже важливі для змісту тексту (наприклад, \"і\", \"або\", \"це\") і зосередитися на ключових термінах, що мають більшу значимість.\n",
    "\n",
    "Приклад обчислення\n",
    "![](https://media.licdn.com/dms/image/D4D12AQF8sI1V68UsIQ/article-cover_image-shrink_600_2000/0/1677509695129?e=2147483647&v=beta&t=pDHLFUdBEFMD3q6K0eNgg_C_zPYYYxikomIN00cfTuo)\n"
   ],
   "metadata": {
    "id": "JzAhKu3tOQai"
   }
  },
  {
   "cell_type": "code",
   "source": [
    "from sklearn.feature_extraction.text import TfidfVectorizer\n",
    "\n",
    "# Наші документи (тексти)\n",
    "documents = [\n",
    "    \"машина працює дуже добре\",\n",
    "    \"машина та людина працюють разом\",\n",
    "    \"людина їде на машині\"\n",
    "]\n",
    "\n",
    "# Створюємо об'єкт для обчислення TF-IDF\n",
    "vectorizer = TfidfVectorizer()\n",
    "\n",
    "# Обчислюємо TF-IDF для наших документів\n",
    "tfidf_matrix = vectorizer.fit_transform(documents)\n",
    "\n",
    "# Виводимо результати у вигляді таблиці\n",
    "tfidf_df = pd.DataFrame(tfidf_matrix.toarray(), columns=vectorizer.get_feature_names_out()).round(2)\n",
    "tfidf_df"
   ],
   "metadata": {
    "id": "LiV3Nt2YTign",
    "colab": {
     "base_uri": "https://localhost:8080/",
     "height": 143
    },
    "outputId": "5967ae1c-b617-4ee1-9789-82464acaa3bd",
    "ExecuteTime": {
     "end_time": "2025-05-25T11:23:54.639714Z",
     "start_time": "2025-05-25T11:23:54.633500Z"
    }
   },
   "outputs": [
    {
     "data": {
      "text/plain": [
       "   добре  дуже  людина  машина  машині    на  працюють  працює  разом    та  \\\n",
       "0   0.53  0.53    0.00    0.40    0.00  0.00      0.00    0.53   0.00  0.00   \n",
       "1   0.00  0.00    0.37    0.37    0.00  0.00      0.49    0.00   0.49  0.49   \n",
       "2   0.00  0.00    0.40    0.00    0.53  0.53      0.00    0.00   0.00  0.00   \n",
       "\n",
       "    їде  \n",
       "0  0.00  \n",
       "1  0.00  \n",
       "2  0.53  "
      ],
      "text/html": [
       "<div>\n",
       "<style scoped>\n",
       "    .dataframe tbody tr th:only-of-type {\n",
       "        vertical-align: middle;\n",
       "    }\n",
       "\n",
       "    .dataframe tbody tr th {\n",
       "        vertical-align: top;\n",
       "    }\n",
       "\n",
       "    .dataframe thead th {\n",
       "        text-align: right;\n",
       "    }\n",
       "</style>\n",
       "<table border=\"1\" class=\"dataframe\">\n",
       "  <thead>\n",
       "    <tr style=\"text-align: right;\">\n",
       "      <th></th>\n",
       "      <th>добре</th>\n",
       "      <th>дуже</th>\n",
       "      <th>людина</th>\n",
       "      <th>машина</th>\n",
       "      <th>машині</th>\n",
       "      <th>на</th>\n",
       "      <th>працюють</th>\n",
       "      <th>працює</th>\n",
       "      <th>разом</th>\n",
       "      <th>та</th>\n",
       "      <th>їде</th>\n",
       "    </tr>\n",
       "  </thead>\n",
       "  <tbody>\n",
       "    <tr>\n",
       "      <th>0</th>\n",
       "      <td>0.53</td>\n",
       "      <td>0.53</td>\n",
       "      <td>0.00</td>\n",
       "      <td>0.40</td>\n",
       "      <td>0.00</td>\n",
       "      <td>0.00</td>\n",
       "      <td>0.00</td>\n",
       "      <td>0.53</td>\n",
       "      <td>0.00</td>\n",
       "      <td>0.00</td>\n",
       "      <td>0.00</td>\n",
       "    </tr>\n",
       "    <tr>\n",
       "      <th>1</th>\n",
       "      <td>0.00</td>\n",
       "      <td>0.00</td>\n",
       "      <td>0.37</td>\n",
       "      <td>0.37</td>\n",
       "      <td>0.00</td>\n",
       "      <td>0.00</td>\n",
       "      <td>0.49</td>\n",
       "      <td>0.00</td>\n",
       "      <td>0.49</td>\n",
       "      <td>0.49</td>\n",
       "      <td>0.00</td>\n",
       "    </tr>\n",
       "    <tr>\n",
       "      <th>2</th>\n",
       "      <td>0.00</td>\n",
       "      <td>0.00</td>\n",
       "      <td>0.40</td>\n",
       "      <td>0.00</td>\n",
       "      <td>0.53</td>\n",
       "      <td>0.53</td>\n",
       "      <td>0.00</td>\n",
       "      <td>0.00</td>\n",
       "      <td>0.00</td>\n",
       "      <td>0.00</td>\n",
       "      <td>0.53</td>\n",
       "    </tr>\n",
       "  </tbody>\n",
       "</table>\n",
       "</div>"
      ]
     },
     "execution_count": 118,
     "metadata": {},
     "output_type": "execute_result"
    }
   ],
   "execution_count": 118
  },
  {
   "cell_type": "markdown",
   "source": [
    "### Переваги TF-IDF над Bag of Words\n",
    "\n",
    "У BoW ми просто підраховуємо, скільки разів кожне слово зустрічається в тексті. Проте цей метод має кілька обмежень:\n",
    "\n",
    "1. **Ігнорує важливість слів**: У BoW всі слова мають однакову вагу, незалежно від того, наскільки вони часто зустрічаються в різних документах. Наприклад, слова \"і\", \"в\", \"або\" будуть вважатися такими ж важливими, як і ключові слова документа.\n",
    "\n",
    "2. **Не враховує загальну частотність слова**: У BoW ми не враховуємо, чи слово часто зустрічається в багатьох документах, а отже, воно може не нести особливої смислової ваги.\n",
    "\n",
    "**TF-IDF** розв'язує ці проблеми, додаючи вагу словам на основі їх частоти в конкретному документі і рідкості в усьому наборі документів. Це робить TF-IDF більш ефективним для виділення важливих слів і зменшення значення часто вживаних слів, які не несуть багато смислового навантаження.\n",
    "\n",
    "### Приклад порівняння BoW та TF-IDF\n",
    "\n",
    "Давайте розглянемо приклад, щоб побачити різницю між цими двома методами.\n",
    "\n"
   ],
   "metadata": {
    "id": "khFlNEnST9Ke"
   }
  },
  {
   "cell_type": "code",
   "source": [
    "from sklearn.feature_extraction.text import CountVectorizer, TfidfVectorizer\n",
    "import pandas as pd\n",
    "\n",
    "# Наші документи (тексти)\n",
    "documents = [\n",
    "    \"машина працює дуже добре\",\n",
    "    \"машина та людина працюють разом\",\n",
    "    \"людина їде на машині\"\n",
    "]\n",
    "\n",
    "# Використовуємо Bag of Words (BoW)\n",
    "bow_vectorizer = CountVectorizer()\n",
    "bow_matrix = bow_vectorizer.fit_transform(documents)\n",
    "bow_df = pd.DataFrame(bow_matrix.toarray(), columns=bow_vectorizer.get_feature_names_out())\n",
    "\n",
    "# Використовуємо TF-IDF\n",
    "tfidf_vectorizer = TfidfVectorizer()\n",
    "tfidf_matrix = tfidf_vectorizer.fit_transform(documents)\n",
    "tfidf_df = pd.DataFrame(tfidf_matrix.toarray(), columns=tfidf_vectorizer.get_feature_names_out())\n",
    "\n",
    "# Виведення результатів\n",
    "print(\"Bag of Words (BoW):\")\n",
    "display(bow_df.round(2))\n",
    "\n",
    "print(\"\\nTF-IDF:\")\n",
    "tfidf_df.round(2)"
   ],
   "metadata": {
    "id": "Zd8wKA9FUPN8",
    "colab": {
     "base_uri": "https://localhost:8080/",
     "height": 322
    },
    "outputId": "ddb08691-26c8-4f32-d46e-82f469a16f28",
    "ExecuteTime": {
     "end_time": "2025-05-25T11:27:20.247762Z",
     "start_time": "2025-05-25T11:27:20.236763Z"
    }
   },
   "outputs": [
    {
     "name": "stdout",
     "output_type": "stream",
     "text": [
      "Bag of Words (BoW):\n"
     ]
    },
    {
     "data": {
      "text/plain": [
       "   добре  дуже  людина  машина  машині  на  працюють  працює  разом  та  їде\n",
       "0      1     1       0       1       0   0         0       1      0   0    0\n",
       "1      0     0       1       1       0   0         1       0      1   1    0\n",
       "2      0     0       1       0       1   1         0       0      0   0    1"
      ],
      "text/html": [
       "<div>\n",
       "<style scoped>\n",
       "    .dataframe tbody tr th:only-of-type {\n",
       "        vertical-align: middle;\n",
       "    }\n",
       "\n",
       "    .dataframe tbody tr th {\n",
       "        vertical-align: top;\n",
       "    }\n",
       "\n",
       "    .dataframe thead th {\n",
       "        text-align: right;\n",
       "    }\n",
       "</style>\n",
       "<table border=\"1\" class=\"dataframe\">\n",
       "  <thead>\n",
       "    <tr style=\"text-align: right;\">\n",
       "      <th></th>\n",
       "      <th>добре</th>\n",
       "      <th>дуже</th>\n",
       "      <th>людина</th>\n",
       "      <th>машина</th>\n",
       "      <th>машині</th>\n",
       "      <th>на</th>\n",
       "      <th>працюють</th>\n",
       "      <th>працює</th>\n",
       "      <th>разом</th>\n",
       "      <th>та</th>\n",
       "      <th>їде</th>\n",
       "    </tr>\n",
       "  </thead>\n",
       "  <tbody>\n",
       "    <tr>\n",
       "      <th>0</th>\n",
       "      <td>1</td>\n",
       "      <td>1</td>\n",
       "      <td>0</td>\n",
       "      <td>1</td>\n",
       "      <td>0</td>\n",
       "      <td>0</td>\n",
       "      <td>0</td>\n",
       "      <td>1</td>\n",
       "      <td>0</td>\n",
       "      <td>0</td>\n",
       "      <td>0</td>\n",
       "    </tr>\n",
       "    <tr>\n",
       "      <th>1</th>\n",
       "      <td>0</td>\n",
       "      <td>0</td>\n",
       "      <td>1</td>\n",
       "      <td>1</td>\n",
       "      <td>0</td>\n",
       "      <td>0</td>\n",
       "      <td>1</td>\n",
       "      <td>0</td>\n",
       "      <td>1</td>\n",
       "      <td>1</td>\n",
       "      <td>0</td>\n",
       "    </tr>\n",
       "    <tr>\n",
       "      <th>2</th>\n",
       "      <td>0</td>\n",
       "      <td>0</td>\n",
       "      <td>1</td>\n",
       "      <td>0</td>\n",
       "      <td>1</td>\n",
       "      <td>1</td>\n",
       "      <td>0</td>\n",
       "      <td>0</td>\n",
       "      <td>0</td>\n",
       "      <td>0</td>\n",
       "      <td>1</td>\n",
       "    </tr>\n",
       "  </tbody>\n",
       "</table>\n",
       "</div>"
      ]
     },
     "metadata": {},
     "output_type": "display_data"
    },
    {
     "name": "stdout",
     "output_type": "stream",
     "text": [
      "\n",
      "TF-IDF:\n"
     ]
    },
    {
     "data": {
      "text/plain": [
       "   добре  дуже  людина  машина  машині    на  працюють  працює  разом    та  \\\n",
       "0   0.53  0.53    0.00    0.40    0.00  0.00      0.00    0.53   0.00  0.00   \n",
       "1   0.00  0.00    0.37    0.37    0.00  0.00      0.49    0.00   0.49  0.49   \n",
       "2   0.00  0.00    0.40    0.00    0.53  0.53      0.00    0.00   0.00  0.00   \n",
       "\n",
       "    їде  \n",
       "0  0.00  \n",
       "1  0.00  \n",
       "2  0.53  "
      ],
      "text/html": [
       "<div>\n",
       "<style scoped>\n",
       "    .dataframe tbody tr th:only-of-type {\n",
       "        vertical-align: middle;\n",
       "    }\n",
       "\n",
       "    .dataframe tbody tr th {\n",
       "        vertical-align: top;\n",
       "    }\n",
       "\n",
       "    .dataframe thead th {\n",
       "        text-align: right;\n",
       "    }\n",
       "</style>\n",
       "<table border=\"1\" class=\"dataframe\">\n",
       "  <thead>\n",
       "    <tr style=\"text-align: right;\">\n",
       "      <th></th>\n",
       "      <th>добре</th>\n",
       "      <th>дуже</th>\n",
       "      <th>людина</th>\n",
       "      <th>машина</th>\n",
       "      <th>машині</th>\n",
       "      <th>на</th>\n",
       "      <th>працюють</th>\n",
       "      <th>працює</th>\n",
       "      <th>разом</th>\n",
       "      <th>та</th>\n",
       "      <th>їде</th>\n",
       "    </tr>\n",
       "  </thead>\n",
       "  <tbody>\n",
       "    <tr>\n",
       "      <th>0</th>\n",
       "      <td>0.53</td>\n",
       "      <td>0.53</td>\n",
       "      <td>0.00</td>\n",
       "      <td>0.40</td>\n",
       "      <td>0.00</td>\n",
       "      <td>0.00</td>\n",
       "      <td>0.00</td>\n",
       "      <td>0.53</td>\n",
       "      <td>0.00</td>\n",
       "      <td>0.00</td>\n",
       "      <td>0.00</td>\n",
       "    </tr>\n",
       "    <tr>\n",
       "      <th>1</th>\n",
       "      <td>0.00</td>\n",
       "      <td>0.00</td>\n",
       "      <td>0.37</td>\n",
       "      <td>0.37</td>\n",
       "      <td>0.00</td>\n",
       "      <td>0.00</td>\n",
       "      <td>0.49</td>\n",
       "      <td>0.00</td>\n",
       "      <td>0.49</td>\n",
       "      <td>0.49</td>\n",
       "      <td>0.00</td>\n",
       "    </tr>\n",
       "    <tr>\n",
       "      <th>2</th>\n",
       "      <td>0.00</td>\n",
       "      <td>0.00</td>\n",
       "      <td>0.40</td>\n",
       "      <td>0.00</td>\n",
       "      <td>0.53</td>\n",
       "      <td>0.53</td>\n",
       "      <td>0.00</td>\n",
       "      <td>0.00</td>\n",
       "      <td>0.00</td>\n",
       "      <td>0.00</td>\n",
       "      <td>0.53</td>\n",
       "    </tr>\n",
       "  </tbody>\n",
       "</table>\n",
       "</div>"
      ]
     },
     "execution_count": 119,
     "metadata": {},
     "output_type": "execute_result"
    }
   ],
   "execution_count": 119
  },
  {
   "cell_type": "markdown",
   "source": [
    "\n",
    "\n",
    "### Результати\n",
    "\n",
    "1. **Bag of Words (BoW)** матриця покаже кількість разів, коли кожне слово зустрічається в кожному документі. Наприклад, слово \"машина\" може мати значення 1 або 2 в різних документах, незалежно від його частоти в усіх документах.\n",
    "\n",
    "2. **TF-IDF** матриця покаже вагу кожного слова, де високі значення означають, що слово є важливим для конкретного документа, але рідко зустрічається в інших документах. Це дозволяє краще зрозуміти, які слова дійсно значимі для кожного документа.\n",
    "\n",
    "Таким чином, TF-IDF ми можемо надавати перевагу в деяких задачах, оскільки цей метод виділяє ключові слова і допомагає краще розуміти текстові дані, враховуючи не тільки частоту слів, але і їхню значимість."
   ],
   "metadata": {
    "id": "ynMEsiwiUOrJ"
   }
  }
 ],
 "metadata": {
  "colab": {
   "machine_shape": "hm",
   "provenance": []
  },
  "gpuClass": "standard",
  "kernelspec": {
   "display_name": "Python 3 (ipykernel)",
   "language": "python",
   "name": "python3"
  },
  "language_info": {
   "codemirror_mode": {
    "name": "ipython",
    "version": 3
   },
   "file_extension": ".py",
   "mimetype": "text/x-python",
   "name": "python",
   "nbconvert_exporter": "python",
   "pygments_lexer": "ipython3",
   "version": "3.12.0"
  }
 },
 "nbformat": 4,
 "nbformat_minor": 0
}
